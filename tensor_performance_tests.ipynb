{
 "metadata": {
  "language_info": {
   "codemirror_mode": {
    "name": "ipython",
    "version": 3
   },
   "file_extension": ".py",
   "mimetype": "text/x-python",
   "name": "python",
   "nbconvert_exporter": "python",
   "pygments_lexer": "ipython3",
   "version": "3.7.9-final"
  },
  "orig_nbformat": 2,
  "kernelspec": {
   "name": "python37964bit7a64d1a32f6f4378a076f4ca1beac9d8",
   "display_name": "Python 3.7.9 64-bit"
  }
 },
 "nbformat": 4,
 "nbformat_minor": 2,
 "cells": [
  {
   "cell_type": "code",
   "execution_count": 1,
   "metadata": {},
   "outputs": [],
   "source": [
    "import tensorflow as tf\n",
    "from datetime import datetime"
   ]
  },
  {
   "cell_type": "code",
   "execution_count": 8,
   "metadata": {},
   "outputs": [],
   "source": [
    "x = tf.ones([1,1,1])"
   ]
  },
  {
   "cell_type": "code",
   "execution_count": 14,
   "metadata": {},
   "outputs": [
    {
     "output_type": "execute_result",
     "data": {
      "text/plain": "<tf.Tensor: shape=(), dtype=int32, numpy=1>"
     },
     "metadata": {},
     "execution_count": 14
    }
   ],
   "source": [
    "tf.shape(x)[0]"
   ]
  },
  {
   "cell_type": "code",
   "execution_count": 10,
   "metadata": {},
   "outputs": [],
   "source": [
    "shape = [2,2]\n",
    "embed_dim = [784]"
   ]
  },
  {
   "cell_type": "code",
   "execution_count": 63,
   "metadata": {
    "tags": []
   },
   "outputs": [
    {
     "output_type": "stream",
     "name": "stdout",
     "text": "203 µs ± 1.6 µs per loop (mean ± std. dev. of 7 runs, 1000 loops each)\n"
    }
   ],
   "source": [
    "%timeit tf.concat([[tf.shape(x)[0]], [tf.constant(-1)]], axis = 0)"
   ]
  },
  {
   "cell_type": "code",
   "execution_count": 48,
   "metadata": {
    "tags": []
   },
   "outputs": [
    {
     "output_type": "stream",
     "name": "stdout",
     "text": "108 µs ± 550 ns per loop (mean ± std. dev. of 7 runs, 10000 loops each)\n"
    }
   ],
   "source": [
    "%timeit tf.concat([tf.shape(x)[0], tf.constant(-1)], axis = 0)"
   ]
  },
  {
   "cell_type": "code",
   "execution_count": 62,
   "metadata": {
    "tags": []
   },
   "outputs": [
    {
     "output_type": "stream",
     "name": "stdout",
     "text": "124 µs ± 224 ns per loop (mean ± std. dev. of 7 runs, 10000 loops each)\n"
    }
   ],
   "source": [
    "%timeit tf.concat([tf.expand_dims(tf.shape(x)[0],0), tf.expand_dims(tf.constant(-1),0)], axis = 0)"
   ]
  },
  {
   "cell_type": "code",
   "execution_count": 75,
   "metadata": {},
   "outputs": [
    {
     "output_type": "execute_result",
     "data": {
      "text/plain": "<tf.Tensor: shape=(2,), dtype=int32, numpy=array([ 1, -1], dtype=int32)>"
     },
     "metadata": {},
     "execution_count": 75
    }
   ],
   "source": []
  },
  {
   "cell_type": "code",
   "execution_count": 76,
   "metadata": {},
   "outputs": [
    {
     "output_type": "error",
     "ename": "ValueError",
     "evalue": "in user code:\n\n    <ipython-input-76-751fd255fd39>:3 test  *\n        return tf.concat([tf.shape(x)[0], tf.constant(-1)], axis = 0)\n    /home/dm1/miniconda3/envs/memory_gpu/lib/python3.7/site-packages/tensorflow/python/util/dispatch.py:180 wrapper  **\n        return target(*args, **kwargs)\n    /home/dm1/miniconda3/envs/memory_gpu/lib/python3.7/site-packages/tensorflow/python/ops/array_ops.py:1606 concat\n        return gen_array_ops.concat_v2(values=values, axis=axis, name=name)\n    /home/dm1/miniconda3/envs/memory_gpu/lib/python3.7/site-packages/tensorflow/python/ops/gen_array_ops.py:1189 concat_v2\n        \"ConcatV2\", values=values, axis=axis, name=name)\n    /home/dm1/miniconda3/envs/memory_gpu/lib/python3.7/site-packages/tensorflow/python/framework/op_def_library.py:744 _apply_op_helper\n        attrs=attr_protos, op_def=op_def)\n    /home/dm1/miniconda3/envs/memory_gpu/lib/python3.7/site-packages/tensorflow/python/framework/func_graph.py:595 _create_op_internal\n        compute_device)\n    /home/dm1/miniconda3/envs/memory_gpu/lib/python3.7/site-packages/tensorflow/python/framework/ops.py:3327 _create_op_internal\n        op_def=op_def)\n    /home/dm1/miniconda3/envs/memory_gpu/lib/python3.7/site-packages/tensorflow/python/framework/ops.py:1817 __init__\n        control_input_ops, op_def)\n    /home/dm1/miniconda3/envs/memory_gpu/lib/python3.7/site-packages/tensorflow/python/framework/ops.py:1657 _create_c_op\n        raise ValueError(str(e))\n\n    ValueError: Can't concatenate scalars (use tf.stack instead) for '{{node concat}} = ConcatV2[N=2, T=DT_INT32, Tidx=DT_INT32](strided_slice, Const, concat/axis)' with input shapes: [], [], [].\n",
     "traceback": [
      "\u001b[0;31m---------------------------------------------------------------------------\u001b[0m",
      "\u001b[0;31mValueError\u001b[0m                                Traceback (most recent call last)",
      "\u001b[0;32m<ipython-input-76-751fd255fd39>\u001b[0m in \u001b[0;36m<module>\u001b[0;34m\u001b[0m\n\u001b[1;32m      2\u001b[0m \u001b[0;32mdef\u001b[0m \u001b[0mtest\u001b[0m\u001b[0;34m(\u001b[0m\u001b[0;34m)\u001b[0m\u001b[0;34m:\u001b[0m\u001b[0;34m\u001b[0m\u001b[0;34m\u001b[0m\u001b[0m\n\u001b[1;32m      3\u001b[0m    \u001b[0;32mreturn\u001b[0m \u001b[0mtf\u001b[0m\u001b[0;34m.\u001b[0m\u001b[0mconcat\u001b[0m\u001b[0;34m(\u001b[0m\u001b[0;34m[\u001b[0m\u001b[0mtf\u001b[0m\u001b[0;34m.\u001b[0m\u001b[0mshape\u001b[0m\u001b[0;34m(\u001b[0m\u001b[0mx\u001b[0m\u001b[0;34m)\u001b[0m\u001b[0;34m[\u001b[0m\u001b[0;36m0\u001b[0m\u001b[0;34m]\u001b[0m\u001b[0;34m,\u001b[0m \u001b[0mtf\u001b[0m\u001b[0;34m.\u001b[0m\u001b[0mconstant\u001b[0m\u001b[0;34m(\u001b[0m\u001b[0;34m-\u001b[0m\u001b[0;36m1\u001b[0m\u001b[0;34m)\u001b[0m\u001b[0;34m]\u001b[0m\u001b[0;34m,\u001b[0m \u001b[0maxis\u001b[0m \u001b[0;34m=\u001b[0m \u001b[0;36m0\u001b[0m\u001b[0;34m)\u001b[0m\u001b[0;34m\u001b[0m\u001b[0;34m\u001b[0m\u001b[0m\n\u001b[0;32m----> 4\u001b[0;31m \u001b[0mtest\u001b[0m\u001b[0;34m(\u001b[0m\u001b[0;34m)\u001b[0m\u001b[0;34m\u001b[0m\u001b[0;34m\u001b[0m\u001b[0m\n\u001b[0m",
      "\u001b[0;32m~/miniconda3/envs/memory_gpu/lib/python3.7/site-packages/tensorflow/python/eager/def_function.py\u001b[0m in \u001b[0;36m__call__\u001b[0;34m(self, *args, **kwds)\u001b[0m\n\u001b[1;32m    578\u001b[0m         \u001b[0mxla_context\u001b[0m\u001b[0;34m.\u001b[0m\u001b[0mExit\u001b[0m\u001b[0;34m(\u001b[0m\u001b[0;34m)\u001b[0m\u001b[0;34m\u001b[0m\u001b[0;34m\u001b[0m\u001b[0m\n\u001b[1;32m    579\u001b[0m     \u001b[0;32melse\u001b[0m\u001b[0;34m:\u001b[0m\u001b[0;34m\u001b[0m\u001b[0;34m\u001b[0m\u001b[0m\n\u001b[0;32m--> 580\u001b[0;31m       \u001b[0mresult\u001b[0m \u001b[0;34m=\u001b[0m \u001b[0mself\u001b[0m\u001b[0;34m.\u001b[0m\u001b[0m_call\u001b[0m\u001b[0;34m(\u001b[0m\u001b[0;34m*\u001b[0m\u001b[0margs\u001b[0m\u001b[0;34m,\u001b[0m \u001b[0;34m**\u001b[0m\u001b[0mkwds\u001b[0m\u001b[0;34m)\u001b[0m\u001b[0;34m\u001b[0m\u001b[0;34m\u001b[0m\u001b[0m\n\u001b[0m\u001b[1;32m    581\u001b[0m \u001b[0;34m\u001b[0m\u001b[0m\n\u001b[1;32m    582\u001b[0m     \u001b[0;32mif\u001b[0m \u001b[0mtracing_count\u001b[0m \u001b[0;34m==\u001b[0m \u001b[0mself\u001b[0m\u001b[0;34m.\u001b[0m\u001b[0m_get_tracing_count\u001b[0m\u001b[0;34m(\u001b[0m\u001b[0;34m)\u001b[0m\u001b[0;34m:\u001b[0m\u001b[0;34m\u001b[0m\u001b[0;34m\u001b[0m\u001b[0m\n",
      "\u001b[0;32m~/miniconda3/envs/memory_gpu/lib/python3.7/site-packages/tensorflow/python/eager/def_function.py\u001b[0m in \u001b[0;36m_call\u001b[0;34m(self, *args, **kwds)\u001b[0m\n\u001b[1;32m    625\u001b[0m       \u001b[0;31m# This is the first call of __call__, so we have to initialize.\u001b[0m\u001b[0;34m\u001b[0m\u001b[0;34m\u001b[0m\u001b[0;34m\u001b[0m\u001b[0m\n\u001b[1;32m    626\u001b[0m       \u001b[0minitializers\u001b[0m \u001b[0;34m=\u001b[0m \u001b[0;34m[\u001b[0m\u001b[0;34m]\u001b[0m\u001b[0;34m\u001b[0m\u001b[0;34m\u001b[0m\u001b[0m\n\u001b[0;32m--> 627\u001b[0;31m       \u001b[0mself\u001b[0m\u001b[0;34m.\u001b[0m\u001b[0m_initialize\u001b[0m\u001b[0;34m(\u001b[0m\u001b[0margs\u001b[0m\u001b[0;34m,\u001b[0m \u001b[0mkwds\u001b[0m\u001b[0;34m,\u001b[0m \u001b[0madd_initializers_to\u001b[0m\u001b[0;34m=\u001b[0m\u001b[0minitializers\u001b[0m\u001b[0;34m)\u001b[0m\u001b[0;34m\u001b[0m\u001b[0;34m\u001b[0m\u001b[0m\n\u001b[0m\u001b[1;32m    628\u001b[0m     \u001b[0;32mfinally\u001b[0m\u001b[0;34m:\u001b[0m\u001b[0;34m\u001b[0m\u001b[0;34m\u001b[0m\u001b[0m\n\u001b[1;32m    629\u001b[0m       \u001b[0;31m# At this point we know that the initialization is complete (or less\u001b[0m\u001b[0;34m\u001b[0m\u001b[0;34m\u001b[0m\u001b[0;34m\u001b[0m\u001b[0m\n",
      "\u001b[0;32m~/miniconda3/envs/memory_gpu/lib/python3.7/site-packages/tensorflow/python/eager/def_function.py\u001b[0m in \u001b[0;36m_initialize\u001b[0;34m(self, args, kwds, add_initializers_to)\u001b[0m\n\u001b[1;32m    504\u001b[0m     self._concrete_stateful_fn = (\n\u001b[1;32m    505\u001b[0m         self._stateful_fn._get_concrete_function_internal_garbage_collected(  # pylint: disable=protected-access\n\u001b[0;32m--> 506\u001b[0;31m             *args, **kwds))\n\u001b[0m\u001b[1;32m    507\u001b[0m \u001b[0;34m\u001b[0m\u001b[0m\n\u001b[1;32m    508\u001b[0m     \u001b[0;32mdef\u001b[0m \u001b[0minvalid_creator_scope\u001b[0m\u001b[0;34m(\u001b[0m\u001b[0;34m*\u001b[0m\u001b[0munused_args\u001b[0m\u001b[0;34m,\u001b[0m \u001b[0;34m**\u001b[0m\u001b[0munused_kwds\u001b[0m\u001b[0;34m)\u001b[0m\u001b[0;34m:\u001b[0m\u001b[0;34m\u001b[0m\u001b[0;34m\u001b[0m\u001b[0m\n",
      "\u001b[0;32m~/miniconda3/envs/memory_gpu/lib/python3.7/site-packages/tensorflow/python/eager/function.py\u001b[0m in \u001b[0;36m_get_concrete_function_internal_garbage_collected\u001b[0;34m(self, *args, **kwargs)\u001b[0m\n\u001b[1;32m   2444\u001b[0m       \u001b[0margs\u001b[0m\u001b[0;34m,\u001b[0m \u001b[0mkwargs\u001b[0m \u001b[0;34m=\u001b[0m \u001b[0;32mNone\u001b[0m\u001b[0;34m,\u001b[0m \u001b[0;32mNone\u001b[0m\u001b[0;34m\u001b[0m\u001b[0;34m\u001b[0m\u001b[0m\n\u001b[1;32m   2445\u001b[0m     \u001b[0;32mwith\u001b[0m \u001b[0mself\u001b[0m\u001b[0;34m.\u001b[0m\u001b[0m_lock\u001b[0m\u001b[0;34m:\u001b[0m\u001b[0;34m\u001b[0m\u001b[0;34m\u001b[0m\u001b[0m\n\u001b[0;32m-> 2446\u001b[0;31m       \u001b[0mgraph_function\u001b[0m\u001b[0;34m,\u001b[0m \u001b[0m_\u001b[0m\u001b[0;34m,\u001b[0m \u001b[0m_\u001b[0m \u001b[0;34m=\u001b[0m \u001b[0mself\u001b[0m\u001b[0;34m.\u001b[0m\u001b[0m_maybe_define_function\u001b[0m\u001b[0;34m(\u001b[0m\u001b[0margs\u001b[0m\u001b[0;34m,\u001b[0m \u001b[0mkwargs\u001b[0m\u001b[0;34m)\u001b[0m\u001b[0;34m\u001b[0m\u001b[0;34m\u001b[0m\u001b[0m\n\u001b[0m\u001b[1;32m   2447\u001b[0m     \u001b[0;32mreturn\u001b[0m \u001b[0mgraph_function\u001b[0m\u001b[0;34m\u001b[0m\u001b[0;34m\u001b[0m\u001b[0m\n\u001b[1;32m   2448\u001b[0m \u001b[0;34m\u001b[0m\u001b[0m\n",
      "\u001b[0;32m~/miniconda3/envs/memory_gpu/lib/python3.7/site-packages/tensorflow/python/eager/function.py\u001b[0m in \u001b[0;36m_maybe_define_function\u001b[0;34m(self, args, kwargs)\u001b[0m\n\u001b[1;32m   2775\u001b[0m \u001b[0;34m\u001b[0m\u001b[0m\n\u001b[1;32m   2776\u001b[0m       \u001b[0mself\u001b[0m\u001b[0;34m.\u001b[0m\u001b[0m_function_cache\u001b[0m\u001b[0;34m.\u001b[0m\u001b[0mmissed\u001b[0m\u001b[0;34m.\u001b[0m\u001b[0madd\u001b[0m\u001b[0;34m(\u001b[0m\u001b[0mcall_context_key\u001b[0m\u001b[0;34m)\u001b[0m\u001b[0;34m\u001b[0m\u001b[0;34m\u001b[0m\u001b[0m\n\u001b[0;32m-> 2777\u001b[0;31m       \u001b[0mgraph_function\u001b[0m \u001b[0;34m=\u001b[0m \u001b[0mself\u001b[0m\u001b[0;34m.\u001b[0m\u001b[0m_create_graph_function\u001b[0m\u001b[0;34m(\u001b[0m\u001b[0margs\u001b[0m\u001b[0;34m,\u001b[0m \u001b[0mkwargs\u001b[0m\u001b[0;34m)\u001b[0m\u001b[0;34m\u001b[0m\u001b[0;34m\u001b[0m\u001b[0m\n\u001b[0m\u001b[1;32m   2778\u001b[0m       \u001b[0mself\u001b[0m\u001b[0;34m.\u001b[0m\u001b[0m_function_cache\u001b[0m\u001b[0;34m.\u001b[0m\u001b[0mprimary\u001b[0m\u001b[0;34m[\u001b[0m\u001b[0mcache_key\u001b[0m\u001b[0;34m]\u001b[0m \u001b[0;34m=\u001b[0m \u001b[0mgraph_function\u001b[0m\u001b[0;34m\u001b[0m\u001b[0;34m\u001b[0m\u001b[0m\n\u001b[1;32m   2779\u001b[0m       \u001b[0;32mreturn\u001b[0m \u001b[0mgraph_function\u001b[0m\u001b[0;34m,\u001b[0m \u001b[0margs\u001b[0m\u001b[0;34m,\u001b[0m \u001b[0mkwargs\u001b[0m\u001b[0;34m\u001b[0m\u001b[0;34m\u001b[0m\u001b[0m\n",
      "\u001b[0;32m~/miniconda3/envs/memory_gpu/lib/python3.7/site-packages/tensorflow/python/eager/function.py\u001b[0m in \u001b[0;36m_create_graph_function\u001b[0;34m(self, args, kwargs, override_flat_arg_shapes)\u001b[0m\n\u001b[1;32m   2665\u001b[0m             \u001b[0marg_names\u001b[0m\u001b[0;34m=\u001b[0m\u001b[0marg_names\u001b[0m\u001b[0;34m,\u001b[0m\u001b[0;34m\u001b[0m\u001b[0;34m\u001b[0m\u001b[0m\n\u001b[1;32m   2666\u001b[0m             \u001b[0moverride_flat_arg_shapes\u001b[0m\u001b[0;34m=\u001b[0m\u001b[0moverride_flat_arg_shapes\u001b[0m\u001b[0;34m,\u001b[0m\u001b[0;34m\u001b[0m\u001b[0;34m\u001b[0m\u001b[0m\n\u001b[0;32m-> 2667\u001b[0;31m             capture_by_value=self._capture_by_value),\n\u001b[0m\u001b[1;32m   2668\u001b[0m         \u001b[0mself\u001b[0m\u001b[0;34m.\u001b[0m\u001b[0m_function_attributes\u001b[0m\u001b[0;34m,\u001b[0m\u001b[0;34m\u001b[0m\u001b[0;34m\u001b[0m\u001b[0m\n\u001b[1;32m   2669\u001b[0m         \u001b[0;31m# Tell the ConcreteFunction to clean up its graph once it goes out of\u001b[0m\u001b[0;34m\u001b[0m\u001b[0;34m\u001b[0m\u001b[0;34m\u001b[0m\u001b[0m\n",
      "\u001b[0;32m~/miniconda3/envs/memory_gpu/lib/python3.7/site-packages/tensorflow/python/framework/func_graph.py\u001b[0m in \u001b[0;36mfunc_graph_from_py_func\u001b[0;34m(name, python_func, args, kwargs, signature, func_graph, autograph, autograph_options, add_control_dependencies, arg_names, op_return_value, collections, capture_by_value, override_flat_arg_shapes)\u001b[0m\n\u001b[1;32m    979\u001b[0m         \u001b[0m_\u001b[0m\u001b[0;34m,\u001b[0m \u001b[0moriginal_func\u001b[0m \u001b[0;34m=\u001b[0m \u001b[0mtf_decorator\u001b[0m\u001b[0;34m.\u001b[0m\u001b[0munwrap\u001b[0m\u001b[0;34m(\u001b[0m\u001b[0mpython_func\u001b[0m\u001b[0;34m)\u001b[0m\u001b[0;34m\u001b[0m\u001b[0;34m\u001b[0m\u001b[0m\n\u001b[1;32m    980\u001b[0m \u001b[0;34m\u001b[0m\u001b[0m\n\u001b[0;32m--> 981\u001b[0;31m       \u001b[0mfunc_outputs\u001b[0m \u001b[0;34m=\u001b[0m \u001b[0mpython_func\u001b[0m\u001b[0;34m(\u001b[0m\u001b[0;34m*\u001b[0m\u001b[0mfunc_args\u001b[0m\u001b[0;34m,\u001b[0m \u001b[0;34m**\u001b[0m\u001b[0mfunc_kwargs\u001b[0m\u001b[0;34m)\u001b[0m\u001b[0;34m\u001b[0m\u001b[0;34m\u001b[0m\u001b[0m\n\u001b[0m\u001b[1;32m    982\u001b[0m \u001b[0;34m\u001b[0m\u001b[0m\n\u001b[1;32m    983\u001b[0m       \u001b[0;31m# invariant: `func_outputs` contains only Tensors, CompositeTensors,\u001b[0m\u001b[0;34m\u001b[0m\u001b[0;34m\u001b[0m\u001b[0;34m\u001b[0m\u001b[0m\n",
      "\u001b[0;32m~/miniconda3/envs/memory_gpu/lib/python3.7/site-packages/tensorflow/python/eager/def_function.py\u001b[0m in \u001b[0;36mwrapped_fn\u001b[0;34m(*args, **kwds)\u001b[0m\n\u001b[1;32m    439\u001b[0m         \u001b[0;31m# __wrapped__ allows AutoGraph to swap in a converted function. We give\u001b[0m\u001b[0;34m\u001b[0m\u001b[0;34m\u001b[0m\u001b[0;34m\u001b[0m\u001b[0m\n\u001b[1;32m    440\u001b[0m         \u001b[0;31m# the function a weak reference to itself to avoid a reference cycle.\u001b[0m\u001b[0;34m\u001b[0m\u001b[0;34m\u001b[0m\u001b[0;34m\u001b[0m\u001b[0m\n\u001b[0;32m--> 441\u001b[0;31m         \u001b[0;32mreturn\u001b[0m \u001b[0mweak_wrapped_fn\u001b[0m\u001b[0;34m(\u001b[0m\u001b[0;34m)\u001b[0m\u001b[0;34m.\u001b[0m\u001b[0m__wrapped__\u001b[0m\u001b[0;34m(\u001b[0m\u001b[0;34m*\u001b[0m\u001b[0margs\u001b[0m\u001b[0;34m,\u001b[0m \u001b[0;34m**\u001b[0m\u001b[0mkwds\u001b[0m\u001b[0;34m)\u001b[0m\u001b[0;34m\u001b[0m\u001b[0;34m\u001b[0m\u001b[0m\n\u001b[0m\u001b[1;32m    442\u001b[0m     \u001b[0mweak_wrapped_fn\u001b[0m \u001b[0;34m=\u001b[0m \u001b[0mweakref\u001b[0m\u001b[0;34m.\u001b[0m\u001b[0mref\u001b[0m\u001b[0;34m(\u001b[0m\u001b[0mwrapped_fn\u001b[0m\u001b[0;34m)\u001b[0m\u001b[0;34m\u001b[0m\u001b[0;34m\u001b[0m\u001b[0m\n\u001b[1;32m    443\u001b[0m \u001b[0;34m\u001b[0m\u001b[0m\n",
      "\u001b[0;32m~/miniconda3/envs/memory_gpu/lib/python3.7/site-packages/tensorflow/python/framework/func_graph.py\u001b[0m in \u001b[0;36mwrapper\u001b[0;34m(*args, **kwargs)\u001b[0m\n\u001b[1;32m    966\u001b[0m           \u001b[0;32mexcept\u001b[0m \u001b[0mException\u001b[0m \u001b[0;32mas\u001b[0m \u001b[0me\u001b[0m\u001b[0;34m:\u001b[0m  \u001b[0;31m# pylint:disable=broad-except\u001b[0m\u001b[0;34m\u001b[0m\u001b[0;34m\u001b[0m\u001b[0m\n\u001b[1;32m    967\u001b[0m             \u001b[0;32mif\u001b[0m \u001b[0mhasattr\u001b[0m\u001b[0;34m(\u001b[0m\u001b[0me\u001b[0m\u001b[0;34m,\u001b[0m \u001b[0;34m\"ag_error_metadata\"\u001b[0m\u001b[0;34m)\u001b[0m\u001b[0;34m:\u001b[0m\u001b[0;34m\u001b[0m\u001b[0;34m\u001b[0m\u001b[0m\n\u001b[0;32m--> 968\u001b[0;31m               \u001b[0;32mraise\u001b[0m \u001b[0me\u001b[0m\u001b[0;34m.\u001b[0m\u001b[0mag_error_metadata\u001b[0m\u001b[0;34m.\u001b[0m\u001b[0mto_exception\u001b[0m\u001b[0;34m(\u001b[0m\u001b[0me\u001b[0m\u001b[0;34m)\u001b[0m\u001b[0;34m\u001b[0m\u001b[0;34m\u001b[0m\u001b[0m\n\u001b[0m\u001b[1;32m    969\u001b[0m             \u001b[0;32melse\u001b[0m\u001b[0;34m:\u001b[0m\u001b[0;34m\u001b[0m\u001b[0;34m\u001b[0m\u001b[0m\n\u001b[1;32m    970\u001b[0m               \u001b[0;32mraise\u001b[0m\u001b[0;34m\u001b[0m\u001b[0;34m\u001b[0m\u001b[0m\n",
      "\u001b[0;31mValueError\u001b[0m: in user code:\n\n    <ipython-input-76-751fd255fd39>:3 test  *\n        return tf.concat([tf.shape(x)[0], tf.constant(-1)], axis = 0)\n    /home/dm1/miniconda3/envs/memory_gpu/lib/python3.7/site-packages/tensorflow/python/util/dispatch.py:180 wrapper  **\n        return target(*args, **kwargs)\n    /home/dm1/miniconda3/envs/memory_gpu/lib/python3.7/site-packages/tensorflow/python/ops/array_ops.py:1606 concat\n        return gen_array_ops.concat_v2(values=values, axis=axis, name=name)\n    /home/dm1/miniconda3/envs/memory_gpu/lib/python3.7/site-packages/tensorflow/python/ops/gen_array_ops.py:1189 concat_v2\n        \"ConcatV2\", values=values, axis=axis, name=name)\n    /home/dm1/miniconda3/envs/memory_gpu/lib/python3.7/site-packages/tensorflow/python/framework/op_def_library.py:744 _apply_op_helper\n        attrs=attr_protos, op_def=op_def)\n    /home/dm1/miniconda3/envs/memory_gpu/lib/python3.7/site-packages/tensorflow/python/framework/func_graph.py:595 _create_op_internal\n        compute_device)\n    /home/dm1/miniconda3/envs/memory_gpu/lib/python3.7/site-packages/tensorflow/python/framework/ops.py:3327 _create_op_internal\n        op_def=op_def)\n    /home/dm1/miniconda3/envs/memory_gpu/lib/python3.7/site-packages/tensorflow/python/framework/ops.py:1817 __init__\n        control_input_ops, op_def)\n    /home/dm1/miniconda3/envs/memory_gpu/lib/python3.7/site-packages/tensorflow/python/framework/ops.py:1657 _create_c_op\n        raise ValueError(str(e))\n\n    ValueError: Can't concatenate scalars (use tf.stack instead) for '{{node concat}} = ConcatV2[N=2, T=DT_INT32, Tidx=DT_INT32](strided_slice, Const, concat/axis)' with input shapes: [], [], [].\n"
     ]
    }
   ],
   "source": [
    "@tf.function\n",
    "def test():\n",
    "   return tf.concat([tf.shape(x)[0], tf.constant(-1)], axis = 0)\n",
    "test()"
   ]
  },
  {
   "cell_type": "code",
   "execution_count": 77,
   "metadata": {},
   "outputs": [
    {
     "output_type": "execute_result",
     "data": {
      "text/plain": "<tf.Tensor: shape=(2,), dtype=int32, numpy=array([ 1, -1], dtype=int32)>"
     },
     "metadata": {},
     "execution_count": 77
    }
   ],
   "source": [
    "tf.function(lambda: tf.concat([tf.expand_dims(tf.shape(x)[0],0), tf.constant(-1, shape = (1,))], axis = 0))()"
   ]
  },
  {
   "cell_type": "code",
   "execution_count": 71,
   "metadata": {},
   "outputs": [
    {
     "output_type": "error",
     "ename": "ValueError",
     "evalue": "in user code:\n\n    <ipython-input-68-100b3fcf1be8>:1 None  *\n        tf.function(lambda :tf.concat([tf.shape(x)[0], tf.constant(2)], axis = 0))()\n    /home/dm1/miniconda3/envs/memory_gpu/lib/python3.7/site-packages/tensorflow/python/util/dispatch.py:180 wrapper  **\n        return target(*args, **kwargs)\n    /home/dm1/miniconda3/envs/memory_gpu/lib/python3.7/site-packages/tensorflow/python/ops/array_ops.py:1606 concat\n        return gen_array_ops.concat_v2(values=values, axis=axis, name=name)\n    /home/dm1/miniconda3/envs/memory_gpu/lib/python3.7/site-packages/tensorflow/python/ops/gen_array_ops.py:1189 concat_v2\n        \"ConcatV2\", values=values, axis=axis, name=name)\n    /home/dm1/miniconda3/envs/memory_gpu/lib/python3.7/site-packages/tensorflow/python/framework/op_def_library.py:744 _apply_op_helper\n        attrs=attr_protos, op_def=op_def)\n    /home/dm1/miniconda3/envs/memory_gpu/lib/python3.7/site-packages/tensorflow/python/framework/func_graph.py:595 _create_op_internal\n        compute_device)\n    /home/dm1/miniconda3/envs/memory_gpu/lib/python3.7/site-packages/tensorflow/python/framework/ops.py:3327 _create_op_internal\n        op_def=op_def)\n    /home/dm1/miniconda3/envs/memory_gpu/lib/python3.7/site-packages/tensorflow/python/framework/ops.py:1817 __init__\n        control_input_ops, op_def)\n    /home/dm1/miniconda3/envs/memory_gpu/lib/python3.7/site-packages/tensorflow/python/framework/ops.py:1657 _create_c_op\n        raise ValueError(str(e))\n\n    ValueError: Can't concatenate scalars (use tf.stack instead) for '{{node concat}} = ConcatV2[N=2, T=DT_INT32, Tidx=DT_INT32](strided_slice, Const, concat/axis)' with input shapes: [], [], [].\n",
     "traceback": [
      "\u001b[0;31m---------------------------------------------------------------------------\u001b[0m",
      "\u001b[0;31mValueError\u001b[0m                                Traceback (most recent call last)",
      "\u001b[0;32m<ipython-input-71-100b3fcf1be8>\u001b[0m in \u001b[0;36m<module>\u001b[0;34m\u001b[0m\n\u001b[0;32m----> 1\u001b[0;31m \u001b[0mtf\u001b[0m\u001b[0;34m.\u001b[0m\u001b[0mfunction\u001b[0m\u001b[0;34m(\u001b[0m\u001b[0;32mlambda\u001b[0m \u001b[0;34m:\u001b[0m\u001b[0mtf\u001b[0m\u001b[0;34m.\u001b[0m\u001b[0mconcat\u001b[0m\u001b[0;34m(\u001b[0m\u001b[0;34m[\u001b[0m\u001b[0mtf\u001b[0m\u001b[0;34m.\u001b[0m\u001b[0mshape\u001b[0m\u001b[0;34m(\u001b[0m\u001b[0mx\u001b[0m\u001b[0;34m)\u001b[0m\u001b[0;34m[\u001b[0m\u001b[0;36m0\u001b[0m\u001b[0;34m]\u001b[0m\u001b[0;34m,\u001b[0m \u001b[0mtf\u001b[0m\u001b[0;34m.\u001b[0m\u001b[0mconstant\u001b[0m\u001b[0;34m(\u001b[0m\u001b[0;36m2\u001b[0m\u001b[0;34m)\u001b[0m\u001b[0;34m]\u001b[0m\u001b[0;34m,\u001b[0m \u001b[0maxis\u001b[0m \u001b[0;34m=\u001b[0m \u001b[0;36m0\u001b[0m\u001b[0;34m)\u001b[0m\u001b[0;34m)\u001b[0m\u001b[0;34m(\u001b[0m\u001b[0;34m)\u001b[0m\u001b[0;34m\u001b[0m\u001b[0;34m\u001b[0m\u001b[0m\n\u001b[0m",
      "\u001b[0;32m~/miniconda3/envs/memory_gpu/lib/python3.7/site-packages/tensorflow/python/eager/def_function.py\u001b[0m in \u001b[0;36m__call__\u001b[0;34m(self, *args, **kwds)\u001b[0m\n\u001b[1;32m    578\u001b[0m         \u001b[0mxla_context\u001b[0m\u001b[0;34m.\u001b[0m\u001b[0mExit\u001b[0m\u001b[0;34m(\u001b[0m\u001b[0;34m)\u001b[0m\u001b[0;34m\u001b[0m\u001b[0;34m\u001b[0m\u001b[0m\n\u001b[1;32m    579\u001b[0m     \u001b[0;32melse\u001b[0m\u001b[0;34m:\u001b[0m\u001b[0;34m\u001b[0m\u001b[0;34m\u001b[0m\u001b[0m\n\u001b[0;32m--> 580\u001b[0;31m       \u001b[0mresult\u001b[0m \u001b[0;34m=\u001b[0m \u001b[0mself\u001b[0m\u001b[0;34m.\u001b[0m\u001b[0m_call\u001b[0m\u001b[0;34m(\u001b[0m\u001b[0;34m*\u001b[0m\u001b[0margs\u001b[0m\u001b[0;34m,\u001b[0m \u001b[0;34m**\u001b[0m\u001b[0mkwds\u001b[0m\u001b[0;34m)\u001b[0m\u001b[0;34m\u001b[0m\u001b[0;34m\u001b[0m\u001b[0m\n\u001b[0m\u001b[1;32m    581\u001b[0m \u001b[0;34m\u001b[0m\u001b[0m\n\u001b[1;32m    582\u001b[0m     \u001b[0;32mif\u001b[0m \u001b[0mtracing_count\u001b[0m \u001b[0;34m==\u001b[0m \u001b[0mself\u001b[0m\u001b[0;34m.\u001b[0m\u001b[0m_get_tracing_count\u001b[0m\u001b[0;34m(\u001b[0m\u001b[0;34m)\u001b[0m\u001b[0;34m:\u001b[0m\u001b[0;34m\u001b[0m\u001b[0;34m\u001b[0m\u001b[0m\n",
      "\u001b[0;32m~/miniconda3/envs/memory_gpu/lib/python3.7/site-packages/tensorflow/python/eager/def_function.py\u001b[0m in \u001b[0;36m_call\u001b[0;34m(self, *args, **kwds)\u001b[0m\n\u001b[1;32m    625\u001b[0m       \u001b[0;31m# This is the first call of __call__, so we have to initialize.\u001b[0m\u001b[0;34m\u001b[0m\u001b[0;34m\u001b[0m\u001b[0;34m\u001b[0m\u001b[0m\n\u001b[1;32m    626\u001b[0m       \u001b[0minitializers\u001b[0m \u001b[0;34m=\u001b[0m \u001b[0;34m[\u001b[0m\u001b[0;34m]\u001b[0m\u001b[0;34m\u001b[0m\u001b[0;34m\u001b[0m\u001b[0m\n\u001b[0;32m--> 627\u001b[0;31m       \u001b[0mself\u001b[0m\u001b[0;34m.\u001b[0m\u001b[0m_initialize\u001b[0m\u001b[0;34m(\u001b[0m\u001b[0margs\u001b[0m\u001b[0;34m,\u001b[0m \u001b[0mkwds\u001b[0m\u001b[0;34m,\u001b[0m \u001b[0madd_initializers_to\u001b[0m\u001b[0;34m=\u001b[0m\u001b[0minitializers\u001b[0m\u001b[0;34m)\u001b[0m\u001b[0;34m\u001b[0m\u001b[0;34m\u001b[0m\u001b[0m\n\u001b[0m\u001b[1;32m    628\u001b[0m     \u001b[0;32mfinally\u001b[0m\u001b[0;34m:\u001b[0m\u001b[0;34m\u001b[0m\u001b[0;34m\u001b[0m\u001b[0m\n\u001b[1;32m    629\u001b[0m       \u001b[0;31m# At this point we know that the initialization is complete (or less\u001b[0m\u001b[0;34m\u001b[0m\u001b[0;34m\u001b[0m\u001b[0;34m\u001b[0m\u001b[0m\n",
      "\u001b[0;32m~/miniconda3/envs/memory_gpu/lib/python3.7/site-packages/tensorflow/python/eager/def_function.py\u001b[0m in \u001b[0;36m_initialize\u001b[0;34m(self, args, kwds, add_initializers_to)\u001b[0m\n\u001b[1;32m    504\u001b[0m     self._concrete_stateful_fn = (\n\u001b[1;32m    505\u001b[0m         self._stateful_fn._get_concrete_function_internal_garbage_collected(  # pylint: disable=protected-access\n\u001b[0;32m--> 506\u001b[0;31m             *args, **kwds))\n\u001b[0m\u001b[1;32m    507\u001b[0m \u001b[0;34m\u001b[0m\u001b[0m\n\u001b[1;32m    508\u001b[0m     \u001b[0;32mdef\u001b[0m \u001b[0minvalid_creator_scope\u001b[0m\u001b[0;34m(\u001b[0m\u001b[0;34m*\u001b[0m\u001b[0munused_args\u001b[0m\u001b[0;34m,\u001b[0m \u001b[0;34m**\u001b[0m\u001b[0munused_kwds\u001b[0m\u001b[0;34m)\u001b[0m\u001b[0;34m:\u001b[0m\u001b[0;34m\u001b[0m\u001b[0;34m\u001b[0m\u001b[0m\n",
      "\u001b[0;32m~/miniconda3/envs/memory_gpu/lib/python3.7/site-packages/tensorflow/python/eager/function.py\u001b[0m in \u001b[0;36m_get_concrete_function_internal_garbage_collected\u001b[0;34m(self, *args, **kwargs)\u001b[0m\n\u001b[1;32m   2444\u001b[0m       \u001b[0margs\u001b[0m\u001b[0;34m,\u001b[0m \u001b[0mkwargs\u001b[0m \u001b[0;34m=\u001b[0m \u001b[0;32mNone\u001b[0m\u001b[0;34m,\u001b[0m \u001b[0;32mNone\u001b[0m\u001b[0;34m\u001b[0m\u001b[0;34m\u001b[0m\u001b[0m\n\u001b[1;32m   2445\u001b[0m     \u001b[0;32mwith\u001b[0m \u001b[0mself\u001b[0m\u001b[0;34m.\u001b[0m\u001b[0m_lock\u001b[0m\u001b[0;34m:\u001b[0m\u001b[0;34m\u001b[0m\u001b[0;34m\u001b[0m\u001b[0m\n\u001b[0;32m-> 2446\u001b[0;31m       \u001b[0mgraph_function\u001b[0m\u001b[0;34m,\u001b[0m \u001b[0m_\u001b[0m\u001b[0;34m,\u001b[0m \u001b[0m_\u001b[0m \u001b[0;34m=\u001b[0m \u001b[0mself\u001b[0m\u001b[0;34m.\u001b[0m\u001b[0m_maybe_define_function\u001b[0m\u001b[0;34m(\u001b[0m\u001b[0margs\u001b[0m\u001b[0;34m,\u001b[0m \u001b[0mkwargs\u001b[0m\u001b[0;34m)\u001b[0m\u001b[0;34m\u001b[0m\u001b[0;34m\u001b[0m\u001b[0m\n\u001b[0m\u001b[1;32m   2447\u001b[0m     \u001b[0;32mreturn\u001b[0m \u001b[0mgraph_function\u001b[0m\u001b[0;34m\u001b[0m\u001b[0;34m\u001b[0m\u001b[0m\n\u001b[1;32m   2448\u001b[0m \u001b[0;34m\u001b[0m\u001b[0m\n",
      "\u001b[0;32m~/miniconda3/envs/memory_gpu/lib/python3.7/site-packages/tensorflow/python/eager/function.py\u001b[0m in \u001b[0;36m_maybe_define_function\u001b[0;34m(self, args, kwargs)\u001b[0m\n\u001b[1;32m   2775\u001b[0m \u001b[0;34m\u001b[0m\u001b[0m\n\u001b[1;32m   2776\u001b[0m       \u001b[0mself\u001b[0m\u001b[0;34m.\u001b[0m\u001b[0m_function_cache\u001b[0m\u001b[0;34m.\u001b[0m\u001b[0mmissed\u001b[0m\u001b[0;34m.\u001b[0m\u001b[0madd\u001b[0m\u001b[0;34m(\u001b[0m\u001b[0mcall_context_key\u001b[0m\u001b[0;34m)\u001b[0m\u001b[0;34m\u001b[0m\u001b[0;34m\u001b[0m\u001b[0m\n\u001b[0;32m-> 2777\u001b[0;31m       \u001b[0mgraph_function\u001b[0m \u001b[0;34m=\u001b[0m \u001b[0mself\u001b[0m\u001b[0;34m.\u001b[0m\u001b[0m_create_graph_function\u001b[0m\u001b[0;34m(\u001b[0m\u001b[0margs\u001b[0m\u001b[0;34m,\u001b[0m \u001b[0mkwargs\u001b[0m\u001b[0;34m)\u001b[0m\u001b[0;34m\u001b[0m\u001b[0;34m\u001b[0m\u001b[0m\n\u001b[0m\u001b[1;32m   2778\u001b[0m       \u001b[0mself\u001b[0m\u001b[0;34m.\u001b[0m\u001b[0m_function_cache\u001b[0m\u001b[0;34m.\u001b[0m\u001b[0mprimary\u001b[0m\u001b[0;34m[\u001b[0m\u001b[0mcache_key\u001b[0m\u001b[0;34m]\u001b[0m \u001b[0;34m=\u001b[0m \u001b[0mgraph_function\u001b[0m\u001b[0;34m\u001b[0m\u001b[0;34m\u001b[0m\u001b[0m\n\u001b[1;32m   2779\u001b[0m       \u001b[0;32mreturn\u001b[0m \u001b[0mgraph_function\u001b[0m\u001b[0;34m,\u001b[0m \u001b[0margs\u001b[0m\u001b[0;34m,\u001b[0m \u001b[0mkwargs\u001b[0m\u001b[0;34m\u001b[0m\u001b[0;34m\u001b[0m\u001b[0m\n",
      "\u001b[0;32m~/miniconda3/envs/memory_gpu/lib/python3.7/site-packages/tensorflow/python/eager/function.py\u001b[0m in \u001b[0;36m_create_graph_function\u001b[0;34m(self, args, kwargs, override_flat_arg_shapes)\u001b[0m\n\u001b[1;32m   2665\u001b[0m             \u001b[0marg_names\u001b[0m\u001b[0;34m=\u001b[0m\u001b[0marg_names\u001b[0m\u001b[0;34m,\u001b[0m\u001b[0;34m\u001b[0m\u001b[0;34m\u001b[0m\u001b[0m\n\u001b[1;32m   2666\u001b[0m             \u001b[0moverride_flat_arg_shapes\u001b[0m\u001b[0;34m=\u001b[0m\u001b[0moverride_flat_arg_shapes\u001b[0m\u001b[0;34m,\u001b[0m\u001b[0;34m\u001b[0m\u001b[0;34m\u001b[0m\u001b[0m\n\u001b[0;32m-> 2667\u001b[0;31m             capture_by_value=self._capture_by_value),\n\u001b[0m\u001b[1;32m   2668\u001b[0m         \u001b[0mself\u001b[0m\u001b[0;34m.\u001b[0m\u001b[0m_function_attributes\u001b[0m\u001b[0;34m,\u001b[0m\u001b[0;34m\u001b[0m\u001b[0;34m\u001b[0m\u001b[0m\n\u001b[1;32m   2669\u001b[0m         \u001b[0;31m# Tell the ConcreteFunction to clean up its graph once it goes out of\u001b[0m\u001b[0;34m\u001b[0m\u001b[0;34m\u001b[0m\u001b[0;34m\u001b[0m\u001b[0m\n",
      "\u001b[0;32m~/miniconda3/envs/memory_gpu/lib/python3.7/site-packages/tensorflow/python/framework/func_graph.py\u001b[0m in \u001b[0;36mfunc_graph_from_py_func\u001b[0;34m(name, python_func, args, kwargs, signature, func_graph, autograph, autograph_options, add_control_dependencies, arg_names, op_return_value, collections, capture_by_value, override_flat_arg_shapes)\u001b[0m\n\u001b[1;32m    979\u001b[0m         \u001b[0m_\u001b[0m\u001b[0;34m,\u001b[0m \u001b[0moriginal_func\u001b[0m \u001b[0;34m=\u001b[0m \u001b[0mtf_decorator\u001b[0m\u001b[0;34m.\u001b[0m\u001b[0munwrap\u001b[0m\u001b[0;34m(\u001b[0m\u001b[0mpython_func\u001b[0m\u001b[0;34m)\u001b[0m\u001b[0;34m\u001b[0m\u001b[0;34m\u001b[0m\u001b[0m\n\u001b[1;32m    980\u001b[0m \u001b[0;34m\u001b[0m\u001b[0m\n\u001b[0;32m--> 981\u001b[0;31m       \u001b[0mfunc_outputs\u001b[0m \u001b[0;34m=\u001b[0m \u001b[0mpython_func\u001b[0m\u001b[0;34m(\u001b[0m\u001b[0;34m*\u001b[0m\u001b[0mfunc_args\u001b[0m\u001b[0;34m,\u001b[0m \u001b[0;34m**\u001b[0m\u001b[0mfunc_kwargs\u001b[0m\u001b[0;34m)\u001b[0m\u001b[0;34m\u001b[0m\u001b[0;34m\u001b[0m\u001b[0m\n\u001b[0m\u001b[1;32m    982\u001b[0m \u001b[0;34m\u001b[0m\u001b[0m\n\u001b[1;32m    983\u001b[0m       \u001b[0;31m# invariant: `func_outputs` contains only Tensors, CompositeTensors,\u001b[0m\u001b[0;34m\u001b[0m\u001b[0;34m\u001b[0m\u001b[0;34m\u001b[0m\u001b[0m\n",
      "\u001b[0;32m~/miniconda3/envs/memory_gpu/lib/python3.7/site-packages/tensorflow/python/eager/def_function.py\u001b[0m in \u001b[0;36mwrapped_fn\u001b[0;34m(*args, **kwds)\u001b[0m\n\u001b[1;32m    439\u001b[0m         \u001b[0;31m# __wrapped__ allows AutoGraph to swap in a converted function. We give\u001b[0m\u001b[0;34m\u001b[0m\u001b[0;34m\u001b[0m\u001b[0;34m\u001b[0m\u001b[0m\n\u001b[1;32m    440\u001b[0m         \u001b[0;31m# the function a weak reference to itself to avoid a reference cycle.\u001b[0m\u001b[0;34m\u001b[0m\u001b[0;34m\u001b[0m\u001b[0;34m\u001b[0m\u001b[0m\n\u001b[0;32m--> 441\u001b[0;31m         \u001b[0;32mreturn\u001b[0m \u001b[0mweak_wrapped_fn\u001b[0m\u001b[0;34m(\u001b[0m\u001b[0;34m)\u001b[0m\u001b[0;34m.\u001b[0m\u001b[0m__wrapped__\u001b[0m\u001b[0;34m(\u001b[0m\u001b[0;34m*\u001b[0m\u001b[0margs\u001b[0m\u001b[0;34m,\u001b[0m \u001b[0;34m**\u001b[0m\u001b[0mkwds\u001b[0m\u001b[0;34m)\u001b[0m\u001b[0;34m\u001b[0m\u001b[0;34m\u001b[0m\u001b[0m\n\u001b[0m\u001b[1;32m    442\u001b[0m     \u001b[0mweak_wrapped_fn\u001b[0m \u001b[0;34m=\u001b[0m \u001b[0mweakref\u001b[0m\u001b[0;34m.\u001b[0m\u001b[0mref\u001b[0m\u001b[0;34m(\u001b[0m\u001b[0mwrapped_fn\u001b[0m\u001b[0;34m)\u001b[0m\u001b[0;34m\u001b[0m\u001b[0;34m\u001b[0m\u001b[0m\n\u001b[1;32m    443\u001b[0m \u001b[0;34m\u001b[0m\u001b[0m\n",
      "\u001b[0;32m~/miniconda3/envs/memory_gpu/lib/python3.7/site-packages/tensorflow/python/framework/func_graph.py\u001b[0m in \u001b[0;36mwrapper\u001b[0;34m(*args, **kwargs)\u001b[0m\n\u001b[1;32m    966\u001b[0m           \u001b[0;32mexcept\u001b[0m \u001b[0mException\u001b[0m \u001b[0;32mas\u001b[0m \u001b[0me\u001b[0m\u001b[0;34m:\u001b[0m  \u001b[0;31m# pylint:disable=broad-except\u001b[0m\u001b[0;34m\u001b[0m\u001b[0;34m\u001b[0m\u001b[0m\n\u001b[1;32m    967\u001b[0m             \u001b[0;32mif\u001b[0m \u001b[0mhasattr\u001b[0m\u001b[0;34m(\u001b[0m\u001b[0me\u001b[0m\u001b[0;34m,\u001b[0m \u001b[0;34m\"ag_error_metadata\"\u001b[0m\u001b[0;34m)\u001b[0m\u001b[0;34m:\u001b[0m\u001b[0;34m\u001b[0m\u001b[0;34m\u001b[0m\u001b[0m\n\u001b[0;32m--> 968\u001b[0;31m               \u001b[0;32mraise\u001b[0m \u001b[0me\u001b[0m\u001b[0;34m.\u001b[0m\u001b[0mag_error_metadata\u001b[0m\u001b[0;34m.\u001b[0m\u001b[0mto_exception\u001b[0m\u001b[0;34m(\u001b[0m\u001b[0me\u001b[0m\u001b[0;34m)\u001b[0m\u001b[0;34m\u001b[0m\u001b[0;34m\u001b[0m\u001b[0m\n\u001b[0m\u001b[1;32m    969\u001b[0m             \u001b[0;32melse\u001b[0m\u001b[0;34m:\u001b[0m\u001b[0;34m\u001b[0m\u001b[0;34m\u001b[0m\u001b[0m\n\u001b[1;32m    970\u001b[0m               \u001b[0;32mraise\u001b[0m\u001b[0;34m\u001b[0m\u001b[0;34m\u001b[0m\u001b[0m\n",
      "\u001b[0;31mValueError\u001b[0m: in user code:\n\n    <ipython-input-68-100b3fcf1be8>:1 None  *\n        tf.function(lambda :tf.concat([tf.shape(x)[0], tf.constant(2)], axis = 0))()\n    /home/dm1/miniconda3/envs/memory_gpu/lib/python3.7/site-packages/tensorflow/python/util/dispatch.py:180 wrapper  **\n        return target(*args, **kwargs)\n    /home/dm1/miniconda3/envs/memory_gpu/lib/python3.7/site-packages/tensorflow/python/ops/array_ops.py:1606 concat\n        return gen_array_ops.concat_v2(values=values, axis=axis, name=name)\n    /home/dm1/miniconda3/envs/memory_gpu/lib/python3.7/site-packages/tensorflow/python/ops/gen_array_ops.py:1189 concat_v2\n        \"ConcatV2\", values=values, axis=axis, name=name)\n    /home/dm1/miniconda3/envs/memory_gpu/lib/python3.7/site-packages/tensorflow/python/framework/op_def_library.py:744 _apply_op_helper\n        attrs=attr_protos, op_def=op_def)\n    /home/dm1/miniconda3/envs/memory_gpu/lib/python3.7/site-packages/tensorflow/python/framework/func_graph.py:595 _create_op_internal\n        compute_device)\n    /home/dm1/miniconda3/envs/memory_gpu/lib/python3.7/site-packages/tensorflow/python/framework/ops.py:3327 _create_op_internal\n        op_def=op_def)\n    /home/dm1/miniconda3/envs/memory_gpu/lib/python3.7/site-packages/tensorflow/python/framework/ops.py:1817 __init__\n        control_input_ops, op_def)\n    /home/dm1/miniconda3/envs/memory_gpu/lib/python3.7/site-packages/tensorflow/python/framework/ops.py:1657 _create_c_op\n        raise ValueError(str(e))\n\n    ValueError: Can't concatenate scalars (use tf.stack instead) for '{{node concat}} = ConcatV2[N=2, T=DT_INT32, Tidx=DT_INT32](strided_slice, Const, concat/axis)' with input shapes: [], [], [].\n"
     ]
    }
   ],
   "source": [
    "tf.function(lambda :tf.concat([tf.shape(x)[0], tf.constant(2)], axis = 0))()"
   ]
  },
  {
   "cell_type": "code",
   "execution_count": 61,
   "metadata": {},
   "outputs": [
    {
     "output_type": "execute_result",
     "data": {
      "text/plain": "<tf.Tensor: shape=(1,), dtype=int32, numpy=array([-1], dtype=int32)>"
     },
     "metadata": {},
     "execution_count": 61
    }
   ],
   "source": [
    "\n",
    "y = tf.constant(-1)\n",
    "tf.expand_dims(y, 0)\n",
    "#tf.reshape(y, shape = tf.concat([[tf.constant(1)], tf.shape(x)], axis = 0))"
   ]
  },
  {
   "cell_type": "code",
   "execution_count": null,
   "metadata": {},
   "outputs": [],
   "source": [
    "tf.concat([tf.expand_dims(tf.shape(x)[0], shape = [], tf.constant(-1)], axis = 0)"
   ]
  },
  {
   "cell_type": "code",
   "execution_count": 49,
   "metadata": {},
   "outputs": [
    {
     "output_type": "execute_result",
     "data": {
      "text/plain": "<tf.Tensor: shape=(2,), dtype=int32, numpy=array([ 1, -1], dtype=int32)>"
     },
     "metadata": {},
     "execution_count": 49
    }
   ],
   "source": [
    "tf.concat([[tf.shape(x)[0]], [tf.constant(-1)]], axis = 0)"
   ]
  },
  {
   "cell_type": "code",
   "execution_count": 50,
   "metadata": {},
   "outputs": [
    {
     "output_type": "execute_result",
     "data": {
      "text/plain": "<tf.Tensor: shape=(2,), dtype=int32, numpy=array([ 1, -1], dtype=int32)>"
     },
     "metadata": {},
     "execution_count": 50
    }
   ],
   "source": [
    "tf.concat([tf.shape(x)[0], tf.constant(-1)], axis = 0)"
   ]
  },
  {
   "cell_type": "code",
   "execution_count": 23,
   "metadata": {
    "tags": []
   },
   "outputs": [
    {
     "output_type": "execute_result",
     "data": {
      "text/plain": "<tf.Tensor: shape=(5,), dtype=int32, numpy=array([784,   1,   1,   1,   1], dtype=int32)>"
     },
     "metadata": {},
     "execution_count": 23
    }
   ],
   "source": [
    "tf.concat([tf.constant(embed_dim), [tf.shape(x)[0]], tf.ones([3], dtype = tf.int32)], axis = 0)"
   ]
  },
  {
   "cell_type": "code",
   "execution_count": 44,
   "metadata": {},
   "outputs": [
    {
     "output_type": "execute_result",
     "data": {
      "text/plain": "<tf.Tensor: shape=(2,), dtype=int32, numpy=array([ 1, -1], dtype=int32)>"
     },
     "metadata": {},
     "execution_count": 44
    }
   ],
   "source": [
    "tf.constant([x.shape[0], -1])"
   ]
  },
  {
   "cell_type": "code",
   "execution_count": 1,
   "metadata": {},
   "outputs": [],
   "source": [
    "import tensorflow as tf"
   ]
  },
  {
   "cell_type": "code",
   "execution_count": 3,
   "metadata": {
    "tags": []
   },
   "outputs": [],
   "source": [
    "# Load the TensorBoard notebook extension.\n",
    "%load_ext tensorboard"
   ]
  },
  {
   "cell_type": "code",
   "execution_count": 2,
   "metadata": {},
   "outputs": [
    {
     "output_type": "stream",
     "name": "stderr",
     "text": [
      "UsageError: Line magic function `%tensorboard` not found.\n"
     ]
    }
   ],
   "source": [
    "%tensorboard --logdir logs"
   ]
  },
  {
   "cell_type": "code",
   "execution_count": null,
   "metadata": {},
   "outputs": [],
   "source": [
    "a =  tf.ones([4], dtype = tf.int32)"
   ]
  },
  {
   "cell_type": "code",
   "execution_count": null,
   "metadata": {},
   "outputs": [],
   "source": []
  },
  {
   "cell_type": "code",
   "execution_count": null,
   "metadata": {},
   "outputs": [],
   "source": [
    "import tensorflow as tf\n"
   ]
  },
  {
   "cell_type": "code",
   "execution_count": 2,
   "metadata": {},
   "outputs": [
    {
     "output_type": "stream",
     "name": "stderr",
     "text": [
      "UsageError: Line magic function `%tensorboard` not found.\n"
     ]
    }
   ],
   "source": [
    "%tensorboard --logdir logs\n"
   ]
  },
  {
   "cell_type": "code",
   "execution_count": 1,
   "metadata": {},
   "outputs": [
    {
     "output_type": "stream",
     "name": "stdout",
     "text": [
      "/bin/bash: line 0: kill: (42343) - No such process\n"
     ]
    }
   ],
   "source": [
    "!kill 42343"
   ]
  },
  {
   "cell_type": "code",
   "execution_count": null,
   "metadata": {},
   "outputs": [],
   "source": []
  },
  {
   "cell_type": "code",
   "execution_count": 18,
   "metadata": {
    "tags": []
   },
   "outputs": [
    {
     "output_type": "stream",
     "name": "stdout",
     "text": "Tracing with  Tensor(\"x:0\", shape=(3,), dtype=int32)\n"
    },
    {
     "output_type": "execute_result",
     "data": {
      "text/plain": "<tf.Tensor: shape=(3,), dtype=float32, numpy=array([2., 2., 2.], dtype=float32)>"
     },
     "metadata": {},
     "execution_count": 18
    }
   ],
   "source": [
    "tracing_test(tf.constant([4,10,10]))"
   ]
  },
  {
   "cell_type": "code",
   "execution_count": 25,
   "metadata": {
    "tags": []
   },
   "outputs": [
    {
     "output_type": "stream",
     "name": "stdout",
     "text": "Tracing with  Tensor(\"x:0\", shape=(10,), dtype=float32)\n"
    }
   ],
   "source": [
    "graph = tracing_test.get_concrete_function(tf.ones([10])).graph"
   ]
  },
  {
   "cell_type": "code",
   "execution_count": 26,
   "metadata": {
    "tags": []
   },
   "outputs": [
    {
     "output_type": "stream",
     "name": "stdout",
     "text": "[] -> x\n[] -> ones\n[] -> mul/y\n['ones', 'mul/y'] -> mul\n['mul'] -> Identity\n"
    }
   ],
   "source": [
    "for node in graph.as_graph_def().node:\n",
    "  print(f'{node.input} -> {node.name}')"
   ]
  },
  {
   "cell_type": "code",
   "execution_count": null,
   "metadata": {},
   "outputs": [],
   "source": [
    "%tensorboard --logdir logs\n"
   ]
  },
  {
   "cell_type": "code",
   "execution_count": 11,
   "metadata": {},
   "outputs": [],
   "source": [
    "import tensorflow as tf\n",
    "import tf_slim as slim\n",
    "import sys"
   ]
  },
  {
   "cell_type": "code",
   "execution_count": 12,
   "metadata": {},
   "outputs": [],
   "source": [
    "(x_train, _), (_, _) = tf.keras.datasets.mnist.load_data()\n",
    "#print(x_train.dtype)"
   ]
  },
  {
   "cell_type": "code",
   "execution_count": 13,
   "metadata": {},
   "outputs": [
    {
     "output_type": "stream",
     "name": "stdout",
     "text": [
      "44.8609619140625\n"
     ]
    }
   ],
   "source": [
    "print(sys.getsizeof(x_train)/1024.0/1024.0)"
   ]
  },
  {
   "cell_type": "code",
   "execution_count": 23,
   "metadata": {},
   "outputs": [
    {
     "output_type": "stream",
     "name": "stdout",
     "text": [
      "---------\nVariables: name (type shape) [size]\n---------\ntruediv_5:0 (float32 60000x784) [47040000, bytes: 188160000]\nones_8:0 (float32 30x30x784) [705600, bytes: 2822400]\nones_9:0 (float32 2000x30x30x784) [1411200000, bytes: 5644800000]\nReshape_8:0 (float32 2000x1x30x30x784) [1411200000, bytes: 5644800000]\nTotal size of variables: 2870145600\nTotal bytes of variables: 11480582400\n"
     ]
    },
    {
     "output_type": "execute_result",
     "data": {
      "text/plain": [
       "(2870145600, 11480582400)"
      ]
     },
     "metadata": {},
     "execution_count": 23
    }
   ],
   "source": [
    "tf.compat.v1.disable_eager_execution()\n",
    "x_train = tf.cast(tf.reshape(x_train, (x_train.shape[0], -1)),\n",
    "                    dtype=tf.float32) / 255\n",
    "map = tf.ones([30,30,784], dtype = tf.float32)\n",
    "diffs1 = tf.ones([2000,30,30,784], dtype = tf.float32)\n",
    "diffs2 = tf.reshape(diffs, shape = [2000,1,30,30,784])\n",
    "\n",
    "slim.model_analyzer.analyze_vars([x_train, map, diffs1,diffs2], print_info=True)"
   ]
  },
  {
   "cell_type": "code",
   "execution_count": 24,
   "metadata": {},
   "outputs": [
    {
     "output_type": "execute_result",
     "data": {
      "text/plain": [
       "139722270323088"
      ]
     },
     "metadata": {},
     "execution_count": 24
    }
   ],
   "source": [
    "id(diffs1)"
   ]
  },
  {
   "cell_type": "code",
   "execution_count": 25,
   "metadata": {},
   "outputs": [
    {
     "output_type": "execute_result",
     "data": {
      "text/plain": [
       "139722270325712"
      ]
     },
     "metadata": {},
     "execution_count": 25
    }
   ],
   "source": [
    "id(diffs2)"
   ]
  },
  {
   "cell_type": "code",
   "execution_count": 20,
   "metadata": {},
   "outputs": [
    {
     "output_type": "execute_result",
     "data": {
      "text/plain": [
       "5383.30078125"
      ]
     },
     "metadata": {},
     "execution_count": 20
    }
   ],
   "source": [
    "5644800000/1024.0/1024.0"
   ]
  },
  {
   "cell_type": "code",
   "execution_count": 19,
   "metadata": {},
   "outputs": [
    {
     "output_type": "execute_result",
     "data": {
      "text/plain": [
       "179.443359375"
      ]
     },
     "metadata": {},
     "execution_count": 19
    }
   ],
   "source": [
    "188160000/1024.0/1024.0"
   ]
  },
  {
   "cell_type": "code",
   "execution_count": 4,
   "metadata": {},
   "outputs": [],
   "source": [
    "import tensorflow as tf\n",
    "import numpy as np"
   ]
  },
  {
   "cell_type": "code",
   "execution_count": 7,
   "metadata": {},
   "outputs": [],
   "source": [
    "x = tf.random.normal([10,10, 784], dtype = tf.float16)"
   ]
  },
  {
   "cell_type": "code",
   "execution_count": 12,
   "metadata": {},
   "outputs": [
    {
     "output_type": "execute_result",
     "data": {
      "text/plain": [
       "<tf.Tensor: shape=(3,), dtype=int32, numpy=array([ 10,  10, 784], dtype=int32)>"
      ]
     },
     "metadata": {},
     "execution_count": 12
    }
   ],
   "source": [
    "tf.shape(x)"
   ]
  },
  {
   "cell_type": "code",
   "execution_count": 15,
   "metadata": {},
   "outputs": [
    {
     "output_type": "error",
     "ename": "AttributeError",
     "evalue": "module 'tensorflow._api.v2.raw_ops' has no attribute 'pack'",
     "traceback": [
      "\u001b[0;31m---------------------------------------------------------------------------\u001b[0m",
      "\u001b[0;31mAttributeError\u001b[0m                            Traceback (most recent call last)",
      "\u001b[0;32m<ipython-input-15-76c2b972ac9f>\u001b[0m in \u001b[0;36m<module>\u001b[0;34m\u001b[0m\n\u001b[0;32m----> 1\u001b[0;31m \u001b[0mtf\u001b[0m\u001b[0;34m.\u001b[0m\u001b[0mraw_ops\u001b[0m\u001b[0;34m.\u001b[0m\u001b[0mpack\u001b[0m\u001b[0;34m(\u001b[0m\u001b[0;34m)\u001b[0m\u001b[0;34m\u001b[0m\u001b[0;34m\u001b[0m\u001b[0m\n\u001b[0m",
      "\u001b[0;31mAttributeError\u001b[0m: module 'tensorflow._api.v2.raw_ops' has no attribute 'pack'"
     ]
    }
   ],
   "source": [
    "x = tf.constant([])"
   ]
  },
  {
   "cell_type": "code",
   "execution_count": 13,
   "metadata": {},
   "outputs": [
    {
     "output_type": "execute_result",
     "data": {
      "text/plain": [
       "<tf.Tensor: shape=(1, 100, 28, 28), dtype=float16, numpy=\n",
       "array([[[[ 5.2637e-01, -2.3730e+00,  1.8232e+00, ..., -1.0342e+00,\n",
       "           3.7720e-01, -1.0371e+00],\n",
       "         [ 2.2690e-02, -1.9946e-01,  2.7393e-01, ...,  5.5762e-01,\n",
       "           9.8511e-02,  1.9355e+00],\n",
       "         [ 9.9316e-01,  1.3721e+00, -7.4402e-02, ..., -1.5889e+00,\n",
       "          -6.7969e-01, -1.5908e+00],\n",
       "         ...,\n",
       "         [-1.0352e+00,  1.1377e+00, -2.0544e-01, ..., -1.1836e+00,\n",
       "          -9.1211e-01,  2.9272e-01],\n",
       "         [-8.9539e-02,  3.9966e-01,  4.1406e-01, ..., -2.8979e-01,\n",
       "           1.2070e+00, -1.2402e-01],\n",
       "         [ 1.0713e+00, -2.0248e-02, -1.2451e-01, ...,  4.8096e-01,\n",
       "           5.6274e-02,  5.5078e-01]],\n",
       "\n",
       "        [[ 1.4966e-01,  2.6270e+00, -4.1504e-01, ...,  9.4434e-01,\n",
       "          -3.6328e-01,  9.1406e-01],\n",
       "         [-6.9238e-01,  9.3848e-01, -2.1738e+00, ..., -2.0523e-02,\n",
       "           6.6309e-01, -7.6758e-01],\n",
       "         [ 1.6826e+00,  8.1104e-01,  3.7354e-01, ..., -8.8379e-01,\n",
       "           1.2617e+00,  2.4695e-01],\n",
       "         ...,\n",
       "         [ 2.8198e-01,  3.6792e-01, -5.6299e-01, ..., -1.8057e+00,\n",
       "           4.7729e-01, -2.7679e-02],\n",
       "         [ 1.0127e+00, -1.3232e+00,  6.0425e-02, ...,  3.4229e-01,\n",
       "           6.7480e-01, -3.4863e-01],\n",
       "         [-2.2773e+00,  6.2061e-01, -6.6504e-01, ..., -4.7363e-01,\n",
       "          -9.6240e-01, -4.5679e-01]],\n",
       "\n",
       "        [[ 1.5137e+00,  4.4952e-02,  7.3389e-01, ...,  9.5605e-01,\n",
       "           1.2321e-03,  4.2432e-01],\n",
       "         [-5.9668e-01, -5.1123e-01,  2.9517e-01, ...,  6.6797e-01,\n",
       "          -6.7334e-01, -1.4727e+00],\n",
       "         [-2.8638e-01,  1.1523e+00,  5.2588e-01, ..., -9.3384e-02,\n",
       "           5.5469e-01,  1.2500e-01],\n",
       "         ...,\n",
       "         [ 9.8938e-02, -6.2646e-01, -2.9099e-02, ..., -2.4927e-01,\n",
       "           1.8887e+00,  1.7126e-01],\n",
       "         [ 7.2363e-01,  4.9194e-02, -7.5500e-02, ...,  5.5566e-01,\n",
       "          -8.0371e-01,  1.0723e+00],\n",
       "         [-5.1422e-02,  2.9810e-01, -1.1934e+00, ...,  3.7183e-01,\n",
       "           1.6885e+00,  1.1104e+00]],\n",
       "\n",
       "        ...,\n",
       "\n",
       "        [[ 1.1304e-01, -7.0020e-01, -1.1680e+00, ...,  1.1475e+00,\n",
       "          -1.8097e-02,  1.9297e+00],\n",
       "         [-1.0098e+00,  1.2754e+00,  2.5928e-01, ..., -7.5488e-01,\n",
       "           1.5244e+00, -9.8047e-01],\n",
       "         [-5.7031e-01, -2.3022e-01, -1.2939e+00, ..., -1.5107e+00,\n",
       "           2.1106e-01, -1.6220e-02],\n",
       "         ...,\n",
       "         [ 2.2031e+00,  2.4121e+00, -2.2046e-01, ...,  2.4258e+00,\n",
       "           6.3770e-01, -9.6143e-01],\n",
       "         [ 1.3203e+00,  1.2891e+00, -5.1611e-01, ..., -1.4062e-01,\n",
       "          -4.8071e-01,  4.2993e-01],\n",
       "         [-9.3933e-02,  3.8354e-01, -1.2217e+00, ..., -1.8591e-01,\n",
       "           5.4590e-01,  4.2725e-01]],\n",
       "\n",
       "        [[ 8.7305e-01, -2.8540e-01,  2.5488e-01, ...,  7.1191e-01,\n",
       "           7.5000e-01,  5.6055e-01],\n",
       "         [ 1.0029e+00, -1.2168e+00,  2.1621e+00, ..., -4.4281e-02,\n",
       "          -1.0419e-01,  1.5713e+00],\n",
       "         [ 1.5283e+00,  1.3496e+00, -1.4004e+00, ..., -3.1973e+00,\n",
       "           7.3145e-01,  1.0883e-01],\n",
       "         ...,\n",
       "         [-1.4355e-01, -6.3965e-01,  1.7285e+00, ..., -1.1755e-01,\n",
       "           1.1396e+00,  6.4270e-02],\n",
       "         [ 7.5293e-01, -1.2646e-01, -1.0742e+00, ...,  1.2295e+00,\n",
       "          -6.8066e-01, -2.8503e-02],\n",
       "         [-1.0352e+00,  1.3184e-01,  1.1143e+00, ..., -6.9531e-01,\n",
       "          -3.2031e-01,  5.5420e-01]],\n",
       "\n",
       "        [[-7.3145e-01,  3.8965e-01,  4.3652e-01, ..., -2.5482e-02,\n",
       "           7.9297e-01,  3.5547e-01],\n",
       "         [ 5.6543e-01,  3.9673e-02,  5.6445e-01, ...,  9.5752e-01,\n",
       "           1.8958e-01,  4.1992e-02],\n",
       "         [-2.7109e+00, -5.0244e-01,  7.2266e-01, ..., -2.4524e-01,\n",
       "           5.9766e-01, -1.0332e+00],\n",
       "         ...,\n",
       "         [ 1.1279e+00, -4.2163e-01, -1.3135e+00, ...,  1.1818e-02,\n",
       "           6.9922e-01,  1.0674e+00],\n",
       "         [-7.7881e-01, -1.1758e+00, -8.2959e-01, ..., -8.0420e-01,\n",
       "           6.1084e-01,  1.8066e+00],\n",
       "         [-2.2891e+00, -6.8994e-01,  5.5225e-01, ..., -8.3496e-01,\n",
       "          -6.7505e-02,  8.9404e-01]]]], dtype=float16)>"
      ]
     },
     "metadata": {},
     "execution_count": 13
    }
   ],
   "source": [
    "tf.reshape(x, [1,100,28,28])"
   ]
  },
  {
   "cell_type": "code",
   "execution_count": 24,
   "metadata": {},
   "outputs": [],
   "source": [
    "from neural_map import *\n",
    "import tensorflow as tf\n",
    "import collections\n",
    "import numpy as np\n",
    "# For test script imports\n",
    "import matplotlib.pyplot as plt\n",
    "import time\n",
    "import cProfile\n",
    "from tensorflow.python.keras.backend import dtype\n",
    "from datetime import datetime\n",
    "from packaging import version\n",
    "from PIL import Image"
   ]
  },
  {
   "cell_type": "code",
   "execution_count": 26,
   "metadata": {},
   "outputs": [
    {
     "output_type": "stream",
     "name": "stdout",
     "text": [
      "Creating SOM of shape ListWrapper([10, 10]) with weight dimension ListWrapper([784])\n",
      "WARNING:tensorflow:Trace already enabled\n",
      "========= Batch 0 ======= KL_Loss: 3.52263451e-05 Distortion: 0.00127601624\n",
      "========= Batch 1 ======= KL_Loss: 5.47766685e-05 Distortion: 0.000591278076\n",
      "========= Batch 2 ======= KL_Loss: 8.06450844e-05 Distortion: 0.000274419785\n",
      "========= Batch 3 ======= KL_Loss: 9.40561295e-05 Distortion: 0.00011920929\n",
      "========= Batch 4 ======= KL_Loss: 0.000115334988 Distortion: 5.81741333e-05\n",
      "========= Batch 5 ======= KL_Loss: 0.000116407871 Distortion: 1.87158585e-05\n",
      "========= Batch 6 ======= KL_Loss: 0.000108957291 Distortion: -6.55651093e-07\n",
      "========= Batch 7 ======= KL_Loss: 0.000145435333 Distortion: 1.9133091e-05\n",
      "========= Batch 8 ======= KL_Loss: 0.000149011612 Distortion: -2.86102295e-06\n",
      "========= Batch 9 ======= KL_Loss: 0.000111341476 Distortion: -2.74181366e-06\n",
      "========= Batch 10 ======= KL_Loss: 0.000141859055 Distortion: -7.15255737e-07\n",
      "========= Batch 11 ======= KL_Loss: 0.000148773193 Distortion: -1.01923943e-05\n",
      "========= Batch 12 ======= KL_Loss: 0.000119268894 Distortion: -2.24709511e-05\n",
      "========= Batch 13 ======= KL_Loss: 0.000131487846 Distortion: 0\n",
      "========= Batch 14 ======= KL_Loss: 0.00014436245 Distortion: -1.26957893e-05\n",
      "========= Batch 15 ======= KL_Loss: 0.000132799149 Distortion: 5.54323196e-06\n",
      "========= Batch 16 ======= KL_Loss: 0.000136375427 Distortion: 8.04662704e-06\n",
      "========= Batch 17 ======= KL_Loss: 0.000136256218 Distortion: -1.66893e-06\n",
      "========= Batch 18 ======= KL_Loss: 0.000135302544 Distortion: 3.33786e-06\n",
      "========= Batch 19 ======= KL_Loss: 0.000105679035 Distortion: -1.31726265e-05\n",
      "========= Batch 20 ======= KL_Loss: 0.000119447708 Distortion: -6.19888306e-06\n",
      "========= Batch 21 ======= KL_Loss: 0.000138401985 Distortion: 5.30481339e-06\n",
      "========= Batch 22 ======= KL_Loss: 0.000120222569 Distortion: -2.02655792e-06\n",
      "========= Batch 23 ======= KL_Loss: 0.000135064125 Distortion: 2.62260437e-06\n",
      "========= Batch 24 ======= KL_Loss: 0.0001257658 Distortion: -9.41753387e-06\n",
      "========= Batch 25 ======= KL_Loss: 0.000123143196 Distortion: 8.16583633e-06\n",
      "========= Batch 26 ======= KL_Loss: 0.000128388405 Distortion: -6.49690628e-06\n",
      "========= Batch 27 ======= KL_Loss: 0.000140666962 Distortion: 3.69548798e-06\n",
      "========= Batch 28 ======= KL_Loss: 0.000129580498 Distortion: 9.05990601e-06\n",
      "========= Batch 29 ======= KL_Loss: 0.000122070312 Distortion: 5.06639481e-06\n"
     ]
    }
   ],
   "source": [
    "# Set up logging and Tracing.\n",
    "\n",
    "#tf.profiler.experimental.start('logs/neural_map_v1/profile')\n",
    "\n",
    "# Fetch Dataset\n",
    "(x_train, _), (_, _) = tf.keras.datasets.mnist.load_data()\n",
    "x_train = tf.cast(tf.reshape(x_train, (x_train.shape[0], -1)),\n",
    "                    dtype=tf.float16) / 255\n",
    "# Feed unsupervised average to initialize\n",
    "#data_avg = tf.reduce_mean(x_train, axis=0)\n",
    "#print('data_avg: ', data_avg.shape)\n",
    "\n",
    "# Call only one tf.function when tracing.\n",
    "shape = [10, 10]\n",
    "iterations = 5\n",
    "batch_size = 2000\n",
    "neural_map = NeuralMap(\n",
    "    shape=shape,\n",
    "    embed_dim=[784],\n",
    "    dtype=tf.float16,\n",
    "    alpha=(3.0 / 5.0 *\n",
    "            iterations),  # how quickly the neighborhood region shrinks.\n",
    "    sigma_0=15,  # max size of the neighborhood region \n",
    "    eta_0=0.3,\n",
    "    map_init=None)\n",
    "# Data\n",
    "train_ds = tf.data.Dataset.from_tensor_slices(x_train).shuffle(\n",
    "    buffer_size=3 * batch_size).batch(batch_size)\n",
    "# Metrics\n",
    "kl_loss = tf.keras.metrics.Mean()\n",
    "distortion = tf.keras.metrics.Mean()\n",
    "\n",
    "# Logging material here\n",
    "stamp = datetime.now().strftime(\"%Y%m%d-%H%M%S\")\n",
    "logdir = 'logs/neural_map_v1/%s' % stamp\n",
    "writer = tf.summary.create_file_writer(logdir)\n",
    "tf.summary.trace_on(graph=True, profiler=True)\n",
    "\n",
    "training_loop(neural_map, train_ds, kl_loss, distortion, iterations)\n"
   ]
  },
  {
   "cell_type": "code",
   "execution_count": 80,
   "metadata": {},
   "outputs": [],
   "source": [
    "x = tf.cast(neural_map.SOM, dtype = tf.float32)"
   ]
  },
  {
   "cell_type": "code",
   "execution_count": 81,
   "metadata": {},
   "outputs": [],
   "source": [
    "a = tf.reshape(x, [100,28, 28])"
   ]
  },
  {
   "cell_type": "code",
   "execution_count": 83,
   "metadata": {},
   "outputs": [],
   "source": [
    "split = tf.unstack(a, axis = 0)"
   ]
  },
  {
   "cell_type": "code",
   "execution_count": 86,
   "metadata": {},
   "outputs": [
    {
     "output_type": "execute_result",
     "data": {
      "text/plain": [
       "<tf.Tensor: shape=(28, 2800), dtype=float32, numpy=\n",
       "array([[ 5.9604645e-08, -5.9604645e-08, -5.9604645e-08, ...,\n",
       "        -5.9604645e-08,  5.9604645e-08,  5.9604645e-08],\n",
       "       [ 5.9604645e-08, -5.9604645e-08,  5.9604645e-08, ...,\n",
       "        -5.9604645e-08, -5.9604645e-08, -5.9604645e-08],\n",
       "       [ 5.9604645e-08,  5.9604645e-08,  5.9604645e-08, ...,\n",
       "         3.0994415e-06, -5.9604645e-08, -5.9604645e-08],\n",
       "       ...,\n",
       "       [-5.9604645e-08,  5.9604645e-08,  2.1815300e-05, ...,\n",
       "         2.9444695e-05,  5.9604645e-08,  5.9604645e-08],\n",
       "       [ 5.9604645e-08,  5.9604645e-08, -5.9604645e-08, ...,\n",
       "         1.7881393e-07, -5.9604645e-08,  5.9604645e-08],\n",
       "       [ 5.9604645e-08, -5.9604645e-08,  5.9604645e-08, ...,\n",
       "         5.9604645e-08, -5.9604645e-08,  5.9604645e-08]], dtype=float32)>"
      ]
     },
     "metadata": {},
     "execution_count": 86
    }
   ],
   "source": [
    "tf.concat(tf.unstack(a, axis = 0), axis = 1)"
   ]
  },
  {
   "cell_type": "code",
   "execution_count": 60,
   "metadata": {},
   "outputs": [
    {
     "output_type": "execute_result",
     "data": {
      "text/plain": [
       "TensorShape([100, 28, 28])"
      ]
     },
     "metadata": {},
     "execution_count": 60
    }
   ],
   "source": [
    "a.shape"
   ]
  },
  {
   "cell_type": "code",
   "execution_count": 56,
   "metadata": {},
   "outputs": [],
   "source": [
    "b = tf.concat(a, axis  = 2)"
   ]
  },
  {
   "cell_type": "code",
   "execution_count": 52,
   "metadata": {},
   "outputs": [
    {
     "output_type": "execute_result",
     "data": {
      "text/plain": [
       "TensorShape([10, 10, 28, 28])"
      ]
     },
     "metadata": {},
     "execution_count": 52
    }
   ],
   "source": [
    "b.shape"
   ]
  },
  {
   "cell_type": "code",
   "execution_count": null,
   "metadata": {},
   "outputs": [],
   "source": [
    "a = tf.reshape(a, [10])"
   ]
  },
  {
   "cell_type": "code",
   "execution_count": 140,
   "metadata": {},
   "outputs": [
    {
     "output_type": "execute_result",
     "data": {
      "text/plain": [
       "<matplotlib.image.AxesImage at 0x7f305c11a6d0>"
      ]
     },
     "metadata": {},
     "execution_count": 140
    },
    {
     "output_type": "display_data",
     "data": {
      "text/plain": "<Figure size 432x288 with 1 Axes>",
      "image/svg+xml": "<?xml version=\"1.0\" encoding=\"utf-8\" standalone=\"no\"?>\n<!DOCTYPE svg PUBLIC \"-//W3C//DTD SVG 1.1//EN\"\n  \"http://www.w3.org/Graphics/SVG/1.1/DTD/svg11.dtd\">\n<!-- Created with matplotlib (https://matplotlib.org/) -->\n<svg height=\"251.929058pt\" version=\"1.1\" viewBox=\"0 0 257.9275 251.929058\" width=\"257.9275pt\" xmlns=\"http://www.w3.org/2000/svg\" xmlns:xlink=\"http://www.w3.org/1999/xlink\">\n <metadata>\n  <rdf:RDF xmlns:cc=\"http://creativecommons.org/ns#\" xmlns:dc=\"http://purl.org/dc/elements/1.1/\" xmlns:rdf=\"http://www.w3.org/1999/02/22-rdf-syntax-ns#\">\n   <cc:Work>\n    <dc:type rdf:resource=\"http://purl.org/dc/dcmitype/StillImage\"/>\n    <dc:date>2020-10-21T10:58:55.939359</dc:date>\n    <dc:format>image/svg+xml</dc:format>\n    <dc:creator>\n     <cc:Agent>\n      <dc:title>Matplotlib v3.3.1, https://matplotlib.org/</dc:title>\n     </cc:Agent>\n    </dc:creator>\n   </cc:Work>\n  </rdf:RDF>\n </metadata>\n <defs>\n  <style type=\"text/css\">*{stroke-linecap:butt;stroke-linejoin:round;}</style>\n </defs>\n <g id=\"figure_1\">\n  <g id=\"patch_1\">\n   <path d=\"M 0 251.929058 \nL 257.9275 251.929058 \nL 257.9275 0 \nL 0 0 \nz\n\" style=\"fill:none;\"/>\n  </g>\n  <g id=\"axes_1\">\n   <g id=\"patch_2\">\n    <path d=\"M 33.2875 228.050933 \nL 250.7275 228.050933 \nL 250.7275 10.610933 \nL 33.2875 10.610933 \nz\n\" style=\"fill:#ffffff;\"/>\n   </g>\n   <g clip-path=\"url(#pa2315d51f0)\">\n    <image height=\"218\" id=\"image79012c29d2\" transform=\"scale(1 -1)translate(0 -218)\" width=\"218\" x=\"33.2875\" xlink:href=\"data:image/png;base64,\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\" y=\"-10.050933\"/>\n   </g>\n   <g id=\"matplotlib.axis_1\">\n    <g id=\"xtick_1\">\n     <g id=\"line2d_1\">\n      <defs>\n       <path d=\"M 0 0 \nL 0 3.5 \n\" id=\"m30f3453376\" style=\"stroke:#000000;stroke-width:0.8;\"/>\n      </defs>\n      <g>\n       <use style=\"stroke:#000000;stroke-width:0.8;\" x=\"33.675786\" xlink:href=\"#m30f3453376\" y=\"228.050933\"/>\n      </g>\n     </g>\n     <g id=\"text_1\">\n      <!-- 0 -->\n      <g transform=\"translate(30.494536 242.649371)scale(0.1 -0.1)\">\n       <defs>\n        <path d=\"M 31.78125 66.40625 \nQ 24.171875 66.40625 20.328125 58.90625 \nQ 16.5 51.421875 16.5 36.375 \nQ 16.5 21.390625 20.328125 13.890625 \nQ 24.171875 6.390625 31.78125 6.390625 \nQ 39.453125 6.390625 43.28125 13.890625 \nQ 47.125 21.390625 47.125 36.375 \nQ 47.125 51.421875 43.28125 58.90625 \nQ 39.453125 66.40625 31.78125 66.40625 \nz\nM 31.78125 74.21875 \nQ 44.046875 74.21875 50.515625 64.515625 \nQ 56.984375 54.828125 56.984375 36.375 \nQ 56.984375 17.96875 50.515625 8.265625 \nQ 44.046875 -1.421875 31.78125 -1.421875 \nQ 19.53125 -1.421875 13.0625 8.265625 \nQ 6.59375 17.96875 6.59375 36.375 \nQ 6.59375 54.828125 13.0625 64.515625 \nQ 19.53125 74.21875 31.78125 74.21875 \nz\n\" id=\"DejaVuSans-48\"/>\n       </defs>\n       <use xlink:href=\"#DejaVuSans-48\"/>\n      </g>\n     </g>\n    </g>\n    <g id=\"xtick_2\">\n     <g id=\"line2d_2\">\n      <g>\n       <use style=\"stroke:#000000;stroke-width:0.8;\" x=\"72.504357\" xlink:href=\"#m30f3453376\" y=\"228.050933\"/>\n      </g>\n     </g>\n     <g id=\"text_2\">\n      <!-- 50 -->\n      <g transform=\"translate(66.141857 242.649371)scale(0.1 -0.1)\">\n       <defs>\n        <path d=\"M 10.796875 72.90625 \nL 49.515625 72.90625 \nL 49.515625 64.59375 \nL 19.828125 64.59375 \nL 19.828125 46.734375 \nQ 21.96875 47.46875 24.109375 47.828125 \nQ 26.265625 48.1875 28.421875 48.1875 \nQ 40.625 48.1875 47.75 41.5 \nQ 54.890625 34.8125 54.890625 23.390625 \nQ 54.890625 11.625 47.5625 5.09375 \nQ 40.234375 -1.421875 26.90625 -1.421875 \nQ 22.3125 -1.421875 17.546875 -0.640625 \nQ 12.796875 0.140625 7.71875 1.703125 \nL 7.71875 11.625 \nQ 12.109375 9.234375 16.796875 8.0625 \nQ 21.484375 6.890625 26.703125 6.890625 \nQ 35.15625 6.890625 40.078125 11.328125 \nQ 45.015625 15.765625 45.015625 23.390625 \nQ 45.015625 31 40.078125 35.4375 \nQ 35.15625 39.890625 26.703125 39.890625 \nQ 22.75 39.890625 18.8125 39.015625 \nQ 14.890625 38.140625 10.796875 36.28125 \nz\n\" id=\"DejaVuSans-53\"/>\n       </defs>\n       <use xlink:href=\"#DejaVuSans-53\"/>\n       <use x=\"63.623047\" xlink:href=\"#DejaVuSans-48\"/>\n      </g>\n     </g>\n    </g>\n    <g id=\"xtick_3\">\n     <g id=\"line2d_3\">\n      <g>\n       <use style=\"stroke:#000000;stroke-width:0.8;\" x=\"111.332929\" xlink:href=\"#m30f3453376\" y=\"228.050933\"/>\n      </g>\n     </g>\n     <g id=\"text_3\">\n      <!-- 100 -->\n      <g transform=\"translate(101.789179 242.649371)scale(0.1 -0.1)\">\n       <defs>\n        <path d=\"M 12.40625 8.296875 \nL 28.515625 8.296875 \nL 28.515625 63.921875 \nL 10.984375 60.40625 \nL 10.984375 69.390625 \nL 28.421875 72.90625 \nL 38.28125 72.90625 \nL 38.28125 8.296875 \nL 54.390625 8.296875 \nL 54.390625 0 \nL 12.40625 0 \nz\n\" id=\"DejaVuSans-49\"/>\n       </defs>\n       <use xlink:href=\"#DejaVuSans-49\"/>\n       <use x=\"63.623047\" xlink:href=\"#DejaVuSans-48\"/>\n       <use x=\"127.246094\" xlink:href=\"#DejaVuSans-48\"/>\n      </g>\n     </g>\n    </g>\n    <g id=\"xtick_4\">\n     <g id=\"line2d_4\">\n      <g>\n       <use style=\"stroke:#000000;stroke-width:0.8;\" x=\"150.1615\" xlink:href=\"#m30f3453376\" y=\"228.050933\"/>\n      </g>\n     </g>\n     <g id=\"text_4\">\n      <!-- 150 -->\n      <g transform=\"translate(140.61775 242.649371)scale(0.1 -0.1)\">\n       <use xlink:href=\"#DejaVuSans-49\"/>\n       <use x=\"63.623047\" xlink:href=\"#DejaVuSans-53\"/>\n       <use x=\"127.246094\" xlink:href=\"#DejaVuSans-48\"/>\n      </g>\n     </g>\n    </g>\n    <g id=\"xtick_5\">\n     <g id=\"line2d_5\">\n      <g>\n       <use style=\"stroke:#000000;stroke-width:0.8;\" x=\"188.990071\" xlink:href=\"#m30f3453376\" y=\"228.050933\"/>\n      </g>\n     </g>\n     <g id=\"text_5\">\n      <!-- 200 -->\n      <g transform=\"translate(179.446321 242.649371)scale(0.1 -0.1)\">\n       <defs>\n        <path d=\"M 19.1875 8.296875 \nL 53.609375 8.296875 \nL 53.609375 0 \nL 7.328125 0 \nL 7.328125 8.296875 \nQ 12.9375 14.109375 22.625 23.890625 \nQ 32.328125 33.6875 34.8125 36.53125 \nQ 39.546875 41.84375 41.421875 45.53125 \nQ 43.3125 49.21875 43.3125 52.78125 \nQ 43.3125 58.59375 39.234375 62.25 \nQ 35.15625 65.921875 28.609375 65.921875 \nQ 23.96875 65.921875 18.8125 64.3125 \nQ 13.671875 62.703125 7.8125 59.421875 \nL 7.8125 69.390625 \nQ 13.765625 71.78125 18.9375 73 \nQ 24.125 74.21875 28.421875 74.21875 \nQ 39.75 74.21875 46.484375 68.546875 \nQ 53.21875 62.890625 53.21875 53.421875 \nQ 53.21875 48.921875 51.53125 44.890625 \nQ 49.859375 40.875 45.40625 35.40625 \nQ 44.1875 33.984375 37.640625 27.21875 \nQ 31.109375 20.453125 19.1875 8.296875 \nz\n\" id=\"DejaVuSans-50\"/>\n       </defs>\n       <use xlink:href=\"#DejaVuSans-50\"/>\n       <use x=\"63.623047\" xlink:href=\"#DejaVuSans-48\"/>\n       <use x=\"127.246094\" xlink:href=\"#DejaVuSans-48\"/>\n      </g>\n     </g>\n    </g>\n    <g id=\"xtick_6\">\n     <g id=\"line2d_6\">\n      <g>\n       <use style=\"stroke:#000000;stroke-width:0.8;\" x=\"227.818643\" xlink:href=\"#m30f3453376\" y=\"228.050933\"/>\n      </g>\n     </g>\n     <g id=\"text_6\">\n      <!-- 250 -->\n      <g transform=\"translate(218.274893 242.649371)scale(0.1 -0.1)\">\n       <use xlink:href=\"#DejaVuSans-50\"/>\n       <use x=\"63.623047\" xlink:href=\"#DejaVuSans-53\"/>\n       <use x=\"127.246094\" xlink:href=\"#DejaVuSans-48\"/>\n      </g>\n     </g>\n    </g>\n   </g>\n   <g id=\"matplotlib.axis_2\">\n    <g id=\"ytick_1\">\n     <g id=\"line2d_7\">\n      <defs>\n       <path d=\"M 0 0 \nL -3.5 0 \n\" id=\"m45760ed11a\" style=\"stroke:#000000;stroke-width:0.8;\"/>\n      </defs>\n      <g>\n       <use style=\"stroke:#000000;stroke-width:0.8;\" x=\"33.2875\" xlink:href=\"#m45760ed11a\" y=\"10.999219\"/>\n      </g>\n     </g>\n     <g id=\"text_7\">\n      <!-- 0 -->\n      <g transform=\"translate(19.925 14.798438)scale(0.1 -0.1)\">\n       <use xlink:href=\"#DejaVuSans-48\"/>\n      </g>\n     </g>\n    </g>\n    <g id=\"ytick_2\">\n     <g id=\"line2d_8\">\n      <g>\n       <use style=\"stroke:#000000;stroke-width:0.8;\" x=\"33.2875\" xlink:href=\"#m45760ed11a\" y=\"49.82779\"/>\n      </g>\n     </g>\n     <g id=\"text_8\">\n      <!-- 50 -->\n      <g transform=\"translate(13.5625 53.627009)scale(0.1 -0.1)\">\n       <use xlink:href=\"#DejaVuSans-53\"/>\n       <use x=\"63.623047\" xlink:href=\"#DejaVuSans-48\"/>\n      </g>\n     </g>\n    </g>\n    <g id=\"ytick_3\">\n     <g id=\"line2d_9\">\n      <g>\n       <use style=\"stroke:#000000;stroke-width:0.8;\" x=\"33.2875\" xlink:href=\"#m45760ed11a\" y=\"88.656362\"/>\n      </g>\n     </g>\n     <g id=\"text_9\">\n      <!-- 100 -->\n      <g transform=\"translate(7.2 92.45558)scale(0.1 -0.1)\">\n       <use xlink:href=\"#DejaVuSans-49\"/>\n       <use x=\"63.623047\" xlink:href=\"#DejaVuSans-48\"/>\n       <use x=\"127.246094\" xlink:href=\"#DejaVuSans-48\"/>\n      </g>\n     </g>\n    </g>\n    <g id=\"ytick_4\">\n     <g id=\"line2d_10\">\n      <g>\n       <use style=\"stroke:#000000;stroke-width:0.8;\" x=\"33.2875\" xlink:href=\"#m45760ed11a\" y=\"127.484933\"/>\n      </g>\n     </g>\n     <g id=\"text_10\">\n      <!-- 150 -->\n      <g transform=\"translate(7.2 131.284152)scale(0.1 -0.1)\">\n       <use xlink:href=\"#DejaVuSans-49\"/>\n       <use x=\"63.623047\" xlink:href=\"#DejaVuSans-53\"/>\n       <use x=\"127.246094\" xlink:href=\"#DejaVuSans-48\"/>\n      </g>\n     </g>\n    </g>\n    <g id=\"ytick_5\">\n     <g id=\"line2d_11\">\n      <g>\n       <use style=\"stroke:#000000;stroke-width:0.8;\" x=\"33.2875\" xlink:href=\"#m45760ed11a\" y=\"166.313504\"/>\n      </g>\n     </g>\n     <g id=\"text_11\">\n      <!-- 200 -->\n      <g transform=\"translate(7.2 170.112723)scale(0.1 -0.1)\">\n       <use xlink:href=\"#DejaVuSans-50\"/>\n       <use x=\"63.623047\" xlink:href=\"#DejaVuSans-48\"/>\n       <use x=\"127.246094\" xlink:href=\"#DejaVuSans-48\"/>\n      </g>\n     </g>\n    </g>\n    <g id=\"ytick_6\">\n     <g id=\"line2d_12\">\n      <g>\n       <use style=\"stroke:#000000;stroke-width:0.8;\" x=\"33.2875\" xlink:href=\"#m45760ed11a\" y=\"205.142076\"/>\n      </g>\n     </g>\n     <g id=\"text_12\">\n      <!-- 250 -->\n      <g transform=\"translate(7.2 208.941295)scale(0.1 -0.1)\">\n       <use xlink:href=\"#DejaVuSans-50\"/>\n       <use x=\"63.623047\" xlink:href=\"#DejaVuSans-53\"/>\n       <use x=\"127.246094\" xlink:href=\"#DejaVuSans-48\"/>\n      </g>\n     </g>\n    </g>\n   </g>\n   <g id=\"patch_3\">\n    <path d=\"M 33.2875 228.050933 \nL 33.2875 10.610933 \n\" style=\"fill:none;stroke:#000000;stroke-linecap:square;stroke-linejoin:miter;stroke-width:0.8;\"/>\n   </g>\n   <g id=\"patch_4\">\n    <path d=\"M 250.7275 228.050933 \nL 250.7275 10.610933 \n\" style=\"fill:none;stroke:#000000;stroke-linecap:square;stroke-linejoin:miter;stroke-width:0.8;\"/>\n   </g>\n   <g id=\"patch_5\">\n    <path d=\"M 33.2875 228.050933 \nL 250.7275 228.050933 \n\" style=\"fill:none;stroke:#000000;stroke-linecap:square;stroke-linejoin:miter;stroke-width:0.8;\"/>\n   </g>\n   <g id=\"patch_6\">\n    <path d=\"M 33.2875 10.610933 \nL 250.7275 10.610933 \n\" style=\"fill:none;stroke:#000000;stroke-linecap:square;stroke-linejoin:miter;stroke-width:0.8;\"/>\n   </g>\n  </g>\n </g>\n <defs>\n  <clipPath id=\"pa2315d51f0\">\n   <rect height=\"217.44\" width=\"217.44\" x=\"33.2875\" y=\"10.610933\"/>\n  </clipPath>\n </defs>\n</svg>\n",
      "image/png": "[encoded data removed]"
     },
     "metadata": {
      "needs_background": "light"
     }
    }
   ],
   "source": [
    "plt.imshow(tensor_to_grid(y).numpy(), cmap = 'gray')"
   ]
  },
  {
   "cell_type": "code",
   "execution_count": 92,
   "metadata": {},
   "outputs": [],
   "source": [
    "test = tf.constant([1,2,3,4,5,6,7,8,9,10,11, 12,13,14,15,16])"
   ]
  },
  {
   "cell_type": "code",
   "execution_count": 99,
   "metadata": {},
   "outputs": [],
   "source": [
    "q = tf.reshape(test, [2,2,2,2])"
   ]
  },
  {
   "cell_type": "code",
   "execution_count": 102,
   "metadata": {},
   "outputs": [
    {
     "output_type": "execute_result",
     "data": {
      "text/plain": [
       "<tf.Tensor: shape=(2, 2, 2, 2), dtype=int32, numpy=\n",
       "array([[[[ 1,  2],\n",
       "         [ 3,  4]],\n",
       "\n",
       "        [[ 5,  6],\n",
       "         [ 7,  8]]],\n",
       "\n",
       "\n",
       "       [[[ 9, 10],\n",
       "         [11, 12]],\n",
       "\n",
       "        [[13, 14],\n",
       "         [15, 16]]]], dtype=int32)>"
      ]
     },
     "metadata": {},
     "execution_count": 102
    }
   ],
   "source": [
    "q"
   ]
  },
  {
   "cell_type": "code",
   "execution_count": 105,
   "metadata": {},
   "outputs": [],
   "source": [
    "rows = tf.unstack(q, axis = 0)"
   ]
  },
  {
   "source": [
    "rows"
   ],
   "cell_type": "markdown",
   "metadata": {}
  },
  {
   "cell_type": "code",
   "execution_count": 112,
   "metadata": {},
   "outputs": [],
   "source": [
    "concat_across_x = [tf.concat(tf.unstack(x, axis = 0),axis=1) for x in rows]"
   ]
  },
  {
   "cell_type": "code",
   "execution_count": 113,
   "metadata": {},
   "outputs": [
    {
     "output_type": "execute_result",
     "data": {
      "text/plain": [
       "[<tf.Tensor: shape=(2, 4), dtype=int32, numpy=\n",
       " array([[1, 2, 5, 6],\n",
       "        [3, 4, 7, 8]], dtype=int32)>,\n",
       " <tf.Tensor: shape=(2, 4), dtype=int32, numpy=\n",
       " array([[ 9, 10, 13, 14],\n",
       "        [11, 12, 15, 16]], dtype=int32)>]"
      ]
     },
     "metadata": {},
     "execution_count": 113
    }
   ],
   "source": [
    "concat_across_x"
   ]
  },
  {
   "cell_type": "code",
   "execution_count": 114,
   "metadata": {},
   "outputs": [
    {
     "output_type": "execute_result",
     "data": {
      "text/plain": [
       "<tf.Tensor: shape=(4, 4), dtype=int32, numpy=\n",
       "array([[ 1,  2,  5,  6],\n",
       "       [ 3,  4,  7,  8],\n",
       "       [ 9, 10, 13, 14],\n",
       "       [11, 12, 15, 16]], dtype=int32)>"
      ]
     },
     "metadata": {},
     "execution_count": 114
    }
   ],
   "source": [
    "tf.concat(concat_across_x, axis = 0)"
   ]
  },
  {
   "cell_type": "code",
   "execution_count": 116,
   "metadata": {},
   "outputs": [],
   "source": [
    "def tensor_to_grid(x):\n",
    "    '''Shape x: [X,Y, D1,D2,D3,D4]\n",
    "    '''\n",
    "    rows = tf.unstack(x, axis = 0)\n",
    "    concat_across_x = [tf.concat(tf.unstack(x, axis = 0),axis=1) for x in rows]\n",
    "    return tf.concat(concat_across_x, axis = 0)"
   ]
  },
  {
   "cell_type": "code",
   "execution_count": 126,
   "metadata": {},
   "outputs": [],
   "source": [
    "y = tf.reshape(x, [10,10,28,28])"
   ]
  },
  {
   "cell_type": "code",
   "execution_count": 129,
   "metadata": {},
   "outputs": [],
   "source": [
    "rows = tf.unstack(y, axis = 0)\n"
   ]
  },
  {
   "cell_type": "code",
   "execution_count": null,
   "metadata": {},
   "outputs": [],
   "source": [
    "\n",
    "tf.pad()"
   ]
  },
  {
   "cell_type": "code",
   "execution_count": 130,
   "metadata": {},
   "outputs": [],
   "source": [
    "concat_across_x = [tf.concat(tf.unstack(x, axis = 0),axis=1) for x in rows]\n"
   ]
  },
  {
   "cell_type": "code",
   "execution_count": 132,
   "metadata": {},
   "outputs": [],
   "source": [
    "grid = tf.concat(concat_across_x, axis = 0)"
   ]
  },
  {
   "cell_type": "code",
   "execution_count": 136,
   "metadata": {},
   "outputs": [
    {
     "output_type": "execute_result",
     "data": {
      "text/plain": [
       "<tf.Tensor: shape=(2,), dtype=int32, numpy=array([280, 280], dtype=int32)>"
      ]
     },
     "metadata": {},
     "execution_count": 136
    }
   ],
   "source": [
    "tf.shape(grid)"
   ]
  },
  {
   "cell_type": "code",
   "execution_count": 138,
   "metadata": {},
   "outputs": [
    {
     "output_type": "execute_result",
     "data": {
      "text/plain": [
       "<tf.Tensor: shape=(4,), dtype=int32, numpy=array([  1, 280, 280,   1], dtype=int32)>"
      ]
     },
     "metadata": {},
     "execution_count": 138
    }
   ],
   "source": [
    "tf.concat([tf.constant([1]), tf.shape(grid), tf.constant([1])], axis = 0)"
   ]
  },
  {
   "cell_type": "code",
   "execution_count": 139,
   "metadata": {},
   "outputs": [
    {
     "output_type": "execute_result",
     "data": {
      "text/plain": [
       "<tf.Tensor: shape=(1, 280, 280, 1), dtype=float32, numpy=\n",
       "array([[[[ 5.9604645e-08],\n",
       "         [-5.9604645e-08],\n",
       "         [-5.9604645e-08],\n",
       "         ...,\n",
       "         [-5.9604645e-08],\n",
       "         [-5.9604645e-08],\n",
       "         [-5.9604645e-08]],\n",
       "\n",
       "        [[ 5.9604645e-08],\n",
       "         [-5.9604645e-08],\n",
       "         [ 5.9604645e-08],\n",
       "         ...,\n",
       "         [-5.9604645e-08],\n",
       "         [-5.9604645e-08],\n",
       "         [ 5.9604645e-08]],\n",
       "\n",
       "        [[ 5.9604645e-08],\n",
       "         [ 5.9604645e-08],\n",
       "         [ 5.9604645e-08],\n",
       "         ...,\n",
       "         [ 3.3974648e-06],\n",
       "         [-5.9604645e-08],\n",
       "         [-5.9604645e-08]],\n",
       "\n",
       "        ...,\n",
       "\n",
       "        [[ 5.9604645e-08],\n",
       "         [-5.9604645e-08],\n",
       "         [ 2.1338463e-05],\n",
       "         ...,\n",
       "         [ 2.9444695e-05],\n",
       "         [ 5.9604645e-08],\n",
       "         [ 5.9604645e-08]],\n",
       "\n",
       "        [[ 5.9604645e-08],\n",
       "         [ 5.9604645e-08],\n",
       "         [ 5.9604645e-08],\n",
       "         ...,\n",
       "         [ 1.7881393e-07],\n",
       "         [-5.9604645e-08],\n",
       "         [ 5.9604645e-08]],\n",
       "\n",
       "        [[-5.9604645e-08],\n",
       "         [ 5.9604645e-08],\n",
       "         [-5.9604645e-08],\n",
       "         ...,\n",
       "         [ 5.9604645e-08],\n",
       "         [-5.9604645e-08],\n",
       "         [ 5.9604645e-08]]]], dtype=float32)>"
      ]
     },
     "metadata": {},
     "execution_count": 139
    }
   ],
   "source": [
    "tf.reshape(grid, shape = tf.concat([tf.constant([1]), tf.shape(grid), tf.constant([1])], axis = 0)) "
   ]
  },
  {
   "cell_type": "code",
   "execution_count": null,
   "metadata": {},
   "outputs": [],
   "source": [
    "concat_across_x = [tf.concat(tf.unstack(x, axis = 0),axis=1) for x in rows]\n",
    "return tf.concat(concat_across_x, axis = 0)"
   ]
  },
  {
   "cell_type": "code",
   "execution_count": 104,
   "metadata": {},
   "outputs": [
    {
     "output_type": "execute_result",
     "data": {
      "text/plain": [
       "<tf.Tensor: shape=(2, 2, 4), dtype=int32, numpy=\n",
       "array([[[ 1,  2,  9, 10],\n",
       "        [ 3,  4, 11, 12]],\n",
       "\n",
       "       [[ 5,  6, 13, 14],\n",
       "        [ 7,  8, 15, 16]]], dtype=int32)>"
      ]
     },
     "metadata": {},
     "execution_count": 104
    }
   ],
   "source": [
    "tf.concat(tf.unstack(q, axis = 0), axis = 2)"
   ]
  },
  {
   "cell_type": "code",
   "execution_count": 171,
   "metadata": {},
   "outputs": [
    {
     "output_type": "execute_result",
     "data": {
      "text/plain": [
       "<tf.Tensor: shape=(280, 280), dtype=float16, numpy=\n",
       "array([[ 5.960e-08, -5.960e-08, -5.960e-08, ..., -5.960e-08, -5.960e-08,\n",
       "        -5.960e-08],\n",
       "       [ 5.960e-08, -5.960e-08,  5.960e-08, ..., -5.960e-08, -5.960e-08,\n",
       "         5.960e-08],\n",
       "       [ 5.960e-08,  5.960e-08,  5.960e-08, ...,  3.397e-06, -5.960e-08,\n",
       "        -5.960e-08],\n",
       "       ...,\n",
       "       [ 5.960e-08, -5.960e-08,  2.134e-05, ...,  2.944e-05,  5.960e-08,\n",
       "         5.960e-08],\n",
       "       [ 5.960e-08,  5.960e-08,  5.960e-08, ...,  1.788e-07, -5.960e-08,\n",
       "         5.960e-08],\n",
       "       [-5.960e-08,  5.960e-08, -5.960e-08, ...,  5.960e-08, -5.960e-08,\n",
       "         5.960e-08]], dtype=float16)>"
      ]
     },
     "metadata": {},
     "execution_count": 171
    }
   ],
   "source": [
    "rows = tf.unstack(x, axis=0)\n",
    "concat_across_x = [tf.concat(tf.unstack(x, axis=0), axis=1) for x in rows]\n",
    "tf.concat(concat_across_x, axis=0)"
   ]
  },
  {
   "cell_type": "code",
   "execution_count": 180,
   "metadata": {},
   "outputs": [
    {
     "output_type": "execute_result",
     "data": {
      "text/plain": [
       "<tf.Tensor: shape=(2, 2, 2, 2), dtype=int32, numpy=\n",
       "array([[[[ 1,  2],\n",
       "         [ 3,  4]],\n",
       "\n",
       "        [[ 5,  6],\n",
       "         [ 7,  8]]],\n",
       "\n",
       "\n",
       "       [[[ 9, 10],\n",
       "         [11, 12]],\n",
       "\n",
       "        [[13, 14],\n",
       "         [15, 16]]]], dtype=int32)>"
      ]
     },
     "metadata": {},
     "execution_count": 180
    }
   ],
   "source": [
    "q"
   ]
  },
  {
   "cell_type": "code",
   "execution_count": 179,
   "metadata": {},
   "outputs": [
    {
     "output_type": "execute_result",
     "data": {
      "text/plain": [
       "[<tf.Tensor: shape=(2, 2, 2), dtype=int32, numpy=\n",
       " array([[[1, 2],\n",
       "         [3, 4]],\n",
       " \n",
       "        [[5, 6],\n",
       "         [7, 8]]], dtype=int32)>,\n",
       " <tf.Tensor: shape=(2, 2, 2), dtype=int32, numpy=\n",
       " array([[[ 9, 10],\n",
       "         [11, 12]],\n",
       " \n",
       "        [[13, 14],\n",
       "         [15, 16]]], dtype=int32)>]"
      ]
     },
     "metadata": {},
     "execution_count": 179
    }
   ],
   "source": [
    "tf.unstack(tf.unstack(q, axis=0), axis = 0)"
   ]
  },
  {
   "cell_type": "code",
   "execution_count": 177,
   "metadata": {},
   "outputs": [
    {
     "output_type": "execute_result",
     "data": {
      "text/plain": [
       "<tf.Tensor: shape=(10, 280, 28), dtype=float16, numpy=\n",
       "array([[[ 5.960e-08, -5.960e-08, -5.960e-08, ..., -5.960e-08,\n",
       "         -5.960e-08,  5.960e-08],\n",
       "        [ 5.960e-08, -5.960e-08,  5.960e-08, ...,  5.960e-08,\n",
       "          5.960e-08, -5.960e-08],\n",
       "        [ 5.960e-08,  5.960e-08,  5.960e-08, ...,  6.080e-06,\n",
       "          5.960e-08, -5.960e-08],\n",
       "        ...,\n",
       "        [ 5.960e-08, -5.960e-08,  2.134e-05, ...,  2.140e-05,\n",
       "          5.960e-08, -5.960e-08],\n",
       "        [ 5.960e-08,  5.960e-08,  5.960e-08, ...,  1.788e-07,\n",
       "          5.960e-08,  5.960e-08],\n",
       "        [-5.960e-08,  5.960e-08, -5.960e-08, ..., -5.960e-08,\n",
       "          5.960e-08, -5.960e-08]],\n",
       "\n",
       "       [[ 5.960e-08,  5.960e-08, -5.960e-08, ...,  5.960e-08,\n",
       "          5.960e-08, -5.960e-08],\n",
       "        [ 5.960e-08, -5.960e-08, -5.960e-08, ..., -5.960e-08,\n",
       "         -5.960e-08,  5.960e-08],\n",
       "        [ 5.960e-08, -5.960e-08,  5.960e-08, ...,  5.305e-06,\n",
       "          5.960e-08, -5.960e-08],\n",
       "        ...,\n",
       "        [ 5.960e-08, -5.960e-08,  2.235e-05, ...,  2.182e-05,\n",
       "          5.960e-08,  5.960e-08],\n",
       "        [ 5.960e-08,  5.960e-08,  5.960e-08, ...,  1.788e-07,\n",
       "         -5.960e-08,  5.960e-08],\n",
       "        [-5.960e-08,  5.960e-08, -5.960e-08, ..., -5.960e-08,\n",
       "          5.960e-08, -5.960e-08]],\n",
       "\n",
       "       [[-5.960e-08,  5.960e-08, -5.960e-08, ...,  5.960e-08,\n",
       "         -5.960e-08,  5.960e-08],\n",
       "        [-5.960e-08, -5.960e-08,  5.960e-08, ...,  5.960e-08,\n",
       "         -5.960e-08, -5.960e-08],\n",
       "        [ 5.960e-08,  5.960e-08,  5.960e-08, ...,  4.649e-06,\n",
       "          5.960e-08,  5.960e-08],\n",
       "        ...,\n",
       "        [ 5.960e-08,  5.960e-08,  2.313e-05, ...,  2.235e-05,\n",
       "          5.960e-08,  5.960e-08],\n",
       "        [ 5.960e-08,  5.960e-08, -5.960e-08, ...,  1.788e-07,\n",
       "          5.960e-08, -5.960e-08],\n",
       "        [ 5.960e-08, -5.960e-08,  5.960e-08, ...,  5.960e-08,\n",
       "          5.960e-08, -5.960e-08]],\n",
       "\n",
       "       ...,\n",
       "\n",
       "       [[ 5.960e-08, -5.960e-08,  5.960e-08, ..., -5.960e-08,\n",
       "         -5.960e-08, -5.960e-08],\n",
       "        [ 5.960e-08,  5.960e-08,  5.960e-08, ..., -5.960e-08,\n",
       "         -5.960e-08, -5.960e-08],\n",
       "        [-5.960e-08,  5.960e-08,  5.960e-08, ...,  3.219e-06,\n",
       "         -5.960e-08, -5.960e-08],\n",
       "        ...,\n",
       "        [ 5.960e-08, -5.960e-08,  2.468e-05, ...,  2.676e-05,\n",
       "          5.960e-08,  5.960e-08],\n",
       "        [-5.960e-08,  5.960e-08,  5.960e-08, ...,  1.788e-07,\n",
       "          5.960e-08, -5.960e-08],\n",
       "        [ 5.960e-08, -5.960e-08, -5.960e-08, ...,  5.960e-08,\n",
       "          5.960e-08,  5.960e-08]],\n",
       "\n",
       "       [[-5.960e-08,  5.960e-08,  5.960e-08, ...,  5.960e-08,\n",
       "         -5.960e-08,  5.960e-08],\n",
       "        [-5.960e-08, -5.960e-08, -5.960e-08, ..., -5.960e-08,\n",
       "         -5.960e-08,  5.960e-08],\n",
       "        [-5.960e-08,  5.960e-08,  5.960e-08, ...,  3.278e-06,\n",
       "         -5.960e-08, -5.960e-08],\n",
       "        ...,\n",
       "        [-5.960e-08,  5.960e-08,  2.426e-05, ...,  2.813e-05,\n",
       "          5.960e-08,  5.960e-08],\n",
       "        [-5.960e-08, -5.960e-08, -5.960e-08, ...,  1.788e-07,\n",
       "          5.960e-08, -5.960e-08],\n",
       "        [-5.960e-08, -5.960e-08,  5.960e-08, ...,  5.960e-08,\n",
       "         -5.960e-08, -5.960e-08]],\n",
       "\n",
       "       [[-5.960e-08,  5.960e-08,  5.960e-08, ..., -5.960e-08,\n",
       "         -5.960e-08, -5.960e-08],\n",
       "        [ 5.960e-08, -5.960e-08,  5.960e-08, ..., -5.960e-08,\n",
       "         -5.960e-08,  5.960e-08],\n",
       "        [-5.960e-08,  5.960e-08,  5.960e-08, ...,  3.397e-06,\n",
       "         -5.960e-08, -5.960e-08],\n",
       "        ...,\n",
       "        [ 5.960e-08,  5.960e-08,  2.396e-05, ...,  2.944e-05,\n",
       "          5.960e-08,  5.960e-08],\n",
       "        [-5.960e-08, -5.960e-08, -5.960e-08, ...,  1.788e-07,\n",
       "         -5.960e-08,  5.960e-08],\n",
       "        [ 5.960e-08, -5.960e-08,  5.960e-08, ...,  5.960e-08,\n",
       "         -5.960e-08,  5.960e-08]]], dtype=float16)>"
      ]
     },
     "metadata": {},
     "execution_count": 177
    }
   ],
   "source": [
    "rows = tf.unstack(x, axis=0)\n",
    "concat_across_x = tf.concat(tf.unstack(tf.unstack(x, axis=0), axis=0), axis=1)\n",
    "tf.concat(concat_across_x, axis=0)"
   ]
  },
  {
   "cell_type": "code",
   "execution_count": null,
   "metadata": {},
   "outputs": [],
   "source": [
    "def unstack_pad_concat(x):\n",
    "    eles = tf.unstack(x, axis=0)\n",
    "    \n",
    "    tf.concat(, axis=1)"
   ]
  },
  {
   "cell_type": "code",
   "execution_count": 149,
   "metadata": {},
   "outputs": [],
   "source": [
    "def tensor_to_grid(x, padding):\n",
    "    '''Input Shape x: [X,Y,D1,D2,D3,D4]\n",
    "    '''\n",
    "    rows = tf.unstack(x, axis=0)\n",
    "    concat_across_x = [tf.concat(tf.pad(tf.unstack(x, axis=0), padding), axis=1) for x in rows]\n",
    "    return tf.concat(concat_across_x, axis=0)\n",
    "\n",
    "\n",
    "def som_to_grid(neural_map, pad = 5):\n",
    "    img_size = int(np.sqrt(neural_map.embed_dim))\n",
    "    padding = [[pad, pad], [pad,pad]]\n",
    "    grid = tensor_to_grid(\n",
    "        tf.reshape(neural_map.SOM,\n",
    "                   shape=[\n",
    "                       neural_map.shape[0], neural_map.shape[1], img_size,\n",
    "                       img_size\n",
    "                   ]), padding = padding)\n",
    "    return tf.reshape(grid,\n",
    "                      shape=tf.concat(\n",
    "                          [\n",
    "                           tf.shape(grid),\n",
    "                           tf.constant([1])],\n",
    "                          axis=0))"
   ]
  },
  {
   "cell_type": "code",
   "execution_count": 150,
   "metadata": {},
   "outputs": [
    {
     "output_type": "error",
     "ename": "InvalidArgumentError",
     "evalue": "The first dimension of paddings must be the rank of inputs[2,2] [10,28,28] [Op:Pad]",
     "traceback": [
      "\u001b[0;31m---------------------------------------------------------------------------\u001b[0m",
      "\u001b[0;31m_FallbackException\u001b[0m                        Traceback (most recent call last)",
      "\u001b[0;32m~/miniconda3/envs/memory_gpu/lib/python3.7/site-packages/tensorflow/python/ops/gen_array_ops.py\u001b[0m in \u001b[0;36mpad\u001b[0;34m(input, paddings, name)\u001b[0m\n\u001b[1;32m   6422\u001b[0m         \u001b[0m_ctx\u001b[0m\u001b[0;34m.\u001b[0m\u001b[0m_context_handle\u001b[0m\u001b[0;34m,\u001b[0m \u001b[0mtld\u001b[0m\u001b[0;34m.\u001b[0m\u001b[0mdevice_name\u001b[0m\u001b[0;34m,\u001b[0m \u001b[0;34m\"Pad\"\u001b[0m\u001b[0;34m,\u001b[0m \u001b[0mname\u001b[0m\u001b[0;34m,\u001b[0m \u001b[0mtld\u001b[0m\u001b[0;34m.\u001b[0m\u001b[0mop_callbacks\u001b[0m\u001b[0;34m,\u001b[0m\u001b[0;34m\u001b[0m\u001b[0;34m\u001b[0m\u001b[0m\n\u001b[0;32m-> 6423\u001b[0;31m         input, paddings)\n\u001b[0m\u001b[1;32m   6424\u001b[0m       \u001b[0;32mreturn\u001b[0m \u001b[0m_result\u001b[0m\u001b[0;34m\u001b[0m\u001b[0;34m\u001b[0m\u001b[0m\n",
      "\u001b[0;31m_FallbackException\u001b[0m: This function does not handle the case of the path where all inputs are not already EagerTensors.",
      "\nDuring handling of the above exception, another exception occurred:\n",
      "\u001b[0;31mInvalidArgumentError\u001b[0m                      Traceback (most recent call last)",
      "\u001b[0;32m<ipython-input-150-d93f5bcefe09>\u001b[0m in \u001b[0;36m<module>\u001b[0;34m\u001b[0m\n\u001b[0;32m----> 1\u001b[0;31m \u001b[0mplt\u001b[0m\u001b[0;34m.\u001b[0m\u001b[0mimshow\u001b[0m\u001b[0;34m(\u001b[0m\u001b[0mtf\u001b[0m\u001b[0;34m.\u001b[0m\u001b[0mcast\u001b[0m\u001b[0;34m(\u001b[0m\u001b[0msom_to_grid\u001b[0m\u001b[0;34m(\u001b[0m\u001b[0mneural_map\u001b[0m\u001b[0;34m)\u001b[0m\u001b[0;34m,\u001b[0m \u001b[0mdtype\u001b[0m \u001b[0;34m=\u001b[0m \u001b[0mtf\u001b[0m\u001b[0;34m.\u001b[0m\u001b[0mfloat32\u001b[0m\u001b[0;34m)\u001b[0m\u001b[0;34m,\u001b[0m \u001b[0mcmap\u001b[0m \u001b[0;34m=\u001b[0m \u001b[0;34m'gray'\u001b[0m\u001b[0;34m)\u001b[0m\u001b[0;34m\u001b[0m\u001b[0;34m\u001b[0m\u001b[0m\n\u001b[0m",
      "\u001b[0;32m<ipython-input-149-5074a876418e>\u001b[0m in \u001b[0;36msom_to_grid\u001b[0;34m(neural_map, pad)\u001b[0m\n\u001b[1;32m     15\u001b[0m                        \u001b[0mneural_map\u001b[0m\u001b[0;34m.\u001b[0m\u001b[0mshape\u001b[0m\u001b[0;34m[\u001b[0m\u001b[0;36m0\u001b[0m\u001b[0;34m]\u001b[0m\u001b[0;34m,\u001b[0m \u001b[0mneural_map\u001b[0m\u001b[0;34m.\u001b[0m\u001b[0mshape\u001b[0m\u001b[0;34m[\u001b[0m\u001b[0;36m1\u001b[0m\u001b[0;34m]\u001b[0m\u001b[0;34m,\u001b[0m \u001b[0mimg_size\u001b[0m\u001b[0;34m,\u001b[0m\u001b[0;34m\u001b[0m\u001b[0;34m\u001b[0m\u001b[0m\n\u001b[1;32m     16\u001b[0m                        \u001b[0mimg_size\u001b[0m\u001b[0;34m\u001b[0m\u001b[0;34m\u001b[0m\u001b[0m\n\u001b[0;32m---> 17\u001b[0;31m                    ]), padding = padding)\n\u001b[0m\u001b[1;32m     18\u001b[0m     return tf.reshape(grid,\n\u001b[1;32m     19\u001b[0m                       shape=tf.concat(\n",
      "\u001b[0;32m<ipython-input-149-5074a876418e>\u001b[0m in \u001b[0;36mtensor_to_grid\u001b[0;34m(x, padding)\u001b[0m\n\u001b[1;32m      3\u001b[0m     '''\n\u001b[1;32m      4\u001b[0m     \u001b[0mrows\u001b[0m \u001b[0;34m=\u001b[0m \u001b[0mtf\u001b[0m\u001b[0;34m.\u001b[0m\u001b[0munstack\u001b[0m\u001b[0;34m(\u001b[0m\u001b[0mx\u001b[0m\u001b[0;34m,\u001b[0m \u001b[0maxis\u001b[0m\u001b[0;34m=\u001b[0m\u001b[0;36m0\u001b[0m\u001b[0;34m)\u001b[0m\u001b[0;34m\u001b[0m\u001b[0;34m\u001b[0m\u001b[0m\n\u001b[0;32m----> 5\u001b[0;31m     \u001b[0mconcat_across_x\u001b[0m \u001b[0;34m=\u001b[0m \u001b[0;34m[\u001b[0m\u001b[0mtf\u001b[0m\u001b[0;34m.\u001b[0m\u001b[0mconcat\u001b[0m\u001b[0;34m(\u001b[0m\u001b[0mtf\u001b[0m\u001b[0;34m.\u001b[0m\u001b[0mpad\u001b[0m\u001b[0;34m(\u001b[0m\u001b[0mtf\u001b[0m\u001b[0;34m.\u001b[0m\u001b[0munstack\u001b[0m\u001b[0;34m(\u001b[0m\u001b[0mx\u001b[0m\u001b[0;34m,\u001b[0m \u001b[0maxis\u001b[0m\u001b[0;34m=\u001b[0m\u001b[0;36m0\u001b[0m\u001b[0;34m)\u001b[0m\u001b[0;34m,\u001b[0m \u001b[0mpadding\u001b[0m\u001b[0;34m)\u001b[0m\u001b[0;34m,\u001b[0m \u001b[0maxis\u001b[0m\u001b[0;34m=\u001b[0m\u001b[0;36m1\u001b[0m\u001b[0;34m)\u001b[0m \u001b[0;32mfor\u001b[0m \u001b[0mx\u001b[0m \u001b[0;32min\u001b[0m \u001b[0mrows\u001b[0m\u001b[0;34m]\u001b[0m\u001b[0;34m\u001b[0m\u001b[0;34m\u001b[0m\u001b[0m\n\u001b[0m\u001b[1;32m      6\u001b[0m     \u001b[0;32mreturn\u001b[0m \u001b[0mtf\u001b[0m\u001b[0;34m.\u001b[0m\u001b[0mconcat\u001b[0m\u001b[0;34m(\u001b[0m\u001b[0mconcat_across_x\u001b[0m\u001b[0;34m,\u001b[0m \u001b[0maxis\u001b[0m\u001b[0;34m=\u001b[0m\u001b[0;36m0\u001b[0m\u001b[0;34m)\u001b[0m\u001b[0;34m\u001b[0m\u001b[0;34m\u001b[0m\u001b[0m\n\u001b[1;32m      7\u001b[0m \u001b[0;34m\u001b[0m\u001b[0m\n",
      "\u001b[0;32m<ipython-input-149-5074a876418e>\u001b[0m in \u001b[0;36m<listcomp>\u001b[0;34m(.0)\u001b[0m\n\u001b[1;32m      3\u001b[0m     '''\n\u001b[1;32m      4\u001b[0m     \u001b[0mrows\u001b[0m \u001b[0;34m=\u001b[0m \u001b[0mtf\u001b[0m\u001b[0;34m.\u001b[0m\u001b[0munstack\u001b[0m\u001b[0;34m(\u001b[0m\u001b[0mx\u001b[0m\u001b[0;34m,\u001b[0m \u001b[0maxis\u001b[0m\u001b[0;34m=\u001b[0m\u001b[0;36m0\u001b[0m\u001b[0;34m)\u001b[0m\u001b[0;34m\u001b[0m\u001b[0;34m\u001b[0m\u001b[0m\n\u001b[0;32m----> 5\u001b[0;31m     \u001b[0mconcat_across_x\u001b[0m \u001b[0;34m=\u001b[0m \u001b[0;34m[\u001b[0m\u001b[0mtf\u001b[0m\u001b[0;34m.\u001b[0m\u001b[0mconcat\u001b[0m\u001b[0;34m(\u001b[0m\u001b[0mtf\u001b[0m\u001b[0;34m.\u001b[0m\u001b[0mpad\u001b[0m\u001b[0;34m(\u001b[0m\u001b[0mtf\u001b[0m\u001b[0;34m.\u001b[0m\u001b[0munstack\u001b[0m\u001b[0;34m(\u001b[0m\u001b[0mx\u001b[0m\u001b[0;34m,\u001b[0m \u001b[0maxis\u001b[0m\u001b[0;34m=\u001b[0m\u001b[0;36m0\u001b[0m\u001b[0;34m)\u001b[0m\u001b[0;34m,\u001b[0m \u001b[0mpadding\u001b[0m\u001b[0;34m)\u001b[0m\u001b[0;34m,\u001b[0m \u001b[0maxis\u001b[0m\u001b[0;34m=\u001b[0m\u001b[0;36m1\u001b[0m\u001b[0;34m)\u001b[0m \u001b[0;32mfor\u001b[0m \u001b[0mx\u001b[0m \u001b[0;32min\u001b[0m \u001b[0mrows\u001b[0m\u001b[0;34m]\u001b[0m\u001b[0;34m\u001b[0m\u001b[0;34m\u001b[0m\u001b[0m\n\u001b[0m\u001b[1;32m      6\u001b[0m     \u001b[0;32mreturn\u001b[0m \u001b[0mtf\u001b[0m\u001b[0;34m.\u001b[0m\u001b[0mconcat\u001b[0m\u001b[0;34m(\u001b[0m\u001b[0mconcat_across_x\u001b[0m\u001b[0;34m,\u001b[0m \u001b[0maxis\u001b[0m\u001b[0;34m=\u001b[0m\u001b[0;36m0\u001b[0m\u001b[0;34m)\u001b[0m\u001b[0;34m\u001b[0m\u001b[0;34m\u001b[0m\u001b[0m\n\u001b[1;32m      7\u001b[0m \u001b[0;34m\u001b[0m\u001b[0m\n",
      "\u001b[0;32m~/miniconda3/envs/memory_gpu/lib/python3.7/site-packages/tensorflow/python/ops/array_ops.py\u001b[0m in \u001b[0;36mpad_v2\u001b[0;34m(tensor, paddings, mode, constant_values, name)\u001b[0m\n\u001b[1;32m   3197\u001b[0m     \u001b[0mValueError\u001b[0m\u001b[0;34m:\u001b[0m \u001b[0mWhen\u001b[0m \u001b[0mmode\u001b[0m \u001b[0;32mis\u001b[0m \u001b[0;32mnot\u001b[0m \u001b[0mone\u001b[0m \u001b[0mof\u001b[0m \u001b[0;34m\"CONSTANT\"\u001b[0m\u001b[0;34m,\u001b[0m \u001b[0;34m\"REFLECT\"\u001b[0m\u001b[0;34m,\u001b[0m \u001b[0;32mor\u001b[0m \u001b[0;34m\"SYMMETRIC\"\u001b[0m\u001b[0;34m.\u001b[0m\u001b[0;34m\u001b[0m\u001b[0;34m\u001b[0m\u001b[0m\n\u001b[1;32m   3198\u001b[0m   \"\"\"\n\u001b[0;32m-> 3199\u001b[0;31m   \u001b[0;32mreturn\u001b[0m \u001b[0mpad\u001b[0m\u001b[0;34m(\u001b[0m\u001b[0mtensor\u001b[0m\u001b[0;34m,\u001b[0m \u001b[0mpaddings\u001b[0m\u001b[0;34m,\u001b[0m \u001b[0mmode\u001b[0m\u001b[0;34m,\u001b[0m \u001b[0mname\u001b[0m\u001b[0;34m,\u001b[0m \u001b[0mconstant_values\u001b[0m\u001b[0;34m)\u001b[0m\u001b[0;34m\u001b[0m\u001b[0;34m\u001b[0m\u001b[0m\n\u001b[0m\u001b[1;32m   3200\u001b[0m \u001b[0;34m\u001b[0m\u001b[0m\n\u001b[1;32m   3201\u001b[0m \u001b[0;34m\u001b[0m\u001b[0m\n",
      "\u001b[0;32m~/miniconda3/envs/memory_gpu/lib/python3.7/site-packages/tensorflow/python/ops/array_ops.py\u001b[0m in \u001b[0;36mpad\u001b[0;34m(tensor, paddings, mode, name, constant_values)\u001b[0m\n\u001b[1;32m   3263\u001b[0m     \u001b[0;31m# remove the \"Pad\" fallback here.\u001b[0m\u001b[0;34m\u001b[0m\u001b[0;34m\u001b[0m\u001b[0;34m\u001b[0m\u001b[0m\n\u001b[1;32m   3264\u001b[0m     \u001b[0;32mif\u001b[0m \u001b[0;32mnot\u001b[0m \u001b[0mtensor_util\u001b[0m\u001b[0;34m.\u001b[0m\u001b[0mis_tensor\u001b[0m\u001b[0;34m(\u001b[0m\u001b[0mconstant_values\u001b[0m\u001b[0;34m)\u001b[0m \u001b[0;32mand\u001b[0m \u001b[0mconstant_values\u001b[0m \u001b[0;34m==\u001b[0m \u001b[0;36m0\u001b[0m\u001b[0;34m:\u001b[0m\u001b[0;34m\u001b[0m\u001b[0;34m\u001b[0m\u001b[0m\n\u001b[0;32m-> 3265\u001b[0;31m       \u001b[0mresult\u001b[0m \u001b[0;34m=\u001b[0m \u001b[0mgen_array_ops\u001b[0m\u001b[0;34m.\u001b[0m\u001b[0mpad\u001b[0m\u001b[0;34m(\u001b[0m\u001b[0mtensor\u001b[0m\u001b[0;34m,\u001b[0m \u001b[0mpaddings\u001b[0m\u001b[0;34m,\u001b[0m \u001b[0mname\u001b[0m\u001b[0;34m=\u001b[0m\u001b[0mname\u001b[0m\u001b[0;34m)\u001b[0m\u001b[0;34m\u001b[0m\u001b[0;34m\u001b[0m\u001b[0m\n\u001b[0m\u001b[1;32m   3266\u001b[0m     \u001b[0;32melse\u001b[0m\u001b[0;34m:\u001b[0m\u001b[0;34m\u001b[0m\u001b[0;34m\u001b[0m\u001b[0m\n\u001b[1;32m   3267\u001b[0m       result = gen_array_ops.pad_v2(\n",
      "\u001b[0;32m~/miniconda3/envs/memory_gpu/lib/python3.7/site-packages/tensorflow/python/ops/gen_array_ops.py\u001b[0m in \u001b[0;36mpad\u001b[0;34m(input, paddings, name)\u001b[0m\n\u001b[1;32m   6426\u001b[0m       \u001b[0;32mtry\u001b[0m\u001b[0;34m:\u001b[0m\u001b[0;34m\u001b[0m\u001b[0;34m\u001b[0m\u001b[0m\n\u001b[1;32m   6427\u001b[0m         return pad_eager_fallback(\n\u001b[0;32m-> 6428\u001b[0;31m             input, paddings, name=name, ctx=_ctx)\n\u001b[0m\u001b[1;32m   6429\u001b[0m       \u001b[0;32mexcept\u001b[0m \u001b[0m_core\u001b[0m\u001b[0;34m.\u001b[0m\u001b[0m_SymbolicException\u001b[0m\u001b[0;34m:\u001b[0m\u001b[0;34m\u001b[0m\u001b[0;34m\u001b[0m\u001b[0m\n\u001b[1;32m   6430\u001b[0m         \u001b[0;32mpass\u001b[0m  \u001b[0;31m# Add nodes to the TensorFlow graph.\u001b[0m\u001b[0;34m\u001b[0m\u001b[0;34m\u001b[0m\u001b[0m\n",
      "\u001b[0;32m~/miniconda3/envs/memory_gpu/lib/python3.7/site-packages/tensorflow/python/ops/gen_array_ops.py\u001b[0m in \u001b[0;36mpad_eager_fallback\u001b[0;34m(input, paddings, name, ctx)\u001b[0m\n\u001b[1;32m   6453\u001b[0m   \u001b[0m_attrs\u001b[0m \u001b[0;34m=\u001b[0m \u001b[0;34m(\u001b[0m\u001b[0;34m\"T\"\u001b[0m\u001b[0;34m,\u001b[0m \u001b[0m_attr_T\u001b[0m\u001b[0;34m,\u001b[0m \u001b[0;34m\"Tpaddings\"\u001b[0m\u001b[0;34m,\u001b[0m \u001b[0m_attr_Tpaddings\u001b[0m\u001b[0;34m)\u001b[0m\u001b[0;34m\u001b[0m\u001b[0;34m\u001b[0m\u001b[0m\n\u001b[1;32m   6454\u001b[0m   _result = _execute.execute(b\"Pad\", 1, inputs=_inputs_flat, attrs=_attrs,\n\u001b[0;32m-> 6455\u001b[0;31m                              ctx=ctx, name=name)\n\u001b[0m\u001b[1;32m   6456\u001b[0m   \u001b[0;32mif\u001b[0m \u001b[0m_execute\u001b[0m\u001b[0;34m.\u001b[0m\u001b[0mmust_record_gradient\u001b[0m\u001b[0;34m(\u001b[0m\u001b[0;34m)\u001b[0m\u001b[0;34m:\u001b[0m\u001b[0;34m\u001b[0m\u001b[0;34m\u001b[0m\u001b[0m\n\u001b[1;32m   6457\u001b[0m     _execute.record_gradient(\n",
      "\u001b[0;32m~/miniconda3/envs/memory_gpu/lib/python3.7/site-packages/tensorflow/python/eager/execute.py\u001b[0m in \u001b[0;36mquick_execute\u001b[0;34m(op_name, num_outputs, inputs, attrs, ctx, name)\u001b[0m\n\u001b[1;32m     58\u001b[0m     \u001b[0mctx\u001b[0m\u001b[0;34m.\u001b[0m\u001b[0mensure_initialized\u001b[0m\u001b[0;34m(\u001b[0m\u001b[0;34m)\u001b[0m\u001b[0;34m\u001b[0m\u001b[0;34m\u001b[0m\u001b[0m\n\u001b[1;32m     59\u001b[0m     tensors = pywrap_tfe.TFE_Py_Execute(ctx._handle, device_name, op_name,\n\u001b[0;32m---> 60\u001b[0;31m                                         inputs, attrs, num_outputs)\n\u001b[0m\u001b[1;32m     61\u001b[0m   \u001b[0;32mexcept\u001b[0m \u001b[0mcore\u001b[0m\u001b[0;34m.\u001b[0m\u001b[0m_NotOkStatusException\u001b[0m \u001b[0;32mas\u001b[0m \u001b[0me\u001b[0m\u001b[0;34m:\u001b[0m\u001b[0;34m\u001b[0m\u001b[0;34m\u001b[0m\u001b[0m\n\u001b[1;32m     62\u001b[0m     \u001b[0;32mif\u001b[0m \u001b[0mname\u001b[0m \u001b[0;32mis\u001b[0m \u001b[0;32mnot\u001b[0m \u001b[0;32mNone\u001b[0m\u001b[0;34m:\u001b[0m\u001b[0;34m\u001b[0m\u001b[0;34m\u001b[0m\u001b[0m\n",
      "\u001b[0;31mInvalidArgumentError\u001b[0m: The first dimension of paddings must be the rank of inputs[2,2] [10,28,28] [Op:Pad]"
     ]
    }
   ],
   "source": [
    "plt.imshow(tf.cast(som_to_grid(neural_map), dtype = tf.float32), cmap = 'gray')"
   ]
  },
  {
   "cell_type": "code",
   "execution_count": 3,
   "metadata": {},
   "outputs": [],
   "source": [
    "import tensorflow as tf\n",
    "a = tf.Variable(tf.ones([2,2,2],dtype = tf.float32))"
   ]
  },
  {
   "cell_type": "code",
   "execution_count": 20,
   "metadata": {},
   "outputs": [],
   "source": [
    "class C():\n",
    "    def __init__(self, **kwargs):\n",
    "        super(C, self).__init__(**kwargs)\n",
    "        self.step = tf.Variable(1)\n",
    "    def increment(self):\n",
    "        self.step.assign_add(1)\n",
    "    def method(self):\n",
    "        step = self.step\n",
    "        print('PRE')\n",
    "        print('method/step:{}, id: {}'.format(step, id(step)))\n",
    "        print('self.step: {}, id:{}'.format(self.step, id(self.step)))\n",
    "        self.increment()\n",
    "        print('PRE')\n",
    "        print('method/step:{}, id: {}'.format(step, id(step)))\n",
    "        print('self.step: {}, id:{}'.format(self.step, id(self.step)))"
   ]
  },
  {
   "cell_type": "code",
   "execution_count": 21,
   "metadata": {},
   "outputs": [],
   "source": [
    "C = C() "
   ]
  },
  {
   "cell_type": "code",
   "execution_count": 22,
   "metadata": {},
   "outputs": [
    {
     "output_type": "stream",
     "name": "stdout",
     "text": [
      "PRE\nmethod/step:<tf.Variable 'Variable:0' shape=() dtype=int32, numpy=1>, id: 140502642841040\nself.step: <tf.Variable 'Variable:0' shape=() dtype=int32, numpy=1>, id:140502642841040\nPRE\nmethod/step:<tf.Variable 'Variable:0' shape=() dtype=int32, numpy=2>, id: 140502642841040\nself.step: <tf.Variable 'Variable:0' shape=() dtype=int32, numpy=2>, id:140502642841040\n"
     ]
    }
   ],
   "source": [
    "C.method()"
   ]
  },
  {
   "cell_type": "code",
   "execution_count": null,
   "metadata": {},
   "outputs": [],
   "source": [
    "id(self)"
   ]
  }
 ]
}