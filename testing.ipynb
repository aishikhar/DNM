{
 "cells": [
  {
   "cell_type": "code",
   "execution_count": 4,
   "metadata": {},
   "outputs": [],
   "source": [
    "from memory import MemorySystem"
   ]
  },
  {
   "cell_type": "code",
   "execution_count": 4,
   "metadata": {},
   "outputs": [
    {
     "output_type": "stream",
     "name": "stdout",
     "text": "Creating SOM of shape ListWrapper([3, 3]) with weight dimension ListWrapper([3, 5, 5])\n<ShuffleDataset shapes: ((None, 1), (None, 1)), types: (tf.float32, tf.float32)>\n<ShuffleDataset shapes: ((None, 1), (None, 1)), types: (tf.float32, tf.float32)>\n<ShuffleDataset shapes: ((None, 1), (None, 1)), types: (tf.float32, tf.float32)>\n<ShuffleDataset shapes: ((None, 1), (None, 1)), types: (tf.float32, tf.float32)>\n<ShuffleDataset shapes: ((None, 1), (None, 1)), types: (tf.float32, tf.float32)>\n<ShuffleDataset shapes: ((None, 1), (None, 1)), types: (tf.float32, tf.float32)>\n<ShuffleDataset shapes: ((None, 1), (None, 1)), types: (tf.float32, tf.float32)>\n<ShuffleDataset shapes: ((None, 1), (None, 1)), types: (tf.float32, tf.float32)>\n<ShuffleDataset shapes: ((None, 1), (None, 1)), types: (tf.float32, tf.float32)>\n<ShuffleDataset shapes: ((None, 1), (None, 1)), types: (tf.float32, tf.float32)>\n<ShuffleDataset shapes: ((None, 1), (None, 1)), types: (tf.float32, tf.float32)>\n<ShuffleDataset shapes: ((None, 1), (None, 1)), types: (tf.float32, tf.float32)>\n"
    }
   ],
   "source": [
    "import tensorflow as tf\n",
    "from neural_map import NeuralMap\n",
    "from simple_functions import SimpleFunctions, simpleLinearModel\n",
    "\n",
    "model = simpleLinearModel(no_layers=3, units = 5)\n",
    "    # model's weights will now have shape [3,5,5] for input and output with shape of [None, 5] each.\n",
    "neural_map = NeuralMap(shape = [3,3],\n",
    "                        embed_dim = [3,5,5])\n",
    "\n",
    "simple = SimpleFunctions(model, neural_map)\n",
    "\n",
    "for task_id, (tag, train_ds, valid_ds) in enumerate(simple.generating_function(1000)):\n",
    "    print(train_ds)"
   ]
  },
  {
   "cell_type": "code",
   "execution_count": 6,
   "metadata": {},
   "outputs": [
    {
     "output_type": "stream",
     "name": "stdout",
     "text": "2.2.0\n"
    }
   ],
   "source": [
    "\n",
    "print(tf.__version__)"
   ]
  },
  {
   "cell_type": "code",
   "execution_count": 1,
   "metadata": {},
   "outputs": [
    {
     "output_type": "error",
     "ename": "NameError",
     "evalue": "name 'NeuralMap' is not defined",
     "traceback": [
      "\u001b[0;31m---------------------------------------------------------------------------\u001b[0m",
      "\u001b[0;31mNameError\u001b[0m                                 Traceback (most recent call last)",
      "\u001b[0;32m<ipython-input-1-0c3e3e5ee0bd>\u001b[0m in \u001b[0;36m<module>\u001b[0;34m\u001b[0m\n\u001b[0;32m----> 1\u001b[0;31m \u001b[0mneural_map\u001b[0m \u001b[0;34m=\u001b[0m \u001b[0mNeuralMap\u001b[0m\u001b[0;34m(\u001b[0m\u001b[0mshape\u001b[0m \u001b[0;34m=\u001b[0m \u001b[0;34m[\u001b[0m\u001b[0;36m3\u001b[0m\u001b[0;34m,\u001b[0m\u001b[0;36m3\u001b[0m\u001b[0;34m]\u001b[0m\u001b[0;34m,\u001b[0m \u001b[0membed_dim\u001b[0m \u001b[0;34m=\u001b[0m \u001b[0;36m100\u001b[0m\u001b[0;34m,\u001b[0m \u001b[0mdtype\u001b[0m \u001b[0;34m=\u001b[0m \u001b[0mtf\u001b[0m\u001b[0;34m.\u001b[0m\u001b[0mfloat32\u001b[0m\u001b[0;34m)\u001b[0m\u001b[0;34m\u001b[0m\u001b[0;34m\u001b[0m\u001b[0m\n\u001b[0m\u001b[1;32m      2\u001b[0m \u001b[0;34m\u001b[0m\u001b[0m\n\u001b[1;32m      3\u001b[0m \u001b[0mneural_map\u001b[0m\u001b[0;34m\u001b[0m\u001b[0;34m\u001b[0m\u001b[0m\n\u001b[1;32m      4\u001b[0m \u001b[0;34m\u001b[0m\u001b[0m\n\u001b[1;32m      5\u001b[0m \u001b[0mneural_map\u001b[0m\u001b[0;34m(\u001b[0m\u001b[0mtf\u001b[0m\u001b[0;34m.\u001b[0m\u001b[0mones\u001b[0m\u001b[0;34m(\u001b[0m\u001b[0;34m[\u001b[0m\u001b[0;36m1\u001b[0m\u001b[0;34m]\u001b[0m\u001b[0;34m)\u001b[0m\u001b[0;34m)\u001b[0m\u001b[0;34m\u001b[0m\u001b[0;34m\u001b[0m\u001b[0m\n",
      "\u001b[0;31mNameError\u001b[0m: name 'NeuralMap' is not defined"
     ]
    }
   ],
   "source": []
  },
  {
   "cell_type": "code",
   "execution_count": 2,
   "metadata": {},
   "outputs": [
    {
     "output_type": "stream",
     "name": "stdout",
     "text": "Creating SOM of shape ListWrapper([3, 3]) with weight dimension ListWrapper([98])\nBuild()\nencoder output: (100, 98)\nNone\n"
    }
   ],
   "source": [
    "import tensorflow as tf\n",
    "from vae import VAE\n",
    "from memory import MemorySystem\n",
    "(x_train,y_train), (x_test, y_test) = tf.keras.datasets.mnist.load_data()\n",
    "data = tf.cast(tf.reshape(x_train, (x_train.shape[0], -1)), dtype = tf.float32) / 255\n",
    "dataset = tf.data.Dataset.from_tensor_slices(data).shuffle(buffer_size = 1000).batch(1000)\n",
    "\n",
    "input_shape = (784,)\n",
    "latent_dim = int(input_shape[0]/8)\n",
    "vae = VAE(interm_dim = int(input_shape[0]/4), \n",
    "            latent_dim = latent_dim,\n",
    "            original_dim = int(input_shape[0]))\n",
    "memory_system = MemorySystem(memory_shape = [3,3], embed_dim = [latent_dim], vae = vae, name = 'memory_system')\n",
    "print(memory_system(data[0:100], training = True, iter = 10))"
   ]
  },
  {
   "cell_type": "code",
   "execution_count": 17,
   "metadata": {},
   "outputs": [
    {
     "output_type": "execute_result",
     "data": {
      "text/plain": "[<tf.Variable 'memory_system/vae/encoder/dense/kernel:0' shape=(784, 196) dtype=float32, numpy=\n array([[ 0.0414088 ,  0.05001777,  0.00410447, ..., -0.03713183,\n          0.00934186,  0.0672353 ],\n        [ 0.03179713,  0.06627765, -0.07281859, ...,  0.02519511,\n         -0.071422  ,  0.0276025 ],\n        [-0.01594369,  0.05522292,  0.06408095, ...,  0.04191757,\n         -0.06361662, -0.00199642],\n        ...,\n        [-0.03669943,  0.02085077, -0.04712851, ..., -0.06544299,\n         -0.05551282, -0.04446397],\n        [-0.01787801,  0.01330777, -0.05274595, ..., -0.00374431,\n         -0.03217873,  0.03372818],\n        [ 0.04325926,  0.01941744,  0.01149817, ...,  0.07179645,\n          0.04948986, -0.04258668]], dtype=float32)>,\n <tf.Variable 'memory_system/vae/encoder/dense/bias:0' shape=(196,) dtype=float32, numpy=\n array([0., 0., 0., 0., 0., 0., 0., 0., 0., 0., 0., 0., 0., 0., 0., 0., 0.,\n        0., 0., 0., 0., 0., 0., 0., 0., 0., 0., 0., 0., 0., 0., 0., 0., 0.,\n        0., 0., 0., 0., 0., 0., 0., 0., 0., 0., 0., 0., 0., 0., 0., 0., 0.,\n        0., 0., 0., 0., 0., 0., 0., 0., 0., 0., 0., 0., 0., 0., 0., 0., 0.,\n        0., 0., 0., 0., 0., 0., 0., 0., 0., 0., 0., 0., 0., 0., 0., 0., 0.,\n        0., 0., 0., 0., 0., 0., 0., 0., 0., 0., 0., 0., 0., 0., 0., 0., 0.,\n        0., 0., 0., 0., 0., 0., 0., 0., 0., 0., 0., 0., 0., 0., 0., 0., 0.,\n        0., 0., 0., 0., 0., 0., 0., 0., 0., 0., 0., 0., 0., 0., 0., 0., 0.,\n        0., 0., 0., 0., 0., 0., 0., 0., 0., 0., 0., 0., 0., 0., 0., 0., 0.,\n        0., 0., 0., 0., 0., 0., 0., 0., 0., 0., 0., 0., 0., 0., 0., 0., 0.,\n        0., 0., 0., 0., 0., 0., 0., 0., 0., 0., 0., 0., 0., 0., 0., 0., 0.,\n        0., 0., 0., 0., 0., 0., 0., 0., 0.], dtype=float32)>,\n <tf.Variable 'memory_system/vae/encoder/dense_1/kernel:0' shape=(196, 98) dtype=float32, numpy=\n array([[ 0.11412583,  0.10904731,  0.04748672, ...,  0.0310982 ,\n          0.0581426 ,  0.11220394],\n        [-0.07786741,  0.03164704,  0.05893421, ..., -0.1359659 ,\n          0.02872679,  0.01867315],\n        [ 0.12796126, -0.07292847,  0.06744657, ...,  0.12100516,\n         -0.03258777, -0.02207855],\n        ...,\n        [-0.00461705,  0.04413384, -0.00627936, ..., -0.13878652,\n         -0.05997103, -0.02515851],\n        [-0.08115895, -0.13387218, -0.08733988, ..., -0.08050957,\n          0.13961063,  0.03612553],\n        [ 0.09891436,  0.13494013,  0.12759213, ..., -0.13852464,\n          0.01122692, -0.04885238]], dtype=float32)>,\n <tf.Variable 'memory_system/vae/encoder/dense_1/bias:0' shape=(98,) dtype=float32, numpy=\n array([0., 0., 0., 0., 0., 0., 0., 0., 0., 0., 0., 0., 0., 0., 0., 0., 0.,\n        0., 0., 0., 0., 0., 0., 0., 0., 0., 0., 0., 0., 0., 0., 0., 0., 0.,\n        0., 0., 0., 0., 0., 0., 0., 0., 0., 0., 0., 0., 0., 0., 0., 0., 0.,\n        0., 0., 0., 0., 0., 0., 0., 0., 0., 0., 0., 0., 0., 0., 0., 0., 0.,\n        0., 0., 0., 0., 0., 0., 0., 0., 0., 0., 0., 0., 0., 0., 0., 0., 0.,\n        0., 0., 0., 0., 0., 0., 0., 0., 0., 0., 0., 0., 0.], dtype=float32)>,\n <tf.Variable 'memory_system/vae/encoder/dense_2/kernel:0' shape=(196, 98) dtype=float32, numpy=\n array([[ 0.03507243,  0.10699725,  0.11482652, ...,  0.05878122,\n          0.0810333 , -0.0329191 ],\n        [-0.09147954, -0.08993592, -0.04889672, ..., -0.00381388,\n         -0.07632586,  0.13115565],\n        [-0.01351669, -0.07763775, -0.04427266, ...,  0.13082965,\n         -0.07590809,  0.02777965],\n        ...,\n        [ 0.07057616, -0.02906919, -0.03731057, ...,  0.07289083,\n          0.07559651, -0.09210968],\n        [-0.05759379, -0.03795426, -0.13390303, ..., -0.02377507,\n         -0.10861578,  0.10421361],\n        [ 0.12553708,  0.12666108,  0.1042069 , ...,  0.10838024,\n         -0.09479438,  0.04684244]], dtype=float32)>,\n <tf.Variable 'memory_system/vae/encoder/dense_2/bias:0' shape=(98,) dtype=float32, numpy=\n array([0., 0., 0., 0., 0., 0., 0., 0., 0., 0., 0., 0., 0., 0., 0., 0., 0.,\n        0., 0., 0., 0., 0., 0., 0., 0., 0., 0., 0., 0., 0., 0., 0., 0., 0.,\n        0., 0., 0., 0., 0., 0., 0., 0., 0., 0., 0., 0., 0., 0., 0., 0., 0.,\n        0., 0., 0., 0., 0., 0., 0., 0., 0., 0., 0., 0., 0., 0., 0., 0., 0.,\n        0., 0., 0., 0., 0., 0., 0., 0., 0., 0., 0., 0., 0., 0., 0., 0., 0.,\n        0., 0., 0., 0., 0., 0., 0., 0., 0., 0., 0., 0., 0.], dtype=float32)>]"
     },
     "metadata": {},
     "execution_count": 17
    }
   ],
   "source": [
    "memory_system.vae.encoder.weights[1:-1]"
   ]
  },
  {
   "cell_type": "code",
   "execution_count": 49,
   "metadata": {},
   "outputs": [
    {
     "output_type": "execute_result",
     "data": {
      "text/plain": "{'name': 'dense',\n 'trainable': True,\n 'dtype': 'float32',\n 'units': 196,\n 'activation': 'relu',\n 'use_bias': True,\n 'kernel_initializer': {'class_name': 'GlorotUniform',\n  'config': {'seed': None}},\n 'bias_initializer': {'class_name': 'Zeros', 'config': {}},\n 'kernel_regularizer': {'class_name': 'L1L2',\n  'config': {'l1': 0.0, 'l2': 9.999999974752427e-07}},\n 'bias_regularizer': None,\n 'activity_regularizer': None,\n 'kernel_constraint': None,\n 'bias_constraint': None}"
     },
     "metadata": {},
     "execution_count": 49
    }
   ],
   "source": [
    "memory_system.vae.encoder.layers[0].get_config()['units']"
   ]
  },
  {
   "cell_type": "code",
   "execution_count": 87,
   "metadata": {},
   "outputs": [
    {
     "output_type": "stream",
     "name": "stdout",
     "text": "loss: 0.124401\nloss: 0.123668\nloss: 0.123005\nloss: 0.122405\nloss: 0.121839\nloss: 0.121311\nloss: 0.120762\nloss: 0.120287\nloss: 0.119790\nloss: 0.119398\nloss: 0.118900\nloss: 0.118510\nloss: 0.118137\nloss: 0.117685\nloss: 0.117285\nloss: 0.116929\nloss: 0.116551\nloss: 0.116200\nloss: 0.115839\nloss: 0.115495\nloss: 0.115169\nloss: 0.114789\nloss: 0.114496\nloss: 0.114155\nloss: 0.113852\nloss: 0.113527\nloss: 0.113179\nloss: 0.112883\nloss: 0.112591\nloss: 0.112287\nloss: 0.111982\nloss: 0.111666\nloss: 0.111374\nloss: 0.111079\nloss: 0.110810\nloss: 0.110516\nloss: 0.110254\nloss: 0.109997\nloss: 0.109661\nloss: 0.109395\nloss: 0.109088\nloss: 0.108843\nloss: 0.108582\nloss: 0.108332\nloss: 0.108050\nloss: 0.107766\nloss: 0.107520\nloss: 0.107271\nloss: 0.106975\nloss: 0.106720\nloss: 0.106516\nloss: 0.106215\nloss: 0.105974\nloss: 0.105704\nloss: 0.105427\nloss: 0.105192\nloss: 0.105008\nloss: 0.104704\nloss: 0.104495\nloss: 0.104246\nloss: 0.104032\nloss: 0.103773\nloss: 0.103485\nloss: 0.103298\nloss: 0.103004\nloss: 0.102799\nloss: 0.102580\nloss: 0.102318\nloss: 0.102119\nloss: 0.101866\nloss: 0.101615\nloss: 0.101465\nloss: 0.101218\nloss: 0.100964\nloss: 0.100719\nloss: 0.100516\nloss: 0.100291\nloss: 0.100071\nloss: 0.099845\nloss: 0.099606\nloss: 0.099453\nloss: 0.099170\nloss: 0.098961\nloss: 0.098710\nloss: 0.098545\nloss: 0.098384\nloss: 0.098084\nloss: 0.097921\nloss: 0.097719\nloss: 0.097449\nloss: 0.097211\nloss: 0.097057\nloss: 0.096849\nloss: 0.096577\nloss: 0.096407\nloss: 0.096184\nloss: 0.096009\nloss: 0.095812\nloss: 0.095620\nloss: 0.095376\nloss: 0.095170\nloss: 0.094992\nloss: 0.094795\nloss: 0.094608\nloss: 0.094356\nloss: 0.094159\nloss: 0.093930\nloss: 0.093778\nloss: 0.093613\nloss: 0.093410\nloss: 0.093147\nloss: 0.092974\nloss: 0.092780\nloss: 0.092565\nloss: 0.092402\nloss: 0.092233\nloss: 0.092052\nloss: 0.091807\nloss: 0.091604\nloss: 0.091457\n"
    }
   ],
   "source": [
    "step = 5000\n",
    "steps_per_epoch = int(data.shape[0]/step)\n",
    "for i in range(1000 * steps_per_epoch):\n",
    "    input = data[(i%10)*5000:(i%10+1)*5000]\n",
    "    with tf.GradientTape() as tape:\n",
    "            x_, z =  memory_system.vae(input, training = True)\n",
    "            loss = memory_system.gamma * tf.keras.losses.MeanSquaredError()(x_,input) + sum(memory_system.vae.losses)\n",
    "    gradients = tape.gradient(loss, memory_system.vae.trainable_variables)\n",
    "    optimizer = tf.optimizers.SGD()\n",
    "    optimizer.apply_gradients(zip(gradients, memory_system.vae.trainable_variables))\n",
    "    if ((i%100) == 0):\n",
    "        print('loss: %f'%(loss))"
   ]
  },
  {
   "cell_type": "code",
   "execution_count": 96,
   "metadata": {},
   "outputs": [
    {
     "output_type": "execute_result",
     "data": {
      "text/plain": "<tf.Variable 'memory_system/vae_2/encoder/dense_10/kernel:0' shape=(784, 196) dtype=float32, numpy=\narray([[ 0.03100913,  0.07796595, -0.01213887, ..., -0.00153278,\n        -0.01582383,  0.01886896],\n       [ 0.0769752 , -0.00757139, -0.03532232, ...,  0.00338497,\n        -0.07737003,  0.03055502],\n       [ 0.06137011,  0.0509133 , -0.02755243, ...,  0.01943166,\n         0.07255679,  0.06044709],\n       ...,\n       [-0.04810477, -0.05829584, -0.05472109, ..., -0.03817692,\n        -0.00648914, -0.07212387],\n       [ 0.0347815 , -0.06800101,  0.01450225, ..., -0.06420001,\n         0.03546738,  0.03955351],\n       [-0.0590874 , -0.0191944 , -0.01354209, ..., -0.03584026,\n        -0.06048377, -0.04969533]], dtype=float32)>"
     },
     "metadata": {},
     "execution_count": 96
    }
   ],
   "source": [
    "memory_system.vae.weights[0]"
   ]
  },
  {
   "cell_type": "code",
   "execution_count": 2,
   "metadata": {},
   "outputs": [
    {
     "output_type": "stream",
     "name": "stdout",
     "text": "I can change!\nsin\ncos\ntanh\nabs\nlog\nexp\ny=c\naffine_1\naffine_2\naffine_3\naffine_4\naffine_5\n"
    }
   ],
   "source": [
    "for i, (tag, train_ds, valid_ds) in enumerate(pfft.generating_function(150)):\n",
    "    print(tag)"
   ]
  },
  {
   "cell_type": "code",
   "execution_count": 16,
   "metadata": {},
   "outputs": [
    {
     "output_type": "stream",
     "name": "stdout",
     "text": "Creating SOM of shape ListWrapper([3, 3]) with weight dimension ListWrapper([3, 5, 5])\n"
    }
   ],
   "source": [
    "from neural_map import NeuralMap\n",
    "import tensorflow as tf\n",
    "import numpy as np\n",
    "neural_map = NeuralMap(shape = [3,3], embed_dim = [3,5,5], dtype = tf.float32)"
   ]
  },
  {
   "cell_type": "code",
   "execution_count": 17,
   "metadata": {},
   "outputs": [
    {
     "output_type": "execute_result",
     "data": {
      "text/plain": "<neural_map.NeuralMap at 0x7f1d9c654210>"
     },
     "metadata": {},
     "execution_count": 17
    }
   ],
   "source": [
    "neural_map"
   ]
  },
  {
   "cell_type": "code",
   "execution_count": 25,
   "metadata": {},
   "outputs": [],
   "source": [
    "z = tf.random.normal([2,3,5,5], mean = 0.0, stddev = 1.0, dtype= tf.float32, seed = 10, name = 'embedding_sample') # embeddings random input\n",
    "\n",
    "U = neural_map.read(z)"
   ]
  },
  {
   "cell_type": "code",
   "execution_count": 26,
   "metadata": {},
   "outputs": [],
   "source": [
    "label_map = np.chararray([3,3], itemsize = 10) # Define map of labels for each neuron in SOM"
   ]
  },
  {
   "cell_type": "code",
   "execution_count": 27,
   "metadata": {},
   "outputs": [
    {
     "output_type": "execute_result",
     "data": {
      "text/plain": "<tf.Variable 'Variable:0' shape=(2, 2) dtype=int32, numpy=\narray([[2, 0],\n       [0, 0]], dtype=int32)>"
     },
     "metadata": {},
     "execution_count": 27
    }
   ],
   "source": [
    "U"
   ]
  },
  {
   "cell_type": "code",
   "execution_count": 28,
   "metadata": {},
   "outputs": [],
   "source": [
    "types = ['cyclic','affine']"
   ]
  },
  {
   "cell_type": "code",
   "execution_count": 29,
   "metadata": {},
   "outputs": [],
   "source": [
    "for i in range(U.shape[0]):\n",
    "    label_map[tuple(U[i])] = types[i]"
   ]
  },
  {
   "cell_type": "code",
   "execution_count": 30,
   "metadata": {},
   "outputs": [
    {
     "output_type": "execute_result",
     "data": {
      "text/plain": "chararray([[b'affine', b'\\x9b%\\x1e\\x7f', ''],\n           ['', '', ''],\n           [b'cyclic', '', '']], dtype='|S10')"
     },
     "metadata": {},
     "execution_count": 30
    }
   ],
   "source": [
    "label_map"
   ]
  },
  {
   "cell_type": "code",
   "execution_count": 7,
   "metadata": {},
   "outputs": [],
   "source": [
    "shape = [3,3]"
   ]
  },
  {
   "cell_type": "code",
   "execution_count": 23,
   "metadata": {},
   "outputs": [],
   "source": [
    "rows, cols = shape\n",
    "import numpy as np\n",
    "Matrix = np.zeros(shape, dtype = np.object)"
   ]
  },
  {
   "cell_type": "code",
   "execution_count": 24,
   "metadata": {},
   "outputs": [],
   "source": [
    "Matrix[0,0] = 'sad'"
   ]
  },
  {
   "cell_type": "code",
   "execution_count": 25,
   "metadata": {},
   "outputs": [
    {
     "output_type": "execute_result",
     "data": {
      "text/plain": "array([['sad', 0, 0],\n       [0, 0, 0],\n       [0, 0, 0]], dtype=object)"
     },
     "metadata": {},
     "execution_count": 25
    }
   ],
   "source": [
    "Matrix"
   ]
  },
  {
   "cell_type": "code",
   "execution_count": 81,
   "metadata": {},
   "outputs": [],
   "source": [
    "import tensorflow as tf\n",
    "min_val = -100\n",
    "max_val = 100\n",
    "data_size = 10\n",
    "x = tf.random.uniform([data_size,1], minval=min_val, maxval=max_val, dtype = tf.float32 )"
   ]
  },
  {
   "cell_type": "code",
   "execution_count": 82,
   "metadata": {},
   "outputs": [
    {
     "output_type": "execute_result",
     "data": {
      "text/plain": "<tf.Tensor: shape=(10, 1), dtype=float32, numpy=\narray([[-23.265503 ],\n       [-58.857845 ],\n       [ 53.4534   ],\n       [-89.66548  ],\n       [ -5.5466385],\n       [-87.39541  ],\n       [-88.5314   ],\n       [-69.88621  ],\n       [ 11.746887 ],\n       [-60.374046 ]], dtype=float32)>"
     },
     "metadata": {},
     "execution_count": 82
    }
   ],
   "source": [
    "x"
   ]
  },
  {
   "cell_type": "code",
   "execution_count": 88,
   "metadata": {},
   "outputs": [],
   "source": [
    "a = (x - min_val)/(max_val - min_val)"
   ]
  },
  {
   "cell_type": "code",
   "execution_count": 89,
   "metadata": {},
   "outputs": [
    {
     "output_type": "execute_result",
     "data": {
      "text/plain": "<tf.Tensor: shape=(10, 1), dtype=float32, numpy=\narray([[0.38367248],\n       [0.20571077],\n       [0.767267  ],\n       [0.05167259],\n       [0.4722668 ],\n       [0.06302296],\n       [0.05734299],\n       [0.15056896],\n       [0.5587344 ],\n       [0.19812977]], dtype=float32)>"
     },
     "metadata": {},
     "execution_count": 89
    }
   ],
   "source": [
    "a"
   ]
  },
  {
   "cell_type": "code",
   "execution_count": 73,
   "metadata": {},
   "outputs": [
    {
     "output_type": "execute_result",
     "data": {
      "text/plain": "<tf.Tensor: shape=(10, 1), dtype=float32, numpy=\narray([[-47.37959  ],\n       [  6.829384 ],\n       [ -1.4457932],\n       [-71.164085 ],\n       [-58.175564 ],\n       [ -8.359718 ],\n       [-51.60196  ],\n       [ 88.11133  ],\n       [-34.880898 ],\n       [ 19.059631 ]], dtype=float32)>"
     },
     "metadata": {},
     "execution_count": 73
    }
   ],
   "source": [
    "x"
   ]
  },
  {
   "cell_type": "code",
   "execution_count": 91,
   "metadata": {},
   "outputs": [
    {
     "output_type": "execute_result",
     "data": {
      "text/plain": "<tf.Tensor: shape=(10, 1), dtype=float32, numpy=\narray([[-0.23265505],\n       [-0.58857846],\n       [ 0.534534  ],\n       [-0.89665484],\n       [-0.05546641],\n       [-0.87395406],\n       [-0.88531405],\n       [-0.6988621 ],\n       [ 0.11746883],\n       [-0.60374045]], dtype=float32)>"
     },
     "metadata": {},
     "execution_count": 91
    }
   ],
   "source": [
    "2 * a - 1"
   ]
  },
  {
   "cell_type": "code",
   "execution_count": 68,
   "metadata": {},
   "outputs": [
    {
     "output_type": "execute_result",
     "data": {
      "text/plain": "<tf.Tensor: shape=(4, 4), dtype=float32, numpy=\narray([[1., 1., 1., 1.],\n       [1., 1., 1., 1.],\n       [1., 1., 1., 1.],\n       [1., 1., 1., 1.]], dtype=float32)>"
     },
     "metadata": {},
     "execution_count": 68
    }
   ],
   "source": [
    "tf.ones([1,4]) * tf.ones([4,1])"
   ]
  },
  {
   "cell_type": "code",
   "execution_count": 55,
   "metadata": {},
   "outputs": [],
   "source": [
    "b = tf.ones([10,1], dtype=tf.float32)"
   ]
  },
  {
   "cell_type": "code",
   "execution_count": 69,
   "metadata": {},
   "outputs": [
    {
     "output_type": "execute_result",
     "data": {
      "text/plain": "[<tf.Tensor: shape=(10, 1), dtype=float32, numpy=\n array([[0.50500846],\n        [0.5746994 ],\n        [0.8969326 ],\n        [0.21727169],\n        [0.09501587],\n        [0.47729015],\n        [0.92111206],\n        [0.25620306],\n        [0.27648675],\n        [0.31412232]], dtype=float32)>]"
     },
     "metadata": {},
     "execution_count": 69
    }
   ],
   "source": [
    "a"
   ]
  },
  {
   "cell_type": "code",
   "execution_count": 66,
   "metadata": {},
   "outputs": [
    {
     "output_type": "execute_result",
     "data": {
      "text/plain": "<tf.Tensor: shape=(10, 1), dtype=float32, numpy=\narray([[3.],\n       [3.],\n       [3.],\n       [3.],\n       [3.],\n       [3.],\n       [3.],\n       [3.],\n       [3.],\n       [3.]], dtype=float32)>"
     },
     "metadata": {},
     "execution_count": 66
    }
   ],
   "source": [
    "tf.multiply(b,3)"
   ]
  },
  {
   "cell_type": "code",
   "execution_count": 36,
   "metadata": {},
   "outputs": [
    {
     "output_type": "execute_result",
     "data": {
      "text/plain": "<tf.Tensor: shape=(1, 1), dtype=float32, numpy=array([[4.]], dtype=float32)>"
     },
     "metadata": {},
     "execution_count": 36
    }
   ],
   "source": [
    "tf.matmul(tf.ones([1,4]),tf.ones([4,1]))"
   ]
  },
  {
   "cell_type": "code",
   "execution_count": 17,
   "metadata": {},
   "outputs": [
    {
     "output_type": "execute_result",
     "data": {
      "text/plain": "<tf.Tensor: shape=(1, 10, 1), dtype=float32, numpy=\narray([[[1.0100169 ],\n        [1.1493988 ],\n        [1.7938652 ],\n        [0.43454337],\n        [0.19003174],\n        [0.9545803 ],\n        [1.8422241 ],\n        [0.5124061 ],\n        [0.5529735 ],\n        [0.62824464]]], dtype=float32)>"
     },
     "metadata": {},
     "execution_count": 17
    }
   ],
   "source": [
    "a = tf.multiply(a, 2)"
   ]
  },
  {
   "cell_type": "code",
   "execution_count": 18,
   "metadata": {},
   "outputs": [
    {
     "output_type": "execute_result",
     "data": {
      "text/plain": "<tf.Tensor: shape=(1, 10, 1), dtype=float32, numpy=\narray([[[-0.49499154],\n        [-0.4253006 ],\n        [-0.1030674 ],\n        [-0.7827283 ],\n        [-0.9049841 ],\n        [-0.52270985],\n        [-0.07888794],\n        [-0.74379694],\n        [-0.72351325],\n        [-0.6858777 ]]], dtype=float32)>"
     },
     "metadata": {},
     "execution_count": 18
    }
   ],
   "source": [
    "tf.add(a, -1)"
   ]
  },
  {
   "cell_type": "code",
   "execution_count": 1,
   "metadata": {},
   "outputs": [
    {
     "output_type": "execute_result",
     "data": {
      "text/plain": "<tf.Tensor: shape=(5, 1), dtype=float32, numpy=\narray([[0.11929905],\n       [0.11929905],\n       [0.11929905],\n       [0.11929905],\n       [0.11929905]], dtype=float32)>"
     },
     "metadata": {},
     "execution_count": 1
    }
   ],
   "source": [
    "from simple_functions import simpleLinearModel\n",
    "import tensorflow as tf\n",
    "model = simpleLinearModel(no_layers=3, units = 5)\n",
    "model(tf.ones([5,1]))"
   ]
  },
  {
   "cell_type": "code",
   "execution_count": 2,
   "metadata": {},
   "outputs": [
    {
     "output_type": "execute_result",
     "data": {
      "text/plain": "[<tensorflow.python.keras.layers.core.Dense at 0x7f84b91a49d0>,\n <tensorflow.python.keras.layers.core.Dense at 0x7f84b8e39950>,\n <tensorflow.python.keras.layers.core.Dense at 0x7f84b8e39e50>,\n <tensorflow.python.keras.layers.core.Dense at 0x7f84b8e66290>,\n <tensorflow.python.keras.layers.core.Dense at 0x7f84b8e66790>]"
     },
     "metadata": {},
     "execution_count": 2
    }
   ],
   "source": [
    "model.layers"
   ]
  },
  {
   "cell_type": "code",
   "execution_count": 3,
   "metadata": {},
   "outputs": [
    {
     "output_type": "execute_result",
     "data": {
      "text/plain": "[<tf.Variable 'simple_linear_model/hidden_0/kernel:0' shape=(5, 5) dtype=float32, numpy=\n array([[-0.04738182,  0.6287184 , -0.76010203, -0.41077334,  0.26196587],\n        [-0.02113843,  0.556443  , -0.10203695, -0.31859988,  0.63030875],\n        [ 0.0100441 , -0.16256267, -0.5431483 ,  0.3525114 ,  0.48322666],\n        [-0.5636517 ,  0.07423973,  0.68191874, -0.64753324, -0.07142174],\n        [-0.37285742, -0.28038922, -0.5399573 ,  0.39294815, -0.16701448]],\n       dtype=float32)>,\n <tf.Variable 'simple_linear_model/hidden_1/kernel:0' shape=(5, 5) dtype=float32, numpy=\n array([[ 0.7068479 , -0.19594675,  0.55246806, -0.44654462,  0.13193673],\n        [ 0.0017367 ,  0.40573   , -0.52703696,  0.4482193 ,  0.5126051 ],\n        [-0.38289434, -0.26355433,  0.6119411 , -0.49972916, -0.16984212],\n        [-0.70430225,  0.5438193 , -0.1307627 ,  0.03824222,  0.49218297],\n        [ 0.13590378,  0.43013597, -0.0424121 , -0.5601646 ,  0.18569028]],\n       dtype=float32)>,\n <tf.Variable 'simple_linear_model/hidden_2/kernel:0' shape=(5, 5) dtype=float32, numpy=\n array([[ 0.7440673 , -0.4470663 , -0.38276172, -0.388221  ,  0.5640664 ],\n        [-0.6536005 ,  0.513746  ,  0.2596445 , -0.05680943,  0.16901141],\n        [ 0.284917  ,  0.5172359 , -0.00137991, -0.54205114,  0.22145635],\n        [ 0.18003374, -0.61526704,  0.12579805,  0.5036191 , -0.08643609],\n        [ 0.04248875,  0.28202116,  0.36087382,  0.19006181,  0.59920514]],\n       dtype=float32)>,\n <tf.Variable 'simple_linear_model/dense/kernel:0' shape=(1, 5) dtype=float32, numpy=array([[1., 1., 1., 1., 1.]], dtype=float32)>,\n <tf.Variable 'simple_linear_model/dense_1/kernel:0' shape=(5, 1) dtype=float32, numpy=\n array([[1.],\n        [1.],\n        [1.],\n        [1.],\n        [1.]], dtype=float32)>]"
     },
     "metadata": {},
     "execution_count": 3
    }
   ],
   "source": [
    "model.weights"
   ]
  },
  {
   "cell_type": "code",
   "execution_count": 4,
   "metadata": {},
   "outputs": [],
   "source": [
    "import tensorflow as tf\n",
    "import numpy as np"
   ]
  },
  {
   "cell_type": "code",
   "execution_count": 5,
   "metadata": {},
   "outputs": [],
   "source": [
    "class simpleLinearModel(tf.keras.Model):\n",
    "    ''' \n",
    "    '''\n",
    "    def __init__(self, \n",
    "                no_layers,\n",
    "                units):\n",
    "        '''\n",
    "            Constrain the network to have FIXED hidden layer neurons, that are regualarized with dropout (or something like that. Haha. We'll see)\n",
    "            So,\n",
    "            Inputs:\n",
    "                no_layers: No of hidden layers, \n",
    "                units: units in layers except input & output\n",
    "        '''\n",
    "        super(simpleLinearModel, self).__init__()\n",
    "        self.units = units\n",
    "        self.no_layers = no_layers\n",
    "        self._layers = []\n",
    "\n",
    "        #self.first = staticDense(units = self.units) # first layer to input\n",
    "        #self.last  = staticDense(units = 1) # Single output regression\n",
    "        for i in range(self.no_layers):\n",
    "            self._layers.append(tf.keras.layers.Dense(units = self.units, use_bias = False, kernel_regularizer = tf.keras.regularizers.l2(1e-6),name = 'hidden_'+str(i)))\n",
    "        self.first = tf.keras.layers.Dense(units = self.units, use_bias = False, kernel_initializer = 'ones', trainable = False, name = 'first')\n",
    "\n",
    "        '''\n",
    "        self.second = tf.keras.layers.Dense(units = self.units, use_bias = False, kernel_regularizer = tf.keras.regularizers.l2(1e-6))\n",
    "        self.third = tf.keras.layers.Dense(units = self.units, use_bias = False, kernel_regularizer = tf.keras.regularizers.l2(1e-6))\n",
    "        self.fourth = tf.keras.layers.Dense(units = self.units, use_bias = False, kernel_regularizer = tf.keras.regularizers.l2(1e-6))\n",
    "        '''\n",
    "        self.last = tf.keras.layers.Dense(units = 1, use_bias = False, kernel_initializer = 'ones', trainable = False, name ='last')\n",
    "\n",
    "    def call(self, inputs, inference = None):\n",
    "        '''\n",
    "        '''\n",
    "        if(inference):\n",
    "            # No dropout on inference\n",
    "            x = self.first(inputs)\n",
    "            for i in range(self.no_layers):\n",
    "                x = self._layers[i](x)\n",
    "            return self.last(x)\n",
    "        else:\n",
    "            x = self.first(inputs)\n",
    "            #print(x)\n",
    "            for i in range(self.no_layers):\n",
    "                x = self._layers[i](x)\n",
    "                x = tf.keras.layers.Dropout(rate = 0.3)(x)\n",
    "            return self.last(x)\n",
    "            '''x = self.second(x)\n",
    "            x = tf.keras.layers.Dropout(rate = 0.3)(x)\n",
    "            x = self.third(x)\n",
    "            x = tf.keras.layers.Dropout(rate = 0.3)(x)\n",
    "            x = self.fourth(x)\n",
    "            x = tf.keras.layers.Dropout(rate = 0.3)(x)\n",
    "            return self.last(x)'''\n",
    "    \n",
    "    def get_weights_tensor(self):\n",
    "\n",
    "        return tf.convert_to_tensor(self.trainable_weights) # Not principled. But since no bias, this should work."
   ]
  },
  {
   "cell_type": "code",
   "execution_count": 6,
   "metadata": {},
   "outputs": [
    {
     "output_type": "execute_result",
     "data": {
      "text/plain": "<tf.Tensor: shape=(10, 1), dtype=float32, numpy=\narray([[0.9992305],\n       [0.9992305],\n       [0.9992305],\n       [0.9992305],\n       [0.9992305],\n       [0.9992305],\n       [0.9992305],\n       [0.9992305],\n       [0.9992305],\n       [0.9992305]], dtype=float32)>"
     },
     "metadata": {},
     "execution_count": 6
    }
   ],
   "source": [
    "model = simpleLinearModel(no_layers=3, units = 5)\n",
    "\n",
    "model(tf.ones([10,1]))\n"
   ]
  },
  {
   "cell_type": "code",
   "execution_count": 7,
   "metadata": {},
   "outputs": [
    {
     "output_type": "execute_result",
     "data": {
      "text/plain": "[<tensorflow.python.keras.layers.core.Dense at 0x7f84b8e39650>,\n <tensorflow.python.keras.layers.core.Dense at 0x7f846c179e10>,\n <tensorflow.python.keras.layers.core.Dense at 0x7f846c1791d0>,\n <tensorflow.python.keras.layers.core.Dense at 0x7f846c272090>,\n <tensorflow.python.keras.layers.core.Dense at 0x7f846c272c90>]"
     },
     "metadata": {},
     "execution_count": 7
    }
   ],
   "source": [
    "model.layers\n"
   ]
  },
  {
   "cell_type": "code",
   "execution_count": 8,
   "metadata": {},
   "outputs": [
    {
     "output_type": "stream",
     "name": "stdout",
     "text": "Model: \"simple_linear_model_1\"\n_________________________________________________________________\nLayer (type)                 Output Shape              Param #   \n=================================================================\nhidden_0 (Dense)             multiple                  25        \n_________________________________________________________________\nhidden_1 (Dense)             multiple                  25        \n_________________________________________________________________\nhidden_2 (Dense)             multiple                  25        \n_________________________________________________________________\nfirst (Dense)                multiple                  5         \n_________________________________________________________________\nlast (Dense)                 multiple                  5         \n=================================================================\nTotal params: 85\nTrainable params: 75\nNon-trainable params: 10\n_________________________________________________________________\n"
    }
   ],
   "source": [
    "model.summary()"
   ]
  },
  {
   "cell_type": "code",
   "execution_count": 9,
   "metadata": {},
   "outputs": [
    {
     "output_type": "execute_result",
     "data": {
      "text/plain": "[<tf.Variable 'simple_linear_model_1/hidden_0/kernel:0' shape=(5, 5) dtype=float32, numpy=\n array([[-0.2701944 ,  0.72431767, -0.34694448, -0.20487446,  0.21732491],\n        [-0.24056393,  0.28066826, -0.27616894,  0.54228306, -0.2497254 ],\n        [-0.36997646, -0.65954214,  0.3151375 , -0.3972418 ,  0.20574206],\n        [-0.20811135,  0.77380955,  0.01158172,  0.23972368,  0.43912363],\n        [-0.1142534 ,  0.3876276 ,  0.64407825, -0.66414857,  0.39405596]],\n       dtype=float32)>,\n <tf.Variable 'simple_linear_model_1/hidden_1/kernel:0' shape=(5, 5) dtype=float32, numpy=\n array([[ 0.3743074 ,  0.4895866 ,  0.44152153, -0.22642308, -0.03995013],\n        [ 0.7561828 , -0.71910346, -0.18145782,  0.01556581, -0.6673912 ],\n        [ 0.74802005,  0.22328132,  0.36352634,  0.19032979, -0.28401592],\n        [-0.12819475, -0.67937255, -0.31565002,  0.00106543,  0.04714543],\n        [-0.3096057 ,  0.34876   , -0.10816973,  0.6005585 , -0.11634856]],\n       dtype=float32)>,\n <tf.Variable 'simple_linear_model_1/hidden_2/kernel:0' shape=(5, 5) dtype=float32, numpy=\n array([[-0.48764512,  0.26255858,  0.4446143 , -0.4684489 ,  0.7003852 ],\n        [-0.5368652 ,  0.26624322, -0.31156346,  0.76141346, -0.06397146],\n        [-0.36548728,  0.65754795,  0.14048272, -0.40649915, -0.76022506],\n        [ 0.769876  ,  0.35332954,  0.4676596 ,  0.36615014, -0.12707913],\n        [ 0.3604567 , -0.3417314 ,  0.64446485,  0.57040167, -0.02606273]],\n       dtype=float32)>]"
     },
     "metadata": {},
     "execution_count": 9
    }
   ],
   "source": [
    "model.trainable_weights"
   ]
  },
  {
   "cell_type": "code",
   "execution_count": 10,
   "metadata": {},
   "outputs": [
    {
     "output_type": "stream",
     "name": "stdout",
     "text": "[<tf.Variable 'simple_linear_model_1/hidden_0/kernel:0' shape=(5, 5) dtype=float32, numpy=\narray([[-0.2701944 ,  0.72431767, -0.34694448, -0.20487446,  0.21732491],\n       [-0.24056393,  0.28066826, -0.27616894,  0.54228306, -0.2497254 ],\n       [-0.36997646, -0.65954214,  0.3151375 , -0.3972418 ,  0.20574206],\n       [-0.20811135,  0.77380955,  0.01158172,  0.23972368,  0.43912363],\n       [-0.1142534 ,  0.3876276 ,  0.64407825, -0.66414857,  0.39405596]],\n      dtype=float32)>, <tf.Variable 'simple_linear_model_1/hidden_1/kernel:0' shape=(5, 5) dtype=float32, numpy=\narray([[ 0.3743074 ,  0.4895866 ,  0.44152153, -0.22642308, -0.03995013],\n       [ 0.7561828 , -0.71910346, -0.18145782,  0.01556581, -0.6673912 ],\n       [ 0.74802005,  0.22328132,  0.36352634,  0.19032979, -0.28401592],\n       [-0.12819475, -0.67937255, -0.31565002,  0.00106543,  0.04714543],\n       [-0.3096057 ,  0.34876   , -0.10816973,  0.6005585 , -0.11634856]],\n      dtype=float32)>, <tf.Variable 'simple_linear_model_1/hidden_2/kernel:0' shape=(5, 5) dtype=float32, numpy=\narray([[-0.48764512,  0.26255858,  0.4446143 , -0.4684489 ,  0.7003852 ],\n       [-0.5368652 ,  0.26624322, -0.31156346,  0.76141346, -0.06397146],\n       [-0.36548728,  0.65754795,  0.14048272, -0.40649915, -0.76022506],\n       [ 0.769876  ,  0.35332954,  0.4676596 ,  0.36615014, -0.12707913],\n       [ 0.3604567 , -0.3417314 ,  0.64446485,  0.57040167, -0.02606273]],\n      dtype=float32)>, <tf.Variable 'simple_linear_model_1/first/kernel:0' shape=(1, 5) dtype=float32, numpy=array([[1., 1., 1., 1., 1.]], dtype=float32)>, <tf.Variable 'simple_linear_model_1/last/kernel:0' shape=(5, 1) dtype=float32, numpy=\narray([[1.],\n       [1.],\n       [1.],\n       [1.],\n       [1.]], dtype=float32)>]\n"
    }
   ],
   "source": [
    "print(model.variables)"
   ]
  },
  {
   "cell_type": "code",
   "execution_count": 18,
   "metadata": {},
   "outputs": [
    {
     "output_type": "execute_result",
     "data": {
      "image/png": "[encoded data removed]",
      "text/plain": "<IPython.core.display.Image object>"
     },
     "metadata": {},
     "execution_count": 18
    }
   ],
   "source": [
    "tf.keras.utils.plot_model(model, show_layer_names= True, show_shapes= True, expand_nested = True)"
   ]
  },
  {
   "cell_type": "code",
   "execution_count": null,
   "metadata": {},
   "outputs": [],
   "source": []
  },
  {
   "cell_type": "code",
   "execution_count": 71,
   "metadata": {},
   "outputs": [],
   "source": [
    "class testModel(tf.keras.Model):\n",
    "    def __init__(self):\n",
    "        super(testModel, self).__init__()\n",
    "        self.l4 = tf.keras.layers.Dense(units = 1, use_bias = False, kernel_initializer='ones', name = '4')\n",
    "        self.l3 = tf.keras.layers.Dense(units = 2, use_bias = False, kernel_initializer='ones', name = '3')\n",
    "        self.l2 = tf.keras.layers.Dense(units = 10, use_bias = False, kernel_initializer='ones', name = '2')\n",
    "        self.l1 = tf.keras.layers.Dense(units = 5, use_bias = False, kernel_initializer='ones', name = '1')\n",
    "    \n",
    "    def call(self, inputs):\n",
    "        x = self.l1(inputs)\n",
    "        x = self.l2(x)\n",
    "        x = self.l3(x)\n",
    "        return self.l4(x)"
   ]
  },
  {
   "cell_type": "code",
   "execution_count": 72,
   "metadata": {},
   "outputs": [
    {
     "output_type": "execute_result",
     "data": {
      "text/plain": "<tf.Tensor: shape=(10, 1), dtype=float32, numpy=\narray([[100.],\n       [100.],\n       [100.],\n       [100.],\n       [100.],\n       [100.],\n       [100.],\n       [100.],\n       [100.],\n       [100.]], dtype=float32)>"
     },
     "metadata": {},
     "execution_count": 72
    }
   ],
   "source": [
    "test = testModel()\n",
    "test(tf.ones([10,1]))"
   ]
  },
  {
   "cell_type": "code",
   "execution_count": 73,
   "metadata": {},
   "outputs": [
    {
     "output_type": "stream",
     "name": "stdout",
     "text": "Model: \"test_model_10\"\n_________________________________________________________________\nLayer (type)                 Output Shape              Param #   \n=================================================================\n4 (Dense)                    multiple                  2         \n_________________________________________________________________\n3 (Dense)                    multiple                  20        \n_________________________________________________________________\n2 (Dense)                    multiple                  50        \n_________________________________________________________________\n1 (Dense)                    multiple                  5         \n=================================================================\nTotal params: 77\nTrainable params: 77\nNon-trainable params: 0\n_________________________________________________________________\n"
    }
   ],
   "source": [
    "test.summary()"
   ]
  },
  {
   "cell_type": "code",
   "execution_count": 40,
   "metadata": {},
   "outputs": [
    {
     "output_type": "execute_result",
     "data": {
      "text/plain": "<tf.Tensor: shape=(10, 1), dtype=float32, numpy=\narray([[100.],\n       [100.],\n       [100.],\n       [100.],\n       [100.],\n       [100.],\n       [100.],\n       [100.],\n       [100.],\n       [100.]], dtype=float32)>"
     },
     "metadata": {},
     "execution_count": 40
    }
   ],
   "source": []
  },
  {
   "cell_type": "code",
   "execution_count": 1,
   "metadata": {},
   "outputs": [],
   "source": [
    "import tensorflow_datasets as tfds"
   ]
  },
  {
   "cell_type": "code",
   "execution_count": 2,
   "metadata": {},
   "outputs": [
    {
     "output_type": "execute_result",
     "data": {
      "text/plain": "['abstract_reasoning',\n 'aeslc',\n 'aflw2k3d',\n 'ai2_arc',\n 'amazon_us_reviews',\n 'anli',\n 'arc',\n 'bair_robot_pushing_small',\n 'beans',\n 'big_patent',\n 'bigearthnet',\n 'billsum',\n 'binarized_mnist',\n 'binary_alpha_digits',\n 'blimp',\n 'c4',\n 'caltech101',\n 'caltech_birds2010',\n 'caltech_birds2011',\n 'cars196',\n 'cassava',\n 'cats_vs_dogs',\n 'celeb_a',\n 'celeb_a_hq',\n 'cfq',\n 'chexpert',\n 'cifar10',\n 'cifar100',\n 'cifar10_1',\n 'cifar10_corrupted',\n 'citrus_leaves',\n 'cityscapes',\n 'civil_comments',\n 'clevr',\n 'clinc_oos',\n 'cmaterdb',\n 'cnn_dailymail',\n 'coco',\n 'coil100',\n 'colorectal_histology',\n 'colorectal_histology_large',\n 'common_voice',\n 'cos_e',\n 'cosmos_qa',\n 'covid19sum',\n 'crema_d',\n 'curated_breast_imaging_ddsm',\n 'cycle_gan',\n 'deep_weeds',\n 'definite_pronoun_resolution',\n 'dementiabank',\n 'diabetic_retinopathy_detection',\n 'div2k',\n 'dmlab',\n 'downsampled_imagenet',\n 'dsprites',\n 'dtd',\n 'duke_ultrasound',\n 'emnist',\n 'eraser_multi_rc',\n 'esnli',\n 'eurosat',\n 'fashion_mnist',\n 'flic',\n 'flores',\n 'food101',\n 'forest_fires',\n 'fuss',\n 'gap',\n 'geirhos_conflict_stimuli',\n 'german_credit_numeric',\n 'gigaword',\n 'glue',\n 'groove',\n 'higgs',\n 'horses_or_humans',\n 'i_naturalist2017',\n 'imagenet2012',\n 'imagenet2012_corrupted',\n 'imagenet2012_real',\n 'imagenet2012_subset',\n 'imagenet_a',\n 'imagenet_resized',\n 'imagenet_v2',\n 'imagenette',\n 'imagewang',\n 'imdb_reviews',\n 'irc_disentanglement',\n 'iris',\n 'kitti',\n 'kmnist',\n 'lfw',\n 'librispeech',\n 'librispeech_lm',\n 'libritts',\n 'ljspeech',\n 'lm1b',\n 'lost_and_found',\n 'lsun',\n 'malaria',\n 'math_dataset',\n 'mctaco',\n 'mnist',\n 'mnist_corrupted',\n 'movie_lens',\n 'movie_rationales',\n 'moving_mnist',\n 'multi_news',\n 'multi_nli',\n 'multi_nli_mismatch',\n 'natural_questions',\n 'newsroom',\n 'nsynth',\n 'nyu_depth_v2',\n 'omniglot',\n 'open_images_challenge2019_detection',\n 'open_images_v4',\n 'openbookqa',\n 'opinion_abstracts',\n 'opinosis',\n 'opus',\n 'oxford_flowers102',\n 'oxford_iiit_pet',\n 'para_crawl',\n 'patch_camelyon',\n 'pet_finder',\n 'pg19',\n 'places365_small',\n 'plant_leaves',\n 'plant_village',\n 'plantae_k',\n 'qa4mre',\n 'quickdraw_bitmap',\n 'reddit',\n 'reddit_disentanglement',\n 'reddit_tifu',\n 'resisc45',\n 'robonet',\n 'rock_paper_scissors',\n 'rock_you',\n 'samsum',\n 'savee',\n 'scan',\n 'scene_parse150',\n 'scicite',\n 'scientific_papers',\n 'shapes3d',\n 'smallnorb',\n 'snli',\n 'so2sat',\n 'speech_commands',\n 'squad',\n 'stanford_dogs',\n 'stanford_online_products',\n 'starcraft_video',\n 'stl10',\n 'sun397',\n 'super_glue',\n 'svhn_cropped',\n 'ted_hrlr_translate',\n 'ted_multi_translate',\n 'tedlium',\n 'tf_flowers',\n 'the300w_lp',\n 'tiny_shakespeare',\n 'titanic',\n 'trivia_qa',\n 'uc_merced',\n 'ucf101',\n 'vctk',\n 'vgg_face2',\n 'visual_domain_decathlon',\n 'voc',\n 'voxceleb',\n 'voxforge',\n 'waymo_open_dataset',\n 'web_questions',\n 'wider_face',\n 'wiki40b',\n 'wikihow',\n 'wikipedia',\n 'wikipedia_toxicity_subtypes',\n 'winogrande',\n 'wmt14_translate',\n 'wmt15_translate',\n 'wmt16_translate',\n 'wmt17_translate',\n 'wmt18_translate',\n 'wmt19_translate',\n 'wmt_t2t_translate',\n 'wmt_translate',\n 'wordnet',\n 'xnli',\n 'xsum',\n 'yelp_polarity_reviews']"
     },
     "metadata": {},
     "execution_count": 2
    }
   ],
   "source": [
    "tfds.list_builders()"
   ]
  },
  {
   "cell_type": "code",
   "execution_count": 35,
   "metadata": {},
   "outputs": [],
   "source": [
    "import tensorflow as tf\n",
    "import collections\n",
    "import numpy as np\n",
    "from neural_map import NeuralMap\n",
    "import time"
   ]
  },
  {
   "cell_type": "code",
   "execution_count": 44,
   "metadata": {},
   "outputs": [],
   "source": [
    "def gen_stream(Z):\n",
    "    '''Stream of samples, batched out from encoded/input samples Z\n",
    "    '''\n",
    "    train_ds = tf.data.Dataset.from_tensor_slices(Z).batch(1000).shuffle(buffer_size=3 * 1000)\n",
    "    return train_ds"
   ]
  },
  {
   "cell_type": "code",
   "execution_count": 45,
   "metadata": {
    "tags": []
   },
   "outputs": [
    {
     "output_type": "stream",
     "name": "stdout",
     "text": "Creating SOM of shape ListWrapper([30, 30]) with weight dimension ListWrapper([784])\n"
    }
   ],
   "source": [
    "\n",
    "neural_map = NeuralMap(shape=[30, 30], embed_dim=[784], dtype=tf.float32)\n",
    "iterations = 100\n",
    "batch_size = 1000\n",
    "(x_train, y_train), (x_test, y_test) = tf.keras.datasets.mnist.load_data()\n",
    "x_train = tf.reshape(x_train, [x_train.shape[0], -1])\n",
    "x_train = tf.cast(x_train, dtype=tf.float32)\n"
   ]
  },
  {
   "cell_type": "code",
   "execution_count": 47,
   "metadata": {
    "tags": []
   },
   "outputs": [
    {
     "output_type": "stream",
     "name": "stdout",
     "text": "tf.Tensor(\n[[0. 0. 0. ... 0. 0. 0.]\n [0. 0. 0. ... 0. 0. 0.]\n [0. 0. 0. ... 0. 0. 0.]\n ...\n [0. 0. 0. ... 0. 0. 0.]\n [0. 0. 0. ... 0. 0. 0.]\n [0. 0. 0. ... 0. 0. 0.]], shape=(1000, 784), dtype=float32)\ntf.Tensor(\n[[0. 0. 0. ... 0. 0. 0.]\n [0. 0. 0. ... 0. 0. 0.]\n [0. 0. 0. ... 0. 0. 0.]\n ...\n [0. 0. 0. ... 0. 0. 0.]\n [0. 0. 0. ... 0. 0. 0.]\n [0. 0. 0. ... 0. 0. 0.]], shape=(1000, 784), dtype=float32)\ntf.Tensor(\n[[0. 0. 0. ... 0. 0. 0.]\n [0. 0. 0. ... 0. 0. 0.]\n [0. 0. 0. ... 0. 0. 0.]\n ...\n [0. 0. 0. ... 0. 0. 0.]\n [0. 0. 0. ... 0. 0. 0.]\n [0. 0. 0. ... 0. 0. 0.]], shape=(1000, 784), dtype=float32)\ntf.Tensor(\n[[0. 0. 0. ... 0. 0. 0.]\n [0. 0. 0. ... 0. 0. 0.]\n [0. 0. 0. ... 0. 0. 0.]\n ...\n [0. 0. 0. ... 0. 0. 0.]\n [0. 0. 0. ... 0. 0. 0.]\n [0. 0. 0. ... 0. 0. 0.]], shape=(1000, 784), dtype=float32)\ntf.Tensor(\n[[0. 0. 0. ... 0. 0. 0.]\n [0. 0. 0. ... 0. 0. 0.]\n [0. 0. 0. ... 0. 0. 0.]\n ...\n [0. 0. 0. ... 0. 0. 0.]\n [0. 0. 0. ... 0. 0. 0.]\n [0. 0. 0. ... 0. 0. 0.]], shape=(1000, 784), dtype=float32)\ntf.Tensor(\n[[0. 0. 0. ... 0. 0. 0.]\n [0. 0. 0. ... 0. 0. 0.]\n [0. 0. 0. ... 0. 0. 0.]\n ...\n [0. 0. 0. ... 0. 0. 0.]\n [0. 0. 0. ... 0. 0. 0.]\n [0. 0. 0. ... 0. 0. 0.]], shape=(1000, 784), dtype=float32)\ntf.Tensor(\n[[0. 0. 0. ... 0. 0. 0.]\n [0. 0. 0. ... 0. 0. 0.]\n [0. 0. 0. ... 0. 0. 0.]\n ...\n [0. 0. 0. ... 0. 0. 0.]\n [0. 0. 0. ... 0. 0. 0.]\n [0. 0. 0. ... 0. 0. 0.]], shape=(1000, 784), dtype=float32)\ntf.Tensor(\n[[0. 0. 0. ... 0. 0. 0.]\n [0. 0. 0. ... 0. 0. 0.]\n [0. 0. 0. ... 0. 0. 0.]\n ...\n [0. 0. 0. ... 0. 0. 0.]\n [0. 0. 0. ... 0. 0. 0.]\n [0. 0. 0. ... 0. 0. 0.]], shape=(1000, 784), dtype=float32)\ntf.Tensor(\n[[0. 0. 0. ... 0. 0. 0.]\n [0. 0. 0. ... 0. 0. 0.]\n [0. 0. 0. ... 0. 0. 0.]\n ...\n [0. 0. 0. ... 0. 0. 0.]\n [0. 0. 0. ... 0. 0. 0.]\n [0. 0. 0. ... 0. 0. 0.]], shape=(1000, 784), dtype=float32)\ntf.Tensor(\n[[0. 0. 0. ... 0. 0. 0.]\n [0. 0. 0. ... 0. 0. 0.]\n [0. 0. 0. ... 0. 0. 0.]\n ...\n [0. 0. 0. ... 0. 0. 0.]\n [0. 0. 0. ... 0. 0. 0.]\n [0. 0. 0. ... 0. 0. 0.]], shape=(1000, 784), dtype=float32)\ntf.Tensor(\n[[0. 0. 0. ... 0. 0. 0.]\n [0. 0. 0. ... 0. 0. 0.]\n [0. 0. 0. ... 0. 0. 0.]\n ...\n [0. 0. 0. ... 0. 0. 0.]\n [0. 0. 0. ... 0. 0. 0.]\n [0. 0. 0. ... 0. 0. 0.]], shape=(1000, 784), dtype=float32)\ntf.Tensor(\n[[0. 0. 0. ... 0. 0. 0.]\n [0. 0. 0. ... 0. 0. 0.]\n [0. 0. 0. ... 0. 0. 0.]\n ...\n [0. 0. 0. ... 0. 0. 0.]\n [0. 0. 0. ... 0. 0. 0.]\n [0. 0. 0. ... 0. 0. 0.]], shape=(1000, 784), dtype=float32)\ntf.Tensor(\n[[0. 0. 0. ... 0. 0. 0.]\n [0. 0. 0. ... 0. 0. 0.]\n [0. 0. 0. ... 0. 0. 0.]\n ...\n [0. 0. 0. ... 0. 0. 0.]\n [0. 0. 0. ... 0. 0. 0.]\n [0. 0. 0. ... 0. 0. 0.]], shape=(1000, 784), dtype=float32)\ntf.Tensor(\n[[0. 0. 0. ... 0. 0. 0.]\n [0. 0. 0. ... 0. 0. 0.]\n [0. 0. 0. ... 0. 0. 0.]\n ...\n [0. 0. 0. ... 0. 0. 0.]\n [0. 0. 0. ... 0. 0. 0.]\n [0. 0. 0. ... 0. 0. 0.]], shape=(1000, 784), dtype=float32)\ntf.Tensor(\n[[0. 0. 0. ... 0. 0. 0.]\n [0. 0. 0. ... 0. 0. 0.]\n [0. 0. 0. ... 0. 0. 0.]\n ...\n [0. 0. 0. ... 0. 0. 0.]\n [0. 0. 0. ... 0. 0. 0.]\n [0. 0. 0. ... 0. 0. 0.]], shape=(1000, 784), dtype=float32)\ntf.Tensor(\n[[0. 0. 0. ... 0. 0. 0.]\n [0. 0. 0. ... 0. 0. 0.]\n [0. 0. 0. ... 0. 0. 0.]\n ...\n [0. 0. 0. ... 0. 0. 0.]\n [0. 0. 0. ... 0. 0. 0.]\n [0. 0. 0. ... 0. 0. 0.]], shape=(1000, 784), dtype=float32)\ntf.Tensor(\n[[0. 0. 0. ... 0. 0. 0.]\n [0. 0. 0. ... 0. 0. 0.]\n [0. 0. 0. ... 0. 0. 0.]\n ...\n [0. 0. 0. ... 0. 0. 0.]\n [0. 0. 0. ... 0. 0. 0.]\n [0. 0. 0. ... 0. 0. 0.]], shape=(1000, 784), dtype=float32)\ntf.Tensor(\n[[0. 0. 0. ... 0. 0. 0.]\n [0. 0. 0. ... 0. 0. 0.]\n [0. 0. 0. ... 0. 0. 0.]\n ...\n [0. 0. 0. ... 0. 0. 0.]\n [0. 0. 0. ... 0. 0. 0.]\n [0. 0. 0. ... 0. 0. 0.]], shape=(1000, 784), dtype=float32)\ntf.Tensor(\n[[0. 0. 0. ... 0. 0. 0.]\n [0. 0. 0. ... 0. 0. 0.]\n [0. 0. 0. ... 0. 0. 0.]\n ...\n [0. 0. 0. ... 0. 0. 0.]\n [0. 0. 0. ... 0. 0. 0.]\n [0. 0. 0. ... 0. 0. 0.]], shape=(1000, 784), dtype=float32)\ntf.Tensor(\n[[0. 0. 0. ... 0. 0. 0.]\n [0. 0. 0. ... 0. 0. 0.]\n [0. 0. 0. ... 0. 0. 0.]\n ...\n [0. 0. 0. ... 0. 0. 0.]\n [0. 0. 0. ... 0. 0. 0.]\n [0. 0. 0. ... 0. 0. 0.]], shape=(1000, 784), dtype=float32)\ntf.Tensor(\n[[0. 0. 0. ... 0. 0. 0.]\n [0. 0. 0. ... 0. 0. 0.]\n [0. 0. 0. ... 0. 0. 0.]\n ...\n [0. 0. 0. ... 0. 0. 0.]\n [0. 0. 0. ... 0. 0. 0.]\n [0. 0. 0. ... 0. 0. 0.]], shape=(1000, 784), dtype=float32)\ntf.Tensor(\n[[0. 0. 0. ... 0. 0. 0.]\n [0. 0. 0. ... 0. 0. 0.]\n [0. 0. 0. ... 0. 0. 0.]\n ...\n [0. 0. 0. ... 0. 0. 0.]\n [0. 0. 0. ... 0. 0. 0.]\n [0. 0. 0. ... 0. 0. 0.]], shape=(1000, 784), dtype=float32)\ntf.Tensor(\n[[0. 0. 0. ... 0. 0. 0.]\n [0. 0. 0. ... 0. 0. 0.]\n [0. 0. 0. ... 0. 0. 0.]\n ...\n [0. 0. 0. ... 0. 0. 0.]\n [0. 0. 0. ... 0. 0. 0.]\n [0. 0. 0. ... 0. 0. 0.]], shape=(1000, 784), dtype=float32)\ntf.Tensor(\n[[0. 0. 0. ... 0. 0. 0.]\n [0. 0. 0. ... 0. 0. 0.]\n [0. 0. 0. ... 0. 0. 0.]\n ...\n [0. 0. 0. ... 0. 0. 0.]\n [0. 0. 0. ... 0. 0. 0.]\n [0. 0. 0. ... 0. 0. 0.]], shape=(1000, 784), dtype=float32)\ntf.Tensor(\n[[0. 0. 0. ... 0. 0. 0.]\n [0. 0. 0. ... 0. 0. 0.]\n [0. 0. 0. ... 0. 0. 0.]\n ...\n [0. 0. 0. ... 0. 0. 0.]\n [0. 0. 0. ... 0. 0. 0.]\n [0. 0. 0. ... 0. 0. 0.]], shape=(1000, 784), dtype=float32)\ntf.Tensor(\n[[0. 0. 0. ... 0. 0. 0.]\n [0. 0. 0. ... 0. 0. 0.]\n [0. 0. 0. ... 0. 0. 0.]\n ...\n [0. 0. 0. ... 0. 0. 0.]\n [0. 0. 0. ... 0. 0. 0.]\n [0. 0. 0. ... 0. 0. 0.]], shape=(1000, 784), dtype=float32)\ntf.Tensor(\n[[0. 0. 0. ... 0. 0. 0.]\n [0. 0. 0. ... 0. 0. 0.]\n [0. 0. 0. ... 0. 0. 0.]\n ...\n [0. 0. 0. ... 0. 0. 0.]\n [0. 0. 0. ... 0. 0. 0.]\n [0. 0. 0. ... 0. 0. 0.]], shape=(1000, 784), dtype=float32)\ntf.Tensor(\n[[0. 0. 0. ... 0. 0. 0.]\n [0. 0. 0. ... 0. 0. 0.]\n [0. 0. 0. ... 0. 0. 0.]\n ...\n [0. 0. 0. ... 0. 0. 0.]\n [0. 0. 0. ... 0. 0. 0.]\n [0. 0. 0. ... 0. 0. 0.]], shape=(1000, 784), dtype=float32)\ntf.Tensor(\n[[0. 0. 0. ... 0. 0. 0.]\n [0. 0. 0. ... 0. 0. 0.]\n [0. 0. 0. ... 0. 0. 0.]\n ...\n [0. 0. 0. ... 0. 0. 0.]\n [0. 0. 0. ... 0. 0. 0.]\n [0. 0. 0. ... 0. 0. 0.]], shape=(1000, 784), dtype=float32)\ntf.Tensor(\n[[0. 0. 0. ... 0. 0. 0.]\n [0. 0. 0. ... 0. 0. 0.]\n [0. 0. 0. ... 0. 0. 0.]\n ...\n [0. 0. 0. ... 0. 0. 0.]\n [0. 0. 0. ... 0. 0. 0.]\n [0. 0. 0. ... 0. 0. 0.]], shape=(1000, 784), dtype=float32)\ntf.Tensor(\n[[0. 0. 0. ... 0. 0. 0.]\n [0. 0. 0. ... 0. 0. 0.]\n [0. 0. 0. ... 0. 0. 0.]\n ...\n [0. 0. 0. ... 0. 0. 0.]\n [0. 0. 0. ... 0. 0. 0.]\n [0. 0. 0. ... 0. 0. 0.]], shape=(1000, 784), dtype=float32)\ntf.Tensor(\n[[0. 0. 0. ... 0. 0. 0.]\n [0. 0. 0. ... 0. 0. 0.]\n [0. 0. 0. ... 0. 0. 0.]\n ...\n [0. 0. 0. ... 0. 0. 0.]\n [0. 0. 0. ... 0. 0. 0.]\n [0. 0. 0. ... 0. 0. 0.]], shape=(1000, 784), dtype=float32)\ntf.Tensor(\n[[0. 0. 0. ... 0. 0. 0.]\n [0. 0. 0. ... 0. 0. 0.]\n [0. 0. 0. ... 0. 0. 0.]\n ...\n [0. 0. 0. ... 0. 0. 0.]\n [0. 0. 0. ... 0. 0. 0.]\n [0. 0. 0. ... 0. 0. 0.]], shape=(1000, 784), dtype=float32)\ntf.Tensor(\n[[0. 0. 0. ... 0. 0. 0.]\n [0. 0. 0. ... 0. 0. 0.]\n [0. 0. 0. ... 0. 0. 0.]\n ...\n [0. 0. 0. ... 0. 0. 0.]\n [0. 0. 0. ... 0. 0. 0.]\n [0. 0. 0. ... 0. 0. 0.]], shape=(1000, 784), dtype=float32)\ntf.Tensor(\n[[0. 0. 0. ... 0. 0. 0.]\n [0. 0. 0. ... 0. 0. 0.]\n [0. 0. 0. ... 0. 0. 0.]\n ...\n [0. 0. 0. ... 0. 0. 0.]\n [0. 0. 0. ... 0. 0. 0.]\n [0. 0. 0. ... 0. 0. 0.]], shape=(1000, 784), dtype=float32)\ntf.Tensor(\n[[0. 0. 0. ... 0. 0. 0.]\n [0. 0. 0. ... 0. 0. 0.]\n [0. 0. 0. ... 0. 0. 0.]\n ...\n [0. 0. 0. ... 0. 0. 0.]\n [0. 0. 0. ... 0. 0. 0.]\n [0. 0. 0. ... 0. 0. 0.]], shape=(1000, 784), dtype=float32)\ntf.Tensor(\n[[0. 0. 0. ... 0. 0. 0.]\n [0. 0. 0. ... 0. 0. 0.]\n [0. 0. 0. ... 0. 0. 0.]\n ...\n [0. 0. 0. ... 0. 0. 0.]\n [0. 0. 0. ... 0. 0. 0.]\n [0. 0. 0. ... 0. 0. 0.]], shape=(1000, 784), dtype=float32)\ntf.Tensor(\n[[0. 0. 0. ... 0. 0. 0.]\n [0. 0. 0. ... 0. 0. 0.]\n [0. 0. 0. ... 0. 0. 0.]\n ...\n [0. 0. 0. ... 0. 0. 0.]\n [0. 0. 0. ... 0. 0. 0.]\n [0. 0. 0. ... 0. 0. 0.]], shape=(1000, 784), dtype=float32)\ntf.Tensor(\n[[0. 0. 0. ... 0. 0. 0.]\n [0. 0. 0. ... 0. 0. 0.]\n [0. 0. 0. ... 0. 0. 0.]\n ...\n [0. 0. 0. ... 0. 0. 0.]\n [0. 0. 0. ... 0. 0. 0.]\n [0. 0. 0. ... 0. 0. 0.]], shape=(1000, 784), dtype=float32)\ntf.Tensor(\n[[0. 0. 0. ... 0. 0. 0.]\n [0. 0. 0. ... 0. 0. 0.]\n [0. 0. 0. ... 0. 0. 0.]\n ...\n [0. 0. 0. ... 0. 0. 0.]\n [0. 0. 0. ... 0. 0. 0.]\n [0. 0. 0. ... 0. 0. 0.]], shape=(1000, 784), dtype=float32)\ntf.Tensor(\n[[0. 0. 0. ... 0. 0. 0.]\n [0. 0. 0. ... 0. 0. 0.]\n [0. 0. 0. ... 0. 0. 0.]\n ...\n [0. 0. 0. ... 0. 0. 0.]\n [0. 0. 0. ... 0. 0. 0.]\n [0. 0. 0. ... 0. 0. 0.]], shape=(1000, 784), dtype=float32)\ntf.Tensor(\n[[0. 0. 0. ... 0. 0. 0.]\n [0. 0. 0. ... 0. 0. 0.]\n [0. 0. 0. ... 0. 0. 0.]\n ...\n [0. 0. 0. ... 0. 0. 0.]\n [0. 0. 0. ... 0. 0. 0.]\n [0. 0. 0. ... 0. 0. 0.]], shape=(1000, 784), dtype=float32)\ntf.Tensor(\n[[0. 0. 0. ... 0. 0. 0.]\n [0. 0. 0. ... 0. 0. 0.]\n [0. 0. 0. ... 0. 0. 0.]\n ...\n [0. 0. 0. ... 0. 0. 0.]\n [0. 0. 0. ... 0. 0. 0.]\n [0. 0. 0. ... 0. 0. 0.]], shape=(1000, 784), dtype=float32)\ntf.Tensor(\n[[0. 0. 0. ... 0. 0. 0.]\n [0. 0. 0. ... 0. 0. 0.]\n [0. 0. 0. ... 0. 0. 0.]\n ...\n [0. 0. 0. ... 0. 0. 0.]\n [0. 0. 0. ... 0. 0. 0.]\n [0. 0. 0. ... 0. 0. 0.]], shape=(1000, 784), dtype=float32)\ntf.Tensor(\n[[0. 0. 0. ... 0. 0. 0.]\n [0. 0. 0. ... 0. 0. 0.]\n [0. 0. 0. ... 0. 0. 0.]\n ...\n [0. 0. 0. ... 0. 0. 0.]\n [0. 0. 0. ... 0. 0. 0.]\n [0. 0. 0. ... 0. 0. 0.]], shape=(1000, 784), dtype=float32)\ntf.Tensor(\n[[0. 0. 0. ... 0. 0. 0.]\n [0. 0. 0. ... 0. 0. 0.]\n [0. 0. 0. ... 0. 0. 0.]\n ...\n [0. 0. 0. ... 0. 0. 0.]\n [0. 0. 0. ... 0. 0. 0.]\n [0. 0. 0. ... 0. 0. 0.]], shape=(1000, 784), dtype=float32)\ntf.Tensor(\n[[0. 0. 0. ... 0. 0. 0.]\n [0. 0. 0. ... 0. 0. 0.]\n [0. 0. 0. ... 0. 0. 0.]\n ...\n [0. 0. 0. ... 0. 0. 0.]\n [0. 0. 0. ... 0. 0. 0.]\n [0. 0. 0. ... 0. 0. 0.]], shape=(1000, 784), dtype=float32)\ntf.Tensor(\n[[0. 0. 0. ... 0. 0. 0.]\n [0. 0. 0. ... 0. 0. 0.]\n [0. 0. 0. ... 0. 0. 0.]\n ...\n [0. 0. 0. ... 0. 0. 0.]\n [0. 0. 0. ... 0. 0. 0.]\n [0. 0. 0. ... 0. 0. 0.]], shape=(1000, 784), dtype=float32)\ntf.Tensor(\n[[0. 0. 0. ... 0. 0. 0.]\n [0. 0. 0. ... 0. 0. 0.]\n [0. 0. 0. ... 0. 0. 0.]\n ...\n [0. 0. 0. ... 0. 0. 0.]\n [0. 0. 0. ... 0. 0. 0.]\n [0. 0. 0. ... 0. 0. 0.]], shape=(1000, 784), dtype=float32)\ntf.Tensor(\n[[0. 0. 0. ... 0. 0. 0.]\n [0. 0. 0. ... 0. 0. 0.]\n [0. 0. 0. ... 0. 0. 0.]\n ...\n [0. 0. 0. ... 0. 0. 0.]\n [0. 0. 0. ... 0. 0. 0.]\n [0. 0. 0. ... 0. 0. 0.]], shape=(1000, 784), dtype=float32)\ntf.Tensor(\n[[0. 0. 0. ... 0. 0. 0.]\n [0. 0. 0. ... 0. 0. 0.]\n [0. 0. 0. ... 0. 0. 0.]\n ...\n [0. 0. 0. ... 0. 0. 0.]\n [0. 0. 0. ... 0. 0. 0.]\n [0. 0. 0. ... 0. 0. 0.]], shape=(1000, 784), dtype=float32)\ntf.Tensor(\n[[0. 0. 0. ... 0. 0. 0.]\n [0. 0. 0. ... 0. 0. 0.]\n [0. 0. 0. ... 0. 0. 0.]\n ...\n [0. 0. 0. ... 0. 0. 0.]\n [0. 0. 0. ... 0. 0. 0.]\n [0. 0. 0. ... 0. 0. 0.]], shape=(1000, 784), dtype=float32)\ntf.Tensor(\n[[0. 0. 0. ... 0. 0. 0.]\n [0. 0. 0. ... 0. 0. 0.]\n [0. 0. 0. ... 0. 0. 0.]\n ...\n [0. 0. 0. ... 0. 0. 0.]\n [0. 0. 0. ... 0. 0. 0.]\n [0. 0. 0. ... 0. 0. 0.]], shape=(1000, 784), dtype=float32)\ntf.Tensor(\n[[0. 0. 0. ... 0. 0. 0.]\n [0. 0. 0. ... 0. 0. 0.]\n [0. 0. 0. ... 0. 0. 0.]\n ...\n [0. 0. 0. ... 0. 0. 0.]\n [0. 0. 0. ... 0. 0. 0.]\n [0. 0. 0. ... 0. 0. 0.]], shape=(1000, 784), dtype=float32)\ntf.Tensor(\n[[0. 0. 0. ... 0. 0. 0.]\n [0. 0. 0. ... 0. 0. 0.]\n [0. 0. 0. ... 0. 0. 0.]\n ...\n [0. 0. 0. ... 0. 0. 0.]\n [0. 0. 0. ... 0. 0. 0.]\n [0. 0. 0. ... 0. 0. 0.]], shape=(1000, 784), dtype=float32)\ntf.Tensor(\n[[0. 0. 0. ... 0. 0. 0.]\n [0. 0. 0. ... 0. 0. 0.]\n [0. 0. 0. ... 0. 0. 0.]\n ...\n [0. 0. 0. ... 0. 0. 0.]\n [0. 0. 0. ... 0. 0. 0.]\n [0. 0. 0. ... 0. 0. 0.]], shape=(1000, 784), dtype=float32)\ntf.Tensor(\n[[0. 0. 0. ... 0. 0. 0.]\n [0. 0. 0. ... 0. 0. 0.]\n [0. 0. 0. ... 0. 0. 0.]\n ...\n [0. 0. 0. ... 0. 0. 0.]\n [0. 0. 0. ... 0. 0. 0.]\n [0. 0. 0. ... 0. 0. 0.]], shape=(1000, 784), dtype=float32)\ntf.Tensor(\n[[0. 0. 0. ... 0. 0. 0.]\n [0. 0. 0. ... 0. 0. 0.]\n [0. 0. 0. ... 0. 0. 0.]\n ...\n [0. 0. 0. ... 0. 0. 0.]\n [0. 0. 0. ... 0. 0. 0.]\n [0. 0. 0. ... 0. 0. 0.]], shape=(1000, 784), dtype=float32)\ntf.Tensor(\n[[0. 0. 0. ... 0. 0. 0.]\n [0. 0. 0. ... 0. 0. 0.]\n [0. 0. 0. ... 0. 0. 0.]\n ...\n [0. 0. 0. ... 0. 0. 0.]\n [0. 0. 0. ... 0. 0. 0.]\n [0. 0. 0. ... 0. 0. 0.]], shape=(1000, 784), dtype=float32)\ntf.Tensor(\n[[0. 0. 0. ... 0. 0. 0.]\n [0. 0. 0. ... 0. 0. 0.]\n [0. 0. 0. ... 0. 0. 0.]\n ...\n [0. 0. 0. ... 0. 0. 0.]\n [0. 0. 0. ... 0. 0. 0.]\n [0. 0. 0. ... 0. 0. 0.]], shape=(1000, 784), dtype=float32)\n"
    }
   ],
   "source": [
    "for Z in enumerate(gen_stream(x_train)):\n",
    "    print(Z[1])"
   ]
  },
  {
   "cell_type": "code",
   "execution_count": 3,
   "metadata": {},
   "outputs": [
    {
     "output_type": "error",
     "ename": "NameError",
     "evalue": "name 'times' is not defined",
     "traceback": [
      "\u001b[0;31m---------------------------------------------------------------------------\u001b[0m",
      "\u001b[0;31mNameError\u001b[0m                                 Traceback (most recent call last)",
      "\u001b[0;32m<ipython-input-3-1150c6359052>\u001b[0m in \u001b[0;36m<module>\u001b[0;34m\u001b[0m\n\u001b[0;32m----> 1\u001b[0;31m \u001b[0mtimes\u001b[0m\u001b[0;34m\u001b[0m\u001b[0;34m\u001b[0m\u001b[0m\n\u001b[0m",
      "\u001b[0;31mNameError\u001b[0m: name 'times' is not defined"
     ]
    }
   ],
   "source": [
    "times"
   ]
  },
  {
   "cell_type": "code",
   "execution_count": 35,
   "metadata": {},
   "outputs": [],
   "source": []
  },
  {
   "cell_type": "code",
   "execution_count": null,
   "metadata": {},
   "outputs": [],
   "source": [
    "import matplotlib.pyplot as plt\n",
    "plt.plot(lens, times)\n",
    "plt.show()"
   ]
  },
  {
   "cell_type": "code",
   "execution_count": 36,
   "metadata": {},
   "outputs": [],
   "source": [
    "save_lens = lens\n",
    "save_times = times"
   ]
  },
  {
   "cell_type": "code",
   "execution_count": 12,
   "metadata": {},
   "outputs": [],
   "source": [
    "import tensorflow as tf\n"
   ]
  },
  {
   "cell_type": "code",
   "execution_count": 16,
   "metadata": {},
   "outputs": [],
   "source": [
    "(x_train, y_train) , (x_test, y_test) = tf.keras.datasets.mnist.load_data()\n",
    "x_train = tf.reshape(x_train, [x_train.shape[0],-1])"
   ]
  },
  {
   "cell_type": "code",
   "execution_count": 19,
   "metadata": {},
   "outputs": [
    {
     "output_type": "execute_result",
     "data": {
      "text/plain": "<tf.Tensor: shape=(60000, 784), dtype=float32, numpy=\narray([[0., 0., 0., ..., 0., 0., 0.],\n       [0., 0., 0., ..., 0., 0., 0.],\n       [0., 0., 0., ..., 0., 0., 0.],\n       ...,\n       [0., 0., 0., ..., 0., 0., 0.],\n       [0., 0., 0., ..., 0., 0., 0.],\n       [0., 0., 0., ..., 0., 0., 0.]], dtype=float32)>"
     },
     "metadata": {},
     "execution_count": 19
    }
   ],
   "source": [
    "tf.cast(x_train, dtype = tf.float32)"
   ]
  },
  {
   "cell_type": "code",
   "execution_count": 1,
   "metadata": {
    "tags": []
   },
   "outputs": [
    {
     "output_type": "stream",
     "name": "stdout",
     "text": "Tue Sep 22 03:59:59 2020    restats\n\n         57951877 function calls (57010502 primitive calls) in 161.738 seconds\n\n   Ordered by: standard name\n   List reduced from 1927 to 18 due to restriction &lt;&#39;neural_map&#39;&gt;\n\n   ncalls  tottime  percall  cumtime  percall filename:lineno(function)\n      196    0.002    0.000    0.024    0.000 neural_map.py:110(eta)\n      196    0.003    0.000    0.031    0.000 neural_map.py:113(sigma)\n      196    0.010    0.000    0.654    0.003 neural_map.py:116(H)\n      196    0.017    0.000   51.824    0.264 neural_map.py:128(best_match_neuron)\n      392    0.009    0.000   21.790    0.056 neural_map.py:159(nd_norm)\n      196    0.017    0.000   86.978    0.444 neural_map.py:168(call)\n      196    0.045    0.000   65.805    0.336 neural_map.py:203(compute_gradient)\n      196    0.012    0.000   17.081    0.087 neural_map.py:239(density_q)\n      196    0.005    0.000    0.226    0.001 neural_map.py:257(density_p)\n      196    0.006    0.000    0.187    0.001 neural_map.py:269(kl_divergence)\n      196    0.005    0.000   17.498    0.089 neural_map.py:279(get_kl_loss)\n      196    0.006    0.000    3.575    0.018 neural_map.py:284(update_memory)\n      196    0.018    0.000   35.069    0.179 neural_map.py:300(nd_index)\n      196    0.879    0.004   34.717    0.177 neural_map.py:303(&lt;listcomp&gt;)\n      197    0.005    0.000    0.041    0.000 neural_map.py:305(_index_grid)\n        1    0.026    0.026   70.534   70.534 neural_map.py:322(viz)\n        1    0.010    0.010  161.776  161.776 neural_map.py:349(run)\n        1    0.000    0.000    0.022    0.022 neural_map.py:37(__init__)\n\n\n"
    },
    {
     "output_type": "execute_result",
     "data": {
      "text/plain": "&lt;pstats.Stats at 0x7feb98b4b110&gt;"
     },
     "metadata": {},
     "execution_count": 1
    }
   ],
   "source": [
    "import cProfile\n",
    "import re\n",
    "import pstats\n",
    "from pstats import SortKey\n",
    "p = pstats.Stats('restats')\n",
    "p.strip_dirs().sort_stats(-1).print_stats('neural_map')"
   ]
  },
  {
   "cell_type": "code",
   "execution_count": 2,
   "metadata": {
    "tags": []
   },
   "outputs": [
    {
     "output_type": "stream",
     "name": "stdout",
     "text": "Tue Sep 22 06:33:36 2020    restats_opt\n\n         57995977 function calls (57054210 primitive calls) in 116.588 seconds\n\n   Ordered by: standard name\n   List reduced from 1929 to 18 due to restriction &lt;&#39;neural_map&#39;&gt;\n\n   ncalls  tottime  percall  cumtime  percall filename:lineno(function)\n      196    0.001    0.000    0.017    0.000 neural_map.py:110(eta)\n      196    0.002    0.000    0.021    0.000 neural_map.py:113(sigma)\n      196    0.007    0.000    0.304    0.002 neural_map.py:116(H)\n      196    0.015    0.000   38.384    0.196 neural_map.py:128(best_match_neuron)\n      392    0.011    0.000   18.467    0.047 neural_map.py:164(nd_norm)\n      196    0.012    0.000   67.606    0.345 neural_map.py:183(call)\n      196    0.035    0.000   50.170    0.256 neural_map.py:218(compute_gradient)\n      196    0.010    0.000   14.488    0.074 neural_map.py:254(density_q)\n      196    0.003    0.000    0.119    0.001 neural_map.py:272(density_p)\n      196    0.004    0.000    0.103    0.001 neural_map.py:284(kl_divergence)\n      196    0.004    0.000   14.714    0.075 neural_map.py:294(get_kl_loss)\n      196    0.006    0.000    2.641    0.013 neural_map.py:299(update_memory)\n      196    0.010    0.000   24.659    0.126 neural_map.py:319(nd_index)\n      196    0.645    0.003   24.420    0.125 neural_map.py:322(&lt;listcomp&gt;)\n      197    0.003    0.000    0.030    0.000 neural_map.py:324(_index_grid)\n        1    0.020    0.020   45.306   45.306 neural_map.py:341(viz)\n        1    0.012    0.012  116.614  116.614 neural_map.py:368(run)\n        1    0.000    0.000    0.010    0.010 neural_map.py:37(__init__)\n\n\n"
    },
    {
     "output_type": "execute_result",
     "data": {
      "text/plain": "&lt;pstats.Stats at 0x7f98001819d0&gt;"
     },
     "metadata": {},
     "execution_count": 2
    }
   ],
   "source": [
    "p = pstats.Stats('restats_opt')\n",
    "p.strip_dirs().sort_stats(-1).print_stats('neural_map')"
   ]
  },
  {
   "cell_type": "code",
   "execution_count": 3,
   "metadata": {
    "tags": []
   },
   "outputs": [
    {
     "output_type": "stream",
     "name": "stdout",
     "text": "Tue Sep 22 06:41:49 2020    restats_opt_q\n\n         18341543 function calls (18276494 primitive calls) in 69.537 seconds\n\n   Ordered by: standard name\n   List reduced from 1086 to 17 due to restriction &lt;&#39;neural_map&#39;&gt;\n\n   ncalls  tottime  percall  cumtime  percall filename:lineno(function)\n      196    0.001    0.000    0.017    0.000 neural_map.py:110(eta)\n      196    0.002    0.000    0.021    0.000 neural_map.py:113(sigma)\n      196    0.007    0.000    0.310    0.002 neural_map.py:116(H)\n      196    0.015    0.000   37.759    0.193 neural_map.py:128(best_match_neuron)\n      392    0.012    0.000   17.889    0.046 neural_map.py:164(nd_norm)\n      196    0.012    0.000   65.680    0.335 neural_map.py:183(call)\n      196    0.038    0.000   49.183    0.251 neural_map.py:218(compute_gradient)\n      196    0.013    0.000   13.582    0.069 neural_map.py:255(density_q)\n      196    0.003    0.000    0.124    0.001 neural_map.py:264(density_p)\n      196    0.004    0.000    0.105    0.001 neural_map.py:276(kl_divergence)\n      196    0.003    0.000   13.814    0.070 neural_map.py:286(get_kl_loss)\n      196    0.005    0.000    2.603    0.013 neural_map.py:291(update_memory)\n      196    0.011    0.000   24.410    0.125 neural_map.py:311(nd_index)\n      196    0.655    0.003   24.166    0.123 neural_map.py:314(&lt;listcomp&gt;)\n      197    0.004    0.000    0.031    0.000 neural_map.py:316(_index_grid)\n        1    0.013    0.013   69.536   69.536 neural_map.py:360(run)\n        1    0.000    0.000    0.009    0.009 neural_map.py:37(__init__)\n\n\n"
    },
    {
     "output_type": "execute_result",
     "data": {
      "text/plain": "&lt;pstats.Stats at 0x7f9800181190&gt;"
     },
     "metadata": {},
     "execution_count": 3
    }
   ],
   "source": [
    "p = pstats.Stats('restats_opt_q')\n",
    "p.strip_dirs().sort_stats(-1).print_stats('neural_map')"
   ]
  },
  {
   "cell_type": "code",
   "execution_count": 4,
   "metadata": {
    "tags": []
   },
   "outputs": [
    {
     "output_type": "stream",
     "name": "stdout",
     "text": "Tue Sep 22 07:08:07 2020    restats_opt_savecomp\n\n         57965841 function calls (57023482 primitive calls) in 110.957 seconds\n\n   Ordered by: standard name\n   List reduced from 1929 to 18 due to restriction &lt;&#39;neural_map&#39;&gt;\n\n   ncalls  tottime  percall  cumtime  percall filename:lineno(function)\n      196    0.001    0.000    0.017    0.000 neural_map.py:113(eta)\n      196    0.002    0.000    0.021    0.000 neural_map.py:116(sigma)\n      196    0.007    0.000    0.321    0.002 neural_map.py:119(H)\n      196    0.016    0.000   38.515    0.197 neural_map.py:131(best_match_neuron)\n      392    0.011    0.000   17.468    0.045 neural_map.py:164(nd_norm)\n      196    0.011    0.000   62.171    0.317 neural_map.py:183(call)\n      196    0.019    0.000   45.678    0.233 neural_map.py:218(compute_gradient)\n      196    0.012    0.000   13.548    0.069 neural_map.py:249(density_q)\n      196    0.004    0.000    0.126    0.001 neural_map.py:258(density_p)\n      196    0.004    0.000    0.107    0.001 neural_map.py:270(kl_divergence)\n      196    0.003    0.000   13.784    0.070 neural_map.py:280(get_kl_loss)\n      196    0.006    0.000    2.631    0.013 neural_map.py:285(update_memory)\n      196    0.010    0.000   25.222    0.129 neural_map.py:305(nd_index)\n      196    0.670    0.003   24.983    0.127 neural_map.py:308(&lt;listcomp&gt;)\n      197    0.003    0.000    0.026    0.000 neural_map.py:310(_index_grid)\n        1    0.019    0.019   45.054   45.054 neural_map.py:327(viz)\n        1    0.011    0.011  110.984  110.984 neural_map.py:354(run)\n        1    0.000    0.000    0.010    0.010 neural_map.py:37(__init__)\n\n\n"
    },
    {
     "output_type": "execute_result",
     "data": {
      "text/plain": "&lt;pstats.Stats at 0x7f97f2e97690&gt;"
     },
     "metadata": {},
     "execution_count": 4
    }
   ],
   "source": [
    "p = pstats.Stats('restats_opt_savecomp')\n",
    "p.strip_dirs().sort_stats(-1).print_stats('neural_map')"
   ]
  },
  {
   "cell_type": "code",
   "execution_count": 5,
   "metadata": {
    "tags": []
   },
   "outputs": [
    {
     "output_type": "stream",
     "name": "stdout",
     "text": "Tue Sep 22 08:18:27 2020    restats_opt_savecomp_ndindex\n\n         40667693 function calls (39774436 primitive calls) in 84.633 seconds\n\n   Ordered by: standard name\n   List reduced from 1920 to 17 due to restriction &lt;&#39;neural_map&#39;&gt;\n\n   ncalls  tottime  percall  cumtime  percall filename:lineno(function)\n      196    0.001    0.000    0.018    0.000 neural_map.py:113(eta)\n      196    0.002    0.000    0.021    0.000 neural_map.py:116(sigma)\n      196    0.007    0.000    0.296    0.002 neural_map.py:119(H)\n      196    0.015    0.000   13.366    0.068 neural_map.py:131(best_match_neuron)\n      392    0.010    0.000   17.290    0.044 neural_map.py:164(nd_norm)\n      196    0.011    0.000   36.593    0.187 neural_map.py:183(call)\n      196    0.019    0.000   20.383    0.104 neural_map.py:218(compute_gradient)\n      196    0.012    0.000   13.251    0.068 neural_map.py:249(density_q)\n      196    0.003    0.000    0.123    0.001 neural_map.py:258(density_p)\n      196    0.004    0.000    0.106    0.001 neural_map.py:270(kl_divergence)\n      196    0.003    0.000   13.483    0.069 neural_map.py:280(get_kl_loss)\n      196    0.005    0.000    2.654    0.014 neural_map.py:285(update_memory)\n      196    0.008    0.000    0.168    0.001 neural_map.py:305(nd_index)\n      197    0.003    0.000    0.026    0.000 neural_map.py:311(_index_grid)\n        1    0.019    0.019   44.492   44.492 neural_map.py:328(viz)\n        1    0.008    0.008   84.661   84.661 neural_map.py:355(run)\n        1    0.000    0.000    0.010    0.010 neural_map.py:37(__init__)\n\n\n"
    },
    {
     "output_type": "execute_result",
     "data": {
      "text/plain": "&lt;pstats.Stats at 0x7f97f2e53950&gt;"
     },
     "metadata": {},
     "execution_count": 5
    }
   ],
   "source": [
    "p = pstats.Stats('restats_opt_savecomp_ndindex')\n",
    "p.strip_dirs().sort_stats(-1).print_stats('neural_map')"
   ]
  },
  {
   "cell_type": "code",
   "execution_count": 6,
   "metadata": {
    "tags": []
   },
   "outputs": [
    {
     "output_type": "stream",
     "name": "stdout",
     "text": "Tue Sep 22 08:49:30 2020    restats_final\n\n         918591 function calls (903228 primitive calls) in 25.225 seconds\n\n   Ordered by: standard name\n   List reduced from 1077 to 16 due to restriction &lt;&#39;neural_map&#39;&gt;\n\n   ncalls  tottime  percall  cumtime  percall filename:lineno(function)\n      196    0.001    0.000    0.018    0.000 neural_map.py:113(eta)\n      196    0.002    0.000    0.021    0.000 neural_map.py:116(sigma)\n      196    0.007    0.000    0.325    0.002 neural_map.py:119(H)\n      196    0.017    0.000    6.484    0.033 neural_map.py:131(best_match_neuron)\n      392    0.006    0.000    4.319    0.011 neural_map.py:164(nd_norm)\n      196    0.010    0.000   21.784    0.111 neural_map.py:186(call)\n      196    0.019    0.000   12.878    0.066 neural_map.py:221(compute_gradient)\n      196    0.015    0.000    6.212    0.032 neural_map.py:252(density_q)\n      196    0.004    0.000    0.127    0.001 neural_map.py:261(density_p)\n      196    0.004    0.000    0.108    0.001 neural_map.py:273(kl_divergence)\n      196    0.003    0.000    6.450    0.033 neural_map.py:283(get_kl_loss)\n      196    0.005    0.000    2.384    0.012 neural_map.py:288(update_memory)\n      196    0.008    0.000    0.168    0.001 neural_map.py:304(nd_index)\n      197    0.003    0.000    0.026    0.000 neural_map.py:310(_index_grid)\n        1    0.008    0.008   25.224   25.224 neural_map.py:354(run)\n        1    0.000    0.000    0.011    0.011 neural_map.py:37(__init__)\n\n\n"
    },
    {
     "output_type": "execute_result",
     "data": {
      "text/plain": "&lt;pstats.Stats at 0x7f97f29e56d0&gt;"
     },
     "metadata": {},
     "execution_count": 6
    }
   ],
   "source": [
    "p = pstats.Stats('restats_final')\n",
    "p.strip_dirs().sort_stats(-1).print_stats('neural_map')"
   ]
  },
  {
   "cell_type": "code",
   "execution_count": 7,
   "metadata": {
    "tags": []
   },
   "outputs": [
    {
     "output_type": "stream",
     "name": "stdout",
     "text": "Tue Sep 22 09:36:59 2020    restats_final_noassert\n\n         918674 function calls (903308 primitive calls) in 25.053 seconds\n\n   Ordered by: standard name\n   List reduced from 1089 to 16 due to restriction &lt;&#39;neural_map&#39;&gt;\n\n   ncalls  tottime  percall  cumtime  percall filename:lineno(function)\n      196    0.002    0.000    0.019    0.000 neural_map.py:113(eta)\n      196    0.002    0.000    0.022    0.000 neural_map.py:116(sigma)\n      196    0.007    0.000    0.325    0.002 neural_map.py:119(H)\n      196    0.017    0.000    6.394    0.033 neural_map.py:132(best_match_neuron)\n      196    0.011    0.000   21.697    0.111 neural_map.py:166(call)\n      196    0.019    0.000   12.795    0.065 neural_map.py:202(compute_gradient)\n      196    0.014    0.000    6.254    0.032 neural_map.py:232(density_q)\n      196    0.004    0.000    0.125    0.001 neural_map.py:241(density_p)\n      196    0.004    0.000    0.104    0.001 neural_map.py:253(kl_divergence)\n      196    0.002    0.000    6.485    0.033 neural_map.py:263(get_kl_loss)\n      196    0.005    0.000    2.343    0.012 neural_map.py:268(update_memory)\n      196    0.007    0.000    0.170    0.001 neural_map.py:284(nd_index)\n      392    0.005    0.000    4.284    0.011 neural_map.py:290(nd_norm)\n      197    0.003    0.000    0.026    0.000 neural_map.py:312(_index_grid)\n        1    0.008    0.008   25.052   25.052 neural_map.py:356(run)\n        1    0.000    0.000    0.009    0.009 neural_map.py:37(__init__)\n\n\n"
    },
    {
     "output_type": "execute_result",
     "data": {
      "text/plain": "&lt;pstats.Stats at 0x7f97f25f6310&gt;"
     },
     "metadata": {},
     "execution_count": 7
    }
   ],
   "source": [
    "p = pstats.Stats('restats_final_noassert')\n",
    "p.strip_dirs().sort_stats(-1).print_stats('neural_map')"
   ]
  },
  {
   "cell_type": "code",
   "execution_count": 8,
   "metadata": {
    "tags": []
   },
   "outputs": [
    {
     "output_type": "stream",
     "name": "stdout",
     "text": "Tue Sep 22 09:36:59 2020    restats_final_noassert\n\n         918674 function calls (903308 primitive calls) in 25.053 seconds\n\n   Ordered by: standard name\n   List reduced from 1089 to 16 due to restriction &lt;&#39;neural_map&#39;&gt;\n\n   ncalls  tottime  percall  cumtime  percall filename:lineno(function)\n      196    0.002    0.000    0.019    0.000 neural_map.py:113(eta)\n      196    0.002    0.000    0.022    0.000 neural_map.py:116(sigma)\n      196    0.007    0.000    0.325    0.002 neural_map.py:119(H)\n      196    0.017    0.000    6.394    0.033 neural_map.py:132(best_match_neuron)\n      196    0.011    0.000   21.697    0.111 neural_map.py:166(call)\n      196    0.019    0.000   12.795    0.065 neural_map.py:202(compute_gradient)\n      196    0.014    0.000    6.254    0.032 neural_map.py:232(density_q)\n      196    0.004    0.000    0.125    0.001 neural_map.py:241(density_p)\n      196    0.004    0.000    0.104    0.001 neural_map.py:253(kl_divergence)\n      196    0.002    0.000    6.485    0.033 neural_map.py:263(get_kl_loss)\n      196    0.005    0.000    2.343    0.012 neural_map.py:268(update_memory)\n      196    0.007    0.000    0.170    0.001 neural_map.py:284(nd_index)\n      392    0.005    0.000    4.284    0.011 neural_map.py:290(nd_norm)\n      197    0.003    0.000    0.026    0.000 neural_map.py:312(_index_grid)\n        1    0.008    0.008   25.052   25.052 neural_map.py:356(run)\n        1    0.000    0.000    0.009    0.009 neural_map.py:37(__init__)\n\n\n"
    },
    {
     "output_type": "execute_result",
     "data": {
      "text/plain": "&lt;pstats.Stats at 0x7f97f2401f90&gt;"
     },
     "metadata": {},
     "execution_count": 8
    }
   ],
   "source": [
    "p = pstats.Stats('restats_final_noassert')\n",
    "p.strip_dirs().sort_stats(-1).print_stats('neural_map')"
   ]
  },
  {
   "cell_type": "code",
   "execution_count": 9,
   "metadata": {
    "tags": []
   },
   "outputs": [
    {
     "output_type": "stream",
     "name": "stdout",
     "text": "Fri Sep 25 07:08:26 2020    stats\n\n         162572824 function calls (160073204 primitive calls) in 2084.830 seconds\n\n   Ordered by: standard name\n   List reduced from 2030 to 17 due to restriction &lt;&#39;neural_map&#39;&gt;\n\n   ncalls  tottime  percall  cumtime  percall filename:lineno(function)\n    23976    0.206    0.000    3.186    0.000 neural_map.py:113(eta)\n    23976    0.175    0.000    3.738    0.000 neural_map.py:116(sigma)\n    23976    0.663    0.000   21.301    0.001 neural_map.py:119(H)\n    23976    1.222    0.000  543.636    0.023 neural_map.py:132(best_match_neuron)\n    23976    0.541    0.000  636.535    0.027 neural_map.py:166(call)\n    23976    1.649    0.000  599.069    0.025 neural_map.py:202(compute_gradient)\n    23976    0.754    0.000   17.756    0.001 neural_map.py:232(density_q)\n    23976    0.359    0.000    6.077    0.000 neural_map.py:241(density_p)\n    23976    0.320    0.000    4.200    0.000 neural_map.py:253(kl_divergence)\n    23976    0.140    0.000   28.173    0.001 neural_map.py:263(get_kl_loss)\n    23976    0.218    0.000    5.537    0.000 neural_map.py:268(update_memory)\n    23976    1.315    0.000  518.040    0.022 neural_map.py:284(nd_index)\n    47952    0.244    0.000    4.299    0.000 neural_map.py:290(nd_norm)\n    23977    0.200    0.000    1.995    0.000 neural_map.py:312(_index_grid)\n        1    0.025    0.025   38.559   38.559 neural_map.py:329(viz)\n        1    0.548    0.548 2084.866 2084.866 neural_map.py:356(run)\n        1    0.000    0.000    0.010    0.010 neural_map.py:37(__init__)\n\n\n"
    },
    {
     "output_type": "execute_result",
     "data": {
      "text/plain": "&lt;pstats.Stats at 0x7f97f2470cd0&gt;"
     },
     "metadata": {},
     "execution_count": 9
    }
   ],
   "source": [
    "p = pstats.Stats('stats')\n",
    "p.strip_dirs().sort_stats(-1).print_stats('neural_map')"
   ]
  },
  {
   "cell_type": "code",
   "execution_count": 10,
   "metadata": {
    "tags": []
   },
   "outputs": [
    {
     "output_type": "stream",
     "name": "stdout",
     "text": "Fri Sep 25 07:08:26 2020    stats\n\n         162572824 function calls (160073204 primitive calls) in 2084.830 seconds\n\n   Ordered by: standard name\n   List reduced from 2030 to 17 due to restriction &lt;&#39;neural_map&#39;&gt;\n\n   ncalls  tottime  percall  cumtime  percall filename:lineno(function)\n    23976    0.206    0.000    3.186    0.000 neural_map.py:113(eta)\n    23976    0.175    0.000    3.738    0.000 neural_map.py:116(sigma)\n    23976    0.663    0.000   21.301    0.001 neural_map.py:119(H)\n    23976    1.222    0.000  543.636    0.023 neural_map.py:132(best_match_neuron)\n    23976    0.541    0.000  636.535    0.027 neural_map.py:166(call)\n    23976    1.649    0.000  599.069    0.025 neural_map.py:202(compute_gradient)\n    23976    0.754    0.000   17.756    0.001 neural_map.py:232(density_q)\n    23976    0.359    0.000    6.077    0.000 neural_map.py:241(density_p)\n    23976    0.320    0.000    4.200    0.000 neural_map.py:253(kl_divergence)\n    23976    0.140    0.000   28.173    0.001 neural_map.py:263(get_kl_loss)\n    23976    0.218    0.000    5.537    0.000 neural_map.py:268(update_memory)\n    23976    1.315    0.000  518.040    0.022 neural_map.py:284(nd_index)\n    47952    0.244    0.000    4.299    0.000 neural_map.py:290(nd_norm)\n    23977    0.200    0.000    1.995    0.000 neural_map.py:312(_index_grid)\n        1    0.025    0.025   38.559   38.559 neural_map.py:329(viz)\n        1    0.548    0.548 2084.866 2084.866 neural_map.py:356(run)\n        1    0.000    0.000    0.010    0.010 neural_map.py:37(__init__)\n\n\n"
    },
    {
     "output_type": "execute_result",
     "data": {
      "text/plain": "&lt;pstats.Stats at 0x7f97f2495c50&gt;"
     },
     "metadata": {},
     "execution_count": 10
    }
   ],
   "source": [
    "p = pstats.Stats('stats')\n",
    "p.strip_dirs().sort_stats(-1).print_stats('neural_map')"
   ]
  },
  {
   "cell_type": "code",
   "execution_count": 11,
   "metadata": {
    "tags": []
   },
   "outputs": [
    {
     "output_type": "stream",
     "name": "stdout",
     "text": "Sun Sep 27 06:51:12 2020    stats_optim\n\n         44335615 function calls (43694228 primitive calls) in 940.046 seconds\n\n   Ordered by: standard name\n   List reduced from 1075 to 8 due to restriction &lt;&#39;cast&#39;&gt;\n\n   ncalls  tottime  percall  cumtime  percall filename:lineno(function)\n    11198    0.108    0.000    0.600    0.000 base_layer.py:2025(_maybe_cast_inputs)\n    11198    0.048    0.000    0.203    0.000 base_layer_utils.py:471(autocast_context_manager)\n    33595    0.111    0.000  810.480    0.024 gen_math_ops.py:1944(cast)\n    67187    0.972    0.000  812.790    0.012 math_ops.py:732(cast)\n    11198    0.012    0.000    0.020    0.000 ops.py:4959(_auto_cast_variable_read_dtype)\n    22396    0.028    0.000    0.046    0.000 ops.py:4974(_auto_cast_variable_read_dtype)\n    22396    0.038    0.000    0.104    0.000 ops.py:4980(_enable_auto_casting_variables)\n        5    0.000    0.000    0.000    0.000 policy.py:434(should_cast_variables)\n\n\n"
    },
    {
     "output_type": "execute_result",
     "data": {
      "text/plain": "&lt;pstats.Stats at 0x7f97f21822d0&gt;"
     },
     "metadata": {},
     "execution_count": 11
    }
   ],
   "source": [
    "p = pstats.Stats('stats_optim')\n",
    "p.strip_dirs().sort_stats(-1).print_stats('cast')"
   ]
  },
  {
   "cell_type": "code",
   "execution_count": 12,
   "metadata": {
    "tags": []
   },
   "outputs": [
    {
     "output_type": "stream",
     "name": "stdout",
     "text": "Sun Sep 27 06:51:12 2020    stats_optim\n\n         44335615 function calls (43694228 primitive calls) in 940.046 seconds\n\n   Ordered by: standard name\n   List reduced from 1075 to 17 due to restriction &lt;&#39;neural_map&#39;&gt;\n\n   ncalls  tottime  percall  cumtime  percall filename:lineno(function)\n    11198    0.118    0.000    1.826    0.000 neural_map.py:116(eta)\n    11198    0.126    0.000   21.569    0.002 neural_map.py:119(sigma)\n    11198    0.408    0.000   32.374    0.003 neural_map.py:122(H)\n    11198    0.425    0.000   13.657    0.001 neural_map.py:135(best_match_neuron)\n    11198    0.175    0.000   76.734    0.007 neural_map.py:167(call)\n    11198    0.432    0.000   57.625    0.005 neural_map.py:204(compute_gradient)\n    11198    0.077    0.000    1.142    0.000 neural_map.py:245(mat_muls)\n    11198    0.417    0.000    9.667    0.001 neural_map.py:248(density_q)\n    11198    0.193    0.000    3.233    0.000 neural_map.py:257(density_p)\n    11198    0.183    0.000    2.281    0.000 neural_map.py:269(kl_divergence)\n    11198    0.076    0.000   15.258    0.001 neural_map.py:279(get_kl_loss)\n    11198    0.124    0.000    3.108    0.000 neural_map.py:284(update_memory)\n    11198    0.043    0.000    0.951    0.000 neural_map.py:300(nd_index)\n    22396    0.127    0.000    2.309    0.000 neural_map.py:305(nd_norm)\n        1    0.000    0.000    0.000    0.000 neural_map.py:327(_index_grid)\n        1    0.297    0.297  940.046  940.046 neural_map.py:371(run)\n        1    0.000    0.000    0.009    0.009 neural_map.py:39(__init__)\n\n\n"
    },
    {
     "output_type": "execute_result",
     "data": {
      "text/plain": "&lt;pstats.Stats at 0x7f97f20f4ed0&gt;"
     },
     "metadata": {},
     "execution_count": 12
    }
   ],
   "source": [
    "p = pstats.Stats('stats_optim')\n",
    "p.strip_dirs().sort_stats(-1).print_stats('neural_map')"
   ]
  },
  {
   "cell_type": "code",
   "execution_count": 13,
   "metadata": {
    "tags": []
   },
   "outputs": [
    {
     "output_type": "stream",
     "name": "stdout",
     "text": "Sun Sep 27 06:51:12 2020    stats_optim\n\n         44335615 function calls (43694228 primitive calls) in 940.046 seconds\n\n   Ordered by: standard name\n   List reduced from 1075 to 17 due to restriction &lt;&#39;neural_map&#39;&gt;\n\n   ncalls  tottime  percall  cumtime  percall filename:lineno(function)\n    11198    0.118    0.000    1.826    0.000 neural_map.py:116(eta)\n    11198    0.126    0.000   21.569    0.002 neural_map.py:119(sigma)\n    11198    0.408    0.000   32.374    0.003 neural_map.py:122(H)\n    11198    0.425    0.000   13.657    0.001 neural_map.py:135(best_match_neuron)\n    11198    0.175    0.000   76.734    0.007 neural_map.py:167(call)\n    11198    0.432    0.000   57.625    0.005 neural_map.py:204(compute_gradient)\n    11198    0.077    0.000    1.142    0.000 neural_map.py:245(mat_muls)\n    11198    0.417    0.000    9.667    0.001 neural_map.py:248(density_q)\n    11198    0.193    0.000    3.233    0.000 neural_map.py:257(density_p)\n    11198    0.183    0.000    2.281    0.000 neural_map.py:269(kl_divergence)\n    11198    0.076    0.000   15.258    0.001 neural_map.py:279(get_kl_loss)\n    11198    0.124    0.000    3.108    0.000 neural_map.py:284(update_memory)\n    11198    0.043    0.000    0.951    0.000 neural_map.py:300(nd_index)\n    22396    0.127    0.000    2.309    0.000 neural_map.py:305(nd_norm)\n        1    0.000    0.000    0.000    0.000 neural_map.py:327(_index_grid)\n        1    0.297    0.297  940.046  940.046 neural_map.py:371(run)\n        1    0.000    0.000    0.009    0.009 neural_map.py:39(__init__)\n\n\n"
    },
    {
     "output_type": "execute_result",
     "data": {
      "text/plain": "&lt;pstats.Stats at 0x7f97f2a018d0&gt;"
     },
     "metadata": {},
     "execution_count": 13
    }
   ],
   "source": [
    "p = pstats.Stats('stats_optim')\n",
    "p.strip_dirs().sort_stats(-1).print_stats('neural_map')"
   ]
  },
  {
   "cell_type": "code",
   "execution_count": 14,
   "metadata": {
    "tags": []
   },
   "outputs": [
    {
     "output_type": "stream",
     "name": "stdout",
     "text": "Sun Sep 27 06:51:12 2020    stats_optim\n\n         44335615 function calls (43694228 primitive calls) in 940.046 seconds\n\n   Ordered by: standard name\n   List reduced from 1075 to 17 due to restriction &lt;&#39;neural_map&#39;&gt;\n\n   ncalls  tottime  percall  cumtime  percall filename:lineno(function)\n    11198    0.118    0.000    1.826    0.000 neural_map.py:116(eta)\n    11198    0.126    0.000   21.569    0.002 neural_map.py:119(sigma)\n    11198    0.408    0.000   32.374    0.003 neural_map.py:122(H)\n    11198    0.425    0.000   13.657    0.001 neural_map.py:135(best_match_neuron)\n    11198    0.175    0.000   76.734    0.007 neural_map.py:167(call)\n    11198    0.432    0.000   57.625    0.005 neural_map.py:204(compute_gradient)\n    11198    0.077    0.000    1.142    0.000 neural_map.py:245(mat_muls)\n    11198    0.417    0.000    9.667    0.001 neural_map.py:248(density_q)\n    11198    0.193    0.000    3.233    0.000 neural_map.py:257(density_p)\n    11198    0.183    0.000    2.281    0.000 neural_map.py:269(kl_divergence)\n    11198    0.076    0.000   15.258    0.001 neural_map.py:279(get_kl_loss)\n    11198    0.124    0.000    3.108    0.000 neural_map.py:284(update_memory)\n    11198    0.043    0.000    0.951    0.000 neural_map.py:300(nd_index)\n    22396    0.127    0.000    2.309    0.000 neural_map.py:305(nd_norm)\n        1    0.000    0.000    0.000    0.000 neural_map.py:327(_index_grid)\n        1    0.297    0.297  940.046  940.046 neural_map.py:371(run)\n        1    0.000    0.000    0.009    0.009 neural_map.py:39(__init__)\n\n\n"
    },
    {
     "output_type": "execute_result",
     "data": {
      "text/plain": "&lt;pstats.Stats at 0x7f97f19e5b50&gt;"
     },
     "metadata": {},
     "execution_count": 14
    }
   ],
   "source": [
    "p = pstats.Stats('stats_optim')\n",
    "p.strip_dirs().sort_stats(-1).print_stats('neural_map')\n"
   ]
  },
  {
   "cell_type": "code",
   "execution_count": 118,
   "metadata": {
    "tags": []
   },
   "outputs": [
    {
     "output_type": "stream",
     "name": "stdout",
     "text": "Sun Sep 27 07:40:13 2020    stats_optim_1\n\n         149769569 function calls (147413899 primitive calls) in 2034.427 seconds\n\n   Ordered by: standard name\n   List reduced from 2030 to 18 due to restriction <'neural_map'>\n\n   ncalls  tottime  percall  cumtime  percall filename:lineno(function)\n    23976    0.243    0.000    3.850    0.000 neural_map.py:116(eta)\n    23976    0.222    0.000   23.409    0.001 neural_map.py:119(sigma)\n    23976    0.847    0.000   45.834    0.002 neural_map.py:122(H)\n    23976    0.932    0.000   28.690    0.001 neural_map.py:135(best_match_neuron)\n    23976    0.370    0.000  138.915    0.006 neural_map.py:167(call)\n    23976    0.980    0.000   98.964    0.004 neural_map.py:204(compute_gradient)\n    23976    0.146    0.000    2.358    0.000 neural_map.py:245(mat_muls)\n    23976    0.889    0.000   20.234    0.001 neural_map.py:248(density_q)\n    23976    0.384    0.000    6.824    0.000 neural_map.py:257(density_p)\n    23976    0.352    0.000    4.711    0.000 neural_map.py:269(kl_divergence)\n    23976    0.156    0.000   31.926    0.001 neural_map.py:279(get_kl_loss)\n    23976    0.267    0.000    6.456    0.000 neural_map.py:284(update_memory)\n    23976    0.105    0.000    2.043    0.000 neural_map.py:300(nd_index)\n    47952    0.289    0.000    5.097    0.000 neural_map.py:305(nd_norm)\n        1    0.000    0.000    0.000    0.000 neural_map.py:327(_index_grid)\n        1    0.025    0.025   37.982   37.982 neural_map.py:344(viz)\n        1    0.638    0.638 2034.444 2034.444 neural_map.py:371(run)\n        1    0.000    0.000    0.011    0.011 neural_map.py:39(__init__)\n\n\n"
    },
    {
     "output_type": "execute_result",
     "data": {
      "text/plain": "<pstats.Stats at 0x7f9b4833fa90>"
     },
     "metadata": {},
     "execution_count": 118
    }
   ],
   "source": [
    "p = pstats.Stats('stats_optim_1')\n",
    "p.strip_dirs().sort_stats(-1).print_stats('neural_map')\n"
   ]
  },
  {
   "cell_type": "code",
   "execution_count": 8,
   "metadata": {
    "tags": []
   },
   "outputs": [
    {
     "output_type": "stream",
     "name": "stdout",
     "text": "Wed Oct  7 02:11:26 2020    stats_optim_2\n\n         24439974 function calls (24226548 primitive calls) in 57.255 seconds\n\n   Ordered by: standard name\n   List reduced from 1126 to 17 due to restriction &lt;&#39;neural_map&#39;&gt;\n\n   ncalls  tottime  percall  cumtime  percall filename:lineno(function)\n    12359    0.135    0.000    2.229    0.000 neural_map.py:116(eta)\n    12359    0.131    0.000    2.238    0.000 neural_map.py:120(sigma)\n    12359    0.252    0.000    8.699    0.001 neural_map.py:124(H)\n    12359    0.443    0.000   12.738    0.001 neural_map.py:147(_best_match_neuron)\n       13    0.220    0.017   49.638    3.818 neural_map.py:203(call)\n    12359    0.498    0.000   33.983    0.003 neural_map.py:246(compute_gradient)\n       12    0.000    0.000    0.009    0.001 neural_map.py:294(density_q)\n       12    0.000    0.000    0.002    0.000 neural_map.py:304(density_p)\n       12    0.000    0.000    0.002    0.000 neural_map.py:317(kl_divergence)\n       12    0.000    0.000    0.013    0.001 neural_map.py:328(get_kl_loss)\n    12347    0.084    0.000    2.095    0.000 neural_map.py:334(update_memory)\n    12359    0.023    0.000    0.549    0.000 neural_map.py:351(nd_index)\n    12371    0.041    0.000    0.722    0.000 neural_map.py:357(nd_norm)\n        1    0.000    0.000    0.000    0.000 neural_map.py:379(_index_grid)\n        1    0.000    0.000    0.010    0.010 neural_map.py:39(__init__)\n        1    0.002    0.002   49.805   49.805 neural_map.py:423(training_loop)\n        1    0.001    0.001   57.255   57.255 neural_map.py:437(run)\n\n\n"
    },
    {
     "output_type": "execute_result",
     "data": {
      "text/plain": "&lt;pstats.Stats at 0x7feb987ebb90&gt;"
     },
     "metadata": {},
     "execution_count": 8
    }
   ],
   "source": [
    "p = pstats.Stats('stats_optim_2')\n",
    "p.strip_dirs().sort_stats(-1).print_stats('neural_map')"
   ]
  },
  {
   "cell_type": "code",
   "execution_count": 12,
   "metadata": {
    "tags": []
   },
   "outputs": [
    {
     "output_type": "stream",
     "name": "stdout",
     "text": "Wed Oct  7 02:13:52 2020    stats_optim_3\n\n         5530180 function calls (5002195 primitive calls) in 53.189 seconds\n\n   Ordered by: standard name\n   List reduced from 2287 to 13 due to restriction &lt;&#39;tf__&#39;&gt;\n\n   ncalls  tottime  percall  cumtime  percall filename:lineno(function)\n        1    0.000    0.000    0.212    0.212 tmp2zeyq8bp.py:6(tf___best_match_neuron)\n        1    0.000    0.000    0.003    0.003 tmp4_oqtnjc.py:6(tf__kl_divergence)\n        1    0.000    0.000    0.003    0.003 tmp5d5wt0az.py:6(tf__update_memory)\n        1    0.000    0.000    1.744    1.744 tmp7y8lmu6f.py:6(tf__call)\n        2    0.000    0.000    0.003    0.001 tmp8t6pae2i.py:6(tf__nd_norm)\n        1    0.000    0.000    0.003    0.003 tmpa40ui5pa.py:6(tf__eta)\n        1    0.000    0.000    0.012    0.012 tmpe4qvpfqv.py:6(tf__density_q)\n        1    0.000    0.000    0.004    0.004 tmpi7zuuf1m.py:6(tf__density_p)\n        1    0.000    0.000    0.087    0.087 tmpjlajdi6c.py:6(tf__H)\n        1    0.000    0.000    0.326    0.326 tmpoi3yspe0.py:6(tf__get_kl_loss)\n        1    0.000    0.000    0.855    0.855 tmpqqiwlvuk.py:6(tf__compute_gradient)\n        1    0.000    0.000    0.002    0.002 tmpt1zrpisk.py:6(tf__nd_index)\n        1    0.000    0.000    0.003    0.003 tmpvsr0n73h.py:6(tf__sigma)\n\n\n"
    },
    {
     "output_type": "execute_result",
     "data": {
      "text/plain": "&lt;pstats.Stats at 0x7feb833c2d50&gt;"
     },
     "metadata": {},
     "execution_count": 12
    }
   ],
   "source": [
    "p = pstats.Stats('stats_optim_3')\n",
    "p.strip_dirs().sort_stats(-1).print_stats('tf__')"
   ]
  },
  {
   "cell_type": "code",
   "execution_count": 136,
   "metadata": {},
   "outputs": [],
   "source": [
    "@tf.function\n",
    "def func(a):\n",
    "    print('Tracing with ', a)\n",
    "    return a + a\n",
    "\n",
    "def func1(a):\n",
    "    print('Tracing with ', a)\n",
    "    return a + a"
   ]
  },
  {
   "cell_type": "code",
   "execution_count": 137,
   "metadata": {},
   "outputs": [
    {
     "output_type": "error",
     "ename": "NameError",
     "evalue": "name 'double' is not defined",
     "traceback": [
      "\u001b[0;31m---------------------------------------------------------------------------\u001b[0m",
      "\u001b[0;31mNameError\u001b[0m                                 Traceback (most recent call last)",
      "\u001b[0;32m<ipython-input-137-226b3702191b>\u001b[0m in \u001b[0;36m<module>\u001b[0;34m\u001b[0m\n\u001b[0;32m----> 1\u001b[0;31m \u001b[0mprint\u001b[0m\u001b[0;34m(\u001b[0m\u001b[0mdouble\u001b[0m\u001b[0;34m.\u001b[0m\u001b[0mpretty_printed_concrete_signatures\u001b[0m\u001b[0;34m(\u001b[0m\u001b[0;34m)\u001b[0m\u001b[0;34m)\u001b[0m\u001b[0;34m\u001b[0m\u001b[0;34m\u001b[0m\u001b[0m\n\u001b[0m",
      "\u001b[0;31mNameError\u001b[0m: name 'double' is not defined"
     ]
    }
   ],
   "source": [
    "print(double.pretty_printed_concrete_signatures())"
   ]
  },
  {
   "cell_type": "code",
   "execution_count": null,
   "metadata": {},
   "outputs": [],
   "source": []
  },
  {
   "cell_type": "code",
   "execution_count": 138,
   "metadata": {
    "tags": []
   },
   "outputs": [
    {
     "output_type": "stream",
     "name": "stdout",
     "text": "Tracing with  Tensor(\"a:0\", shape=(), dtype=int32)\ntf.Tensor(2, shape=(), dtype=int32)\n"
    }
   ],
   "source": [
    "print(func(tf.constant(1)))"
   ]
  },
  {
   "cell_type": "code",
   "execution_count": 139,
   "metadata": {
    "tags": []
   },
   "outputs": [
    {
     "output_type": "stream",
     "name": "stdout",
     "text": "Tracing with  Tensor(\"a:0\", shape=(), dtype=float32)\ntf.Tensor(2.0, shape=(), dtype=float32)\n"
    }
   ],
   "source": [
    "print(func(tf.constant(1.0)))"
   ]
  },
  {
   "cell_type": "code",
   "execution_count": 140,
   "metadata": {},
   "outputs": [
    {
     "output_type": "execute_result",
     "data": {
      "text/plain": "<tensorflow.python.eager.def_function.Function at 0x7f9b385dacd0>"
     },
     "metadata": {},
     "execution_count": 140
    }
   ],
   "source": [
    "func"
   ]
  },
  {
   "cell_type": "code",
   "execution_count": 141,
   "metadata": {},
   "outputs": [
    {
     "output_type": "execute_result",
     "data": {
      "text/plain": "<function __main__.func1(a)>"
     },
     "metadata": {},
     "execution_count": 141
    }
   ],
   "source": [
    "func1"
   ]
  },
  {
   "cell_type": "code",
   "execution_count": 135,
   "metadata": {
    "tags": []
   },
   "outputs": [
    {
     "output_type": "stream",
     "name": "stdout",
     "text": "tf.Tensor(b'11', shape=(), dtype=string)\n"
    }
   ],
   "source": [
    "print(func(tf.constant('1')))"
   ]
  },
  {
   "cell_type": "code",
   "execution_count": 17,
   "metadata": {},
   "outputs": [],
   "source": [
    "import tensorflow as tf"
   ]
  },
  {
   "cell_type": "code",
   "execution_count": 81,
   "metadata": {},
   "outputs": [],
   "source": [
    "x = tf.ones([1000], dtype = tf.int64)\n",
    "y = tf.ones([1000], dtype = tf.int64) * 3\n"
   ]
  },
  {
   "cell_type": "code",
   "execution_count": 83,
   "metadata": {},
   "outputs": [],
   "source": [
    "x_ = tf.cast(x, dtype = tf.float32)\n",
    "y_ = tf.cast(y, dtype = tf.float32)"
   ]
  },
  {
   "cell_type": "code",
   "execution_count": 88,
   "metadata": {},
   "outputs": [
    {
     "output_type": "execute_result",
     "data": {
      "text/plain": "<tf.Tensor: shape=(1000,), dtype=float32, numpy=\narray([-0.27067056, -0.27067056, -0.27067056, -0.27067056, -0.27067056,\n       -0.27067056, -0.27067056, -0.27067056, -0.27067056, -0.27067056,\n       -0.27067056, -0.27067056, -0.27067056, -0.27067056, -0.27067056,\n       -0.27067056, -0.27067056, -0.27067056, -0.27067056, -0.27067056,\n       -0.27067056, -0.27067056, -0.27067056, -0.27067056, -0.27067056,\n       -0.27067056, -0.27067056, -0.27067056, -0.27067056, -0.27067056,\n       -0.27067056, -0.27067056, -0.27067056, -0.27067056, -0.27067056,\n       -0.27067056, -0.27067056, -0.27067056, -0.27067056, -0.27067056,\n       -0.27067056, -0.27067056, -0.27067056, -0.27067056, -0.27067056,\n       -0.27067056, -0.27067056, -0.27067056, -0.27067056, -0.27067056,\n       -0.27067056, -0.27067056, -0.27067056, -0.27067056, -0.27067056,\n       -0.27067056, -0.27067056, -0.27067056, -0.27067056, -0.27067056,\n       -0.27067056, -0.27067056, -0.27067056, -0.27067056, -0.27067056,\n       -0.27067056, -0.27067056, -0.27067056, -0.27067056, -0.27067056,\n       -0.27067056, -0.27067056, -0.27067056, -0.27067056, -0.27067056,\n       -0.27067056, -0.27067056, -0.27067056, -0.27067056, -0.27067056,\n       -0.27067056, -0.27067056, -0.27067056, -0.27067056, -0.27067056,\n       -0.27067056, -0.27067056, -0.27067056, -0.27067056, -0.27067056,\n       -0.27067056, -0.27067056, -0.27067056, -0.27067056, -0.27067056,\n       -0.27067056, -0.27067056, -0.27067056, -0.27067056, -0.27067056,\n       -0.27067056, -0.27067056, -0.27067056, -0.27067056, -0.27067056,\n       -0.27067056, -0.27067056, -0.27067056, -0.27067056, -0.27067056,\n       -0.27067056, -0.27067056, -0.27067056, -0.27067056, -0.27067056,\n       -0.27067056, -0.27067056, -0.27067056, -0.27067056, -0.27067056,\n       -0.27067056, -0.27067056, -0.27067056, -0.27067056, -0.27067056,\n       -0.27067056, -0.27067056, -0.27067056, -0.27067056, -0.27067056,\n       -0.27067056, -0.27067056, -0.27067056, -0.27067056, -0.27067056,\n       -0.27067056, -0.27067056, -0.27067056, -0.27067056, -0.27067056,\n       -0.27067056, -0.27067056, -0.27067056, -0.27067056, -0.27067056,\n       -0.27067056, -0.27067056, -0.27067056, -0.27067056, -0.27067056,\n       -0.27067056, -0.27067056, -0.27067056, -0.27067056, -0.27067056,\n       -0.27067056, -0.27067056, -0.27067056, -0.27067056, -0.27067056,\n       -0.27067056, -0.27067056, -0.27067056, -0.27067056, -0.27067056,\n       -0.27067056, -0.27067056, -0.27067056, -0.27067056, -0.27067056,\n       -0.27067056, -0.27067056, -0.27067056, -0.27067056, -0.27067056,\n       -0.27067056, -0.27067056, -0.27067056, -0.27067056, -0.27067056,\n       -0.27067056, -0.27067056, -0.27067056, -0.27067056, -0.27067056,\n       -0.27067056, -0.27067056, -0.27067056, -0.27067056, -0.27067056,\n       -0.27067056, -0.27067056, -0.27067056, -0.27067056, -0.27067056,\n       -0.27067056, -0.27067056, -0.27067056, -0.27067056, -0.27067056,\n       -0.27067056, -0.27067056, -0.27067056, -0.27067056, -0.27067056,\n       -0.27067056, -0.27067056, -0.27067056, -0.27067056, -0.27067056,\n       -0.27067056, -0.27067056, -0.27067056, -0.27067056, -0.27067056,\n       -0.27067056, -0.27067056, -0.27067056, -0.27067056, -0.27067056,\n       -0.27067056, -0.27067056, -0.27067056, -0.27067056, -0.27067056,\n       -0.27067056, -0.27067056, -0.27067056, -0.27067056, -0.27067056,\n       -0.27067056, -0.27067056, -0.27067056, -0.27067056, -0.27067056,\n       -0.27067056, -0.27067056, -0.27067056, -0.27067056, -0.27067056,\n       -0.27067056, -0.27067056, -0.27067056, -0.27067056, -0.27067056,\n       -0.27067056, -0.27067056, -0.27067056, -0.27067056, -0.27067056,\n       -0.27067056, -0.27067056, -0.27067056, -0.27067056, -0.27067056,\n       -0.27067056, -0.27067056, -0.27067056, -0.27067056, -0.27067056,\n       -0.27067056, -0.27067056, -0.27067056, -0.27067056, -0.27067056,\n       -0.27067056, -0.27067056, -0.27067056, -0.27067056, -0.27067056,\n       -0.27067056, -0.27067056, -0.27067056, -0.27067056, -0.27067056,\n       -0.27067056, -0.27067056, -0.27067056, -0.27067056, -0.27067056,\n       -0.27067056, -0.27067056, -0.27067056, -0.27067056, -0.27067056,\n       -0.27067056, -0.27067056, -0.27067056, -0.27067056, -0.27067056,\n       -0.27067056, -0.27067056, -0.27067056, -0.27067056, -0.27067056,\n       -0.27067056, -0.27067056, -0.27067056, -0.27067056, -0.27067056,\n       -0.27067056, -0.27067056, -0.27067056, -0.27067056, -0.27067056,\n       -0.27067056, -0.27067056, -0.27067056, -0.27067056, -0.27067056,\n       -0.27067056, -0.27067056, -0.27067056, -0.27067056, -0.27067056,\n       -0.27067056, -0.27067056, -0.27067056, -0.27067056, -0.27067056,\n       -0.27067056, -0.27067056, -0.27067056, -0.27067056, -0.27067056,\n       -0.27067056, -0.27067056, -0.27067056, -0.27067056, -0.27067056,\n       -0.27067056, -0.27067056, -0.27067056, -0.27067056, -0.27067056,\n       -0.27067056, -0.27067056, -0.27067056, -0.27067056, -0.27067056,\n       -0.27067056, -0.27067056, -0.27067056, -0.27067056, -0.27067056,\n       -0.27067056, -0.27067056, -0.27067056, -0.27067056, -0.27067056,\n       -0.27067056, -0.27067056, -0.27067056, -0.27067056, -0.27067056,\n       -0.27067056, -0.27067056, -0.27067056, -0.27067056, -0.27067056,\n       -0.27067056, -0.27067056, -0.27067056, -0.27067056, -0.27067056,\n       -0.27067056, -0.27067056, -0.27067056, -0.27067056, -0.27067056,\n       -0.27067056, -0.27067056, -0.27067056, -0.27067056, -0.27067056,\n       -0.27067056, -0.27067056, -0.27067056, -0.27067056, -0.27067056,\n       -0.27067056, -0.27067056, -0.27067056, -0.27067056, -0.27067056,\n       -0.27067056, -0.27067056, -0.27067056, -0.27067056, -0.27067056,\n       -0.27067056, -0.27067056, -0.27067056, -0.27067056, -0.27067056,\n       -0.27067056, -0.27067056, -0.27067056, -0.27067056, -0.27067056,\n       -0.27067056, -0.27067056, -0.27067056, -0.27067056, -0.27067056,\n       -0.27067056, -0.27067056, -0.27067056, -0.27067056, -0.27067056,\n       -0.27067056, -0.27067056, -0.27067056, -0.27067056, -0.27067056,\n       -0.27067056, -0.27067056, -0.27067056, -0.27067056, -0.27067056,\n       -0.27067056, -0.27067056, -0.27067056, -0.27067056, -0.27067056,\n       -0.27067056, -0.27067056, -0.27067056, -0.27067056, -0.27067056,\n       -0.27067056, -0.27067056, -0.27067056, -0.27067056, -0.27067056,\n       -0.27067056, -0.27067056, -0.27067056, -0.27067056, -0.27067056,\n       -0.27067056, -0.27067056, -0.27067056, -0.27067056, -0.27067056,\n       -0.27067056, -0.27067056, -0.27067056, -0.27067056, -0.27067056,\n       -0.27067056, -0.27067056, -0.27067056, -0.27067056, -0.27067056,\n       -0.27067056, -0.27067056, -0.27067056, -0.27067056, -0.27067056,\n       -0.27067056, -0.27067056, -0.27067056, -0.27067056, -0.27067056,\n       -0.27067056, -0.27067056, -0.27067056, -0.27067056, -0.27067056,\n       -0.27067056, -0.27067056, -0.27067056, -0.27067056, -0.27067056,\n       -0.27067056, -0.27067056, -0.27067056, -0.27067056, -0.27067056,\n       -0.27067056, -0.27067056, -0.27067056, -0.27067056, -0.27067056,\n       -0.27067056, -0.27067056, -0.27067056, -0.27067056, -0.27067056,\n       -0.27067056, -0.27067056, -0.27067056, -0.27067056, -0.27067056,\n       -0.27067056, -0.27067056, -0.27067056, -0.27067056, -0.27067056,\n       -0.27067056, -0.27067056, -0.27067056, -0.27067056, -0.27067056,\n       -0.27067056, -0.27067056, -0.27067056, -0.27067056, -0.27067056,\n       -0.27067056, -0.27067056, -0.27067056, -0.27067056, -0.27067056,\n       -0.27067056, -0.27067056, -0.27067056, -0.27067056, -0.27067056,\n       -0.27067056, -0.27067056, -0.27067056, -0.27067056, -0.27067056,\n       -0.27067056, -0.27067056, -0.27067056, -0.27067056, -0.27067056,\n       -0.27067056, -0.27067056, -0.27067056, -0.27067056, -0.27067056,\n       -0.27067056, -0.27067056, -0.27067056, -0.27067056, -0.27067056,\n       -0.27067056, -0.27067056, -0.27067056, -0.27067056, -0.27067056,\n       -0.27067056, -0.27067056, -0.27067056, -0.27067056, -0.27067056,\n       -0.27067056, -0.27067056, -0.27067056, -0.27067056, -0.27067056,\n       -0.27067056, -0.27067056, -0.27067056, -0.27067056, -0.27067056,\n       -0.27067056, -0.27067056, -0.27067056, -0.27067056, -0.27067056,\n       -0.27067056, -0.27067056, -0.27067056, -0.27067056, -0.27067056,\n       -0.27067056, -0.27067056, -0.27067056, -0.27067056, -0.27067056,\n       -0.27067056, -0.27067056, -0.27067056, -0.27067056, -0.27067056,\n       -0.27067056, -0.27067056, -0.27067056, -0.27067056, -0.27067056,\n       -0.27067056, -0.27067056, -0.27067056, -0.27067056, -0.27067056,\n       -0.27067056, -0.27067056, -0.27067056, -0.27067056, -0.27067056,\n       -0.27067056, -0.27067056, -0.27067056, -0.27067056, -0.27067056,\n       -0.27067056, -0.27067056, -0.27067056, -0.27067056, -0.27067056,\n       -0.27067056, -0.27067056, -0.27067056, -0.27067056, -0.27067056,\n       -0.27067056, -0.27067056, -0.27067056, -0.27067056, -0.27067056,\n       -0.27067056, -0.27067056, -0.27067056, -0.27067056, -0.27067056,\n       -0.27067056, -0.27067056, -0.27067056, -0.27067056, -0.27067056,\n       -0.27067056, -0.27067056, -0.27067056, -0.27067056, -0.27067056,\n       -0.27067056, -0.27067056, -0.27067056, -0.27067056, -0.27067056,\n       -0.27067056, -0.27067056, -0.27067056, -0.27067056, -0.27067056,\n       -0.27067056, -0.27067056, -0.27067056, -0.27067056, -0.27067056,\n       -0.27067056, -0.27067056, -0.27067056, -0.27067056, -0.27067056,\n       -0.27067056, -0.27067056, -0.27067056, -0.27067056, -0.27067056,\n       -0.27067056, -0.27067056, -0.27067056, -0.27067056, -0.27067056,\n       -0.27067056, -0.27067056, -0.27067056, -0.27067056, -0.27067056,\n       -0.27067056, -0.27067056, -0.27067056, -0.27067056, -0.27067056,\n       -0.27067056, -0.27067056, -0.27067056, -0.27067056, -0.27067056,\n       -0.27067056, -0.27067056, -0.27067056, -0.27067056, -0.27067056,\n       -0.27067056, -0.27067056, -0.27067056, -0.27067056, -0.27067056,\n       -0.27067056, -0.27067056, -0.27067056, -0.27067056, -0.27067056,\n       -0.27067056, -0.27067056, -0.27067056, -0.27067056, -0.27067056,\n       -0.27067056, -0.27067056, -0.27067056, -0.27067056, -0.27067056,\n       -0.27067056, -0.27067056, -0.27067056, -0.27067056, -0.27067056,\n       -0.27067056, -0.27067056, -0.27067056, -0.27067056, -0.27067056,\n       -0.27067056, -0.27067056, -0.27067056, -0.27067056, -0.27067056,\n       -0.27067056, -0.27067056, -0.27067056, -0.27067056, -0.27067056,\n       -0.27067056, -0.27067056, -0.27067056, -0.27067056, -0.27067056,\n       -0.27067056, -0.27067056, -0.27067056, -0.27067056, -0.27067056,\n       -0.27067056, -0.27067056, -0.27067056, -0.27067056, -0.27067056,\n       -0.27067056, -0.27067056, -0.27067056, -0.27067056, -0.27067056,\n       -0.27067056, -0.27067056, -0.27067056, -0.27067056, -0.27067056,\n       -0.27067056, -0.27067056, -0.27067056, -0.27067056, -0.27067056,\n       -0.27067056, -0.27067056, -0.27067056, -0.27067056, -0.27067056,\n       -0.27067056, -0.27067056, -0.27067056, -0.27067056, -0.27067056,\n       -0.27067056, -0.27067056, -0.27067056, -0.27067056, -0.27067056,\n       -0.27067056, -0.27067056, -0.27067056, -0.27067056, -0.27067056,\n       -0.27067056, -0.27067056, -0.27067056, -0.27067056, -0.27067056,\n       -0.27067056, -0.27067056, -0.27067056, -0.27067056, -0.27067056,\n       -0.27067056, -0.27067056, -0.27067056, -0.27067056, -0.27067056,\n       -0.27067056, -0.27067056, -0.27067056, -0.27067056, -0.27067056,\n       -0.27067056, -0.27067056, -0.27067056, -0.27067056, -0.27067056,\n       -0.27067056, -0.27067056, -0.27067056, -0.27067056, -0.27067056,\n       -0.27067056, -0.27067056, -0.27067056, -0.27067056, -0.27067056,\n       -0.27067056, -0.27067056, -0.27067056, -0.27067056, -0.27067056,\n       -0.27067056, -0.27067056, -0.27067056, -0.27067056, -0.27067056,\n       -0.27067056, -0.27067056, -0.27067056, -0.27067056, -0.27067056,\n       -0.27067056, -0.27067056, -0.27067056, -0.27067056, -0.27067056,\n       -0.27067056, -0.27067056, -0.27067056, -0.27067056, -0.27067056,\n       -0.27067056, -0.27067056, -0.27067056, -0.27067056, -0.27067056,\n       -0.27067056, -0.27067056, -0.27067056, -0.27067056, -0.27067056,\n       -0.27067056, -0.27067056, -0.27067056, -0.27067056, -0.27067056,\n       -0.27067056, -0.27067056, -0.27067056, -0.27067056, -0.27067056,\n       -0.27067056, -0.27067056, -0.27067056, -0.27067056, -0.27067056,\n       -0.27067056, -0.27067056, -0.27067056, -0.27067056, -0.27067056,\n       -0.27067056, -0.27067056, -0.27067056, -0.27067056, -0.27067056,\n       -0.27067056, -0.27067056, -0.27067056, -0.27067056, -0.27067056,\n       -0.27067056, -0.27067056, -0.27067056, -0.27067056, -0.27067056,\n       -0.27067056, -0.27067056, -0.27067056, -0.27067056, -0.27067056,\n       -0.27067056, -0.27067056, -0.27067056, -0.27067056, -0.27067056,\n       -0.27067056, -0.27067056, -0.27067056, -0.27067056, -0.27067056,\n       -0.27067056, -0.27067056, -0.27067056, -0.27067056, -0.27067056,\n       -0.27067056, -0.27067056, -0.27067056, -0.27067056, -0.27067056,\n       -0.27067056, -0.27067056, -0.27067056, -0.27067056, -0.27067056,\n       -0.27067056, -0.27067056, -0.27067056, -0.27067056, -0.27067056,\n       -0.27067056, -0.27067056, -0.27067056, -0.27067056, -0.27067056,\n       -0.27067056, -0.27067056, -0.27067056, -0.27067056, -0.27067056,\n       -0.27067056, -0.27067056, -0.27067056, -0.27067056, -0.27067056,\n       -0.27067056, -0.27067056, -0.27067056, -0.27067056, -0.27067056,\n       -0.27067056, -0.27067056, -0.27067056, -0.27067056, -0.27067056,\n       -0.27067056, -0.27067056, -0.27067056, -0.27067056, -0.27067056,\n       -0.27067056, -0.27067056, -0.27067056, -0.27067056, -0.27067056,\n       -0.27067056, -0.27067056, -0.27067056, -0.27067056, -0.27067056,\n       -0.27067056, -0.27067056, -0.27067056, -0.27067056, -0.27067056,\n       -0.27067056, -0.27067056, -0.27067056, -0.27067056, -0.27067056,\n       -0.27067056, -0.27067056, -0.27067056, -0.27067056, -0.27067056,\n       -0.27067056, -0.27067056, -0.27067056, -0.27067056, -0.27067056,\n       -0.27067056, -0.27067056, -0.27067056, -0.27067056, -0.27067056,\n       -0.27067056, -0.27067056, -0.27067056, -0.27067056, -0.27067056,\n       -0.27067056, -0.27067056, -0.27067056, -0.27067056, -0.27067056,\n       -0.27067056, -0.27067056, -0.27067056, -0.27067056, -0.27067056,\n       -0.27067056, -0.27067056, -0.27067056, -0.27067056, -0.27067056,\n       -0.27067056, -0.27067056, -0.27067056, -0.27067056, -0.27067056],\n      dtype=float32)>"
     },
     "metadata": {},
     "execution_count": 88
    }
   ],
   "source": [
    "(x_ - y_)/ tf.math.exp(2.0)"
   ]
  },
  {
   "cell_type": "code",
   "execution_count": 82,
   "metadata": {},
   "outputs": [
    {
     "output_type": "execute_result",
     "data": {
      "text/plain": "<tf.Tensor: shape=(1000,), dtype=int64, numpy=\narray([-2, -2, -2, -2, -2, -2, -2, -2, -2, -2, -2, -2, -2, -2, -2, -2, -2,\n       -2, -2, -2, -2, -2, -2, -2, -2, -2, -2, -2, -2, -2, -2, -2, -2, -2,\n       -2, -2, -2, -2, -2, -2, -2, -2, -2, -2, -2, -2, -2, -2, -2, -2, -2,\n       -2, -2, -2, -2, -2, -2, -2, -2, -2, -2, -2, -2, -2, -2, -2, -2, -2,\n       -2, -2, -2, -2, -2, -2, -2, -2, -2, -2, -2, -2, -2, -2, -2, -2, -2,\n       -2, -2, -2, -2, -2, -2, -2, -2, -2, -2, -2, -2, -2, -2, -2, -2, -2,\n       -2, -2, -2, -2, -2, -2, -2, -2, -2, -2, -2, -2, -2, -2, -2, -2, -2,\n       -2, -2, -2, -2, -2, -2, -2, -2, -2, -2, -2, -2, -2, -2, -2, -2, -2,\n       -2, -2, -2, -2, -2, -2, -2, -2, -2, -2, -2, -2, -2, -2, -2, -2, -2,\n       -2, -2, -2, -2, -2, -2, -2, -2, -2, -2, -2, -2, -2, -2, -2, -2, -2,\n       -2, -2, -2, -2, -2, -2, -2, -2, -2, -2, -2, -2, -2, -2, -2, -2, -2,\n       -2, -2, -2, -2, -2, -2, -2, -2, -2, -2, -2, -2, -2, -2, -2, -2, -2,\n       -2, -2, -2, -2, -2, -2, -2, -2, -2, -2, -2, -2, -2, -2, -2, -2, -2,\n       -2, -2, -2, -2, -2, -2, -2, -2, -2, -2, -2, -2, -2, -2, -2, -2, -2,\n       -2, -2, -2, -2, -2, -2, -2, -2, -2, -2, -2, -2, -2, -2, -2, -2, -2,\n       -2, -2, -2, -2, -2, -2, -2, -2, -2, -2, -2, -2, -2, -2, -2, -2, -2,\n       -2, -2, -2, -2, -2, -2, -2, -2, -2, -2, -2, -2, -2, -2, -2, -2, -2,\n       -2, -2, -2, -2, -2, -2, -2, -2, -2, -2, -2, -2, -2, -2, -2, -2, -2,\n       -2, -2, -2, -2, -2, -2, -2, -2, -2, -2, -2, -2, -2, -2, -2, -2, -2,\n       -2, -2, -2, -2, -2, -2, -2, -2, -2, -2, -2, -2, -2, -2, -2, -2, -2,\n       -2, -2, -2, -2, -2, -2, -2, -2, -2, -2, -2, -2, -2, -2, -2, -2, -2,\n       -2, -2, -2, -2, -2, -2, -2, -2, -2, -2, -2, -2, -2, -2, -2, -2, -2,\n       -2, -2, -2, -2, -2, -2, -2, -2, -2, -2, -2, -2, -2, -2, -2, -2, -2,\n       -2, -2, -2, -2, -2, -2, -2, -2, -2, -2, -2, -2, -2, -2, -2, -2, -2,\n       -2, -2, -2, -2, -2, -2, -2, -2, -2, -2, -2, -2, -2, -2, -2, -2, -2,\n       -2, -2, -2, -2, -2, -2, -2, -2, -2, -2, -2, -2, -2, -2, -2, -2, -2,\n       -2, -2, -2, -2, -2, -2, -2, -2, -2, -2, -2, -2, -2, -2, -2, -2, -2,\n       -2, -2, -2, -2, -2, -2, -2, -2, -2, -2, -2, -2, -2, -2, -2, -2, -2,\n       -2, -2, -2, -2, -2, -2, -2, -2, -2, -2, -2, -2, -2, -2, -2, -2, -2,\n       -2, -2, -2, -2, -2, -2, -2, -2, -2, -2, -2, -2, -2, -2, -2, -2, -2,\n       -2, -2, -2, -2, -2, -2, -2, -2, -2, -2, -2, -2, -2, -2, -2, -2, -2,\n       -2, -2, -2, -2, -2, -2, -2, -2, -2, -2, -2, -2, -2, -2, -2, -2, -2,\n       -2, -2, -2, -2, -2, -2, -2, -2, -2, -2, -2, -2, -2, -2, -2, -2, -2,\n       -2, -2, -2, -2, -2, -2, -2, -2, -2, -2, -2, -2, -2, -2, -2, -2, -2,\n       -2, -2, -2, -2, -2, -2, -2, -2, -2, -2, -2, -2, -2, -2, -2, -2, -2,\n       -2, -2, -2, -2, -2, -2, -2, -2, -2, -2, -2, -2, -2, -2, -2, -2, -2,\n       -2, -2, -2, -2, -2, -2, -2, -2, -2, -2, -2, -2, -2, -2, -2, -2, -2,\n       -2, -2, -2, -2, -2, -2, -2, -2, -2, -2, -2, -2, -2, -2, -2, -2, -2,\n       -2, -2, -2, -2, -2, -2, -2, -2, -2, -2, -2, -2, -2, -2, -2, -2, -2,\n       -2, -2, -2, -2, -2, -2, -2, -2, -2, -2, -2, -2, -2, -2, -2, -2, -2,\n       -2, -2, -2, -2, -2, -2, -2, -2, -2, -2, -2, -2, -2, -2, -2, -2, -2,\n       -2, -2, -2, -2, -2, -2, -2, -2, -2, -2, -2, -2, -2, -2, -2, -2, -2,\n       -2, -2, -2, -2, -2, -2, -2, -2, -2, -2, -2, -2, -2, -2, -2, -2, -2,\n       -2, -2, -2, -2, -2, -2, -2, -2, -2, -2, -2, -2, -2, -2, -2, -2, -2,\n       -2, -2, -2, -2, -2, -2, -2, -2, -2, -2, -2, -2, -2, -2, -2, -2, -2,\n       -2, -2, -2, -2, -2, -2, -2, -2, -2, -2, -2, -2, -2, -2, -2, -2, -2,\n       -2, -2, -2, -2, -2, -2, -2, -2, -2, -2, -2, -2, -2, -2, -2, -2, -2,\n       -2, -2, -2, -2, -2, -2, -2, -2, -2, -2, -2, -2, -2, -2, -2, -2, -2,\n       -2, -2, -2, -2, -2, -2, -2, -2, -2, -2, -2, -2, -2, -2, -2, -2, -2,\n       -2, -2, -2, -2, -2, -2, -2, -2, -2, -2, -2, -2, -2, -2, -2, -2, -2,\n       -2, -2, -2, -2, -2, -2, -2, -2, -2, -2, -2, -2, -2, -2, -2, -2, -2,\n       -2, -2, -2, -2, -2, -2, -2, -2, -2, -2, -2, -2, -2, -2, -2, -2, -2,\n       -2, -2, -2, -2, -2, -2, -2, -2, -2, -2, -2, -2, -2, -2, -2, -2, -2,\n       -2, -2, -2, -2, -2, -2, -2, -2, -2, -2, -2, -2, -2, -2, -2, -2, -2,\n       -2, -2, -2, -2, -2, -2, -2, -2, -2, -2, -2, -2, -2, -2, -2, -2, -2,\n       -2, -2, -2, -2, -2, -2, -2, -2, -2, -2, -2, -2, -2, -2, -2, -2, -2,\n       -2, -2, -2, -2, -2, -2, -2, -2, -2, -2, -2, -2, -2, -2, -2, -2, -2,\n       -2, -2, -2, -2, -2, -2, -2, -2, -2, -2, -2, -2, -2, -2, -2, -2, -2,\n       -2, -2, -2, -2, -2, -2, -2, -2, -2, -2, -2, -2, -2, -2])>"
     },
     "metadata": {},
     "execution_count": 82
    }
   ],
   "source": [
    "x - y"
   ]
  },
  {
   "cell_type": "code",
   "execution_count": 71,
   "metadata": {
    "tags": []
   },
   "outputs": [
    {
     "output_type": "stream",
     "name": "stdout",
     "text": "6.54 µs ± 83.2 ns per loop (mean ± std. dev. of 7 runs, 100000 loops each)\n"
    }
   ],
   "source": [
    "%timeit tf.math.exp(-1000/1500)"
   ]
  },
  {
   "cell_type": "code",
   "execution_count": 76,
   "metadata": {
    "tags": []
   },
   "outputs": [
    {
     "output_type": "stream",
     "name": "stdout",
     "text": "6.59 µs ± 16.3 ns per loop (mean ± std. dev. of 7 runs, 100000 loops each)\n"
    }
   ],
   "source": [
    "%timeit tf.math.exp(-1000/1500)"
   ]
  },
  {
   "cell_type": "code",
   "execution_count": 77,
   "metadata": {
    "tags": []
   },
   "outputs": [
    {
     "output_type": "stream",
     "name": "stdout",
     "text": "6.59 µs ± 32.5 ns per loop (mean ± std. dev. of 7 runs, 100000 loops each)\n"
    }
   ],
   "source": [
    "%timeit tf.math.exp(-1000.00/1500.00)"
   ]
  },
  {
   "cell_type": "code",
   "execution_count": 75,
   "metadata": {
    "tags": []
   },
   "outputs": [
    {
     "output_type": "stream",
     "name": "stdout",
     "text": "76.9 µs ± 466 ns per loop (mean ± std. dev. of 7 runs, 10000 loops each)\n"
    }
   ],
   "source": [
    "%timeit tf.math.exp(tf.constant(-1000)/1500)"
   ]
  },
  {
   "cell_type": "code",
   "execution_count": 44,
   "metadata": {
    "tags": []
   },
   "outputs": [
    {
     "output_type": "stream",
     "name": "stdout",
     "text": "10.1 ms ± 97.7 µs per loop (mean ± std. dev. of 7 runs, 100 loops each)\n"
    }
   ],
   "source": [
    "%timeit tf.ones([100,20,20,1], dtype = tf.int64) - tf.ones([1000], dtype = tf.int64)"
   ]
  },
  {
   "cell_type": "code",
   "execution_count": 45,
   "metadata": {
    "tags": []
   },
   "outputs": [
    {
     "output_type": "stream",
     "name": "stdout",
     "text": "208 µs ± 37.4 µs per loop (mean ± std. dev. of 7 runs, 1000 loops each)\n"
    }
   ],
   "source": [
    "%timeit tf.cast(tf.ones([100,20,20,1], dtype = tf.int64), dtype = tf.float32)\n"
   ]
  },
  {
   "cell_type": "code",
   "execution_count": 47,
   "metadata": {
    "tags": []
   },
   "outputs": [
    {
     "output_type": "stream",
     "name": "stdout",
     "text": "75.1 µs ± 208 ns per loop (mean ± std. dev. of 7 runs, 10000 loops each)\n"
    }
   ],
   "source": [
    "%timeit tf.cast(tf.ones([1000], dtype = tf.int64), dtype = tf.float32)"
   ]
  },
  {
   "cell_type": "code",
   "execution_count": 48,
   "metadata": {},
   "outputs": [],
   "source": [
    "x = tf.cast(tf.ones([100,20,20,1], dtype = tf.int64), dtype = tf.float32)\n",
    "y = tf.cast(tf.ones([1000], dtype = tf.int64), dtype = tf.float32)"
   ]
  },
  {
   "cell_type": "code",
   "execution_count": 49,
   "metadata": {
    "tags": []
   },
   "outputs": [
    {
     "output_type": "stream",
     "name": "stdout",
     "text": "4.51 ms ± 128 µs per loop (mean ± std. dev. of 7 runs, 100 loops each)\n"
    }
   ],
   "source": [
    "%timeit x - y"
   ]
  },
  {
   "cell_type": "code",
   "execution_count": 61,
   "metadata": {
    "tags": []
   },
   "outputs": [
    {
     "output_type": "stream",
     "name": "stdout",
     "text": "18.2 ms ± 49.8 µs per loop (mean ± std. dev. of 7 runs, 100 loops each)\n"
    }
   ],
   "source": [
    "%timeit tf.cast(tf.ones([100,20,20,1], dtype = tf.int64) - tf.ones([1000], dtype = tf.int64), dtype = tf.float32)"
   ]
  },
  {
   "cell_type": "code",
   "execution_count": null,
   "metadata": {},
   "outputs": [],
   "source": []
  },
  {
   "cell_type": "code",
   "execution_count": 62,
   "metadata": {
    "tags": []
   },
   "outputs": [
    {
     "output_type": "stream",
     "name": "stdout",
     "text": "5.04 ms ± 25.8 µs per loop (mean ± std. dev. of 7 runs, 100 loops each)\n"
    }
   ],
   "source": [
    "%timeit tf.cast(tf.ones([100,20,20,1], dtype = tf.int64), dtype = tf.float32) - tf.cast(tf.ones([1000], dtype = tf.int64), dtype = tf.float32)"
   ]
  },
  {
   "cell_type": "code",
   "execution_count": 57,
   "metadata": {
    "tags": []
   },
   "outputs": [
    {
     "output_type": "stream",
     "name": "stdout",
     "text": "8.74 ms ± 30.2 µs per loop (mean ± std. dev. of 7 runs, 100 loops each)\n"
    }
   ],
   "source": [
    "%timeit tf.ones([100,20,20,1], dtype = tf.float16) - tf.ones([1000], dtype = tf.float16)"
   ]
  },
  {
   "cell_type": "code",
   "execution_count": 120,
   "metadata": {
    "tags": []
   },
   "outputs": [
    {
     "output_type": "stream",
     "name": "stdout",
     "text": "Sun Sep 27 07:40:13 2020    stats_optim_1\n\n         149769569 function calls (147413899 primitive calls) in 2034.427 seconds\n\n   Ordered by: standard name\n   List reduced from 2030 to 18 due to restriction <'neural_map'>\n\n   ncalls  tottime  percall  cumtime  percall filename:lineno(function)\n    23976    0.243    0.000    3.850    0.000 neural_map.py:116(eta)\n    23976    0.222    0.000   23.409    0.001 neural_map.py:119(sigma)\n    23976    0.847    0.000   45.834    0.002 neural_map.py:122(H)\n    23976    0.932    0.000   28.690    0.001 neural_map.py:135(best_match_neuron)\n    23976    0.370    0.000  138.915    0.006 neural_map.py:167(call)\n    23976    0.980    0.000   98.964    0.004 neural_map.py:204(compute_gradient)\n    23976    0.146    0.000    2.358    0.000 neural_map.py:245(mat_muls)\n    23976    0.889    0.000   20.234    0.001 neural_map.py:248(density_q)\n    23976    0.384    0.000    6.824    0.000 neural_map.py:257(density_p)\n    23976    0.352    0.000    4.711    0.000 neural_map.py:269(kl_divergence)\n    23976    0.156    0.000   31.926    0.001 neural_map.py:279(get_kl_loss)\n    23976    0.267    0.000    6.456    0.000 neural_map.py:284(update_memory)\n    23976    0.105    0.000    2.043    0.000 neural_map.py:300(nd_index)\n    47952    0.289    0.000    5.097    0.000 neural_map.py:305(nd_norm)\n        1    0.000    0.000    0.000    0.000 neural_map.py:327(_index_grid)\n        1    0.025    0.025   37.982   37.982 neural_map.py:344(viz)\n        1    0.638    0.638 2034.444 2034.444 neural_map.py:371(run)\n        1    0.000    0.000    0.011    0.011 neural_map.py:39(__init__)\n\n\n"
    },
    {
     "output_type": "execute_result",
     "data": {
      "text/plain": "<pstats.Stats at 0x7f9b487a0790>"
     },
     "metadata": {},
     "execution_count": 120
    }
   ],
   "source": [
    "p = pstats.Stats('stats_optim_1')\n",
    "p.strip_dirs().sort_stats(-1).print_stats('neural_map')"
   ]
  },
  {
   "cell_type": "code",
   "execution_count": 119,
   "metadata": {
    "tags": []
   },
   "outputs": [
    {
     "output_type": "stream",
     "name": "stdout",
     "text": "Sun Sep 27 07:40:13 2020    stats_optim_1\n\n         149769569 function calls (147413899 primitive calls) in 2034.427 seconds\n\n   Ordered by: cumulative time\n   List reduced from 2030 to 30 due to restriction <30>\n\n   ncalls  tottime  percall  cumtime  percall filename:lineno(function)\n     10/1    0.000    0.000 2034.446 2034.446 {built-in method builtins.exec}\n        1    0.001    0.001 2034.446 2034.446 <string>:1(<module>)\n        1    0.638    0.638 2034.444 2034.444 neural_map.py:371(run)\n  1561502 1838.130    0.001 1838.130    0.001 {built-in method tensorflow.python._pywrap_tfe.TFE_Py_FastPathExecute}\n748753/724777    1.468    0.000 1835.158    0.003 dispatch.py:177(wrapper)\n    47952    0.345    0.000 1823.863    0.038 metrics.py:174(__call__)\n    47952    0.240    0.000 1823.379    0.038 distributed_training_utils.py:1105(call_replica_local_fn)\n    47952    0.470    0.000 1822.260    0.038 metrics.py:186(replica_local_fn)\n    47952    1.059    0.000 1801.589    0.038 metrics_utils.py:73(decorated)\n    47952    2.156    0.000 1794.314    0.037 metrics.py:314(update_state)\n   143857    2.032    0.000 1763.502    0.012 math_ops.py:732(cast)\n    71930    0.235    0.000 1758.718    0.024 gen_math_ops.py:1944(cast)\n    23976    0.869    0.000  148.360    0.006 base_layer.py:763(__call__)\n    23976    0.370    0.000  138.915    0.006 neural_map.py:167(call)\n    23976    0.980    0.000   98.964    0.004 neural_map.py:204(compute_gradient)\n    23976    0.847    0.000   45.834    0.002 neural_map.py:122(H)\n  1084583    5.881    0.000   43.049    0.000 ops.py:1290(convert_to_tensor)\n        1    0.025    0.025   37.982   37.982 neural_map.py:344(viz)\n   119882    0.398    0.000   34.465    0.000 array_ops.py:58(reshape)\n   119882    1.192    0.000   33.563    0.000 gen_array_ops.py:7997(reshape)\n    23976    0.156    0.000   31.926    0.001 neural_map.py:279(get_kl_loss)\n    23976    0.932    0.000   28.690    0.001 neural_map.py:135(best_match_neuron)\n   119882    1.050    0.000   28.177    0.000 gen_array_ops.py:8101(reshape_eager_fallback)\n      2/1    0.000    0.000   25.206   25.206 deprecation.py:439(wrapper)\n        1    0.000    0.000   25.206   25.206 pyplot.py:1140(subplots)\n        1    0.000    0.000   25.202   25.202 figure.py:1415(subplots)\n        1    0.006    0.006   25.202   25.202 gridspec.py:244(subplots)\n      900    0.008    0.000   25.172    0.028 figure.py:1254(add_subplot)\n   119880    1.800    0.000   24.392    0.000 resource_variable_ops.py:794(assign_add)\n   287716    1.560    0.000   24.302    0.000 execute.py:236(args_to_matching_eager)\n\n\n"
    },
    {
     "output_type": "execute_result",
     "data": {
      "text/plain": "<pstats.Stats at 0x7f9b48704950>"
     },
     "metadata": {},
     "execution_count": 119
    }
   ],
   "source": [
    "p = pstats.Stats('stats_optim_1')\n",
    "p.strip_dirs().sort_stats('cumulative').print_stats(30)"
   ]
  },
  {
   "cell_type": "code",
   "execution_count": 29,
   "metadata": {
    "tags": []
   },
   "outputs": [
    {
     "output_type": "stream",
     "name": "stdout",
     "text": "3.34 ms ± 16.1 µs per loop (mean ± std. dev. of 7 runs, 100 loops each)\n"
    }
   ],
   "source": [
    "%timeit tf.ones([100,1,1,784], dtype = tf.float32) * tf.ones([20,20,1], dtype = tf.float32)"
   ]
  },
  {
   "cell_type": "code",
   "execution_count": 30,
   "metadata": {
    "tags": []
   },
   "outputs": [
    {
     "output_type": "stream",
     "name": "stdout",
     "text": "8.97 ms ± 27.9 µs per loop (mean ± std. dev. of 7 runs, 100 loops each)\n"
    }
   ],
   "source": [
    "%timeit tf.cast(tf.ones([100,20,20,784], dtype = tf.int32), dtype = tf.float32)"
   ]
  },
  {
   "cell_type": "code",
   "execution_count": 11,
   "metadata": {},
   "outputs": [],
   "source": [
    "import tensorflow as tf\n",
    "import numpy as np"
   ]
  },
  {
   "cell_type": "code",
   "execution_count": 18,
   "metadata": {},
   "outputs": [
    {
     "output_type": "error",
     "ename": "NotFoundError",
     "evalue": "Could not find valid device for node.\nNode:{{node Exp}}\nAll kernels registered for op Exp :\n  device='XLA_CPU'; T in [DT_FLOAT, DT_DOUBLE, DT_COMPLEX64, DT_BFLOAT16, DT_COMPLEX128, DT_HALF]\n  device='XLA_CPU_JIT'; T in [DT_FLOAT, DT_DOUBLE, DT_COMPLEX64, DT_BFLOAT16, DT_COMPLEX128, DT_HALF]\n  device='CPU'; T in [DT_COMPLEX128]\n  device='CPU'; T in [DT_COMPLEX64]\n  device='CPU'; T in [DT_DOUBLE]\n  device='CPU'; T in [DT_HALF]\n  device='CPU'; T in [DT_FLOAT]\n [Op:Exp]",
     "traceback": [
      "\u001b[0;31m---------------------------------------------------------------------------\u001b[0m",
      "\u001b[0;31mNotFoundError\u001b[0m                             Traceback (most recent call last)",
      "\u001b[0;32m<ipython-input-18-56ca51bec35b>\u001b[0m in \u001b[0;36m<module>\u001b[0;34m\u001b[0m\n\u001b[0;32m----> 1\u001b[0;31m \u001b[0mtf\u001b[0m\u001b[0;34m.\u001b[0m\u001b[0mmath\u001b[0m\u001b[0;34m.\u001b[0m\u001b[0mexp\u001b[0m\u001b[0;34m(\u001b[0m\u001b[0ma\u001b[0m\u001b[0;34m)\u001b[0m\u001b[0;34m\u001b[0m\u001b[0;34m\u001b[0m\u001b[0m\n\u001b[0m",
      "\u001b[0;32m~/miniconda3/envs/memory/lib/python3.7/site-packages/tensorflow/python/util/dispatch.py\u001b[0m in \u001b[0;36mwrapper\u001b[0;34m(*args, **kwargs)\u001b[0m\n\u001b[1;32m    178\u001b[0m     \u001b[0;34m\"\"\"Call target, and fall back on dispatchers if there is a TypeError.\"\"\"\u001b[0m\u001b[0;34m\u001b[0m\u001b[0;34m\u001b[0m\u001b[0m\n\u001b[1;32m    179\u001b[0m     \u001b[0;32mtry\u001b[0m\u001b[0;34m:\u001b[0m\u001b[0;34m\u001b[0m\u001b[0;34m\u001b[0m\u001b[0m\n\u001b[0;32m--> 180\u001b[0;31m       \u001b[0;32mreturn\u001b[0m \u001b[0mtarget\u001b[0m\u001b[0;34m(\u001b[0m\u001b[0;34m*\u001b[0m\u001b[0margs\u001b[0m\u001b[0;34m,\u001b[0m \u001b[0;34m**\u001b[0m\u001b[0mkwargs\u001b[0m\u001b[0;34m)\u001b[0m\u001b[0;34m\u001b[0m\u001b[0;34m\u001b[0m\u001b[0m\n\u001b[0m\u001b[1;32m    181\u001b[0m     \u001b[0;32mexcept\u001b[0m \u001b[0;34m(\u001b[0m\u001b[0mTypeError\u001b[0m\u001b[0;34m,\u001b[0m \u001b[0mValueError\u001b[0m\u001b[0;34m)\u001b[0m\u001b[0;34m:\u001b[0m\u001b[0;34m\u001b[0m\u001b[0;34m\u001b[0m\u001b[0m\n\u001b[1;32m    182\u001b[0m       \u001b[0;31m# Note: convert_to_eager_tensor currently raises a ValueError, not a\u001b[0m\u001b[0;34m\u001b[0m\u001b[0;34m\u001b[0m\u001b[0;34m\u001b[0m\u001b[0m\n",
      "\u001b[0;32m~/miniconda3/envs/memory/lib/python3.7/site-packages/tensorflow/python/ops/math_ops.py\u001b[0m in \u001b[0;36mexp\u001b[0;34m(x, name)\u001b[0m\n\u001b[1;32m   4641\u001b[0m   \u001b[0;34m@\u001b[0m\u001b[0mend_compatibility\u001b[0m\u001b[0;34m\u001b[0m\u001b[0;34m\u001b[0m\u001b[0m\n\u001b[1;32m   4642\u001b[0m   \"\"\"\n\u001b[0;32m-> 4643\u001b[0;31m   \u001b[0;32mreturn\u001b[0m \u001b[0mgen_math_ops\u001b[0m\u001b[0;34m.\u001b[0m\u001b[0mexp\u001b[0m\u001b[0;34m(\u001b[0m\u001b[0mx\u001b[0m\u001b[0;34m,\u001b[0m \u001b[0mname\u001b[0m\u001b[0;34m)\u001b[0m\u001b[0;34m\u001b[0m\u001b[0;34m\u001b[0m\u001b[0m\n\u001b[0m\u001b[1;32m   4644\u001b[0m \u001b[0;34m\u001b[0m\u001b[0m\n\u001b[1;32m   4645\u001b[0m \u001b[0;34m\u001b[0m\u001b[0m\n",
      "\u001b[0;32m~/miniconda3/envs/memory/lib/python3.7/site-packages/tensorflow/python/ops/gen_math_ops.py\u001b[0m in \u001b[0;36mexp\u001b[0;34m(x, name)\u001b[0m\n\u001b[1;32m   3574\u001b[0m         \u001b[0;32mpass\u001b[0m  \u001b[0;31m# Add nodes to the TensorFlow graph.\u001b[0m\u001b[0;34m\u001b[0m\u001b[0;34m\u001b[0m\u001b[0m\n\u001b[1;32m   3575\u001b[0m     \u001b[0;32mexcept\u001b[0m \u001b[0m_core\u001b[0m\u001b[0;34m.\u001b[0m\u001b[0m_NotOkStatusException\u001b[0m \u001b[0;32mas\u001b[0m \u001b[0me\u001b[0m\u001b[0;34m:\u001b[0m\u001b[0;34m\u001b[0m\u001b[0;34m\u001b[0m\u001b[0m\n\u001b[0;32m-> 3576\u001b[0;31m       \u001b[0m_ops\u001b[0m\u001b[0;34m.\u001b[0m\u001b[0mraise_from_not_ok_status\u001b[0m\u001b[0;34m(\u001b[0m\u001b[0me\u001b[0m\u001b[0;34m,\u001b[0m \u001b[0mname\u001b[0m\u001b[0;34m)\u001b[0m\u001b[0;34m\u001b[0m\u001b[0;34m\u001b[0m\u001b[0m\n\u001b[0m\u001b[1;32m   3577\u001b[0m   \u001b[0;31m# Add nodes to the TensorFlow graph.\u001b[0m\u001b[0;34m\u001b[0m\u001b[0;34m\u001b[0m\u001b[0;34m\u001b[0m\u001b[0m\n\u001b[1;32m   3578\u001b[0m   _, _, _op, _outputs = _op_def_library._apply_op_helper(\n",
      "\u001b[0;32m~/miniconda3/envs/memory/lib/python3.7/site-packages/tensorflow/python/framework/ops.py\u001b[0m in \u001b[0;36mraise_from_not_ok_status\u001b[0;34m(e, name)\u001b[0m\n\u001b[1;32m   6651\u001b[0m   \u001b[0mmessage\u001b[0m \u001b[0;34m=\u001b[0m \u001b[0me\u001b[0m\u001b[0;34m.\u001b[0m\u001b[0mmessage\u001b[0m \u001b[0;34m+\u001b[0m \u001b[0;34m(\u001b[0m\u001b[0;34m\" name: \"\u001b[0m \u001b[0;34m+\u001b[0m \u001b[0mname\u001b[0m \u001b[0;32mif\u001b[0m \u001b[0mname\u001b[0m \u001b[0;32mis\u001b[0m \u001b[0;32mnot\u001b[0m \u001b[0;32mNone\u001b[0m \u001b[0;32melse\u001b[0m \u001b[0;34m\"\"\u001b[0m\u001b[0;34m)\u001b[0m\u001b[0;34m\u001b[0m\u001b[0;34m\u001b[0m\u001b[0m\n\u001b[1;32m   6652\u001b[0m   \u001b[0;31m# pylint: disable=protected-access\u001b[0m\u001b[0;34m\u001b[0m\u001b[0;34m\u001b[0m\u001b[0;34m\u001b[0m\u001b[0m\n\u001b[0;32m-> 6653\u001b[0;31m   \u001b[0msix\u001b[0m\u001b[0;34m.\u001b[0m\u001b[0mraise_from\u001b[0m\u001b[0;34m(\u001b[0m\u001b[0mcore\u001b[0m\u001b[0;34m.\u001b[0m\u001b[0m_status_to_exception\u001b[0m\u001b[0;34m(\u001b[0m\u001b[0me\u001b[0m\u001b[0;34m.\u001b[0m\u001b[0mcode\u001b[0m\u001b[0;34m,\u001b[0m \u001b[0mmessage\u001b[0m\u001b[0;34m)\u001b[0m\u001b[0;34m,\u001b[0m \u001b[0;32mNone\u001b[0m\u001b[0;34m)\u001b[0m\u001b[0;34m\u001b[0m\u001b[0;34m\u001b[0m\u001b[0m\n\u001b[0m\u001b[1;32m   6654\u001b[0m   \u001b[0;31m# pylint: enable=protected-access\u001b[0m\u001b[0;34m\u001b[0m\u001b[0;34m\u001b[0m\u001b[0;34m\u001b[0m\u001b[0m\n\u001b[1;32m   6655\u001b[0m \u001b[0;34m\u001b[0m\u001b[0m\n",
      "\u001b[0;32m~/miniconda3/envs/memory/lib/python3.7/site-packages/six.py\u001b[0m in \u001b[0;36mraise_from\u001b[0;34m(value, from_value)\u001b[0m\n",
      "\u001b[0;31mNotFoundError\u001b[0m: Could not find valid device for node.\nNode:{{node Exp}}\nAll kernels registered for op Exp :\n  device='XLA_CPU'; T in [DT_FLOAT, DT_DOUBLE, DT_COMPLEX64, DT_BFLOAT16, DT_COMPLEX128, DT_HALF]\n  device='XLA_CPU_JIT'; T in [DT_FLOAT, DT_DOUBLE, DT_COMPLEX64, DT_BFLOAT16, DT_COMPLEX128, DT_HALF]\n  device='CPU'; T in [DT_COMPLEX128]\n  device='CPU'; T in [DT_COMPLEX64]\n  device='CPU'; T in [DT_DOUBLE]\n  device='CPU'; T in [DT_HALF]\n  device='CPU'; T in [DT_FLOAT]\n [Op:Exp]"
     ]
    }
   ],
   "source": [
    "tf.math.exp(a)"
   ]
  },
  {
   "cell_type": "code",
   "execution_count": 72,
   "metadata": {},
   "outputs": [],
   "source": [
    "from functools import wraps\n",
    "import time\n",
    "def log_time(f):\n",
    "    @wraps(f)\n",
    "    def wrapped_function(*args, **kwargs):\n",
    "        start_time = time.time()\n",
    "        val = f(*args, **kwargs)\n",
    "        elapsed = (time.time() - start_time)\n",
    "        print(\"--- {}: {} seconds ---\".format(f.__name__, elapsed))\n",
    "        return val\n",
    "    return wrapped_function\n",
    "\n",
    "@log_time\n",
    "def nd_norm_optimized(diff):\n",
    "    ''' Flatten the last embed_dim dimensions and then taken regular tf.norm\n",
    "    '''\n",
    "    flat = tf.reshape(diff, list(diff.shape[:(len(diff.shape) - len(embed_dim))]) + [-1])\n",
    "    return tf.norm(flat, axis = -1)\n",
    "    \n",
    "@log_time\n",
    "def nd_norm(diff):\n",
    "    for _ in range(1, len(embed_dim) + 1):\n",
    "        diff = tf.norm(diff, axis=-1)\n",
    "    return diff\n",
    "@log_time\n",
    "def nd_norm_final(diff):\n",
    "    axes = np.arange(start = -1, stop = -1 * len(embed_dim) - 1, step = -1)\n",
    "    return tf.math.reduce_euclidean_norm(diff, axis = axes)"
   ]
  },
  {
   "cell_type": "code",
   "execution_count": 115,
   "metadata": {
    "tags": [
     "outputPrepend"
    ]
   },
   "outputs": [
    {
     "output_type": "stream",
     "name": "stdout",
     "text": "53711 seconds ---\n--- nd_norm: 0.0009543895721435547 seconds ---\n--- nd_norm: 0.0010912418365478516 seconds ---\n--- nd_norm: 0.001650094985961914 seconds ---\n--- nd_norm: 0.0013980865478515625 seconds ---\n--- nd_norm: 0.001371622085571289 seconds ---\n--- nd_norm: 0.0013494491577148438 seconds ---\n--- nd_norm: 0.001123189926147461 seconds ---\n--- nd_norm: 0.0010266304016113281 seconds ---\n--- nd_norm: 0.0010025501251220703 seconds ---\n--- nd_norm: 0.0010523796081542969 seconds ---\n--- nd_norm: 0.0010540485382080078 seconds ---\n--- nd_norm: 0.0010471343994140625 seconds ---\n--- nd_norm: 0.0010559558868408203 seconds ---\n--- nd_norm: 0.0010373592376708984 seconds ---\n--- nd_norm: 0.0009489059448242188 seconds ---\n--- nd_norm: 0.0010175704956054688 seconds ---\n--- nd_norm: 0.001001596450805664 seconds ---\n--- nd_norm: 0.0009763240814208984 seconds ---\n--- nd_norm: 0.0009729862213134766 seconds ---\n--- nd_norm: 0.001066446304321289 seconds ---\n--- nd_norm: 0.001001596450805664 seconds ---\n--- nd_norm: 0.001065969467163086 seconds ---\n--- nd_norm: 0.0009548664093017578 seconds ---\n--- nd_norm: 0.0010526180267333984 seconds ---\n--- nd_norm: 0.0010106563568115234 seconds ---\n--- nd_norm: 0.0009233951568603516 seconds ---\n--- nd_norm: 0.0010197162628173828 seconds ---\n--- nd_norm: 0.0010275840759277344 seconds ---\n--- nd_norm: 0.001018524169921875 seconds ---\n--- nd_norm: 0.0011336803436279297 seconds ---\n--- nd_norm: 0.0009546279907226562 seconds ---\n--- nd_norm: 0.0009839534759521484 seconds ---\n--- nd_norm: 0.0009272098541259766 seconds ---\n--- nd_norm: 0.0009300708770751953 seconds ---\n--- nd_norm: 0.0010154247283935547 seconds ---\n--- nd_norm: 0.0010075569152832031 seconds ---\n--- nd_norm: 0.0009877681732177734 seconds ---\n--- nd_norm: 0.0009202957153320312 seconds ---\n--- nd_norm: 0.0009181499481201172 seconds ---\n--- nd_norm: 0.0010061264038085938 seconds ---\n--- nd_norm: 0.0009119510650634766 seconds ---\n--- nd_norm: 0.0009338855743408203 seconds ---\n--- nd_norm: 0.0009396076202392578 seconds ---\n--- nd_norm: 0.000978708267211914 seconds ---\n--- nd_norm: 0.0009038448333740234 seconds ---\n--- nd_norm: 0.0009219646453857422 seconds ---\n--- nd_norm: 0.0009250640869140625 seconds ---\n--- nd_norm: 0.0008666515350341797 seconds ---\n--- nd_norm: 0.0009033679962158203 seconds ---\n--- nd_norm: 0.0009264945983886719 seconds ---\n--- nd_norm: 0.0009920597076416016 seconds ---\n--- nd_norm: 0.0009410381317138672 seconds ---\n--- nd_norm: 0.0009942054748535156 seconds ---\n--- nd_norm: 0.0008704662322998047 seconds ---\n--- nd_norm: 0.0008869171142578125 seconds ---\n--- nd_norm: 0.0009398460388183594 seconds ---\n--- nd_norm: 0.0009169578552246094 seconds ---\n--- nd_norm: 0.0008902549743652344 seconds ---\n--- nd_norm: 0.0008790493011474609 seconds ---\n--- nd_norm: 0.0009253025054931641 seconds ---\n--- nd_norm: 0.0008985996246337891 seconds ---\n--- nd_norm: 0.0008878707885742188 seconds ---\n--- nd_norm: 0.0009984970092773438 seconds ---\n--- nd_norm: 0.0008914470672607422 seconds ---\n--- nd_norm: 0.0009307861328125 seconds ---\n--- nd_norm: 0.0009052753448486328 seconds ---\n--- nd_norm: 0.0009989738464355469 seconds ---\n--- nd_norm: 0.000888824462890625 seconds ---\n--- nd_norm: 0.0009405612945556641 seconds ---\n--- nd_norm: 0.0009434223175048828 seconds ---\n--- nd_norm: 0.0009889602661132812 seconds ---\n--- nd_norm: 0.0009238719940185547 seconds ---\n--- nd_norm: 0.0009148120880126953 seconds ---\n--- nd_norm: 0.0009369850158691406 seconds ---\n--- nd_norm: 0.0010013580322265625 seconds ---\n--- nd_norm: 0.0010156631469726562 seconds ---\n--- nd_norm: 0.0009541511535644531 seconds ---\n--- nd_norm: 0.0008847713470458984 seconds ---\n--- nd_norm: 0.0009086132049560547 seconds ---\n--- nd_norm: 0.0009810924530029297 seconds ---\n--- nd_norm: 0.0009927749633789062 seconds ---\n--- nd_norm: 0.0009610652923583984 seconds ---\n--- nd_norm: 0.0008940696716308594 seconds ---\n--- nd_norm: 0.0009214878082275391 seconds ---\n--- nd_norm: 0.0009920597076416016 seconds ---\n--- nd_norm: 0.0009806156158447266 seconds ---\n--- nd_norm: 0.0009028911590576172 seconds ---\n--- nd_norm: 0.0009214878082275391 seconds ---\n--- nd_norm: 0.0009827613830566406 seconds ---\n--- nd_norm: 0.0009870529174804688 seconds ---\n--- nd_norm: 0.0009036064147949219 seconds ---\n--- nd_norm: 0.0009407997131347656 seconds ---\n--- nd_norm: 0.0009839534759521484 seconds ---\n--- nd_norm: 0.0010118484497070312 seconds ---\n--- nd_norm: 0.0009906291961669922 seconds ---\n--- nd_norm: 0.0009253025054931641 seconds ---\n--- nd_norm: 0.0009195804595947266 seconds ---\n--- nd_norm: 0.0008835792541503906 seconds ---\n--- nd_norm: 0.00099945068359375 seconds ---\n--- nd_norm: 0.0009918212890625 seconds ---\n--- nd_norm: 0.0009121894836425781 seconds ---\n--- nd_norm: 0.0009195804595947266 seconds ---\n--- nd_norm: 0.000995635986328125 seconds ---\n--- nd_norm: 0.000990152359008789 seconds ---\n--- nd_norm: 0.0009005069732666016 seconds ---\n--- nd_norm: 0.0009794235229492188 seconds ---\n--- nd_norm: 0.0009121894836425781 seconds ---\n--- nd_norm: 0.0009205341339111328 seconds ---\n--- nd_norm: 0.0009284019470214844 seconds ---\n--- nd_norm: 0.0010082721710205078 seconds ---\n--- nd_norm: 0.0008902549743652344 seconds ---\n--- nd_norm: 0.0009355545043945312 seconds ---\n--- nd_norm: 0.0009872913360595703 seconds ---\n--- nd_norm: 0.0009946823120117188 seconds ---\n--- nd_norm: 0.0009400844573974609 seconds ---\n--- nd_norm: 0.0009627342224121094 seconds ---\n--- nd_norm: 0.0008947849273681641 seconds ---\n--- nd_norm: 0.0009298324584960938 seconds ---\n--- nd_norm: 0.0008912086486816406 seconds ---\n--- nd_norm: 0.0009014606475830078 seconds ---\n--- nd_norm: 0.0009565353393554688 seconds ---\n--- nd_norm: 0.0009546279907226562 seconds ---\n--- nd_norm: 0.0008766651153564453 seconds ---\n--- nd_norm: 0.0008625984191894531 seconds ---\n--- nd_norm: 0.0008771419525146484 seconds ---\n--- nd_norm: 0.0008995532989501953 seconds ---\n--- nd_norm: 0.0008845329284667969 seconds ---\n--- nd_norm: 0.0008947849273681641 seconds ---\n--- nd_norm: 0.0008420944213867188 seconds ---\n--- nd_norm: 0.0017538070678710938 seconds ---\n--- nd_norm: 0.0011260509490966797 seconds ---\n--- nd_norm: 0.0009245872497558594 seconds ---\n--- nd_norm: 0.0010068416595458984 seconds ---\n--- nd_norm: 0.0009796619415283203 seconds ---\n--- nd_norm: 0.0009429454803466797 seconds ---\n--- nd_norm: 0.0009627342224121094 seconds ---\n--- nd_norm: 0.0009634494781494141 seconds ---\n--- nd_norm: 0.0009367465972900391 seconds ---\n--- nd_norm: 0.0009257793426513672 seconds ---\n--- nd_norm: 0.0009236335754394531 seconds ---\n--- nd_norm: 0.0009315013885498047 seconds ---\n--- nd_norm: 0.0010204315185546875 seconds ---\n--- nd_norm: 0.0009949207305908203 seconds ---\n--- nd_norm: 0.0009160041809082031 seconds ---\n--- nd_norm: 0.0009257793426513672 seconds ---\n--- nd_norm: 0.0009002685546875 seconds ---\n--- nd_norm: 0.0008981227874755859 seconds ---\n--- nd_norm: 0.0009050369262695312 seconds ---\n--- nd_norm: 0.0008924007415771484 seconds ---\n--- nd_norm: 0.0009741783142089844 seconds ---\n--- nd_norm: 0.0008816719055175781 seconds ---\n--- nd_norm: 0.0008971691131591797 seconds ---\n--- nd_norm: 0.0009918212890625 seconds ---\n--- nd_norm: 0.0009248256683349609 seconds ---\n--- nd_norm: 0.0008814334869384766 seconds ---\n--- nd_norm: 0.0008678436279296875 seconds ---\n--- nd_norm: 0.0009312629699707031 seconds ---\n--- nd_norm: 0.0008997917175292969 seconds ---\n--- nd_norm: 0.0009200572967529297 seconds ---\n--- nd_norm: 0.0009930133819580078 seconds ---\n--- nd_norm: 0.0009663105010986328 seconds ---\n--- nd_norm: 0.0009710788726806641 seconds ---\n--- nd_norm: 0.0009534358978271484 seconds ---\n--- nd_norm: 0.0010609626770019531 seconds ---\n--- nd_norm: 0.0009996891021728516 seconds ---\n--- nd_norm: 0.000986337661743164 seconds ---\n--- nd_norm: 0.0008871555328369141 seconds ---\n--- nd_norm: 0.0008788108825683594 seconds ---\n--- nd_norm: 0.0009968280792236328 seconds ---\n--- nd_norm: 0.0008919239044189453 seconds ---\n--- nd_norm: 0.0009317398071289062 seconds ---\n--- nd_norm: 0.0009021759033203125 seconds ---\n--- nd_norm: 0.0009334087371826172 seconds ---\n--- nd_norm: 0.0010128021240234375 seconds ---\n--- nd_norm: 0.0009403228759765625 seconds ---\n--- nd_norm: 0.0009491443634033203 seconds ---\n--- nd_norm: 0.0009450912475585938 seconds ---\n--- nd_norm: 0.0009288787841796875 seconds ---\n--- nd_norm: 0.0010564327239990234 seconds ---\n--- nd_norm: 0.0009667873382568359 seconds ---\n--- nd_norm: 0.0009684562683105469 seconds ---\n--- nd_norm: 0.0009512901306152344 seconds ---\n--- nd_norm: 0.0010199546813964844 seconds ---\n--- nd_norm: 0.0009961128234863281 seconds ---\n--- nd_norm: 0.0009152889251708984 seconds ---\n--- nd_norm: 0.0008985996246337891 seconds ---\n--- nd_norm: 0.0008771419525146484 seconds ---\n--- nd_norm: 0.0009093284606933594 seconds ---\n--- nd_norm: 0.0008795261383056641 seconds ---\n--- nd_norm: 0.0009710788726806641 seconds ---\n--- nd_norm: 0.0008921623229980469 seconds ---\n--- nd_norm: 0.0009262561798095703 seconds ---\n--- nd_norm: 0.0009748935699462891 seconds ---\n--- nd_norm: 0.0009758472442626953 seconds ---\n--- nd_norm: 0.0009164810180664062 seconds ---\n--- nd_norm: 0.0009348392486572266 seconds ---\n--- nd_norm: 0.0010864734649658203 seconds ---\n--- nd_norm: 0.0009245872497558594 seconds ---\n--- nd_norm: 0.0009872913360595703 seconds ---\n--- nd_norm: 0.0008940696716308594 seconds ---\n--- nd_norm: 0.0009119510650634766 seconds ---\n--- nd_norm: 0.0009129047393798828 seconds ---\n--- nd_norm: 0.000990152359008789 seconds ---\n--- nd_norm: 0.0009438991546630859 seconds ---\n--- nd_norm: 0.0009229183197021484 seconds ---\n--- nd_norm: 0.0009138584136962891 seconds ---\n--- nd_norm: 0.0009794235229492188 seconds ---\n--- nd_norm: 0.0008974075317382812 seconds ---\n--- nd_norm: 0.0009257793426513672 seconds ---\n--- nd_norm: 0.000982046127319336 seconds ---\n--- nd_norm: 0.0009846687316894531 seconds ---\n--- nd_norm: 0.0009081363677978516 seconds ---\n--- nd_norm: 0.0009176731109619141 seconds ---\n--- nd_norm: 0.0009915828704833984 seconds ---\n--- nd_norm: 0.0009558200836181641 seconds ---\n--- nd_norm: 0.000946044921875 seconds ---\n--- nd_norm: 0.0009622573852539062 seconds ---\n--- nd_norm: 0.0009932518005371094 seconds ---\n--- nd_norm: 0.0009646415710449219 seconds ---\n--- nd_norm: 0.0010144710540771484 seconds ---\n--- nd_norm: 0.0009112358093261719 seconds ---\n--- nd_norm: 0.0009167194366455078 seconds ---\n--- nd_norm: 0.0009107589721679688 seconds ---\n--- nd_norm: 0.0010256767272949219 seconds ---\n--- nd_norm: 0.0009367465972900391 seconds ---\n--- nd_norm: 0.0009009838104248047 seconds ---\n--- nd_norm: 0.0008985996246337891 seconds ---\n--- nd_norm: 0.0010094642639160156 seconds ---\n--- nd_norm: 0.0009109973907470703 seconds ---\n--- nd_norm: 0.00093841552734375 seconds ---\n--- nd_norm: 0.0010025501251220703 seconds ---\n--- nd_norm: 0.0009129047393798828 seconds ---\n--- nd_norm: 0.0009250640869140625 seconds ---\n--- nd_norm: 0.0010013580322265625 seconds ---\n--- nd_norm: 0.0009415149688720703 seconds ---\n--- nd_norm: 0.0009248256683349609 seconds ---\n--- nd_norm: 0.000995635986328125 seconds ---\n--- nd_norm: 0.0009365081787109375 seconds ---\n--- nd_norm: 0.0009205341339111328 seconds ---\n--- nd_norm: 0.0009431838989257812 seconds ---\n--- nd_norm: 0.0009524822235107422 seconds ---\n--- nd_norm: 0.00099945068359375 seconds ---\n--- nd_norm: 0.0009350776672363281 seconds ---\n--- nd_norm: 0.00093841552734375 seconds ---\n--- nd_norm: 0.0010116100311279297 seconds ---\n--- nd_norm: 0.0010039806365966797 seconds ---\n--- nd_norm: 0.000919342041015625 seconds ---\n--- nd_norm: 0.0009284019470214844 seconds ---\n--- nd_norm: 0.0008981227874755859 seconds ---\n--- nd_norm: 0.0010194778442382812 seconds ---\n--- nd_norm: 0.0009293556213378906 seconds ---\n--- nd_norm: 0.0009050369262695312 seconds ---\n--- nd_norm: 0.0009024143218994141 seconds ---\n--- nd_norm: 0.0010097026824951172 seconds ---\n--- nd_norm: 0.0009393692016601562 seconds ---\n--- nd_norm: 0.0009319782257080078 seconds ---\n--- nd_norm: 0.0009295940399169922 seconds ---\n--- nd_norm: 0.0009164810180664062 seconds ---\n--- nd_norm: 0.0009968280792236328 seconds ---\n--- nd_norm: 0.0009317398071289062 seconds ---\n--- nd_norm: 0.0009367465972900391 seconds ---\n--- nd_norm: 0.0009992122650146484 seconds ---\n--- nd_norm: 0.0009298324584960938 seconds ---\n--- nd_norm: 0.0010094642639160156 seconds ---\n--- nd_norm: 0.0010104179382324219 seconds ---\n--- nd_norm: 0.0009019374847412109 seconds ---\n--- nd_norm: 0.0009131431579589844 seconds ---\n--- nd_norm: 0.0009367465972900391 seconds ---\n--- nd_norm: 0.0009772777557373047 seconds ---\n--- nd_norm: 0.0010161399841308594 seconds ---\n--- nd_norm: 0.0009622573852539062 seconds ---\n--- nd_norm: 0.0008871555328369141 seconds ---\n--- nd_norm: 0.0009074211120605469 seconds ---\n--- nd_norm: 0.0009298324584960938 seconds ---\n--- nd_norm: 0.0009980201721191406 seconds ---\n--- nd_norm: 0.0009238719940185547 seconds ---\n--- nd_norm: 0.000946044921875 seconds ---\n--- nd_norm: 0.0009546279907226562 seconds ---\n--- nd_norm: 0.0009083747863769531 seconds ---\n--- nd_norm: 0.0010056495666503906 seconds ---\n--- nd_norm: 0.0009047985076904297 seconds ---\n--- nd_norm: 0.0009317398071289062 seconds ---\n--- nd_norm: 0.0010106563568115234 seconds ---\n--- nd_norm: 0.001026153564453125 seconds ---\n--- nd_norm: 0.0008940696716308594 seconds ---\n--- nd_norm: 0.0008938312530517578 seconds ---\n--- nd_norm: 0.0009944438934326172 seconds ---\n--- nd_norm: 0.0010111331939697266 seconds ---\n--- nd_norm: 0.0008940696716308594 seconds ---\n--- nd_norm: 0.0009076595306396484 seconds ---\n--- nd_norm: 0.0010066032409667969 seconds ---\n--- nd_norm: 0.0010190010070800781 seconds ---\n--- nd_norm: 0.0008842945098876953 seconds ---\n--- nd_norm: 0.0008902549743652344 seconds ---\n--- nd_norm: 0.000919342041015625 seconds ---\n--- nd_norm: 0.0009074211120605469 seconds ---\n--- nd_norm: 0.0009319782257080078 seconds ---\n--- nd_norm: 0.0009262561798095703 seconds ---\n--- nd_norm: 0.0008866786956787109 seconds ---\n--- nd_norm: 0.0009882450103759766 seconds ---\n--- nd_norm: 0.0009090900421142578 seconds ---\n--- nd_norm: 0.0008985996246337891 seconds ---\n--- nd_norm: 0.0008921623229980469 seconds ---\n--- nd_norm: 0.0008838176727294922 seconds ---\n--- nd_norm: 0.0008966922760009766 seconds ---\n--- nd_norm: 0.0009291172027587891 seconds ---\n--- nd_norm: 0.0009081363677978516 seconds ---\n--- nd_norm: 0.000881195068359375 seconds ---\n--- nd_norm: 0.000885009765625 seconds ---\n--- nd_norm: 0.0008785724639892578 seconds ---\n--- nd_norm: 0.0008754730224609375 seconds ---\n--- nd_norm: 0.0008797645568847656 seconds ---\n--- nd_norm: 0.0009887218475341797 seconds ---\n--- nd_norm: 0.0008747577667236328 seconds ---\n--- nd_norm: 0.0009827613830566406 seconds ---\n--- nd_norm: 0.0008928775787353516 seconds ---\n--- nd_norm: 0.0008940696716308594 seconds ---\n--- nd_norm: 0.0009796619415283203 seconds ---\n--- nd_norm: 0.0009205341339111328 seconds ---\n--- nd_norm: 0.0008852481842041016 seconds ---\n--- nd_norm: 0.0009319782257080078 seconds ---\n--- nd_norm: 0.0009362697601318359 seconds ---\n--- nd_norm: 0.0009200572967529297 seconds ---\n--- nd_norm: 0.0009090900421142578 seconds ---\n--- nd_norm: 0.0009329319000244141 seconds ---\n--- nd_norm: 0.0009818077087402344 seconds ---\n--- nd_norm: 0.0008635520935058594 seconds ---\n--- nd_norm: 0.0008561611175537109 seconds ---\n--- nd_norm: 0.0008721351623535156 seconds ---\n--- nd_norm: 0.0009138584136962891 seconds ---\n--- nd_norm: 0.0009086132049560547 seconds ---\n--- nd_norm: 0.0009815692901611328 seconds ---\n--- nd_norm: 0.0016279220581054688 seconds ---\n--- nd_norm: 0.0009999275207519531 seconds ---\n--- nd_norm: 0.0009489059448242188 seconds ---\n--- nd_norm: 0.0010650157928466797 seconds ---\n--- nd_norm: 0.0009407997131347656 seconds ---\n--- nd_norm: 0.0009367465972900391 seconds ---\n--- nd_norm: 0.0010225772857666016 seconds ---\n--- nd_norm: 0.0009307861328125 seconds ---\n--- nd_norm: 0.0009849071502685547 seconds ---\n--- nd_norm: 0.000934600830078125 seconds ---\n--- nd_norm: 0.000946044921875 seconds ---\n--- nd_norm: 0.0009267330169677734 seconds ---\n--- nd_norm: 0.0009434223175048828 seconds ---\n--- nd_norm: 0.0009670257568359375 seconds ---\n--- nd_norm: 0.0009148120880126953 seconds ---\n--- nd_norm: 0.0009419918060302734 seconds ---\n--- nd_norm: 0.0010445117950439453 seconds ---\n--- nd_norm: 0.0009083747863769531 seconds ---\n--- nd_norm: 0.0009028911590576172 seconds ---\n--- nd_norm: 0.0008943080902099609 seconds ---\n--- nd_norm: 0.0009150505065917969 seconds ---\n--- nd_norm: 0.0010020732879638672 seconds ---\n--- nd_norm: 0.0010042190551757812 seconds ---\n--- nd_norm: 0.0009024143218994141 seconds ---\n--- nd_norm: 0.0008943080902099609 seconds ---\n--- nd_norm: 0.0009922981262207031 seconds ---\n--- nd_norm: 0.0009081363677978516 seconds ---\n--- nd_norm: 0.0009119510650634766 seconds ---\n--- nd_norm: 0.0009293556213378906 seconds ---\n--- nd_norm: 0.0009026527404785156 seconds ---\n--- nd_norm: 0.0009984970092773438 seconds ---\n--- nd_norm: 0.0009834766387939453 seconds ---\n--- nd_norm: 0.0015995502471923828 seconds ---\n--- nd_norm: 0.0013959407806396484 seconds ---\n--- nd_norm: 0.0013380050659179688 seconds ---\n--- nd_norm: 0.0013577938079833984 seconds ---\n--- nd_norm: 0.0012636184692382812 seconds ---\n--- nd_norm: 0.0012807846069335938 seconds ---\n--- nd_norm: 0.0013530254364013672 seconds ---\n--- nd_norm: 0.0009877681732177734 seconds ---\n--- nd_norm: 0.0009441375732421875 seconds ---\n--- nd_norm: 0.0008826255798339844 seconds ---\n--- nd_norm: 0.0009877681732177734 seconds ---\n--- nd_norm: 0.0009148120880126953 seconds ---\n--- nd_norm: 0.0009002685546875 seconds ---\n--- nd_norm: 0.0010120868682861328 seconds ---\n--- nd_norm: 0.0009274482727050781 seconds ---\n--- nd_norm: 0.0009090900421142578 seconds ---\n--- nd_norm: 0.001028299331665039 seconds ---\n--- nd_norm: 0.0008897781372070312 seconds ---\n--- nd_norm: 0.0009503364562988281 seconds ---\n--- nd_norm: 0.0009145736694335938 seconds ---\n--- nd_norm: 0.0009164810180664062 seconds ---\n--- nd_norm: 0.0009553432464599609 seconds ---\n--- nd_norm: 0.0009558200836181641 seconds ---\n--- nd_norm: 0.0009059906005859375 seconds ---\n--- nd_norm: 0.0009047985076904297 seconds ---\n--- nd_norm: 0.0009772777557373047 seconds ---\n--- nd_norm: 0.0009381771087646484 seconds ---\n--- nd_norm: 0.0009121894836425781 seconds ---\n--- nd_norm: 0.0010364055633544922 seconds ---\n--- nd_norm: 0.0009381771087646484 seconds ---\n--- nd_norm: 0.0009105205535888672 seconds ---\n--- nd_norm: 0.0009226799011230469 seconds ---\n--- nd_norm: 0.0010335445404052734 seconds ---\n--- nd_norm: 0.0009617805480957031 seconds ---\n--- nd_norm: 0.0008833408355712891 seconds ---\n--- nd_norm: 0.0008947849273681641 seconds ---\n--- nd_norm: 0.0010035037994384766 seconds ---\n--- nd_norm: 0.001031637191772461 seconds ---\n--- nd_norm: 0.0009469985961914062 seconds ---\n--- nd_norm: 0.0008616447448730469 seconds ---\n--- nd_norm: 0.0009207725524902344 seconds ---\n--- nd_norm: 0.0010099411010742188 seconds ---\n--- nd_norm: 0.0010135173797607422 seconds ---\n--- nd_norm: 0.0009136199951171875 seconds ---\n--- nd_norm: 0.0008876323699951172 seconds ---\n--- nd_norm: 0.0008893013000488281 seconds ---\n--- nd_norm: 0.0010132789611816406 seconds ---\n--- nd_norm: 0.0010051727294921875 seconds ---\n--- nd_norm: 0.0010268688201904297 seconds ---\n--- nd_norm: 0.0009965896606445312 seconds ---\n--- nd_norm: 0.0008692741394042969 seconds ---\n--- nd_norm: 0.0008857250213623047 seconds ---\n--- nd_norm: 0.0009806156158447266 seconds ---\n--- nd_norm: 0.0008952617645263672 seconds ---\n--- nd_norm: 0.0009360313415527344 seconds ---\n--- nd_norm: 0.0009121894836425781 seconds ---\n--- nd_norm: 0.000989675521850586 seconds ---\n--- nd_norm: 0.0009639263153076172 seconds ---\n--- nd_norm: 0.0009412765502929688 seconds ---\n--- nd_norm: 0.0008976459503173828 seconds ---\n--- nd_norm: 0.0008819103240966797 seconds ---\n1.01 ms ± 48.1 µs per loop (mean ± std. dev. of 7 runs, 1000 loops each)\n"
    }
   ],
   "source": [
    "%timeit nd_norm(a)"
   ]
  },
  {
   "cell_type": "code",
   "execution_count": 113,
   "metadata": {
    "tags": [
     "outputPrepend"
    ]
   },
   "outputs": [
    {
     "output_type": "stream",
     "name": "stdout",
     "text": "---\n--- nd_norm_final: 0.0001666545867919922 seconds ---\n--- nd_norm_final: 0.0001666545867919922 seconds ---\n--- nd_norm_final: 0.0001766681671142578 seconds ---\n--- nd_norm_final: 0.00016689300537109375 seconds ---\n--- nd_norm_final: 0.00016736984252929688 seconds ---\n--- nd_norm_final: 0.00016689300537109375 seconds ---\n--- nd_norm_final: 0.00017833709716796875 seconds ---\n--- nd_norm_final: 0.0001697540283203125 seconds ---\n--- nd_norm_final: 0.00016617774963378906 seconds ---\n--- nd_norm_final: 0.00016736984252929688 seconds ---\n--- nd_norm_final: 0.00016570091247558594 seconds ---\n--- nd_norm_final: 0.00018215179443359375 seconds ---\n--- nd_norm_final: 0.00016736984252929688 seconds ---\n--- nd_norm_final: 0.00016689300537109375 seconds ---\n--- nd_norm_final: 0.0001659393310546875 seconds ---\n--- nd_norm_final: 0.0001728534698486328 seconds ---\n--- nd_norm_final: 0.00018072128295898438 seconds ---\n--- nd_norm_final: 0.00016760826110839844 seconds ---\n--- nd_norm_final: 0.00016808509826660156 seconds ---\n--- nd_norm_final: 0.00016808509826660156 seconds ---\n--- nd_norm_final: 0.0001747608184814453 seconds ---\n--- nd_norm_final: 0.00016760826110839844 seconds ---\n--- nd_norm_final: 0.0001666545867919922 seconds ---\n--- nd_norm_final: 0.00016498565673828125 seconds ---\n--- nd_norm_final: 0.0001666545867919922 seconds ---\n--- nd_norm_final: 0.0001690387725830078 seconds ---\n--- nd_norm_final: 0.00016736984252929688 seconds ---\n--- nd_norm_final: 0.00016617774963378906 seconds ---\n--- nd_norm_final: 0.00016617774963378906 seconds ---\n--- nd_norm_final: 0.00017595291137695312 seconds ---\n--- nd_norm_final: 0.0001678466796875 seconds ---\n--- nd_norm_final: 0.00016760826110839844 seconds ---\n--- nd_norm_final: 0.00016617774963378906 seconds ---\n--- nd_norm_final: 0.00016570091247558594 seconds ---\n--- nd_norm_final: 0.00019025802612304688 seconds ---\n--- nd_norm_final: 0.00016832351684570312 seconds ---\n--- nd_norm_final: 0.00018072128295898438 seconds ---\n--- nd_norm_final: 0.00016999244689941406 seconds ---\n--- nd_norm_final: 0.0001919269561767578 seconds ---\n--- nd_norm_final: 0.00017070770263671875 seconds ---\n--- nd_norm_final: 0.00016736984252929688 seconds ---\n--- nd_norm_final: 0.0001678466796875 seconds ---\n--- nd_norm_final: 0.0001685619354248047 seconds ---\n--- nd_norm_final: 0.00016951560974121094 seconds ---\n--- nd_norm_final: 0.00016736984252929688 seconds ---\n--- nd_norm_final: 0.00016736984252929688 seconds ---\n--- nd_norm_final: 0.00016832351684570312 seconds ---\n--- nd_norm_final: 0.00017952919006347656 seconds ---\n--- nd_norm_final: 0.00016808509826660156 seconds ---\n--- nd_norm_final: 0.00017309188842773438 seconds ---\n--- nd_norm_final: 0.00016689300537109375 seconds ---\n--- nd_norm_final: 0.00016641616821289062 seconds ---\n--- nd_norm_final: 0.00017833709716796875 seconds ---\n--- nd_norm_final: 0.00016832351684570312 seconds ---\n--- nd_norm_final: 0.00016689300537109375 seconds ---\n--- nd_norm_final: 0.0001666545867919922 seconds ---\n--- nd_norm_final: 0.00017905235290527344 seconds ---\n--- nd_norm_final: 0.0001690387725830078 seconds ---\n--- nd_norm_final: 0.00016641616821289062 seconds ---\n--- nd_norm_final: 0.00016689300537109375 seconds ---\n--- nd_norm_final: 0.0001666545867919922 seconds ---\n--- nd_norm_final: 0.00018548965454101562 seconds ---\n--- nd_norm_final: 0.0001685619354248047 seconds ---\n--- nd_norm_final: 0.00016832351684570312 seconds ---\n--- nd_norm_final: 0.00016689300537109375 seconds ---\n--- nd_norm_final: 0.00018215179443359375 seconds ---\n--- nd_norm_final: 0.0001704692840576172 seconds ---\n--- nd_norm_final: 0.00016927719116210938 seconds ---\n--- nd_norm_final: 0.0001685619354248047 seconds ---\n--- nd_norm_final: 0.00016880035400390625 seconds ---\n--- nd_norm_final: 0.00017642974853515625 seconds ---\n--- nd_norm_final: 0.00016808509826660156 seconds ---\n--- nd_norm_final: 0.0001690387725830078 seconds ---\n--- nd_norm_final: 0.00016808509826660156 seconds ---\n--- nd_norm_final: 0.00018095970153808594 seconds ---\n--- nd_norm_final: 0.0001704692840576172 seconds ---\n--- nd_norm_final: 0.00016999244689941406 seconds ---\n--- nd_norm_final: 0.00016832351684570312 seconds ---\n--- nd_norm_final: 0.0001685619354248047 seconds ---\n--- nd_norm_final: 0.0001800060272216797 seconds ---\n--- nd_norm_final: 0.0001704692840576172 seconds ---\n--- nd_norm_final: 0.0001697540283203125 seconds ---\n--- nd_norm_final: 0.0001704692840576172 seconds ---\n--- nd_norm_final: 0.00019288063049316406 seconds ---\n--- nd_norm_final: 0.00017547607421875 seconds ---\n--- nd_norm_final: 0.0001709461212158203 seconds ---\n--- nd_norm_final: 0.0001690387725830078 seconds ---\n--- nd_norm_final: 0.00016927719116210938 seconds ---\n--- nd_norm_final: 0.0001785755157470703 seconds ---\n--- nd_norm_final: 0.00016951560974121094 seconds ---\n--- nd_norm_final: 0.00016880035400390625 seconds ---\n--- nd_norm_final: 0.0001690387725830078 seconds ---\n--- nd_norm_final: 0.000179290771484375 seconds ---\n--- nd_norm_final: 0.00017070770263671875 seconds ---\n--- nd_norm_final: 0.00016927719116210938 seconds ---\n--- nd_norm_final: 0.0001690387725830078 seconds ---\n--- nd_norm_final: 0.00017023086547851562 seconds ---\n--- nd_norm_final: 0.00018215179443359375 seconds ---\n--- nd_norm_final: 0.0001685619354248047 seconds ---\n--- nd_norm_final: 0.00016760826110839844 seconds ---\n--- nd_norm_final: 0.00016880035400390625 seconds ---\n--- nd_norm_final: 0.00017690658569335938 seconds ---\n--- nd_norm_final: 0.00017762184143066406 seconds ---\n--- nd_norm_final: 0.0001671314239501953 seconds ---\n--- nd_norm_final: 0.0001697540283203125 seconds ---\n--- nd_norm_final: 0.00016832351684570312 seconds ---\n--- nd_norm_final: 0.0001823902130126953 seconds ---\n--- nd_norm_final: 0.00017070770263671875 seconds ---\n--- nd_norm_final: 0.0001697540283203125 seconds ---\n--- nd_norm_final: 0.0001690387725830078 seconds ---\n--- nd_norm_final: 0.0001766681671142578 seconds ---\n--- nd_norm_final: 0.00016927719116210938 seconds ---\n--- nd_norm_final: 0.00016760826110839844 seconds ---\n--- nd_norm_final: 0.00016880035400390625 seconds ---\n--- nd_norm_final: 0.0001685619354248047 seconds ---\n--- nd_norm_final: 0.0001785755157470703 seconds ---\n--- nd_norm_final: 0.0001690387725830078 seconds ---\n--- nd_norm_final: 0.00016808509826660156 seconds ---\n--- nd_norm_final: 0.00016760826110839844 seconds ---\n--- nd_norm_final: 0.00017762184143066406 seconds ---\n--- nd_norm_final: 0.00016999244689941406 seconds ---\n--- nd_norm_final: 0.00017333030700683594 seconds ---\n--- nd_norm_final: 0.00016736984252929688 seconds ---\n--- nd_norm_final: 0.0001671314239501953 seconds ---\n--- nd_norm_final: 0.0001926422119140625 seconds ---\n--- nd_norm_final: 0.00016808509826660156 seconds ---\n--- nd_norm_final: 0.00017499923706054688 seconds ---\n--- nd_norm_final: 0.0001659393310546875 seconds ---\n--- nd_norm_final: 0.00019812583923339844 seconds ---\n--- nd_norm_final: 0.00017142295837402344 seconds ---\n--- nd_norm_final: 0.0001671314239501953 seconds ---\n--- nd_norm_final: 0.00016641616821289062 seconds ---\n--- nd_norm_final: 0.0001647472381591797 seconds ---\n--- nd_norm_final: 0.00017547607421875 seconds ---\n--- nd_norm_final: 0.0001666545867919922 seconds ---\n--- nd_norm_final: 0.00016546249389648438 seconds ---\n--- nd_norm_final: 0.00016689300537109375 seconds ---\n--- nd_norm_final: 0.00016736984252929688 seconds ---\n--- nd_norm_final: 0.00016832351684570312 seconds ---\n--- nd_norm_final: 0.00016760826110839844 seconds ---\n--- nd_norm_final: 0.0001671314239501953 seconds ---\n--- nd_norm_final: 0.00016570091247558594 seconds ---\n--- nd_norm_final: 0.0001773834228515625 seconds ---\n--- nd_norm_final: 0.00016832351684570312 seconds ---\n--- nd_norm_final: 0.0001666545867919922 seconds ---\n--- nd_norm_final: 0.00016927719116210938 seconds ---\n--- nd_norm_final: 0.0001671314239501953 seconds ---\n--- nd_norm_final: 0.0001819133758544922 seconds ---\n--- nd_norm_final: 0.0001685619354248047 seconds ---\n--- nd_norm_final: 0.0001671314239501953 seconds ---\n--- nd_norm_final: 0.00016570091247558594 seconds ---\n--- nd_norm_final: 0.00017571449279785156 seconds ---\n--- nd_norm_final: 0.00016641616821289062 seconds ---\n--- nd_norm_final: 0.0001671314239501953 seconds ---\n--- nd_norm_final: 0.00016546249389648438 seconds ---\n--- nd_norm_final: 0.00016689300537109375 seconds ---\n--- nd_norm_final: 0.00017189979553222656 seconds ---\n--- nd_norm_final: 0.0001671314239501953 seconds ---\n--- nd_norm_final: 0.00016570091247558594 seconds ---\n--- nd_norm_final: 0.0001671314239501953 seconds ---\n--- nd_norm_final: 0.0001742839813232422 seconds ---\n--- nd_norm_final: 0.00016951560974121094 seconds ---\n--- nd_norm_final: 0.0001652240753173828 seconds ---\n--- nd_norm_final: 0.00016617774963378906 seconds ---\n--- nd_norm_final: 0.00016570091247558594 seconds ---\n--- nd_norm_final: 0.00017499923706054688 seconds ---\n--- nd_norm_final: 0.0001671314239501953 seconds ---\n--- nd_norm_final: 0.00016570091247558594 seconds ---\n--- nd_norm_final: 0.0001647472381591797 seconds ---\n--- nd_norm_final: 0.00016641616821289062 seconds ---\n--- nd_norm_final: 0.00016641616821289062 seconds ---\n--- nd_norm_final: 0.00016689300537109375 seconds ---\n--- nd_norm_final: 0.0001659393310546875 seconds ---\n--- nd_norm_final: 0.0001652240753173828 seconds ---\n--- nd_norm_final: 0.00019073486328125 seconds ---\n--- nd_norm_final: 0.0001685619354248047 seconds ---\n--- nd_norm_final: 0.00016570091247558594 seconds ---\n--- nd_norm_final: 0.0001671314239501953 seconds ---\n--- nd_norm_final: 0.0001671314239501953 seconds ---\n--- nd_norm_final: 0.00020074844360351562 seconds ---\n--- nd_norm_final: 0.00016808509826660156 seconds ---\n--- nd_norm_final: 0.0001690387725830078 seconds ---\n--- nd_norm_final: 0.00016689300537109375 seconds ---\n--- nd_norm_final: 0.00017595291137695312 seconds ---\n--- nd_norm_final: 0.00016832351684570312 seconds ---\n--- nd_norm_final: 0.00016808509826660156 seconds ---\n--- nd_norm_final: 0.00016832351684570312 seconds ---\n--- nd_norm_final: 0.0001666545867919922 seconds ---\n--- nd_norm_final: 0.00017786026000976562 seconds ---\n--- nd_norm_final: 0.00016760826110839844 seconds ---\n--- nd_norm_final: 0.00016736984252929688 seconds ---\n--- nd_norm_final: 0.0001671314239501953 seconds ---\n--- nd_norm_final: 0.00017642974853515625 seconds ---\n--- nd_norm_final: 0.0001690387725830078 seconds ---\n--- nd_norm_final: 0.0001671314239501953 seconds ---\n--- nd_norm_final: 0.0001685619354248047 seconds ---\n--- nd_norm_final: 0.00016736984252929688 seconds ---\n--- nd_norm_final: 0.0001761913299560547 seconds ---\n--- nd_norm_final: 0.00016808509826660156 seconds ---\n--- nd_norm_final: 0.0001709461212158203 seconds ---\n--- nd_norm_final: 0.00016760826110839844 seconds ---\n--- nd_norm_final: 0.00017690658569335938 seconds ---\n--- nd_norm_final: 0.0001728534698486328 seconds ---\n--- nd_norm_final: 0.00016760826110839844 seconds ---\n--- nd_norm_final: 0.00016832351684570312 seconds ---\n--- nd_norm_final: 0.0001678466796875 seconds ---\n--- nd_norm_final: 0.0001823902130126953 seconds ---\n--- nd_norm_final: 0.00016760826110839844 seconds ---\n--- nd_norm_final: 0.0001685619354248047 seconds ---\n--- nd_norm_final: 0.0001685619354248047 seconds ---\n--- nd_norm_final: 0.000171661376953125 seconds ---\n--- nd_norm_final: 0.0001704692840576172 seconds ---\n--- nd_norm_final: 0.0001666545867919922 seconds ---\n--- nd_norm_final: 0.00016736984252929688 seconds ---\n--- nd_norm_final: 0.00016736984252929688 seconds ---\n--- nd_norm_final: 0.00017881393432617188 seconds ---\n--- nd_norm_final: 0.00016999244689941406 seconds ---\n--- nd_norm_final: 0.0001678466796875 seconds ---\n--- nd_norm_final: 0.00016760826110839844 seconds ---\n--- nd_norm_final: 0.0001671314239501953 seconds ---\n--- nd_norm_final: 0.00018358230590820312 seconds ---\n--- nd_norm_final: 0.0001690387725830078 seconds ---\n--- nd_norm_final: 0.00016736984252929688 seconds ---\n--- nd_norm_final: 0.00016689300537109375 seconds ---\n--- nd_norm_final: 0.00019669532775878906 seconds ---\n--- nd_norm_final: 0.00017523765563964844 seconds ---\n--- nd_norm_final: 0.0001697540283203125 seconds ---\n--- nd_norm_final: 0.00016689300537109375 seconds ---\n--- nd_norm_final: 0.000179290771484375 seconds ---\n--- nd_norm_final: 0.0001697540283203125 seconds ---\n--- nd_norm_final: 0.0001678466796875 seconds ---\n--- nd_norm_final: 0.00016808509826660156 seconds ---\n--- nd_norm_final: 0.00016760826110839844 seconds ---\n--- nd_norm_final: 0.0001823902130126953 seconds ---\n--- nd_norm_final: 0.0001709461212158203 seconds ---\n--- nd_norm_final: 0.0001685619354248047 seconds ---\n--- nd_norm_final: 0.0001690387725830078 seconds ---\n--- nd_norm_final: 0.00017976760864257812 seconds ---\n--- nd_norm_final: 0.00017023086547851562 seconds ---\n--- nd_norm_final: 0.0001678466796875 seconds ---\n--- nd_norm_final: 0.00016808509826660156 seconds ---\n--- nd_norm_final: 0.0001666545867919922 seconds ---\n--- nd_norm_final: 0.0001766681671142578 seconds ---\n--- nd_norm_final: 0.00016689300537109375 seconds ---\n--- nd_norm_final: 0.00016832351684570312 seconds ---\n--- nd_norm_final: 0.0001685619354248047 seconds ---\n--- nd_norm_final: 0.0001800060272216797 seconds ---\n--- nd_norm_final: 0.00017023086547851562 seconds ---\n--- nd_norm_final: 0.00016808509826660156 seconds ---\n--- nd_norm_final: 0.00016760826110839844 seconds ---\n--- nd_norm_final: 0.00016641616821289062 seconds ---\n--- nd_norm_final: 0.00017786026000976562 seconds ---\n--- nd_norm_final: 0.00016927719116210938 seconds ---\n--- nd_norm_final: 0.00016760826110839844 seconds ---\n--- nd_norm_final: 0.0001685619354248047 seconds ---\n--- nd_norm_final: 0.0001780986785888672 seconds ---\n--- nd_norm_final: 0.00017070770263671875 seconds ---\n--- nd_norm_final: 0.00016808509826660156 seconds ---\n--- nd_norm_final: 0.0001685619354248047 seconds ---\n--- nd_norm_final: 0.00017023086547851562 seconds ---\n--- nd_norm_final: 0.00017786026000976562 seconds ---\n--- nd_norm_final: 0.0001697540283203125 seconds ---\n--- nd_norm_final: 0.00016760826110839844 seconds ---\n--- nd_norm_final: 0.00016808509826660156 seconds ---\n--- nd_norm_final: 0.00018334388732910156 seconds ---\n--- nd_norm_final: 0.00017380714416503906 seconds ---\n--- nd_norm_final: 0.0001685619354248047 seconds ---\n--- nd_norm_final: 0.0001671314239501953 seconds ---\n--- nd_norm_final: 0.0001678466796875 seconds ---\n--- nd_norm_final: 0.00020885467529296875 seconds ---\n--- nd_norm_final: 0.00016760826110839844 seconds ---\n--- nd_norm_final: 0.00016760826110839844 seconds ---\n--- nd_norm_final: 0.00016760826110839844 seconds ---\n--- nd_norm_final: 0.00017714500427246094 seconds ---\n--- nd_norm_final: 0.0001678466796875 seconds ---\n--- nd_norm_final: 0.0001666545867919922 seconds ---\n--- nd_norm_final: 0.00016570091247558594 seconds ---\n--- nd_norm_final: 0.0001659393310546875 seconds ---\n--- nd_norm_final: 0.00017690658569335938 seconds ---\n--- nd_norm_final: 0.00016641616821289062 seconds ---\n--- nd_norm_final: 0.00016617774963378906 seconds ---\n--- nd_norm_final: 0.0001666545867919922 seconds ---\n--- nd_norm_final: 0.00017189979553222656 seconds ---\n--- nd_norm_final: 0.00016999244689941406 seconds ---\n--- nd_norm_final: 0.0001678466796875 seconds ---\n--- nd_norm_final: 0.0001666545867919922 seconds ---\n--- nd_norm_final: 0.00016570091247558594 seconds ---\n--- nd_norm_final: 0.00017452239990234375 seconds ---\n--- nd_norm_final: 0.00016832351684570312 seconds ---\n--- nd_norm_final: 0.00016641616821289062 seconds ---\n--- nd_norm_final: 0.00016617774963378906 seconds ---\n--- nd_norm_final: 0.00016617774963378906 seconds ---\n--- nd_norm_final: 0.00016808509826660156 seconds ---\n--- nd_norm_final: 0.00016617774963378906 seconds ---\n--- nd_norm_final: 0.00016736984252929688 seconds ---\n--- nd_norm_final: 0.0001678466796875 seconds ---\n--- nd_norm_final: 0.00017571449279785156 seconds ---\n--- nd_norm_final: 0.0001690387725830078 seconds ---\n--- nd_norm_final: 0.00016736984252929688 seconds ---\n--- nd_norm_final: 0.0001666545867919922 seconds ---\n--- nd_norm_final: 0.00016689300537109375 seconds ---\n--- nd_norm_final: 0.0001761913299560547 seconds ---\n--- nd_norm_final: 0.0001678466796875 seconds ---\n--- nd_norm_final: 0.0001678466796875 seconds ---\n--- nd_norm_final: 0.0001652240753173828 seconds ---\n--- nd_norm_final: 0.0001895427703857422 seconds ---\n--- nd_norm_final: 0.00018072128295898438 seconds ---\n--- nd_norm_final: 0.0001697540283203125 seconds ---\n--- nd_norm_final: 0.0001685619354248047 seconds ---\n--- nd_norm_final: 0.0001697540283203125 seconds ---\n--- nd_norm_final: 0.00017452239990234375 seconds ---\n--- nd_norm_final: 0.00016880035400390625 seconds ---\n--- nd_norm_final: 0.00016880035400390625 seconds ---\n--- nd_norm_final: 0.00016880035400390625 seconds ---\n--- nd_norm_final: 0.0001766681671142578 seconds ---\n--- nd_norm_final: 0.0001690387725830078 seconds ---\n--- nd_norm_final: 0.00016760826110839844 seconds ---\n--- nd_norm_final: 0.00016808509826660156 seconds ---\n--- nd_norm_final: 0.0001690387725830078 seconds ---\n--- nd_norm_final: 0.00017762184143066406 seconds ---\n--- nd_norm_final: 0.0001690387725830078 seconds ---\n--- nd_norm_final: 0.00016832351684570312 seconds ---\n--- nd_norm_final: 0.00016832351684570312 seconds ---\n--- nd_norm_final: 0.0001785755157470703 seconds ---\n--- nd_norm_final: 0.000171661376953125 seconds ---\n--- nd_norm_final: 0.0001690387725830078 seconds ---\n--- nd_norm_final: 0.00016951560974121094 seconds ---\n--- nd_norm_final: 0.0001678466796875 seconds ---\n--- nd_norm_final: 0.00017690658569335938 seconds ---\n--- nd_norm_final: 0.0001685619354248047 seconds ---\n--- nd_norm_final: 0.00016832351684570312 seconds ---\n--- nd_norm_final: 0.0001690387725830078 seconds ---\n--- nd_norm_final: 0.00018072128295898438 seconds ---\n--- nd_norm_final: 0.00016951560974121094 seconds ---\n--- nd_norm_final: 0.00016880035400390625 seconds ---\n--- nd_norm_final: 0.0001678466796875 seconds ---\n--- nd_norm_final: 0.0001685619354248047 seconds ---\n--- nd_norm_final: 0.0001895427703857422 seconds ---\n--- nd_norm_final: 0.0001678466796875 seconds ---\n--- nd_norm_final: 0.0001666545867919922 seconds ---\n--- nd_norm_final: 0.00016736984252929688 seconds ---\n--- nd_norm_final: 0.0001761913299560547 seconds ---\n--- nd_norm_final: 0.00016760826110839844 seconds ---\n--- nd_norm_final: 0.0001678466796875 seconds ---\n--- nd_norm_final: 0.00016927719116210938 seconds ---\n--- nd_norm_final: 0.0001697540283203125 seconds ---\n--- nd_norm_final: 0.00017380714416503906 seconds ---\n--- nd_norm_final: 0.0001690387725830078 seconds ---\n--- nd_norm_final: 0.0001671314239501953 seconds ---\n--- nd_norm_final: 0.0001685619354248047 seconds ---\n--- nd_norm_final: 0.00017952919006347656 seconds ---\n--- nd_norm_final: 0.00017142295837402344 seconds ---\n--- nd_norm_final: 0.00016808509826660156 seconds ---\n--- nd_norm_final: 0.00016880035400390625 seconds ---\n--- nd_norm_final: 0.0001678466796875 seconds ---\n--- nd_norm_final: 0.0002014636993408203 seconds ---\n--- nd_norm_final: 0.00016927719116210938 seconds ---\n--- nd_norm_final: 0.00016760826110839844 seconds ---\n--- nd_norm_final: 0.0001671314239501953 seconds ---\n--- nd_norm_final: 0.0001862049102783203 seconds ---\n--- nd_norm_final: 0.0001685619354248047 seconds ---\n--- nd_norm_final: 0.0001659393310546875 seconds ---\n--- nd_norm_final: 0.00016808509826660156 seconds ---\n--- nd_norm_final: 0.00016641616821289062 seconds ---\n--- nd_norm_final: 0.0001513957977294922 seconds ---\n--- nd_norm_final: 0.0001857280731201172 seconds ---\n--- nd_norm_final: 0.00016641616821289062 seconds ---\n--- nd_norm_final: 0.00016689300537109375 seconds ---\n--- nd_norm_final: 0.00017261505126953125 seconds ---\n--- nd_norm_final: 0.00017142295837402344 seconds ---\n--- nd_norm_final: 0.0001659393310546875 seconds ---\n--- nd_norm_final: 0.0001666545867919922 seconds ---\n--- nd_norm_final: 0.00016617774963378906 seconds ---\n207 µs ± 14.5 µs per loop (mean ± std. dev. of 7 runs, 10000 loops each)\n"
    }
   ],
   "source": [
    "%timeit nd_norm_final(a)"
   ]
  },
  {
   "cell_type": "code",
   "execution_count": 114,
   "metadata": {
    "tags": [
     "outputPrepend"
    ]
   },
   "outputs": [
    {
     "output_type": "stream",
     "name": "stdout",
     "text": "7509766 seconds ---\n--- nd_norm_optimized: 0.0005850791931152344 seconds ---\n--- nd_norm_optimized: 0.0005810260772705078 seconds ---\n--- nd_norm_optimized: 0.0005688667297363281 seconds ---\n--- nd_norm_optimized: 0.0005869865417480469 seconds ---\n--- nd_norm_optimized: 0.0006589889526367188 seconds ---\n--- nd_norm_optimized: 0.0006883144378662109 seconds ---\n--- nd_norm_optimized: 0.0006041526794433594 seconds ---\n--- nd_norm_optimized: 0.0005886554718017578 seconds ---\n--- nd_norm_optimized: 0.0005726814270019531 seconds ---\n--- nd_norm_optimized: 0.0006098747253417969 seconds ---\n--- nd_norm_optimized: 0.0006773471832275391 seconds ---\n--- nd_norm_optimized: 0.0005922317504882812 seconds ---\n--- nd_norm_optimized: 0.0005762577056884766 seconds ---\n--- nd_norm_optimized: 0.0006465911865234375 seconds ---\n--- nd_norm_optimized: 0.0005736351013183594 seconds ---\n--- nd_norm_optimized: 0.0006062984466552734 seconds ---\n--- nd_norm_optimized: 0.0006439685821533203 seconds ---\n--- nd_norm_optimized: 0.0005743503570556641 seconds ---\n--- nd_norm_optimized: 0.0005815029144287109 seconds ---\n--- nd_norm_optimized: 0.0006325244903564453 seconds ---\n--- nd_norm_optimized: 0.0006418228149414062 seconds ---\n--- nd_norm_optimized: 0.0005910396575927734 seconds ---\n--- nd_norm_optimized: 0.0006396770477294922 seconds ---\n--- nd_norm_optimized: 0.00057220458984375 seconds ---\n--- nd_norm_optimized: 0.0005860328674316406 seconds ---\n--- nd_norm_optimized: 0.0005602836608886719 seconds ---\n--- nd_norm_optimized: 0.00057220458984375 seconds ---\n--- nd_norm_optimized: 0.0006031990051269531 seconds ---\n--- nd_norm_optimized: 0.0005893707275390625 seconds ---\n--- nd_norm_optimized: 0.0005822181701660156 seconds ---\n--- nd_norm_optimized: 0.0006437301635742188 seconds ---\n--- nd_norm_optimized: 0.0005726814270019531 seconds ---\n--- nd_norm_optimized: 0.0006465911865234375 seconds ---\n--- nd_norm_optimized: 0.00069427490234375 seconds ---\n--- nd_norm_optimized: 0.0006358623504638672 seconds ---\n--- nd_norm_optimized: 0.0005977153778076172 seconds ---\n--- nd_norm_optimized: 0.0005714893341064453 seconds ---\n--- nd_norm_optimized: 0.0005834102630615234 seconds ---\n--- nd_norm_optimized: 0.0005960464477539062 seconds ---\n--- nd_norm_optimized: 0.0006549358367919922 seconds ---\n--- nd_norm_optimized: 0.0005781650543212891 seconds ---\n--- nd_norm_optimized: 0.0005965232849121094 seconds ---\n--- nd_norm_optimized: 0.0006411075592041016 seconds ---\n--- nd_norm_optimized: 0.0005738735198974609 seconds ---\n--- nd_norm_optimized: 0.0005757808685302734 seconds ---\n--- nd_norm_optimized: 0.0006816387176513672 seconds ---\n--- nd_norm_optimized: 0.0005750656127929688 seconds ---\n--- nd_norm_optimized: 0.0005714893341064453 seconds ---\n--- nd_norm_optimized: 0.0005595684051513672 seconds ---\n--- nd_norm_optimized: 0.0005712509155273438 seconds ---\n--- nd_norm_optimized: 0.0005946159362792969 seconds ---\n--- nd_norm_optimized: 0.0005879402160644531 seconds ---\n--- nd_norm_optimized: 0.0005762577056884766 seconds ---\n--- nd_norm_optimized: 0.0006582736968994141 seconds ---\n--- nd_norm_optimized: 0.0006365776062011719 seconds ---\n--- nd_norm_optimized: 0.0006022453308105469 seconds ---\n--- nd_norm_optimized: 0.0006914138793945312 seconds ---\n--- nd_norm_optimized: 0.0006322860717773438 seconds ---\n--- nd_norm_optimized: 0.0005848407745361328 seconds ---\n--- nd_norm_optimized: 0.0005738735198974609 seconds ---\n--- nd_norm_optimized: 0.0005593299865722656 seconds ---\n--- nd_norm_optimized: 0.0005962848663330078 seconds ---\n--- nd_norm_optimized: 0.0006432533264160156 seconds ---\n--- nd_norm_optimized: 0.0005707740783691406 seconds ---\n--- nd_norm_optimized: 0.0005745887756347656 seconds ---\n--- nd_norm_optimized: 0.000629425048828125 seconds ---\n--- nd_norm_optimized: 0.0005748271942138672 seconds ---\n--- nd_norm_optimized: 0.0005741119384765625 seconds ---\n--- nd_norm_optimized: 0.0005588531494140625 seconds ---\n--- nd_norm_optimized: 0.0005676746368408203 seconds ---\n--- nd_norm_optimized: 0.0005869865417480469 seconds ---\n--- nd_norm_optimized: 0.0005881786346435547 seconds ---\n--- nd_norm_optimized: 0.0005929470062255859 seconds ---\n--- nd_norm_optimized: 0.0006418228149414062 seconds ---\n--- nd_norm_optimized: 0.0005745887756347656 seconds ---\n--- nd_norm_optimized: 0.0005769729614257812 seconds ---\n--- nd_norm_optimized: 0.0006451606750488281 seconds ---\n--- nd_norm_optimized: 0.0005738735198974609 seconds ---\n--- nd_norm_optimized: 0.0005750656127929688 seconds ---\n--- nd_norm_optimized: 0.0005624294281005859 seconds ---\n--- nd_norm_optimized: 0.0005705356597900391 seconds ---\n--- nd_norm_optimized: 0.000568389892578125 seconds ---\n--- nd_norm_optimized: 0.0005559921264648438 seconds ---\n--- nd_norm_optimized: 0.0005729198455810547 seconds ---\n--- nd_norm_optimized: 0.0006413459777832031 seconds ---\n--- nd_norm_optimized: 0.0005741119384765625 seconds ---\n--- nd_norm_optimized: 0.0005881786346435547 seconds ---\n--- nd_norm_optimized: 0.0005581378936767578 seconds ---\n--- nd_norm_optimized: 0.0005664825439453125 seconds ---\n--- nd_norm_optimized: 0.0005671977996826172 seconds ---\n--- nd_norm_optimized: 0.000560760498046875 seconds ---\n--- nd_norm_optimized: 0.0005712509155273438 seconds ---\n--- nd_norm_optimized: 0.0005400180816650391 seconds ---\n--- nd_norm_optimized: 0.0006432533264160156 seconds ---\n--- nd_norm_optimized: 0.0006172657012939453 seconds ---\n--- nd_norm_optimized: 0.0006418228149414062 seconds ---\n--- nd_norm_optimized: 0.0005767345428466797 seconds ---\n--- nd_norm_optimized: 0.0005724430084228516 seconds ---\n--- nd_norm_optimized: 0.0005922317504882812 seconds ---\n--- nd_norm_optimized: 0.0005962848663330078 seconds ---\n--- nd_norm_optimized: 0.0005714893341064453 seconds ---\n--- nd_norm_optimized: 0.0005621910095214844 seconds ---\n--- nd_norm_optimized: 0.0006008148193359375 seconds ---\n--- nd_norm_optimized: 0.0006501674652099609 seconds ---\n--- nd_norm_optimized: 0.00061798095703125 seconds ---\n--- nd_norm_optimized: 0.0005755424499511719 seconds ---\n--- nd_norm_optimized: 0.0006864070892333984 seconds ---\n--- nd_norm_optimized: 0.0005743503570556641 seconds ---\n--- nd_norm_optimized: 0.0005843639373779297 seconds ---\n--- nd_norm_optimized: 0.0006415843963623047 seconds ---\n--- nd_norm_optimized: 0.0005784034729003906 seconds ---\n--- nd_norm_optimized: 0.0005781650543212891 seconds ---\n--- nd_norm_optimized: 0.0006437301635742188 seconds ---\n--- nd_norm_optimized: 0.0006046295166015625 seconds ---\n--- nd_norm_optimized: 0.000576019287109375 seconds ---\n--- nd_norm_optimized: 0.0006532669067382812 seconds ---\n--- nd_norm_optimized: 0.000579833984375 seconds ---\n--- nd_norm_optimized: 0.0005850791931152344 seconds ---\n--- nd_norm_optimized: 0.0005600452423095703 seconds ---\n--- nd_norm_optimized: 0.0005741119384765625 seconds ---\n--- nd_norm_optimized: 0.00057220458984375 seconds ---\n--- nd_norm_optimized: 0.0005583763122558594 seconds ---\n--- nd_norm_optimized: 0.0005857944488525391 seconds ---\n--- nd_norm_optimized: 0.000652313232421875 seconds ---\n--- nd_norm_optimized: 0.0006372928619384766 seconds ---\n--- nd_norm_optimized: 0.001313924789428711 seconds ---\n--- nd_norm_optimized: 0.0007891654968261719 seconds ---\n--- nd_norm_optimized: 0.0006673336029052734 seconds ---\n--- nd_norm_optimized: 0.0006170272827148438 seconds ---\n--- nd_norm_optimized: 0.0006673336029052734 seconds ---\n--- nd_norm_optimized: 0.0005931854248046875 seconds ---\n--- nd_norm_optimized: 0.0006399154663085938 seconds ---\n--- nd_norm_optimized: 0.0006666183471679688 seconds ---\n--- nd_norm_optimized: 0.0005979537963867188 seconds ---\n--- nd_norm_optimized: 0.0005967617034912109 seconds ---\n--- nd_norm_optimized: 0.0005903244018554688 seconds ---\n--- nd_norm_optimized: 0.000576019287109375 seconds ---\n--- nd_norm_optimized: 0.0006227493286132812 seconds ---\n--- nd_norm_optimized: 0.0006530284881591797 seconds ---\n--- nd_norm_optimized: 0.0005857944488525391 seconds ---\n--- nd_norm_optimized: 0.0005970001220703125 seconds ---\n--- nd_norm_optimized: 0.0006518363952636719 seconds ---\n--- nd_norm_optimized: 0.0006177425384521484 seconds ---\n--- nd_norm_optimized: 0.0005881786346435547 seconds ---\n--- nd_norm_optimized: 0.0006811618804931641 seconds ---\n--- nd_norm_optimized: 0.0006146430969238281 seconds ---\n--- nd_norm_optimized: 0.0006012916564941406 seconds ---\n--- nd_norm_optimized: 0.00064849853515625 seconds ---\n--- nd_norm_optimized: 0.0005803108215332031 seconds ---\n--- nd_norm_optimized: 0.0005812644958496094 seconds ---\n--- nd_norm_optimized: 0.0006539821624755859 seconds ---\n--- nd_norm_optimized: 0.0005803108215332031 seconds ---\n--- nd_norm_optimized: 0.0005879402160644531 seconds ---\n--- nd_norm_optimized: 0.0006480216979980469 seconds ---\n--- nd_norm_optimized: 0.0005805492401123047 seconds ---\n--- nd_norm_optimized: 0.0005886554718017578 seconds ---\n--- nd_norm_optimized: 0.0005621910095214844 seconds ---\n--- nd_norm_optimized: 0.0005984306335449219 seconds ---\n--- nd_norm_optimized: 0.0005784034729003906 seconds ---\n--- nd_norm_optimized: 0.0005564689636230469 seconds ---\n--- nd_norm_optimized: 0.0005700588226318359 seconds ---\n--- nd_norm_optimized: 0.0005826950073242188 seconds ---\n--- nd_norm_optimized: 0.0005629062652587891 seconds ---\n--- nd_norm_optimized: 0.0005908012390136719 seconds ---\n--- nd_norm_optimized: 0.0006489753723144531 seconds ---\n--- nd_norm_optimized: 0.0006096363067626953 seconds ---\n--- nd_norm_optimized: 0.0005857944488525391 seconds ---\n--- nd_norm_optimized: 0.0006458759307861328 seconds ---\n--- nd_norm_optimized: 0.0006337165832519531 seconds ---\n--- nd_norm_optimized: 0.0005891323089599609 seconds ---\n--- nd_norm_optimized: 0.0006451606750488281 seconds ---\n--- nd_norm_optimized: 0.0005736351013183594 seconds ---\n--- nd_norm_optimized: 0.000576019287109375 seconds ---\n--- nd_norm_optimized: 0.0006432533264160156 seconds ---\n--- nd_norm_optimized: 0.000576019287109375 seconds ---\n--- nd_norm_optimized: 0.0006046295166015625 seconds ---\n--- nd_norm_optimized: 0.0005590915679931641 seconds ---\n--- nd_norm_optimized: 0.0005857944488525391 seconds ---\n--- nd_norm_optimized: 0.0005710124969482422 seconds ---\n--- nd_norm_optimized: 0.0005629062652587891 seconds ---\n--- nd_norm_optimized: 0.0006003379821777344 seconds ---\n--- nd_norm_optimized: 0.0006468296051025391 seconds ---\n--- nd_norm_optimized: 0.0006124973297119141 seconds ---\n--- nd_norm_optimized: 0.000583648681640625 seconds ---\n--- nd_norm_optimized: 0.0006465911865234375 seconds ---\n--- nd_norm_optimized: 0.0005753040313720703 seconds ---\n--- nd_norm_optimized: 0.0005810260772705078 seconds ---\n--- nd_norm_optimized: 0.0006468296051025391 seconds ---\n--- nd_norm_optimized: 0.0005779266357421875 seconds ---\n--- nd_norm_optimized: 0.0005896091461181641 seconds ---\n--- nd_norm_optimized: 0.0006442070007324219 seconds ---\n--- nd_norm_optimized: 0.0005731582641601562 seconds ---\n--- nd_norm_optimized: 0.0005877017974853516 seconds ---\n--- nd_norm_optimized: 0.0005657672882080078 seconds ---\n--- nd_norm_optimized: 0.0006325244903564453 seconds ---\n--- nd_norm_optimized: 0.0005772113800048828 seconds ---\n--- nd_norm_optimized: 0.0005590915679931641 seconds ---\n--- nd_norm_optimized: 0.0005869865417480469 seconds ---\n--- nd_norm_optimized: 0.0006456375122070312 seconds ---\n--- nd_norm_optimized: 0.0005815029144287109 seconds ---\n--- nd_norm_optimized: 0.0006067752838134766 seconds ---\n--- nd_norm_optimized: 0.0006477832794189453 seconds ---\n--- nd_norm_optimized: 0.0006318092346191406 seconds ---\n--- nd_norm_optimized: 0.0005900859832763672 seconds ---\n--- nd_norm_optimized: 0.0006425380706787109 seconds ---\n--- nd_norm_optimized: 0.0006353855133056641 seconds ---\n--- nd_norm_optimized: 0.000598907470703125 seconds ---\n--- nd_norm_optimized: 0.0005724430084228516 seconds ---\n--- nd_norm_optimized: 0.0005576610565185547 seconds ---\n--- nd_norm_optimized: 0.0005941390991210938 seconds ---\n--- nd_norm_optimized: 0.0006444454193115234 seconds ---\n--- nd_norm_optimized: 0.0005707740783691406 seconds ---\n--- nd_norm_optimized: 0.0005738735198974609 seconds ---\n--- nd_norm_optimized: 0.0005831718444824219 seconds ---\n--- nd_norm_optimized: 0.0006058216094970703 seconds ---\n--- nd_norm_optimized: 0.0005724430084228516 seconds ---\n--- nd_norm_optimized: 0.0005564689636230469 seconds ---\n--- nd_norm_optimized: 0.0005717277526855469 seconds ---\n--- nd_norm_optimized: 0.0006439685821533203 seconds ---\n--- nd_norm_optimized: 0.0006365776062011719 seconds ---\n--- nd_norm_optimized: 0.0005822181701660156 seconds ---\n--- nd_norm_optimized: 0.0006415843963623047 seconds ---\n--- nd_norm_optimized: 0.0005705356597900391 seconds ---\n--- nd_norm_optimized: 0.0005877017974853516 seconds ---\n--- nd_norm_optimized: 0.0006551742553710938 seconds ---\n--- nd_norm_optimized: 0.00060272216796875 seconds ---\n--- nd_norm_optimized: 0.0005803108215332031 seconds ---\n--- nd_norm_optimized: 0.0006453990936279297 seconds ---\n--- nd_norm_optimized: 0.000576019287109375 seconds ---\n--- nd_norm_optimized: 0.0005776882171630859 seconds ---\n--- nd_norm_optimized: 0.0006346702575683594 seconds ---\n--- nd_norm_optimized: 0.0005733966827392578 seconds ---\n--- nd_norm_optimized: 0.000598907470703125 seconds ---\n--- nd_norm_optimized: 0.0005626678466796875 seconds ---\n--- nd_norm_optimized: 0.0005707740783691406 seconds ---\n--- nd_norm_optimized: 0.0005676746368408203 seconds ---\n--- nd_norm_optimized: 0.0005555152893066406 seconds ---\n--- nd_norm_optimized: 0.0005688667297363281 seconds ---\n--- nd_norm_optimized: 0.0007054805755615234 seconds ---\n--- nd_norm_optimized: 0.0005800724029541016 seconds ---\n--- nd_norm_optimized: 0.0005970001220703125 seconds ---\n--- nd_norm_optimized: 0.0006444454193115234 seconds ---\n--- nd_norm_optimized: 0.0006771087646484375 seconds ---\n--- nd_norm_optimized: 0.0005893707275390625 seconds ---\n--- nd_norm_optimized: 0.0006444454193115234 seconds ---\n--- nd_norm_optimized: 0.0005753040313720703 seconds ---\n--- nd_norm_optimized: 0.0005776882171630859 seconds ---\n--- nd_norm_optimized: 0.0006430149078369141 seconds ---\n--- nd_norm_optimized: 0.0005750656127929688 seconds ---\n--- nd_norm_optimized: 0.0005753040313720703 seconds ---\n--- nd_norm_optimized: 0.0006308555603027344 seconds ---\n--- nd_norm_optimized: 0.0005748271942138672 seconds ---\n--- nd_norm_optimized: 0.0005967617034912109 seconds ---\n--- nd_norm_optimized: 0.0005583763122558594 seconds ---\n--- nd_norm_optimized: 0.0006148815155029297 seconds ---\n--- nd_norm_optimized: 0.0005714893341064453 seconds ---\n--- nd_norm_optimized: 0.0005612373352050781 seconds ---\n--- nd_norm_optimized: 0.0005993843078613281 seconds ---\n--- nd_norm_optimized: 0.0006453990936279297 seconds ---\n--- nd_norm_optimized: 0.0005700588226318359 seconds ---\n--- nd_norm_optimized: 0.0006160736083984375 seconds ---\n--- nd_norm_optimized: 0.0006425380706787109 seconds ---\n--- nd_norm_optimized: 0.0005729198455810547 seconds ---\n--- nd_norm_optimized: 0.0005779266357421875 seconds ---\n--- nd_norm_optimized: 0.0006430149078369141 seconds ---\n--- nd_norm_optimized: 0.0005736351013183594 seconds ---\n--- nd_norm_optimized: 0.0005962848663330078 seconds ---\n--- nd_norm_optimized: 0.0005619525909423828 seconds ---\n--- nd_norm_optimized: 0.0005970001220703125 seconds ---\n--- nd_norm_optimized: 0.0005862712860107422 seconds ---\n--- nd_norm_optimized: 0.0005860328674316406 seconds ---\n--- nd_norm_optimized: 0.0005741119384765625 seconds ---\n--- nd_norm_optimized: 0.000568389892578125 seconds ---\n--- nd_norm_optimized: 0.0005586147308349609 seconds ---\n--- nd_norm_optimized: 0.0005664825439453125 seconds ---\n--- nd_norm_optimized: 0.0005581378936767578 seconds ---\n--- nd_norm_optimized: 0.0005691051483154297 seconds ---\n--- nd_norm_optimized: 0.0005660057067871094 seconds ---\n--- nd_norm_optimized: 0.0005545616149902344 seconds ---\n--- nd_norm_optimized: 0.0005843639373779297 seconds ---\n--- nd_norm_optimized: 0.0006475448608398438 seconds ---\n--- nd_norm_optimized: 0.00063323974609375 seconds ---\n--- nd_norm_optimized: 0.0006175041198730469 seconds ---\n--- nd_norm_optimized: 0.0006566047668457031 seconds ---\n--- nd_norm_optimized: 0.0006337165832519531 seconds ---\n--- nd_norm_optimized: 0.0006506443023681641 seconds ---\n--- nd_norm_optimized: 0.0006427764892578125 seconds ---\n--- nd_norm_optimized: 0.0005707740783691406 seconds ---\n--- nd_norm_optimized: 0.0006468296051025391 seconds ---\n--- nd_norm_optimized: 0.0006191730499267578 seconds ---\n--- nd_norm_optimized: 0.0005881786346435547 seconds ---\n--- nd_norm_optimized: 0.0006437301635742188 seconds ---\n--- nd_norm_optimized: 0.000583648681640625 seconds ---\n--- nd_norm_optimized: 0.0005629062652587891 seconds ---\n--- nd_norm_optimized: 0.0006432533264160156 seconds ---\n--- nd_norm_optimized: 0.0005862712860107422 seconds ---\n--- nd_norm_optimized: 0.0006313323974609375 seconds ---\n--- nd_norm_optimized: 0.0006434917449951172 seconds ---\n--- nd_norm_optimized: 0.0006434917449951172 seconds ---\n--- nd_norm_optimized: 0.0006308555603027344 seconds ---\n--- nd_norm_optimized: 0.0005784034729003906 seconds ---\n--- nd_norm_optimized: 0.0006043910980224609 seconds ---\n--- nd_norm_optimized: 0.0005564689636230469 seconds ---\n--- nd_norm_optimized: 0.0006134510040283203 seconds ---\n--- nd_norm_optimized: 0.0005598068237304688 seconds ---\n--- nd_norm_optimized: 0.000560760498046875 seconds ---\n--- nd_norm_optimized: 0.0005657672882080078 seconds ---\n--- nd_norm_optimized: 0.0005552768707275391 seconds ---\n--- nd_norm_optimized: 0.0005655288696289062 seconds ---\n--- nd_norm_optimized: 0.0006453990936279297 seconds ---\n--- nd_norm_optimized: 0.0006072521209716797 seconds ---\n--- nd_norm_optimized: 0.0005822181701660156 seconds ---\n--- nd_norm_optimized: 0.0006434917449951172 seconds ---\n--- nd_norm_optimized: 0.0005743503570556641 seconds ---\n--- nd_norm_optimized: 0.0005967617034912109 seconds ---\n--- nd_norm_optimized: 0.0006575584411621094 seconds ---\n--- nd_norm_optimized: 0.0006351470947265625 seconds ---\n--- nd_norm_optimized: 0.0005967617034912109 seconds ---\n--- nd_norm_optimized: 0.0006432533264160156 seconds ---\n--- nd_norm_optimized: 0.00063323974609375 seconds ---\n--- nd_norm_optimized: 0.0006263256072998047 seconds ---\n--- nd_norm_optimized: 0.0006420612335205078 seconds ---\n--- nd_norm_optimized: 0.0005736351013183594 seconds ---\n--- nd_norm_optimized: 0.0005767345428466797 seconds ---\n--- nd_norm_optimized: 0.0006422996520996094 seconds ---\n--- nd_norm_optimized: 0.0005753040313720703 seconds ---\n--- nd_norm_optimized: 0.0005767345428466797 seconds ---\n--- nd_norm_optimized: 0.0006449222564697266 seconds ---\n--- nd_norm_optimized: 0.0005781650543212891 seconds ---\n--- nd_norm_optimized: 0.0005745887756347656 seconds ---\n--- nd_norm_optimized: 0.000568389892578125 seconds ---\n--- nd_norm_optimized: 0.0005884170532226562 seconds ---\n--- nd_norm_optimized: 0.0005953311920166016 seconds ---\n--- nd_norm_optimized: 0.0005857944488525391 seconds ---\n--- nd_norm_optimized: 0.0005772113800048828 seconds ---\n--- nd_norm_optimized: 0.0005671977996826172 seconds ---\n--- nd_norm_optimized: 0.0005590915679931641 seconds ---\n--- nd_norm_optimized: 0.0005650520324707031 seconds ---\n--- nd_norm_optimized: 0.00055694580078125 seconds ---\n--- nd_norm_optimized: 0.0005660057067871094 seconds ---\n--- nd_norm_optimized: 0.0005674362182617188 seconds ---\n--- nd_norm_optimized: 0.0005586147308349609 seconds ---\n--- nd_norm_optimized: 0.000621795654296875 seconds ---\n--- nd_norm_optimized: 0.0006422996520996094 seconds ---\n--- nd_norm_optimized: 0.0006320476531982422 seconds ---\n--- nd_norm_optimized: 0.0006072521209716797 seconds ---\n--- nd_norm_optimized: 0.0006566047668457031 seconds ---\n--- nd_norm_optimized: 0.0006351470947265625 seconds ---\n--- nd_norm_optimized: 0.0006084442138671875 seconds ---\n--- nd_norm_optimized: 0.0005748271942138672 seconds ---\n663 µs ± 9.47 µs per loop (mean ± std. dev. of 7 runs, 1000 loops each)\n"
    }
   ],
   "source": [
    "%timeit nd_norm_optimized(a)"
   ]
  },
  {
   "cell_type": "code",
   "execution_count": 86,
   "metadata": {},
   "outputs": [],
   "source": [
    "a = tf.random.normal(shape=[2,2,2,10,3,3], dtype = tf.float32)\n",
    "embed_dim = [10,3,3]\n",
    "shape = [2,2]"
   ]
  },
  {
   "cell_type": "code",
   "execution_count": 87,
   "metadata": {
    "tags": []
   },
   "outputs": [
    {
     "output_type": "stream",
     "name": "stdout",
     "text": "--- nd_norm: 0.0016508102416992188 seconds ---\n--- nd_norm_optimized: 0.0008358955383300781 seconds ---\n--- nd_norm_final: 0.000232696533203125 seconds ---\n"
    }
   ],
   "source": [
    "x = nd_norm(a)\n",
    "y = nd_norm_optimized(a)\n",
    "z = nd_norm_final(a)"
   ]
  },
  {
   "cell_type": "code",
   "execution_count": 88,
   "metadata": {},
   "outputs": [
    {
     "output_type": "execute_result",
     "data": {
      "text/plain": "<tf.Tensor: shape=(2, 2, 2), dtype=float32, numpy=\narray([[[ 8.611538, 10.751691],\n        [ 9.859021,  9.90834 ]],\n\n       [[10.703083,  9.373076],\n        [ 8.097434,  8.458985]]], dtype=float32)>"
     },
     "metadata": {},
     "execution_count": 88
    }
   ],
   "source": [
    "x"
   ]
  },
  {
   "cell_type": "code",
   "execution_count": 89,
   "metadata": {},
   "outputs": [
    {
     "output_type": "execute_result",
     "data": {
      "text/plain": "<tf.Tensor: shape=(2, 2, 2), dtype=float32, numpy=\narray([[[ 8.611539, 10.751691],\n        [ 9.85902 ,  9.908341]],\n\n       [[10.703083,  9.373077],\n        [ 8.097434,  8.458985]]], dtype=float32)>"
     },
     "metadata": {},
     "execution_count": 89
    }
   ],
   "source": [
    "y"
   ]
  },
  {
   "cell_type": "code",
   "execution_count": 90,
   "metadata": {},
   "outputs": [
    {
     "output_type": "execute_result",
     "data": {
      "text/plain": "<tf.Tensor: shape=(2, 2, 2), dtype=float32, numpy=\narray([[[ 8.611539, 10.751691],\n        [ 9.85902 ,  9.908341]],\n\n       [[10.703083,  9.373077],\n        [ 8.097434,  8.458985]]], dtype=float32)>"
     },
     "metadata": {},
     "execution_count": 90
    }
   ],
   "source": [
    "z"
   ]
  },
  {
   "cell_type": "code",
   "execution_count": 145,
   "metadata": {},
   "outputs": [],
   "source": [
    "import numpy as np\n",
    "import tensorflow as tf\n",
    "def _index_grid(shape):\n",
    "    x = np.indices(shape)\n",
    "    x = np.reshape(x, [len(shape), -1, 1])\n",
    "    x = np.concatenate(x, axis=-1)\n",
    "    x = np.reshape(x, shape + [len(shape)])\n",
    "    return x"
   ]
  },
  {
   "cell_type": "code",
   "execution_count": 29,
   "metadata": {},
   "outputs": [],
   "source": [
    "map = tf.ones([2,2,3,10,10])"
   ]
  },
  {
   "cell_type": "code",
   "execution_count": 130,
   "metadata": {},
   "outputs": [],
   "source": [
    "shape = [2,2,2]"
   ]
  },
  {
   "cell_type": "code",
   "execution_count": 131,
   "metadata": {},
   "outputs": [],
   "source": [
    "grid = _index_grid(shape)\n",
    "grid = tf.reshape(grid, [-1, grid.shape[-1]])"
   ]
  },
  {
   "cell_type": "code",
   "execution_count": 132,
   "metadata": {},
   "outputs": [
    {
     "output_type": "execute_result",
     "data": {
      "text/plain": "<tf.Tensor: shape=(8, 3), dtype=int64, numpy=\narray([[0, 0, 0],\n       [0, 0, 1],\n       [0, 1, 0],\n       [0, 1, 1],\n       [1, 0, 0],\n       [1, 0, 1],\n       [1, 1, 0],\n       [1, 1, 1]])>"
     },
     "metadata": {},
     "execution_count": 132
    }
   ],
   "source": [
    "grid"
   ]
  },
  {
   "cell_type": "code",
   "execution_count": 133,
   "metadata": {},
   "outputs": [],
   "source": [
    "U_ = tf.ones([10], dtype = tf.int64) * 1"
   ]
  },
  {
   "cell_type": "code",
   "execution_count": 134,
   "metadata": {},
   "outputs": [
    {
     "output_type": "execute_result",
     "data": {
      "text/plain": "<tf.Variable 'Variable:0' shape=(10, 3) dtype=int64, numpy=\narray([[0, 0, 1],\n       [0, 0, 1],\n       [0, 0, 1],\n       [0, 0, 1],\n       [0, 0, 1],\n       [0, 0, 1],\n       [0, 0, 1],\n       [0, 0, 1],\n       [0, 0, 1],\n       [0, 0, 1]])>"
     },
     "metadata": {},
     "execution_count": 134
    }
   ],
   "source": [
    "tf.Variable(grid.numpy()[U_.numpy()])"
   ]
  },
  {
   "cell_type": "code",
   "execution_count": 135,
   "metadata": {},
   "outputs": [
    {
     "output_type": "execute_result",
     "data": {
      "text/plain": "<tf.Tensor: shape=(10, 3), dtype=int64, numpy=\narray([[0, 0, 1],\n       [0, 0, 1],\n       [0, 0, 1],\n       [0, 0, 1],\n       [0, 0, 1],\n       [0, 0, 1],\n       [0, 0, 1],\n       [0, 0, 1],\n       [0, 0, 1],\n       [0, 0, 1]])>"
     },
     "metadata": {},
     "execution_count": 135
    }
   ],
   "source": [
    "tf.gather(grid, U_)"
   ]
  },
  {
   "cell_type": "code",
   "execution_count": 113,
   "metadata": {},
   "outputs": [],
   "source": [
    "def f(u):\n",
    "    return u * grid[2]"
   ]
  },
  {
   "cell_type": "code",
   "execution_count": 114,
   "metadata": {
    "tags": []
   },
   "outputs": [
    {
     "output_type": "execute_result",
     "data": {
      "text/plain": "<tf.Tensor: shape=(10, 2), dtype=int64, numpy=\narray([[3, 0],\n       [3, 0],\n       [3, 0],\n       [3, 0],\n       [3, 0],\n       [3, 0],\n       [3, 0],\n       [3, 0],\n       [3, 0],\n       [3, 0]])>"
     },
     "metadata": {},
     "execution_count": 114
    }
   ],
   "source": [
    "tf.vectorized_map(f, U_)"
   ]
  },
  {
   "cell_type": "code",
   "execution_count": 115,
   "metadata": {
    "tags": []
   },
   "outputs": [
    {
     "output_type": "execute_result",
     "data": {
      "text/plain": "<tf.Tensor: shape=(4, 2), dtype=int64, numpy=\narray([[0, 0],\n       [0, 1],\n       [1, 0],\n       [1, 1]])>"
     },
     "metadata": {},
     "execution_count": 115
    }
   ],
   "source": [
    "grid"
   ]
  },
  {
   "cell_type": "code",
   "execution_count": 58,
   "metadata": {},
   "outputs": [
    {
     "output_type": "error",
     "ename": "AttributeError",
     "evalue": "'tensorflow.python.framework.ops.EagerTensor' object has no attribute 'tensor_shape'",
     "traceback": [
      "\u001b[0;31m---------------------------------------------------------------------------\u001b[0m",
      "\u001b[0;31mAttributeError\u001b[0m                            Traceback (most recent call last)",
      "\u001b[0;32m<ipython-input-58-25947d93923a>\u001b[0m in \u001b[0;36m<module>\u001b[0;34m\u001b[0m\n\u001b[0;32m----> 1\u001b[0;31m \u001b[0mtf\u001b[0m\u001b[0;34m.\u001b[0m\u001b[0mconvert_to_tensor\u001b[0m\u001b[0;34m(\u001b[0m\u001b[0mtf\u001b[0m\u001b[0;34m.\u001b[0m\u001b[0mmake_ndarray\u001b[0m\u001b[0;34m(\u001b[0m\u001b[0mgrid\u001b[0m\u001b[0;34m)\u001b[0m\u001b[0;34m[\u001b[0m\u001b[0mtf\u001b[0m\u001b[0;34m.\u001b[0m\u001b[0mmake_ndarray\u001b[0m\u001b[0;34m(\u001b[0m\u001b[0mU_\u001b[0m\u001b[0;34m)\u001b[0m\u001b[0;34m]\u001b[0m\u001b[0;34m)\u001b[0m\u001b[0;34m\u001b[0m\u001b[0;34m\u001b[0m\u001b[0m\n\u001b[0m",
      "\u001b[0;32m~/miniconda3/envs/memory/lib/python3.7/site-packages/tensorflow/python/framework/tensor_util.py\u001b[0m in \u001b[0;36mMakeNdarray\u001b[0;34m(tensor)\u001b[0m\n\u001b[1;32m    589\u001b[0m \u001b[0;34m\u001b[0m\u001b[0m\n\u001b[1;32m    590\u001b[0m   \"\"\"\n\u001b[0;32m--> 591\u001b[0;31m   \u001b[0mshape\u001b[0m \u001b[0;34m=\u001b[0m \u001b[0;34m[\u001b[0m\u001b[0md\u001b[0m\u001b[0;34m.\u001b[0m\u001b[0msize\u001b[0m \u001b[0;32mfor\u001b[0m \u001b[0md\u001b[0m \u001b[0;32min\u001b[0m \u001b[0mtensor\u001b[0m\u001b[0;34m.\u001b[0m\u001b[0mtensor_shape\u001b[0m\u001b[0;34m.\u001b[0m\u001b[0mdim\u001b[0m\u001b[0;34m]\u001b[0m\u001b[0;34m\u001b[0m\u001b[0;34m\u001b[0m\u001b[0m\n\u001b[0m\u001b[1;32m    592\u001b[0m   \u001b[0mnum_elements\u001b[0m \u001b[0;34m=\u001b[0m \u001b[0mnp\u001b[0m\u001b[0;34m.\u001b[0m\u001b[0mprod\u001b[0m\u001b[0;34m(\u001b[0m\u001b[0mshape\u001b[0m\u001b[0;34m,\u001b[0m \u001b[0mdtype\u001b[0m\u001b[0;34m=\u001b[0m\u001b[0mnp\u001b[0m\u001b[0;34m.\u001b[0m\u001b[0mint64\u001b[0m\u001b[0;34m)\u001b[0m\u001b[0;34m\u001b[0m\u001b[0;34m\u001b[0m\u001b[0m\n\u001b[1;32m    593\u001b[0m   \u001b[0mtensor_dtype\u001b[0m \u001b[0;34m=\u001b[0m \u001b[0mdtypes\u001b[0m\u001b[0;34m.\u001b[0m\u001b[0mas_dtype\u001b[0m\u001b[0;34m(\u001b[0m\u001b[0mtensor\u001b[0m\u001b[0;34m.\u001b[0m\u001b[0mdtype\u001b[0m\u001b[0;34m)\u001b[0m\u001b[0;34m\u001b[0m\u001b[0;34m\u001b[0m\u001b[0m\n",
      "\u001b[0;31mAttributeError\u001b[0m: 'tensorflow.python.framework.ops.EagerTensor' object has no attribute 'tensor_shape'"
     ]
    }
   ],
   "source": [
    "tf.convert_to_tensor(tf.make_ndarray(grid)[tf.make_ndarray(U_)])"
   ]
  },
  {
   "cell_type": "code",
   "execution_count": 161,
   "metadata": {},
   "outputs": [],
   "source": [
    "U = U_"
   ]
  },
  {
   "cell_type": "code",
   "execution_count": 164,
   "metadata": {},
   "outputs": [
    {
     "output_type": "execute_result",
     "data": {
      "text/plain": "[10]"
     },
     "metadata": {},
     "execution_count": 164
    }
   ],
   "source": [
    "[U.shape[0]] "
   ]
  },
  {
   "cell_type": "code",
   "execution_count": 167,
   "metadata": {},
   "outputs": [
    {
     "output_type": "execute_result",
     "data": {
      "text/plain": "[1, 1, 1, 1, 1, 1, 1, 1, 1, 1]"
     },
     "metadata": {},
     "execution_count": 167
    }
   ],
   "source": [
    "[1] * 10"
   ]
  },
  {
   "cell_type": "code",
   "execution_count": 166,
   "metadata": {},
   "outputs": [
    {
     "output_type": "execute_result",
     "data": {
      "text/plain": "[array([[1, 1],\n        [1, 1]], dtype=int32),\n array([[1, 1],\n        [1, 1]], dtype=int32)]"
     },
     "metadata": {},
     "execution_count": 166
    }
   ],
   "source": [
    "list(np.ones(shape, dtype=np.int32))"
   ]
  },
  {
   "cell_type": "code",
   "execution_count": 163,
   "metadata": {},
   "outputs": [
    {
     "output_type": "error",
     "ename": "TypeError",
     "evalue": "'list' object cannot be interpreted as an integer",
     "traceback": [
      "\u001b[0;31m---------------------------------------------------------------------------\u001b[0m",
      "\u001b[0;31mTypeError\u001b[0m                                 Traceback (most recent call last)",
      "\u001b[0;32m<ipython-input-163-04df30b988b1>\u001b[0m in \u001b[0;36m<module>\u001b[0;34m\u001b[0m\n\u001b[0;32m----> 1\u001b[0;31m \u001b[0;34m[\u001b[0m\u001b[0mU\u001b[0m\u001b[0;34m.\u001b[0m\u001b[0mshape\u001b[0m\u001b[0;34m[\u001b[0m\u001b[0;36m0\u001b[0m\u001b[0;34m]\u001b[0m\u001b[0;34m]\u001b[0m \u001b[0;34m+\u001b[0m \u001b[0mlist\u001b[0m\u001b[0;34m(\u001b[0m\u001b[0mnp\u001b[0m\u001b[0;34m.\u001b[0m\u001b[0mones\u001b[0m\u001b[0;34m(\u001b[0m\u001b[0;34m[\u001b[0m\u001b[0mshape\u001b[0m\u001b[0;34m]\u001b[0m\u001b[0;34m,\u001b[0m \u001b[0mdtype\u001b[0m\u001b[0;34m=\u001b[0m\u001b[0mnp\u001b[0m\u001b[0;34m.\u001b[0m\u001b[0mint32\u001b[0m\u001b[0;34m)\u001b[0m\u001b[0;34m)\u001b[0m \u001b[0;34m+\u001b[0m \u001b[0;34m[\u001b[0m\u001b[0mU\u001b[0m\u001b[0;34m.\u001b[0m\u001b[0mshape\u001b[0m\u001b[0;34m[\u001b[0m\u001b[0;36m1\u001b[0m\u001b[0;34m]\u001b[0m\u001b[0;34m]\u001b[0m\u001b[0;34m\u001b[0m\u001b[0;34m\u001b[0m\u001b[0m\n\u001b[0m",
      "\u001b[0;32m~/miniconda3/envs/memory/lib/python3.7/site-packages/numpy/core/numeric.py\u001b[0m in \u001b[0;36mones\u001b[0;34m(shape, dtype, order)\u001b[0m\n\u001b[1;32m    205\u001b[0m \u001b[0;34m\u001b[0m\u001b[0m\n\u001b[1;32m    206\u001b[0m     \"\"\"\n\u001b[0;32m--> 207\u001b[0;31m     \u001b[0ma\u001b[0m \u001b[0;34m=\u001b[0m \u001b[0mempty\u001b[0m\u001b[0;34m(\u001b[0m\u001b[0mshape\u001b[0m\u001b[0;34m,\u001b[0m \u001b[0mdtype\u001b[0m\u001b[0;34m,\u001b[0m \u001b[0morder\u001b[0m\u001b[0;34m)\u001b[0m\u001b[0;34m\u001b[0m\u001b[0;34m\u001b[0m\u001b[0m\n\u001b[0m\u001b[1;32m    208\u001b[0m     \u001b[0mmultiarray\u001b[0m\u001b[0;34m.\u001b[0m\u001b[0mcopyto\u001b[0m\u001b[0;34m(\u001b[0m\u001b[0ma\u001b[0m\u001b[0;34m,\u001b[0m \u001b[0;36m1\u001b[0m\u001b[0;34m,\u001b[0m \u001b[0mcasting\u001b[0m\u001b[0;34m=\u001b[0m\u001b[0;34m'unsafe'\u001b[0m\u001b[0;34m)\u001b[0m\u001b[0;34m\u001b[0m\u001b[0;34m\u001b[0m\u001b[0m\n\u001b[1;32m    209\u001b[0m     \u001b[0;32mreturn\u001b[0m \u001b[0ma\u001b[0m\u001b[0;34m\u001b[0m\u001b[0;34m\u001b[0m\u001b[0m\n",
      "\u001b[0;31mTypeError\u001b[0m: 'list' object cannot be interpreted as an integer"
     ]
    }
   ],
   "source": [
    "[U.shape[0]] + list(np.ones([shape], dtype=np.int32)) + [U.shape[1]]"
   ]
  },
  {
   "cell_type": "code",
   "execution_count": 154,
   "metadata": {},
   "outputs": [],
   "source": [
    "import numpy as np\n",
    "import tensorflow as tf\n",
    "def _index_grid(shape):\n",
    "    x = np.indices(shape)\n",
    "    x = np.reshape(x, [len(shape), -1, 1])\n",
    "    x = np.concatenate(x, axis=-1)\n",
    "    x = np.reshape(x, shape + [len(shape)])\n",
    "    return x"
   ]
  },
  {
   "cell_type": "code",
   "execution_count": 155,
   "metadata": {},
   "outputs": [],
   "source": [
    "shape = [2,2]"
   ]
  },
  {
   "cell_type": "code",
   "execution_count": 161,
   "metadata": {},
   "outputs": [],
   "source": [
    "grid = _index_grid(shape)\n",
    "_grid = grid  # Specific shape of self.grid is needed for Gradient computation. [Recomputing this takes time]\n",
    "grid = tf.reshape(grid, tf.constant([-1, grid.shape[-1]]))"
   ]
  },
  {
   "cell_type": "code",
   "execution_count": 203,
   "metadata": {},
   "outputs": [],
   "source": [
    "t1 = tf.ones([5], dtype = tf.int32)\n",
    "t2 = tf.constant([1,2,3])\n",
    "t3 = tf.constant([5,6,7])"
   ]
  },
  {
   "cell_type": "code",
   "execution_count": 213,
   "metadata": {},
   "outputs": [],
   "source": [
    "batch_shape = [1000, 10,30,30]\n",
    "shape = [2,2]\n",
    "embed_dim = [10,30,30]"
   ]
  },
  {
   "cell_type": "code",
   "execution_count": 215,
   "metadata": {},
   "outputs": [
    {
     "output_type": "error",
     "ename": "TypeError",
     "evalue": "concat() got multiple values for argument 'axis'",
     "traceback": [
      "\u001b[0;31m---------------------------------------------------------------------------\u001b[0m",
      "\u001b[0;31mTypeError\u001b[0m                                 Traceback (most recent call last)",
      "\u001b[0;32m<ipython-input-215-f7a7bef2cce4>\u001b[0m in \u001b[0;36m<module>\u001b[0;34m\u001b[0m\n\u001b[0;32m----> 1\u001b[0;31m \u001b[0mtf\u001b[0m\u001b[0;34m.\u001b[0m\u001b[0mconcat\u001b[0m\u001b[0;34m(\u001b[0m\u001b[0mtf\u001b[0m\u001b[0;34m.\u001b[0m\u001b[0mconstant\u001b[0m\u001b[0;34m(\u001b[0m\u001b[0;34m[\u001b[0m\u001b[0mbatch_shape\u001b[0m\u001b[0;34m[\u001b[0m\u001b[0;36m0\u001b[0m\u001b[0;34m]\u001b[0m\u001b[0;34m]\u001b[0m\u001b[0;34m)\u001b[0m\u001b[0;34m,\u001b[0m \u001b[0mtf\u001b[0m\u001b[0;34m.\u001b[0m\u001b[0mones\u001b[0m\u001b[0;34m(\u001b[0m\u001b[0;34m[\u001b[0m\u001b[0mlen\u001b[0m\u001b[0;34m(\u001b[0m\u001b[0mshape\u001b[0m\u001b[0;34m)\u001b[0m\u001b[0;34m]\u001b[0m\u001b[0;34m,\u001b[0m \u001b[0mdtype\u001b[0m\u001b[0;34m=\u001b[0m\u001b[0mtf\u001b[0m\u001b[0;34m.\u001b[0m\u001b[0mint32\u001b[0m\u001b[0;34m)\u001b[0m\u001b[0;34m,\u001b[0m\u001b[0mtf\u001b[0m\u001b[0;34m.\u001b[0m\u001b[0mconstant\u001b[0m\u001b[0;34m(\u001b[0m\u001b[0;34m[\u001b[0m\u001b[0membed_dim\u001b[0m\u001b[0;34m]\u001b[0m\u001b[0;34m)\u001b[0m\u001b[0;34m,\u001b[0m \u001b[0maxis\u001b[0m \u001b[0;34m=\u001b[0m \u001b[0;36m0\u001b[0m\u001b[0;34m)\u001b[0m\u001b[0;34m\u001b[0m\u001b[0;34m\u001b[0m\u001b[0m\n\u001b[0m",
      "\u001b[0;32m~/miniconda3/envs/memory/lib/python3.7/site-packages/tensorflow/python/util/dispatch.py\u001b[0m in \u001b[0;36mwrapper\u001b[0;34m(*args, **kwargs)\u001b[0m\n\u001b[1;32m    178\u001b[0m     \u001b[0;34m\"\"\"Call target, and fall back on dispatchers if there is a TypeError.\"\"\"\u001b[0m\u001b[0;34m\u001b[0m\u001b[0;34m\u001b[0m\u001b[0m\n\u001b[1;32m    179\u001b[0m     \u001b[0;32mtry\u001b[0m\u001b[0;34m:\u001b[0m\u001b[0;34m\u001b[0m\u001b[0;34m\u001b[0m\u001b[0m\n\u001b[0;32m--> 180\u001b[0;31m       \u001b[0;32mreturn\u001b[0m \u001b[0mtarget\u001b[0m\u001b[0;34m(\u001b[0m\u001b[0;34m*\u001b[0m\u001b[0margs\u001b[0m\u001b[0;34m,\u001b[0m \u001b[0;34m**\u001b[0m\u001b[0mkwargs\u001b[0m\u001b[0;34m)\u001b[0m\u001b[0;34m\u001b[0m\u001b[0;34m\u001b[0m\u001b[0m\n\u001b[0m\u001b[1;32m    181\u001b[0m     \u001b[0;32mexcept\u001b[0m \u001b[0;34m(\u001b[0m\u001b[0mTypeError\u001b[0m\u001b[0;34m,\u001b[0m \u001b[0mValueError\u001b[0m\u001b[0;34m)\u001b[0m\u001b[0;34m:\u001b[0m\u001b[0;34m\u001b[0m\u001b[0;34m\u001b[0m\u001b[0m\n\u001b[1;32m    182\u001b[0m       \u001b[0;31m# Note: convert_to_eager_tensor currently raises a ValueError, not a\u001b[0m\u001b[0;34m\u001b[0m\u001b[0;34m\u001b[0m\u001b[0;34m\u001b[0m\u001b[0m\n",
      "\u001b[0;31mTypeError\u001b[0m: concat() got multiple values for argument 'axis'"
     ]
    }
   ],
   "source": [
    "tf.concat(tf.constant([batch_shape[0]]), tf.ones([len(shape)], dtype=tf.int32),tf.constant([embed_dim]), axis = 0)"
   ]
  },
  {
   "cell_type": "code",
   "execution_count": 207,
   "metadata": {},
   "outputs": [
    {
     "output_type": "execute_result",
     "data": {
      "text/plain": "<tf.Tensor: shape=(5,), dtype=int32, numpy=array([1, 1, 1, 1, 1], dtype=int32)>"
     },
     "metadata": {},
     "execution_count": 207
    }
   ],
   "source": [
    "t1"
   ]
  },
  {
   "cell_type": "code",
   "execution_count": null,
   "metadata": {},
   "outputs": [],
   "source": []
  },
  {
   "cell_type": "code",
   "execution_count": 221,
   "metadata": {
    "tags": []
   },
   "outputs": [
    {
     "output_type": "stream",
     "name": "stdout",
     "text": "90.7 µs ± 532 ns per loop (mean ± std. dev. of 7 runs, 10000 loops each)\n"
    }
   ],
   "source": [
    "%timeit tf.concat([[100, 100], t1, t3], axis = 0)"
   ]
  },
  {
   "cell_type": "code",
   "execution_count": 222,
   "metadata": {
    "tags": []
   },
   "outputs": [
    {
     "output_type": "stream",
     "name": "stdout",
     "text": "22 µs ± 78.4 ns per loop (mean ± std. dev. of 7 runs, 10000 loops each)\n"
    }
   ],
   "source": [
    "%timeit tf.concat([tf.constant([100, 100]), t1, t3], axis = 0)"
   ]
  },
  {
   "cell_type": "code",
   "execution_count": 226,
   "metadata": {},
   "outputs": [
    {
     "output_type": "execute_result",
     "data": {
      "text/plain": "tensorflow.python.framework.ops.EagerTensor"
     },
     "metadata": {},
     "execution_count": 226
    }
   ],
   "source": [
    "type(tf.constant([100,100]))"
   ]
  },
  {
   "cell_type": "code",
   "execution_count": 225,
   "metadata": {},
   "outputs": [
    {
     "output_type": "execute_result",
     "data": {
      "text/plain": "list"
     },
     "metadata": {},
     "execution_count": 225
    }
   ],
   "source": [
    "type([100,100])"
   ]
  },
  {
   "cell_type": "code",
   "execution_count": 192,
   "metadata": {},
   "outputs": [
    {
     "output_type": "execute_result",
     "data": {
      "text/plain": "(<tf.Tensor: shape=(2,), dtype=int32, numpy=array([1, 2], dtype=int32)>,\n <tf.Tensor: shape=(3,), dtype=int32, numpy=array([1, 1, 1], dtype=int32)>,\n <tf.Tensor: shape=(1,), dtype=int32, numpy=array([20], dtype=int32)>)"
     },
     "metadata": {},
     "execution_count": 192
    }
   ],
   "source": []
  },
  {
   "cell_type": "code",
   "execution_count": 191,
   "metadata": {},
   "outputs": [
    {
     "output_type": "error",
     "ename": "InvalidArgumentError",
     "evalue": "Shapes of all inputs must match: values[0].shape = [2] != values[1].shape = [3] [Op:Pack] name: packed",
     "traceback": [
      "\u001b[0;31m---------------------------------------------------------------------------\u001b[0m",
      "\u001b[0;31mInvalidArgumentError\u001b[0m                      Traceback (most recent call last)",
      "\u001b[0;32m<ipython-input-191-1d8773f5fde1>\u001b[0m in \u001b[0;36m<module>\u001b[0;34m\u001b[0m\n\u001b[0;32m----> 1\u001b[0;31m \u001b[0mtf\u001b[0m\u001b[0;34m.\u001b[0m\u001b[0mones\u001b[0m\u001b[0;34m(\u001b[0m\u001b[0mshape\u001b[0m \u001b[0;34m=\u001b[0m \u001b[0mt\u001b[0m\u001b[0;34m)\u001b[0m\u001b[0;34m\u001b[0m\u001b[0;34m\u001b[0m\u001b[0m\n\u001b[0m",
      "\u001b[0;32m~/miniconda3/envs/memory/lib/python3.7/site-packages/tensorflow/python/ops/array_ops.py\u001b[0m in \u001b[0;36mones\u001b[0;34m(shape, dtype, name)\u001b[0m\n\u001b[1;32m   2974\u001b[0m       \u001b[0;32mexcept\u001b[0m \u001b[0;34m(\u001b[0m\u001b[0mTypeError\u001b[0m\u001b[0;34m,\u001b[0m \u001b[0mValueError\u001b[0m\u001b[0;34m)\u001b[0m\u001b[0;34m:\u001b[0m\u001b[0;34m\u001b[0m\u001b[0;34m\u001b[0m\u001b[0m\n\u001b[1;32m   2975\u001b[0m         \u001b[0;31m# Happens when shape is a list with tensor elements\u001b[0m\u001b[0;34m\u001b[0m\u001b[0;34m\u001b[0m\u001b[0;34m\u001b[0m\u001b[0m\n\u001b[0;32m-> 2976\u001b[0;31m         \u001b[0mshape\u001b[0m \u001b[0;34m=\u001b[0m \u001b[0mops\u001b[0m\u001b[0;34m.\u001b[0m\u001b[0mconvert_to_tensor\u001b[0m\u001b[0;34m(\u001b[0m\u001b[0mshape\u001b[0m\u001b[0;34m,\u001b[0m \u001b[0mdtype\u001b[0m\u001b[0;34m=\u001b[0m\u001b[0mdtypes\u001b[0m\u001b[0;34m.\u001b[0m\u001b[0mint32\u001b[0m\u001b[0;34m)\u001b[0m\u001b[0;34m\u001b[0m\u001b[0;34m\u001b[0m\u001b[0m\n\u001b[0m\u001b[1;32m   2977\u001b[0m     \u001b[0;32mif\u001b[0m \u001b[0;32mnot\u001b[0m \u001b[0mshape\u001b[0m\u001b[0;34m.\u001b[0m\u001b[0m_shape_tuple\u001b[0m\u001b[0;34m(\u001b[0m\u001b[0;34m)\u001b[0m\u001b[0;34m:\u001b[0m\u001b[0;34m\u001b[0m\u001b[0;34m\u001b[0m\u001b[0m\n\u001b[1;32m   2978\u001b[0m       \u001b[0mshape\u001b[0m \u001b[0;34m=\u001b[0m \u001b[0mreshape\u001b[0m\u001b[0;34m(\u001b[0m\u001b[0mshape\u001b[0m\u001b[0;34m,\u001b[0m \u001b[0;34m[\u001b[0m\u001b[0;34m-\u001b[0m\u001b[0;36m1\u001b[0m\u001b[0;34m]\u001b[0m\u001b[0;34m)\u001b[0m  \u001b[0;31m# Ensure it's a vector\u001b[0m\u001b[0;34m\u001b[0m\u001b[0;34m\u001b[0m\u001b[0m\n",
      "\u001b[0;32m~/miniconda3/envs/memory/lib/python3.7/site-packages/tensorflow/python/framework/ops.py\u001b[0m in \u001b[0;36mconvert_to_tensor\u001b[0;34m(value, dtype, name, as_ref, preferred_dtype, dtype_hint, ctx, accepted_result_types)\u001b[0m\n\u001b[1;32m   1339\u001b[0m \u001b[0;34m\u001b[0m\u001b[0m\n\u001b[1;32m   1340\u001b[0m     \u001b[0;32mif\u001b[0m \u001b[0mret\u001b[0m \u001b[0;32mis\u001b[0m \u001b[0;32mNone\u001b[0m\u001b[0;34m:\u001b[0m\u001b[0;34m\u001b[0m\u001b[0;34m\u001b[0m\u001b[0m\n\u001b[0;32m-> 1341\u001b[0;31m       \u001b[0mret\u001b[0m \u001b[0;34m=\u001b[0m \u001b[0mconversion_func\u001b[0m\u001b[0;34m(\u001b[0m\u001b[0mvalue\u001b[0m\u001b[0;34m,\u001b[0m \u001b[0mdtype\u001b[0m\u001b[0;34m=\u001b[0m\u001b[0mdtype\u001b[0m\u001b[0;34m,\u001b[0m \u001b[0mname\u001b[0m\u001b[0;34m=\u001b[0m\u001b[0mname\u001b[0m\u001b[0;34m,\u001b[0m \u001b[0mas_ref\u001b[0m\u001b[0;34m=\u001b[0m\u001b[0mas_ref\u001b[0m\u001b[0;34m)\u001b[0m\u001b[0;34m\u001b[0m\u001b[0;34m\u001b[0m\u001b[0m\n\u001b[0m\u001b[1;32m   1342\u001b[0m \u001b[0;34m\u001b[0m\u001b[0m\n\u001b[1;32m   1343\u001b[0m     \u001b[0;32mif\u001b[0m \u001b[0mret\u001b[0m \u001b[0;32mis\u001b[0m \u001b[0mNotImplemented\u001b[0m\u001b[0;34m:\u001b[0m\u001b[0;34m\u001b[0m\u001b[0;34m\u001b[0m\u001b[0m\n",
      "\u001b[0;32m~/miniconda3/envs/memory/lib/python3.7/site-packages/tensorflow/python/ops/array_ops.py\u001b[0m in \u001b[0;36m_autopacking_conversion_function\u001b[0;34m(v, dtype, name, as_ref)\u001b[0m\n\u001b[1;32m   1453\u001b[0m   \u001b[0;32melif\u001b[0m \u001b[0mdtype\u001b[0m \u001b[0;34m!=\u001b[0m \u001b[0minferred_dtype\u001b[0m\u001b[0;34m:\u001b[0m\u001b[0;34m\u001b[0m\u001b[0;34m\u001b[0m\u001b[0m\n\u001b[1;32m   1454\u001b[0m     \u001b[0mv\u001b[0m \u001b[0;34m=\u001b[0m \u001b[0mnest\u001b[0m\u001b[0;34m.\u001b[0m\u001b[0mmap_structure\u001b[0m\u001b[0;34m(\u001b[0m\u001b[0m_cast_nested_seqs_to_dtype\u001b[0m\u001b[0;34m(\u001b[0m\u001b[0mdtype\u001b[0m\u001b[0;34m)\u001b[0m\u001b[0;34m,\u001b[0m \u001b[0mv\u001b[0m\u001b[0;34m)\u001b[0m\u001b[0;34m\u001b[0m\u001b[0;34m\u001b[0m\u001b[0m\n\u001b[0;32m-> 1455\u001b[0;31m   \u001b[0;32mreturn\u001b[0m \u001b[0m_autopacking_helper\u001b[0m\u001b[0;34m(\u001b[0m\u001b[0mv\u001b[0m\u001b[0;34m,\u001b[0m \u001b[0mdtype\u001b[0m\u001b[0;34m,\u001b[0m \u001b[0mname\u001b[0m \u001b[0;32mor\u001b[0m \u001b[0;34m\"packed\"\u001b[0m\u001b[0;34m)\u001b[0m\u001b[0;34m\u001b[0m\u001b[0;34m\u001b[0m\u001b[0m\n\u001b[0m\u001b[1;32m   1456\u001b[0m \u001b[0;34m\u001b[0m\u001b[0m\n\u001b[1;32m   1457\u001b[0m \u001b[0;34m\u001b[0m\u001b[0m\n",
      "\u001b[0;32m~/miniconda3/envs/memory/lib/python3.7/site-packages/tensorflow/python/ops/array_ops.py\u001b[0m in \u001b[0;36m_autopacking_helper\u001b[0;34m(list_or_tuple, dtype, name)\u001b[0m\n\u001b[1;32m   1359\u001b[0m     \u001b[0;31m# checking.\u001b[0m\u001b[0;34m\u001b[0m\u001b[0;34m\u001b[0m\u001b[0;34m\u001b[0m\u001b[0m\n\u001b[1;32m   1360\u001b[0m     \u001b[0;32mif\u001b[0m \u001b[0mall\u001b[0m\u001b[0;34m(\u001b[0m\u001b[0mops\u001b[0m\u001b[0;34m.\u001b[0m\u001b[0mis_dense_tensor_like\u001b[0m\u001b[0;34m(\u001b[0m\u001b[0melem\u001b[0m\u001b[0;34m)\u001b[0m \u001b[0;32mfor\u001b[0m \u001b[0melem\u001b[0m \u001b[0;32min\u001b[0m \u001b[0mlist_or_tuple\u001b[0m\u001b[0;34m)\u001b[0m\u001b[0;34m:\u001b[0m\u001b[0;34m\u001b[0m\u001b[0;34m\u001b[0m\u001b[0m\n\u001b[0;32m-> 1361\u001b[0;31m       \u001b[0;32mreturn\u001b[0m \u001b[0mgen_array_ops\u001b[0m\u001b[0;34m.\u001b[0m\u001b[0mpack\u001b[0m\u001b[0;34m(\u001b[0m\u001b[0mlist_or_tuple\u001b[0m\u001b[0;34m,\u001b[0m \u001b[0mname\u001b[0m\u001b[0;34m=\u001b[0m\u001b[0mname\u001b[0m\u001b[0;34m)\u001b[0m\u001b[0;34m\u001b[0m\u001b[0;34m\u001b[0m\u001b[0m\n\u001b[0m\u001b[1;32m   1362\u001b[0m   \u001b[0mmust_pack\u001b[0m \u001b[0;34m=\u001b[0m \u001b[0;32mFalse\u001b[0m\u001b[0;34m\u001b[0m\u001b[0;34m\u001b[0m\u001b[0m\n\u001b[1;32m   1363\u001b[0m   \u001b[0mconverted_elems\u001b[0m \u001b[0;34m=\u001b[0m \u001b[0;34m[\u001b[0m\u001b[0;34m]\u001b[0m\u001b[0;34m\u001b[0m\u001b[0;34m\u001b[0m\u001b[0m\n",
      "\u001b[0;32m~/miniconda3/envs/memory/lib/python3.7/site-packages/tensorflow/python/ops/gen_array_ops.py\u001b[0m in \u001b[0;36mpack\u001b[0;34m(values, axis, name)\u001b[0m\n\u001b[1;32m   6335\u001b[0m         \u001b[0;32mpass\u001b[0m  \u001b[0;31m# Add nodes to the TensorFlow graph.\u001b[0m\u001b[0;34m\u001b[0m\u001b[0;34m\u001b[0m\u001b[0m\n\u001b[1;32m   6336\u001b[0m     \u001b[0;32mexcept\u001b[0m \u001b[0m_core\u001b[0m\u001b[0;34m.\u001b[0m\u001b[0m_NotOkStatusException\u001b[0m \u001b[0;32mas\u001b[0m \u001b[0me\u001b[0m\u001b[0;34m:\u001b[0m\u001b[0;34m\u001b[0m\u001b[0;34m\u001b[0m\u001b[0m\n\u001b[0;32m-> 6337\u001b[0;31m       \u001b[0m_ops\u001b[0m\u001b[0;34m.\u001b[0m\u001b[0mraise_from_not_ok_status\u001b[0m\u001b[0;34m(\u001b[0m\u001b[0me\u001b[0m\u001b[0;34m,\u001b[0m \u001b[0mname\u001b[0m\u001b[0;34m)\u001b[0m\u001b[0;34m\u001b[0m\u001b[0;34m\u001b[0m\u001b[0m\n\u001b[0m\u001b[1;32m   6338\u001b[0m   \u001b[0;31m# Add nodes to the TensorFlow graph.\u001b[0m\u001b[0;34m\u001b[0m\u001b[0;34m\u001b[0m\u001b[0;34m\u001b[0m\u001b[0m\n\u001b[1;32m   6339\u001b[0m   \u001b[0;32mif\u001b[0m \u001b[0;32mnot\u001b[0m \u001b[0misinstance\u001b[0m\u001b[0;34m(\u001b[0m\u001b[0mvalues\u001b[0m\u001b[0;34m,\u001b[0m \u001b[0;34m(\u001b[0m\u001b[0mlist\u001b[0m\u001b[0;34m,\u001b[0m \u001b[0mtuple\u001b[0m\u001b[0;34m)\u001b[0m\u001b[0;34m)\u001b[0m\u001b[0;34m:\u001b[0m\u001b[0;34m\u001b[0m\u001b[0;34m\u001b[0m\u001b[0m\n",
      "\u001b[0;32m~/miniconda3/envs/memory/lib/python3.7/site-packages/tensorflow/python/framework/ops.py\u001b[0m in \u001b[0;36mraise_from_not_ok_status\u001b[0;34m(e, name)\u001b[0m\n\u001b[1;32m   6651\u001b[0m   \u001b[0mmessage\u001b[0m \u001b[0;34m=\u001b[0m \u001b[0me\u001b[0m\u001b[0;34m.\u001b[0m\u001b[0mmessage\u001b[0m \u001b[0;34m+\u001b[0m \u001b[0;34m(\u001b[0m\u001b[0;34m\" name: \"\u001b[0m \u001b[0;34m+\u001b[0m \u001b[0mname\u001b[0m \u001b[0;32mif\u001b[0m \u001b[0mname\u001b[0m \u001b[0;32mis\u001b[0m \u001b[0;32mnot\u001b[0m \u001b[0;32mNone\u001b[0m \u001b[0;32melse\u001b[0m \u001b[0;34m\"\"\u001b[0m\u001b[0;34m)\u001b[0m\u001b[0;34m\u001b[0m\u001b[0;34m\u001b[0m\u001b[0m\n\u001b[1;32m   6652\u001b[0m   \u001b[0;31m# pylint: disable=protected-access\u001b[0m\u001b[0;34m\u001b[0m\u001b[0;34m\u001b[0m\u001b[0;34m\u001b[0m\u001b[0m\n\u001b[0;32m-> 6653\u001b[0;31m   \u001b[0msix\u001b[0m\u001b[0;34m.\u001b[0m\u001b[0mraise_from\u001b[0m\u001b[0;34m(\u001b[0m\u001b[0mcore\u001b[0m\u001b[0;34m.\u001b[0m\u001b[0m_status_to_exception\u001b[0m\u001b[0;34m(\u001b[0m\u001b[0me\u001b[0m\u001b[0;34m.\u001b[0m\u001b[0mcode\u001b[0m\u001b[0;34m,\u001b[0m \u001b[0mmessage\u001b[0m\u001b[0;34m)\u001b[0m\u001b[0;34m,\u001b[0m \u001b[0;32mNone\u001b[0m\u001b[0;34m)\u001b[0m\u001b[0;34m\u001b[0m\u001b[0;34m\u001b[0m\u001b[0m\n\u001b[0m\u001b[1;32m   6654\u001b[0m   \u001b[0;31m# pylint: enable=protected-access\u001b[0m\u001b[0;34m\u001b[0m\u001b[0;34m\u001b[0m\u001b[0;34m\u001b[0m\u001b[0m\n\u001b[1;32m   6655\u001b[0m \u001b[0;34m\u001b[0m\u001b[0m\n",
      "\u001b[0;32m~/miniconda3/envs/memory/lib/python3.7/site-packages/six.py\u001b[0m in \u001b[0;36mraise_from\u001b[0;34m(value, from_value)\u001b[0m\n",
      "\u001b[0;31mInvalidArgumentError\u001b[0m: Shapes of all inputs must match: values[0].shape = [2] != values[1].shape = [3] [Op:Pack] name: packed"
     ]
    }
   ],
   "source": [
    "tf.ones(shape = t)"
   ]
  },
  {
   "cell_type": "code",
   "execution_count": 188,
   "metadata": {},
   "outputs": [
    {
     "output_type": "error",
     "ename": "ValueError",
     "evalue": "Can't convert Python sequence with mixed types to Tensor.",
     "traceback": [
      "\u001b[0;31m---------------------------------------------------------------------------\u001b[0m",
      "\u001b[0;31mValueError\u001b[0m                                Traceback (most recent call last)",
      "\u001b[0;32m<ipython-input-188-30f5b84c8f54>\u001b[0m in \u001b[0;36m<module>\u001b[0;34m\u001b[0m\n\u001b[0;32m----> 1\u001b[0;31m \u001b[0ms\u001b[0m \u001b[0;34m=\u001b[0m \u001b[0mtf\u001b[0m\u001b[0;34m.\u001b[0m\u001b[0mconstant\u001b[0m\u001b[0;34m(\u001b[0m\u001b[0;34m[\u001b[0m\u001b[0;36m1\u001b[0m\u001b[0;34m,\u001b[0m\u001b[0;36m2\u001b[0m\u001b[0;34m,\u001b[0m \u001b[0mtf\u001b[0m\u001b[0;34m.\u001b[0m\u001b[0mones\u001b[0m\u001b[0;34m(\u001b[0m\u001b[0;34m[\u001b[0m\u001b[0;36m3\u001b[0m\u001b[0;34m]\u001b[0m\u001b[0;34m,\u001b[0m \u001b[0mdtype\u001b[0m \u001b[0;34m=\u001b[0m \u001b[0mtf\u001b[0m\u001b[0;34m.\u001b[0m\u001b[0mint32\u001b[0m\u001b[0;34m)\u001b[0m\u001b[0;34m,\u001b[0m \u001b[0;36m20\u001b[0m\u001b[0;34m]\u001b[0m\u001b[0;34m)\u001b[0m\u001b[0;34m\u001b[0m\u001b[0;34m\u001b[0m\u001b[0m\n\u001b[0m",
      "\u001b[0;32m~/miniconda3/envs/memory/lib/python3.7/site-packages/tensorflow/python/framework/constant_op.py\u001b[0m in \u001b[0;36mconstant\u001b[0;34m(value, dtype, shape, name)\u001b[0m\n\u001b[1;32m    260\u001b[0m   \"\"\"\n\u001b[1;32m    261\u001b[0m   return _constant_impl(value, dtype, shape, name, verify_shape=False,\n\u001b[0;32m--> 262\u001b[0;31m                         allow_broadcast=True)\n\u001b[0m\u001b[1;32m    263\u001b[0m \u001b[0;34m\u001b[0m\u001b[0m\n\u001b[1;32m    264\u001b[0m \u001b[0;34m\u001b[0m\u001b[0m\n",
      "\u001b[0;32m~/miniconda3/envs/memory/lib/python3.7/site-packages/tensorflow/python/framework/constant_op.py\u001b[0m in \u001b[0;36m_constant_impl\u001b[0;34m(value, dtype, shape, name, verify_shape, allow_broadcast)\u001b[0m\n\u001b[1;32m    268\u001b[0m   \u001b[0mctx\u001b[0m \u001b[0;34m=\u001b[0m \u001b[0mcontext\u001b[0m\u001b[0;34m.\u001b[0m\u001b[0mcontext\u001b[0m\u001b[0;34m(\u001b[0m\u001b[0;34m)\u001b[0m\u001b[0;34m\u001b[0m\u001b[0;34m\u001b[0m\u001b[0m\n\u001b[1;32m    269\u001b[0m   \u001b[0;32mif\u001b[0m \u001b[0mctx\u001b[0m\u001b[0;34m.\u001b[0m\u001b[0mexecuting_eagerly\u001b[0m\u001b[0;34m(\u001b[0m\u001b[0;34m)\u001b[0m\u001b[0;34m:\u001b[0m\u001b[0;34m\u001b[0m\u001b[0;34m\u001b[0m\u001b[0m\n\u001b[0;32m--> 270\u001b[0;31m     \u001b[0mt\u001b[0m \u001b[0;34m=\u001b[0m \u001b[0mconvert_to_eager_tensor\u001b[0m\u001b[0;34m(\u001b[0m\u001b[0mvalue\u001b[0m\u001b[0;34m,\u001b[0m \u001b[0mctx\u001b[0m\u001b[0;34m,\u001b[0m \u001b[0mdtype\u001b[0m\u001b[0;34m)\u001b[0m\u001b[0;34m\u001b[0m\u001b[0;34m\u001b[0m\u001b[0m\n\u001b[0m\u001b[1;32m    271\u001b[0m     \u001b[0;32mif\u001b[0m \u001b[0mshape\u001b[0m \u001b[0;32mis\u001b[0m \u001b[0;32mNone\u001b[0m\u001b[0;34m:\u001b[0m\u001b[0;34m\u001b[0m\u001b[0;34m\u001b[0m\u001b[0m\n\u001b[1;32m    272\u001b[0m       \u001b[0;32mreturn\u001b[0m \u001b[0mt\u001b[0m\u001b[0;34m\u001b[0m\u001b[0;34m\u001b[0m\u001b[0m\n",
      "\u001b[0;32m~/miniconda3/envs/memory/lib/python3.7/site-packages/tensorflow/python/framework/constant_op.py\u001b[0m in \u001b[0;36mconvert_to_eager_tensor\u001b[0;34m(value, ctx, dtype)\u001b[0m\n\u001b[1;32m     94\u001b[0m       \u001b[0mdtype\u001b[0m \u001b[0;34m=\u001b[0m \u001b[0mdtypes\u001b[0m\u001b[0;34m.\u001b[0m\u001b[0mas_dtype\u001b[0m\u001b[0;34m(\u001b[0m\u001b[0mdtype\u001b[0m\u001b[0;34m)\u001b[0m\u001b[0;34m.\u001b[0m\u001b[0mas_datatype_enum\u001b[0m\u001b[0;34m\u001b[0m\u001b[0;34m\u001b[0m\u001b[0m\n\u001b[1;32m     95\u001b[0m   \u001b[0mctx\u001b[0m\u001b[0;34m.\u001b[0m\u001b[0mensure_initialized\u001b[0m\u001b[0;34m(\u001b[0m\u001b[0;34m)\u001b[0m\u001b[0;34m\u001b[0m\u001b[0;34m\u001b[0m\u001b[0m\n\u001b[0;32m---> 96\u001b[0;31m   \u001b[0;32mreturn\u001b[0m \u001b[0mops\u001b[0m\u001b[0;34m.\u001b[0m\u001b[0mEagerTensor\u001b[0m\u001b[0;34m(\u001b[0m\u001b[0mvalue\u001b[0m\u001b[0;34m,\u001b[0m \u001b[0mctx\u001b[0m\u001b[0;34m.\u001b[0m\u001b[0mdevice_name\u001b[0m\u001b[0;34m,\u001b[0m \u001b[0mdtype\u001b[0m\u001b[0;34m)\u001b[0m\u001b[0;34m\u001b[0m\u001b[0;34m\u001b[0m\u001b[0m\n\u001b[0m\u001b[1;32m     97\u001b[0m \u001b[0;34m\u001b[0m\u001b[0m\n\u001b[1;32m     98\u001b[0m \u001b[0;34m\u001b[0m\u001b[0m\n",
      "\u001b[0;31mValueError\u001b[0m: Can't convert Python sequence with mixed types to Tensor."
     ]
    }
   ],
   "source": [
    "s = tf.constant([1,2, tf.ones([3], dtype = tf.int32), 20])"
   ]
  },
  {
   "cell_type": "code",
   "execution_count": 187,
   "metadata": {},
   "outputs": [
    {
     "output_type": "execute_result",
     "data": {
      "text/plain": "<tf.Tensor: shape=(1, 2, 10, 20), dtype=float32, numpy=\narray([[[[1., 1., 1., 1., 1., 1., 1., 1., 1., 1., 1., 1., 1., 1., 1.,\n          1., 1., 1., 1., 1.],\n         [1., 1., 1., 1., 1., 1., 1., 1., 1., 1., 1., 1., 1., 1., 1.,\n          1., 1., 1., 1., 1.],\n         [1., 1., 1., 1., 1., 1., 1., 1., 1., 1., 1., 1., 1., 1., 1.,\n          1., 1., 1., 1., 1.],\n         [1., 1., 1., 1., 1., 1., 1., 1., 1., 1., 1., 1., 1., 1., 1.,\n          1., 1., 1., 1., 1.],\n         [1., 1., 1., 1., 1., 1., 1., 1., 1., 1., 1., 1., 1., 1., 1.,\n          1., 1., 1., 1., 1.],\n         [1., 1., 1., 1., 1., 1., 1., 1., 1., 1., 1., 1., 1., 1., 1.,\n          1., 1., 1., 1., 1.],\n         [1., 1., 1., 1., 1., 1., 1., 1., 1., 1., 1., 1., 1., 1., 1.,\n          1., 1., 1., 1., 1.],\n         [1., 1., 1., 1., 1., 1., 1., 1., 1., 1., 1., 1., 1., 1., 1.,\n          1., 1., 1., 1., 1.],\n         [1., 1., 1., 1., 1., 1., 1., 1., 1., 1., 1., 1., 1., 1., 1.,\n          1., 1., 1., 1., 1.],\n         [1., 1., 1., 1., 1., 1., 1., 1., 1., 1., 1., 1., 1., 1., 1.,\n          1., 1., 1., 1., 1.]],\n\n        [[1., 1., 1., 1., 1., 1., 1., 1., 1., 1., 1., 1., 1., 1., 1.,\n          1., 1., 1., 1., 1.],\n         [1., 1., 1., 1., 1., 1., 1., 1., 1., 1., 1., 1., 1., 1., 1.,\n          1., 1., 1., 1., 1.],\n         [1., 1., 1., 1., 1., 1., 1., 1., 1., 1., 1., 1., 1., 1., 1.,\n          1., 1., 1., 1., 1.],\n         [1., 1., 1., 1., 1., 1., 1., 1., 1., 1., 1., 1., 1., 1., 1.,\n          1., 1., 1., 1., 1.],\n         [1., 1., 1., 1., 1., 1., 1., 1., 1., 1., 1., 1., 1., 1., 1.,\n          1., 1., 1., 1., 1.],\n         [1., 1., 1., 1., 1., 1., 1., 1., 1., 1., 1., 1., 1., 1., 1.,\n          1., 1., 1., 1., 1.],\n         [1., 1., 1., 1., 1., 1., 1., 1., 1., 1., 1., 1., 1., 1., 1.,\n          1., 1., 1., 1., 1.],\n         [1., 1., 1., 1., 1., 1., 1., 1., 1., 1., 1., 1., 1., 1., 1.,\n          1., 1., 1., 1., 1.],\n         [1., 1., 1., 1., 1., 1., 1., 1., 1., 1., 1., 1., 1., 1., 1.,\n          1., 1., 1., 1., 1.],\n         [1., 1., 1., 1., 1., 1., 1., 1., 1., 1., 1., 1., 1., 1., 1.,\n          1., 1., 1., 1., 1.]]]], dtype=float32)>"
     },
     "metadata": {},
     "execution_count": 187
    }
   ],
   "source": [
    "tf.ones(s)"
   ]
  },
  {
   "cell_type": "code",
   "execution_count": 178,
   "metadata": {},
   "outputs": [
    {
     "output_type": "execute_result",
     "data": {
      "text/plain": "<tf.Tensor: shape=(1, 1, 1, 1, 1), dtype=float32, numpy=array([[[[[1.]]]]], dtype=float32)>"
     },
     "metadata": {},
     "execution_count": 178
    }
   ],
   "source": [
    "tf.ones(tf.ones([5], dtype = tf.int32))"
   ]
  },
  {
   "cell_type": "code",
   "execution_count": 166,
   "metadata": {},
   "outputs": [
    {
     "output_type": "execute_result",
     "data": {
      "text/plain": "<tf.Tensor: shape=(1,), dtype=int32, numpy=array([1], dtype=int32)>"
     },
     "metadata": {},
     "execution_count": 166
    }
   ],
   "source": [
    "@tf.function\n",
    "def get_\n",
    "tf.constant([1]) "
   ]
  },
  {
   "cell_type": "code",
   "execution_count": null,
   "metadata": {},
   "outputs": [],
   "source": []
  },
  {
   "cell_type": "code",
   "execution_count": 169,
   "metadata": {},
   "outputs": [
    {
     "output_type": "execute_result",
     "data": {
      "text/plain": "<tf.Tensor: shape=(1, 1, 1, 1, 1), dtype=float32, numpy=array([[[[[1.]]]]], dtype=float32)>"
     },
     "metadata": {},
     "execution_count": 169
    }
   ],
   "source": [
    "tf.ones(shape = tf.constant(tf.ones([5], dtype = tf.int32)))"
   ]
  },
  {
   "cell_type": "code",
   "execution_count": 162,
   "metadata": {},
   "outputs": [
    {
     "output_type": "execute_result",
     "data": {
      "text/plain": "<tf.Tensor: shape=(4, 2), dtype=int64, numpy=\narray([[0, 0],\n       [0, 1],\n       [1, 0],\n       [1, 1]])>"
     },
     "metadata": {},
     "execution_count": 162
    }
   ],
   "source": [
    "grid"
   ]
  },
  {
   "cell_type": "code",
   "execution_count": 159,
   "metadata": {},
   "outputs": [
    {
     "output_type": "execute_result",
     "data": {
      "text/plain": "<tf.Tensor: shape=(4, 2), dtype=int64, numpy=\narray([[0, 0],\n       [0, 1],\n       [1, 0],\n       [1, 1]])>"
     },
     "metadata": {},
     "execution_count": 159
    }
   ],
   "source": [
    "grid"
   ]
  },
  {
   "cell_type": "code",
   "execution_count": 158,
   "metadata": {},
   "outputs": [
    {
     "output_type": "execute_result",
     "data": {
      "text/plain": "<tf.Tensor: shape=(4, 2), dtype=int64, numpy=\narray([[0, 0],\n       [0, 1],\n       [1, 0],\n       [1, 1]])>"
     },
     "metadata": {},
     "execution_count": 158
    }
   ],
   "source": [
    "tf.constant(grid)"
   ]
  },
  {
   "cell_type": "code",
   "execution_count": 1,
   "metadata": {},
   "outputs": [],
   "source": [
    "import tensorflow as tf"
   ]
  },
  {
   "cell_type": "code",
   "execution_count": 23,
   "metadata": {},
   "outputs": [],
   "source": [
    "Z = tf.ones([100,784])\n",
    "shape = [2,2]\n",
    "embed_dim = [784]"
   ]
  },
  {
   "cell_type": "code",
   "execution_count": 25,
   "metadata": {},
   "outputs": [
    {
     "output_type": "execute_result",
     "data": {
      "text/plain": "2"
     },
     "metadata": {},
     "execution_count": 25
    }
   ],
   "source": []
  },
  {
   "cell_type": "code",
   "execution_count": 11,
   "metadata": {},
   "outputs": [
    {
     "output_type": "execute_result",
     "data": {
      "text/plain": "<tf.Tensor: shape=(1,), dtype=int32, numpy=array([100], dtype=int32)>"
     },
     "metadata": {},
     "execution_count": 11
    }
   ],
   "source": [
    "tf.constant([Z.shape[0]])"
   ]
  },
  {
   "cell_type": "code",
   "execution_count": 15,
   "metadata": {},
   "outputs": [
    {
     "output_type": "execute_result",
     "data": {
      "text/plain": "<tf.Tensor: shape=(2,), dtype=int32, numpy=array([1, 1], dtype=int32)>"
     },
     "metadata": {},
     "execution_count": 15
    }
   ],
   "source": [
    "tf.ones([len(shape)], dtype=tf.int32)"
   ]
  },
  {
   "cell_type": "code",
   "execution_count": 19,
   "metadata": {},
   "outputs": [
    {
     "output_type": "execute_result",
     "data": {
      "text/plain": "<tf.Tensor: shape=(1, 1), dtype=int32, numpy=array([[784]], dtype=int32)>"
     },
     "metadata": {},
     "execution_count": 19
    }
   ],
   "source": [
    "tf.constant([embed_dim])"
   ]
  },
  {
   "cell_type": "code",
   "execution_count": 28,
   "metadata": {},
   "outputs": [
    {
     "output_type": "error",
     "ename": "TypeError",
     "evalue": "Expected tensor with type <tf.Tensor: shape=(2,), dtype=int32, numpy=array([1, 1], dtype=int32)> not tf.int32",
     "traceback": [
      "\u001b[0;31m---------------------------------------------------------------------------\u001b[0m",
      "\u001b[0;31mTypeError\u001b[0m                                 Traceback (most recent call last)",
      "\u001b[0;32m<ipython-input-28-f341c7d50566>\u001b[0m in \u001b[0;36m<module>\u001b[0;34m\u001b[0m\n\u001b[0;32m----> 1\u001b[0;31m \u001b[0mtf\u001b[0m\u001b[0;34m.\u001b[0m\u001b[0mconstant\u001b[0m\u001b[0;34m(\u001b[0m\u001b[0mtf\u001b[0m\u001b[0;34m.\u001b[0m\u001b[0mconstant\u001b[0m\u001b[0;34m(\u001b[0m\u001b[0;34m[\u001b[0m\u001b[0mZ\u001b[0m\u001b[0;34m.\u001b[0m\u001b[0mshape\u001b[0m\u001b[0;34m[\u001b[0m\u001b[0;36m0\u001b[0m\u001b[0;34m]\u001b[0m\u001b[0;34m]\u001b[0m\u001b[0;34m)\u001b[0m\u001b[0;34m,\u001b[0m\u001b[0mtf\u001b[0m\u001b[0;34m.\u001b[0m\u001b[0mones\u001b[0m\u001b[0;34m(\u001b[0m\u001b[0;34m[\u001b[0m\u001b[0mlen\u001b[0m\u001b[0;34m(\u001b[0m\u001b[0mshape\u001b[0m\u001b[0;34m)\u001b[0m\u001b[0;34m]\u001b[0m\u001b[0;34m,\u001b[0m \u001b[0mdtype\u001b[0m\u001b[0;34m=\u001b[0m\u001b[0mtf\u001b[0m\u001b[0;34m.\u001b[0m\u001b[0mint32\u001b[0m\u001b[0;34m)\u001b[0m\u001b[0;34m,\u001b[0m\u001b[0mtf\u001b[0m\u001b[0;34m.\u001b[0m\u001b[0mconstant\u001b[0m\u001b[0;34m(\u001b[0m\u001b[0;34m[\u001b[0m\u001b[0membed_dim\u001b[0m\u001b[0;34m]\u001b[0m\u001b[0;34m)\u001b[0m\u001b[0;34m)\u001b[0m\u001b[0;34m\u001b[0m\u001b[0;34m\u001b[0m\u001b[0m\n\u001b[0m",
      "\u001b[0;32m~/miniconda3/envs/memory/lib/python3.7/site-packages/tensorflow/python/framework/constant_op.py\u001b[0m in \u001b[0;36mconstant\u001b[0;34m(value, dtype, shape, name)\u001b[0m\n\u001b[1;32m    260\u001b[0m   \"\"\"\n\u001b[1;32m    261\u001b[0m   return _constant_impl(value, dtype, shape, name, verify_shape=False,\n\u001b[0;32m--> 262\u001b[0;31m                         allow_broadcast=True)\n\u001b[0m\u001b[1;32m    263\u001b[0m \u001b[0;34m\u001b[0m\u001b[0m\n\u001b[1;32m    264\u001b[0m \u001b[0;34m\u001b[0m\u001b[0m\n",
      "\u001b[0;32m~/miniconda3/envs/memory/lib/python3.7/site-packages/tensorflow/python/framework/constant_op.py\u001b[0m in \u001b[0;36m_constant_impl\u001b[0;34m(value, dtype, shape, name, verify_shape, allow_broadcast)\u001b[0m\n\u001b[1;32m    268\u001b[0m   \u001b[0mctx\u001b[0m \u001b[0;34m=\u001b[0m \u001b[0mcontext\u001b[0m\u001b[0;34m.\u001b[0m\u001b[0mcontext\u001b[0m\u001b[0;34m(\u001b[0m\u001b[0;34m)\u001b[0m\u001b[0;34m\u001b[0m\u001b[0;34m\u001b[0m\u001b[0m\n\u001b[1;32m    269\u001b[0m   \u001b[0;32mif\u001b[0m \u001b[0mctx\u001b[0m\u001b[0;34m.\u001b[0m\u001b[0mexecuting_eagerly\u001b[0m\u001b[0;34m(\u001b[0m\u001b[0;34m)\u001b[0m\u001b[0;34m:\u001b[0m\u001b[0;34m\u001b[0m\u001b[0;34m\u001b[0m\u001b[0m\n\u001b[0;32m--> 270\u001b[0;31m     \u001b[0mt\u001b[0m \u001b[0;34m=\u001b[0m \u001b[0mconvert_to_eager_tensor\u001b[0m\u001b[0;34m(\u001b[0m\u001b[0mvalue\u001b[0m\u001b[0;34m,\u001b[0m \u001b[0mctx\u001b[0m\u001b[0;34m,\u001b[0m \u001b[0mdtype\u001b[0m\u001b[0;34m)\u001b[0m\u001b[0;34m\u001b[0m\u001b[0;34m\u001b[0m\u001b[0m\n\u001b[0m\u001b[1;32m    271\u001b[0m     \u001b[0;32mif\u001b[0m \u001b[0mshape\u001b[0m \u001b[0;32mis\u001b[0m \u001b[0;32mNone\u001b[0m\u001b[0;34m:\u001b[0m\u001b[0;34m\u001b[0m\u001b[0;34m\u001b[0m\u001b[0m\n\u001b[1;32m    272\u001b[0m       \u001b[0;32mreturn\u001b[0m \u001b[0mt\u001b[0m\u001b[0;34m\u001b[0m\u001b[0;34m\u001b[0m\u001b[0m\n",
      "\u001b[0;32m~/miniconda3/envs/memory/lib/python3.7/site-packages/tensorflow/python/framework/constant_op.py\u001b[0m in \u001b[0;36mconvert_to_eager_tensor\u001b[0;34m(value, ctx, dtype)\u001b[0m\n\u001b[1;32m     86\u001b[0m     \u001b[0;32mif\u001b[0m \u001b[0mdtype\u001b[0m \u001b[0;32mis\u001b[0m \u001b[0;32mnot\u001b[0m \u001b[0;32mNone\u001b[0m \u001b[0;32mand\u001b[0m \u001b[0mvalue\u001b[0m\u001b[0;34m.\u001b[0m\u001b[0mdtype\u001b[0m \u001b[0;34m!=\u001b[0m \u001b[0mdtype\u001b[0m\u001b[0;34m:\u001b[0m\u001b[0;34m\u001b[0m\u001b[0;34m\u001b[0m\u001b[0m\n\u001b[1;32m     87\u001b[0m       raise TypeError(\"Expected tensor with type %r not %r\" % (\n\u001b[0;32m---> 88\u001b[0;31m           dtype, value.dtype))\n\u001b[0m\u001b[1;32m     89\u001b[0m     \u001b[0;32mreturn\u001b[0m \u001b[0mvalue\u001b[0m\u001b[0;34m\u001b[0m\u001b[0;34m\u001b[0m\u001b[0m\n\u001b[1;32m     90\u001b[0m   \u001b[0;32mif\u001b[0m \u001b[0mdtype\u001b[0m \u001b[0;32mis\u001b[0m \u001b[0;32mnot\u001b[0m \u001b[0;32mNone\u001b[0m\u001b[0;34m:\u001b[0m\u001b[0;34m\u001b[0m\u001b[0;34m\u001b[0m\u001b[0m\n",
      "\u001b[0;31mTypeError\u001b[0m: Expected tensor with type <tf.Tensor: shape=(2,), dtype=int32, numpy=array([1, 1], dtype=int32)> not tf.int32"
     ]
    }
   ],
   "source": []
  },
  {
   "cell_type": "code",
   "execution_count": 21,
   "metadata": {},
   "outputs": [
    {
     "output_type": "error",
     "ename": "InvalidArgumentError",
     "evalue": "ConcatOp : Ranks of all input tensors should match: shape[0] = [1] vs. shape[2] = [1,1] [Op:ConcatV2] name: concat",
     "traceback": [
      "\u001b[0;31m---------------------------------------------------------------------------\u001b[0m",
      "\u001b[0;31mInvalidArgumentError\u001b[0m                      Traceback (most recent call last)",
      "\u001b[0;32m<ipython-input-21-30262bb5c48b>\u001b[0m in \u001b[0;36m<module>\u001b[0;34m\u001b[0m\n\u001b[0;32m----> 1\u001b[0;31m \u001b[0mtf\u001b[0m\u001b[0;34m.\u001b[0m\u001b[0mconcat\u001b[0m\u001b[0;34m(\u001b[0m\u001b[0;34m[\u001b[0m\u001b[0mtf\u001b[0m\u001b[0;34m.\u001b[0m\u001b[0mconstant\u001b[0m\u001b[0;34m(\u001b[0m\u001b[0;34m[\u001b[0m\u001b[0mZ\u001b[0m\u001b[0;34m.\u001b[0m\u001b[0mshape\u001b[0m\u001b[0;34m[\u001b[0m\u001b[0;36m0\u001b[0m\u001b[0;34m]\u001b[0m\u001b[0;34m]\u001b[0m\u001b[0;34m)\u001b[0m\u001b[0;34m,\u001b[0m\u001b[0mtf\u001b[0m\u001b[0;34m.\u001b[0m\u001b[0mones\u001b[0m\u001b[0;34m(\u001b[0m\u001b[0;34m[\u001b[0m\u001b[0mlen\u001b[0m\u001b[0;34m(\u001b[0m\u001b[0mshape\u001b[0m\u001b[0;34m)\u001b[0m\u001b[0;34m]\u001b[0m\u001b[0;34m,\u001b[0m \u001b[0mdtype\u001b[0m\u001b[0;34m=\u001b[0m\u001b[0mtf\u001b[0m\u001b[0;34m.\u001b[0m\u001b[0mint32\u001b[0m\u001b[0;34m)\u001b[0m\u001b[0;34m,\u001b[0m\u001b[0mtf\u001b[0m\u001b[0;34m.\u001b[0m\u001b[0mconstant\u001b[0m\u001b[0;34m(\u001b[0m\u001b[0;34m[\u001b[0m\u001b[0membed_dim\u001b[0m\u001b[0;34m]\u001b[0m\u001b[0;34m)\u001b[0m\u001b[0;34m]\u001b[0m\u001b[0;34m,\u001b[0m\u001b[0maxis\u001b[0m\u001b[0;34m=\u001b[0m\u001b[0;36m0\u001b[0m\u001b[0;34m)\u001b[0m\u001b[0;34m\u001b[0m\u001b[0;34m\u001b[0m\u001b[0m\n\u001b[0m",
      "\u001b[0;32m~/miniconda3/envs/memory/lib/python3.7/site-packages/tensorflow/python/util/dispatch.py\u001b[0m in \u001b[0;36mwrapper\u001b[0;34m(*args, **kwargs)\u001b[0m\n\u001b[1;32m    178\u001b[0m     \u001b[0;34m\"\"\"Call target, and fall back on dispatchers if there is a TypeError.\"\"\"\u001b[0m\u001b[0;34m\u001b[0m\u001b[0;34m\u001b[0m\u001b[0m\n\u001b[1;32m    179\u001b[0m     \u001b[0;32mtry\u001b[0m\u001b[0;34m:\u001b[0m\u001b[0;34m\u001b[0m\u001b[0;34m\u001b[0m\u001b[0m\n\u001b[0;32m--> 180\u001b[0;31m       \u001b[0;32mreturn\u001b[0m \u001b[0mtarget\u001b[0m\u001b[0;34m(\u001b[0m\u001b[0;34m*\u001b[0m\u001b[0margs\u001b[0m\u001b[0;34m,\u001b[0m \u001b[0;34m**\u001b[0m\u001b[0mkwargs\u001b[0m\u001b[0;34m)\u001b[0m\u001b[0;34m\u001b[0m\u001b[0;34m\u001b[0m\u001b[0m\n\u001b[0m\u001b[1;32m    181\u001b[0m     \u001b[0;32mexcept\u001b[0m \u001b[0;34m(\u001b[0m\u001b[0mTypeError\u001b[0m\u001b[0;34m,\u001b[0m \u001b[0mValueError\u001b[0m\u001b[0;34m)\u001b[0m\u001b[0;34m:\u001b[0m\u001b[0;34m\u001b[0m\u001b[0;34m\u001b[0m\u001b[0m\n\u001b[1;32m    182\u001b[0m       \u001b[0;31m# Note: convert_to_eager_tensor currently raises a ValueError, not a\u001b[0m\u001b[0;34m\u001b[0m\u001b[0;34m\u001b[0m\u001b[0;34m\u001b[0m\u001b[0m\n",
      "\u001b[0;32m~/miniconda3/envs/memory/lib/python3.7/site-packages/tensorflow/python/ops/array_ops.py\u001b[0m in \u001b[0;36mconcat\u001b[0;34m(values, axis, name)\u001b[0m\n\u001b[1;32m   1604\u001b[0m           dtype=dtypes.int32).get_shape().assert_has_rank(0)\n\u001b[1;32m   1605\u001b[0m       \u001b[0;32mreturn\u001b[0m \u001b[0midentity\u001b[0m\u001b[0;34m(\u001b[0m\u001b[0mvalues\u001b[0m\u001b[0;34m[\u001b[0m\u001b[0;36m0\u001b[0m\u001b[0;34m]\u001b[0m\u001b[0;34m,\u001b[0m \u001b[0mname\u001b[0m\u001b[0;34m=\u001b[0m\u001b[0mname\u001b[0m\u001b[0;34m)\u001b[0m\u001b[0;34m\u001b[0m\u001b[0;34m\u001b[0m\u001b[0m\n\u001b[0;32m-> 1606\u001b[0;31m   \u001b[0;32mreturn\u001b[0m \u001b[0mgen_array_ops\u001b[0m\u001b[0;34m.\u001b[0m\u001b[0mconcat_v2\u001b[0m\u001b[0;34m(\u001b[0m\u001b[0mvalues\u001b[0m\u001b[0;34m=\u001b[0m\u001b[0mvalues\u001b[0m\u001b[0;34m,\u001b[0m \u001b[0maxis\u001b[0m\u001b[0;34m=\u001b[0m\u001b[0maxis\u001b[0m\u001b[0;34m,\u001b[0m \u001b[0mname\u001b[0m\u001b[0;34m=\u001b[0m\u001b[0mname\u001b[0m\u001b[0;34m)\u001b[0m\u001b[0;34m\u001b[0m\u001b[0;34m\u001b[0m\u001b[0m\n\u001b[0m\u001b[1;32m   1607\u001b[0m \u001b[0;34m\u001b[0m\u001b[0m\n\u001b[1;32m   1608\u001b[0m \u001b[0;34m\u001b[0m\u001b[0m\n",
      "\u001b[0;32m~/miniconda3/envs/memory/lib/python3.7/site-packages/tensorflow/python/ops/gen_array_ops.py\u001b[0m in \u001b[0;36mconcat_v2\u001b[0;34m(values, axis, name)\u001b[0m\n\u001b[1;32m   1179\u001b[0m         \u001b[0;32mpass\u001b[0m  \u001b[0;31m# Add nodes to the TensorFlow graph.\u001b[0m\u001b[0;34m\u001b[0m\u001b[0;34m\u001b[0m\u001b[0m\n\u001b[1;32m   1180\u001b[0m     \u001b[0;32mexcept\u001b[0m \u001b[0m_core\u001b[0m\u001b[0;34m.\u001b[0m\u001b[0m_NotOkStatusException\u001b[0m \u001b[0;32mas\u001b[0m \u001b[0me\u001b[0m\u001b[0;34m:\u001b[0m\u001b[0;34m\u001b[0m\u001b[0;34m\u001b[0m\u001b[0m\n\u001b[0;32m-> 1181\u001b[0;31m       \u001b[0m_ops\u001b[0m\u001b[0;34m.\u001b[0m\u001b[0mraise_from_not_ok_status\u001b[0m\u001b[0;34m(\u001b[0m\u001b[0me\u001b[0m\u001b[0;34m,\u001b[0m \u001b[0mname\u001b[0m\u001b[0;34m)\u001b[0m\u001b[0;34m\u001b[0m\u001b[0;34m\u001b[0m\u001b[0m\n\u001b[0m\u001b[1;32m   1182\u001b[0m   \u001b[0;31m# Add nodes to the TensorFlow graph.\u001b[0m\u001b[0;34m\u001b[0m\u001b[0;34m\u001b[0m\u001b[0;34m\u001b[0m\u001b[0m\n\u001b[1;32m   1183\u001b[0m   \u001b[0;32mif\u001b[0m \u001b[0;32mnot\u001b[0m \u001b[0misinstance\u001b[0m\u001b[0;34m(\u001b[0m\u001b[0mvalues\u001b[0m\u001b[0;34m,\u001b[0m \u001b[0;34m(\u001b[0m\u001b[0mlist\u001b[0m\u001b[0;34m,\u001b[0m \u001b[0mtuple\u001b[0m\u001b[0;34m)\u001b[0m\u001b[0;34m)\u001b[0m\u001b[0;34m:\u001b[0m\u001b[0;34m\u001b[0m\u001b[0;34m\u001b[0m\u001b[0m\n",
      "\u001b[0;32m~/miniconda3/envs/memory/lib/python3.7/site-packages/tensorflow/python/framework/ops.py\u001b[0m in \u001b[0;36mraise_from_not_ok_status\u001b[0;34m(e, name)\u001b[0m\n\u001b[1;32m   6651\u001b[0m   \u001b[0mmessage\u001b[0m \u001b[0;34m=\u001b[0m \u001b[0me\u001b[0m\u001b[0;34m.\u001b[0m\u001b[0mmessage\u001b[0m \u001b[0;34m+\u001b[0m \u001b[0;34m(\u001b[0m\u001b[0;34m\" name: \"\u001b[0m \u001b[0;34m+\u001b[0m \u001b[0mname\u001b[0m \u001b[0;32mif\u001b[0m \u001b[0mname\u001b[0m \u001b[0;32mis\u001b[0m \u001b[0;32mnot\u001b[0m \u001b[0;32mNone\u001b[0m \u001b[0;32melse\u001b[0m \u001b[0;34m\"\"\u001b[0m\u001b[0;34m)\u001b[0m\u001b[0;34m\u001b[0m\u001b[0;34m\u001b[0m\u001b[0m\n\u001b[1;32m   6652\u001b[0m   \u001b[0;31m# pylint: disable=protected-access\u001b[0m\u001b[0;34m\u001b[0m\u001b[0;34m\u001b[0m\u001b[0;34m\u001b[0m\u001b[0m\n\u001b[0;32m-> 6653\u001b[0;31m   \u001b[0msix\u001b[0m\u001b[0;34m.\u001b[0m\u001b[0mraise_from\u001b[0m\u001b[0;34m(\u001b[0m\u001b[0mcore\u001b[0m\u001b[0;34m.\u001b[0m\u001b[0m_status_to_exception\u001b[0m\u001b[0;34m(\u001b[0m\u001b[0me\u001b[0m\u001b[0;34m.\u001b[0m\u001b[0mcode\u001b[0m\u001b[0;34m,\u001b[0m \u001b[0mmessage\u001b[0m\u001b[0;34m)\u001b[0m\u001b[0;34m,\u001b[0m \u001b[0;32mNone\u001b[0m\u001b[0;34m)\u001b[0m\u001b[0;34m\u001b[0m\u001b[0;34m\u001b[0m\u001b[0m\n\u001b[0m\u001b[1;32m   6654\u001b[0m   \u001b[0;31m# pylint: enable=protected-access\u001b[0m\u001b[0;34m\u001b[0m\u001b[0;34m\u001b[0m\u001b[0;34m\u001b[0m\u001b[0m\n\u001b[1;32m   6655\u001b[0m \u001b[0;34m\u001b[0m\u001b[0m\n",
      "\u001b[0;32m~/miniconda3/envs/memory/lib/python3.7/site-packages/six.py\u001b[0m in \u001b[0;36mraise_from\u001b[0;34m(value, from_value)\u001b[0m\n",
      "\u001b[0;31mInvalidArgumentError\u001b[0m: ConcatOp : Ranks of all input tensors should match: shape[0] = [1] vs. shape[2] = [1,1] [Op:ConcatV2] name: concat"
     ]
    }
   ],
   "source": [
    "tf.concat([tf.constant([Z.shape[0]]),tf.ones([len(shape)], dtype=tf.int32),tf.constant([embed_dim])],axis=0)"
   ]
  },
  {
   "cell_type": "code",
   "execution_count": 32,
   "metadata": {},
   "outputs": [
    {
     "output_type": "error",
     "ename": "ModuleNotFoundError",
     "evalue": "No module named 't_fslim'",
     "traceback": [
      "\u001b[0;31m---------------------------------------------------------------------------\u001b[0m",
      "\u001b[0;31mModuleNotFoundError\u001b[0m                       Traceback (most recent call last)",
      "\u001b[0;32m<ipython-input-32-9c9557cc99e1>\u001b[0m in \u001b[0;36m<module>\u001b[0;34m\u001b[0m\n\u001b[1;32m      1\u001b[0m \u001b[0;32mimport\u001b[0m \u001b[0mtensorflow\u001b[0m \u001b[0;32mas\u001b[0m \u001b[0mtf\u001b[0m\u001b[0;34m\u001b[0m\u001b[0;34m\u001b[0m\u001b[0m\n\u001b[0;32m----> 2\u001b[0;31m \u001b[0;32mimport\u001b[0m \u001b[0mt_fslim\u001b[0m \u001b[0;32mas\u001b[0m \u001b[0mslim\u001b[0m\u001b[0;34m\u001b[0m\u001b[0;34m\u001b[0m\u001b[0m\n\u001b[0m",
      "\u001b[0;31mModuleNotFoundError\u001b[0m: No module named 't_fslim'"
     ]
    }
   ],
   "source": [
    "import tensorflow as tf\n",
    "import t_fslim as slim"
   ]
  },
  {
   "cell_type": "code",
   "execution_count": 10,
   "metadata": {},
   "outputs": [],
   "source": [
    "data = tf.ones([2000, 30, 30, 784], dtype = tf.float32)"
   ]
  },
  {
   "cell_type": "code",
   "execution_count": 20,
   "metadata": {},
   "outputs": [
    {
     "output_type": "stream",
     "name": "stdout",
     "text": [
      "47040128\n"
     ]
    }
   ],
   "source": [
    "(x_train, _), (_, _) = tf.keras.datasets.mnist.load_data()\n",
    "print(sys.getsizeof(x_train))\n",
    "x_train = tf.cast(tf.reshape(x_train, (x_train.shape[0], -1)),\n",
    "                    dtype=tf.float32) / 255"
   ]
  },
  {
   "cell_type": "code",
   "execution_count": 28,
   "metadata": {},
   "outputs": [],
   "source": [
    "(x_train, _), (_, _) = tf.keras.datasets.mnist.load_data()"
   ]
  },
  {
   "cell_type": "code",
   "execution_count": 25,
   "metadata": {},
   "outputs": [
    {
     "output_type": "stream",
     "name": "stdout",
     "text": [
      "44.8609619140625\n"
     ]
    }
   ],
   "source": [
    "print(sys.getsizeof(x_train)/1024.0/1024.0)"
   ]
  },
  {
   "cell_type": "code",
   "execution_count": 26,
   "metadata": {},
   "outputs": [],
   "source": [
    "x_train = tf.cast(tf.reshape(x_train, (x_train.shape[0], -1)),\n",
    "                    dtype=tf.float32) / 255"
   ]
  },
  {
   "cell_type": "code",
   "execution_count": 27,
   "metadata": {},
   "outputs": [
    {
     "output_type": "stream",
     "name": "stdout",
     "text": [
      "176\n"
     ]
    }
   ],
   "source": [
    "print(sys.getsizeof(x_train))"
   ]
  },
  {
   "cell_type": "code",
   "execution_count": 16,
   "metadata": {},
   "outputs": [
    {
     "output_type": "execute_result",
     "data": {
      "text/plain": [
       "<tf.Tensor: shape=(), dtype=int32, numpy=47040000>"
      ]
     },
     "metadata": {},
     "execution_count": 16
    }
   ],
   "source": [
    "tf.size(x_train)"
   ]
  },
  {
   "cell_type": "code",
   "execution_count": 13,
   "metadata": {},
   "outputs": [],
   "source": [
    "data= data * data"
   ]
  },
  {
   "cell_type": "code",
   "execution_count": 19,
   "metadata": {},
   "outputs": [
    {
     "output_type": "execute_result",
     "data": {
      "text/plain": [
       "176"
      ]
     },
     "metadata": {},
     "execution_count": 19
    }
   ],
   "source": [
    "sys.getsizeof(x_train)"
   ]
  },
  {
   "cell_type": "code",
   "execution_count": 17,
   "metadata": {},
   "outputs": [
    {
     "output_type": "execute_result",
     "data": {
      "text/plain": [
       "176"
      ]
     },
     "metadata": {},
     "execution_count": 17
    }
   ],
   "source": [
    "import sys\n",
    "sys.getsizeof(x_train)"
   ]
  },
  {
   "cell_type": "code",
   "execution_count": null,
   "metadata": {},
   "outputs": [],
   "source": []
  }
 ],
 "metadata": {
  "language_info": {
   "codemirror_mode": {
    "name": "ipython",
    "version": 3
   },
   "file_extension": ".py",
   "mimetype": "text/x-python",
   "name": "python",
   "nbconvert_exporter": "python",
   "pygments_lexer": "ipython3",
   "version": "3.7.7-final"
  },
  "orig_nbformat": 2,
  "kernelspec": {
   "name": "python3",
   "display_name": "Python 3"
  }
 },
 "nbformat": 4,
 "nbformat_minor": 2
}